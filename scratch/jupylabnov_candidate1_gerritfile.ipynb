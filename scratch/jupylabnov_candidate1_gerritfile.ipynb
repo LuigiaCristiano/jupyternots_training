{
 "cells": [
  {
   "cell_type": "markdown",
   "id": "99b16ad1",
   "metadata": {},
   "source": [
    "# Let's test how to load and manipulate a Nexus File #"
   ]
  },
  {
   "cell_type": "markdown",
   "id": "90d69568",
   "metadata": {
    "tags": []
   },
   "source": [
    "### A few words on the Nexus hierarchical structure and classes ###"
   ]
  },
  {
   "cell_type": "markdown",
   "id": "2621942d",
   "metadata": {},
   "source": [
    "`NeXus` Objects are used to handle Xray and muon experiment with a domanin specific dictionary \n",
    "evaluated by NIAC supervision.\n",
    "Community users can submit dictionary implementations\n",
    "related to the full description of their measurements data"
   ]
  },
  {
   "cell_type": "code",
   "execution_count": null,
   "id": "aa9e9a7e",
   "metadata": {},
   "outputs": [],
   "source": []
  },
  {
   "cell_type": "markdown",
   "id": "a25d85b3",
   "metadata": {},
   "source": [
    "`NeXus` files are suitable for __raw data__ as well as for\n",
    "__processed data__. <br>\n",
    "`NeXus` data is stored as a hierarchical tree structure <br>.\n",
    "\n",
    "\n",
    "The structure is made of entities: **groups**, **fields**, **attributes** and **links** <br>\n",
    "__groups__ are __containers /folders__ of fields and other groups<br>\n",
    "__fields__ are array and scalars <br> \n",
    "__attributes__ are extra info of groups and fields"
   ]
  },
  {
   "cell_type": "markdown",
   "id": "c58d8707",
   "metadata": {},
   "source": [
    "The `Nexus` *classes* are objects for the experiment data descriptions:<br>\n",
    " *base classes* and *applications* <br>\n",
    "Each __group__ has a name and a *class* defining it.<br>\n",
    "The *class* tells about the type of object and the *name* identifies it <br>\n",
    "https://manual.nexusformat.org\n",
    "the Application definition list which elements are necessary to describe an application"
   ]
  },
  {
   "cell_type": "code",
   "execution_count": null,
   "id": "6edf5c23",
   "metadata": {},
   "outputs": [],
   "source": [
    "An additional class is contributed definitions initiated by the community"
   ]
  },
  {
   "cell_type": "markdown",
   "id": "04de8072",
   "metadata": {},
   "source": [
    "## Load a file compatible with icat ingestion ##"
   ]
  },
  {
   "cell_type": "markdown",
   "id": "a91ddc60",
   "metadata": {},
   "source": [
    "There is a number of GUI options to load `HDF5` data. Here we show how to use `NexPy`, `HDFView` <bc>\n",
    "as well as command line to upload and manipulate the `NeXus` files"
   ]
  },
  {
   "cell_type": "markdown",
   "id": "323dfea8",
   "metadata": {},
   "source": [
    "### The use of the GUI `NexusWriter` by Gerrit Günther, facilitate the dictionary exploration. ###\n",
    "### It enables a user friendly data curation and a later ingestion in Icat repository ###\n",
    "### It works from GUI or command line and is optimize for use cases of BESSY II instruments ###"
   ]
  },
  {
   "cell_type": "markdown",
   "id": "38b9d850",
   "metadata": {},
   "source": [
    "### Case 1 : Commands in Python environment ###"
   ]
  },
  {
   "cell_type": "markdown",
   "id": "f42553d1",
   "metadata": {},
   "source": [
    "We use `Python` shell and built in functions to:<br>\n",
    "handle array of data <br>\n",
    "plot the data array <br>\n",
    "handle `xml` structures <br>\n",
    "save the array of data in `ASCII` format"
   ]
  },
  {
   "cell_type": "markdown",
   "id": "600ff085",
   "metadata": {},
   "source": [
    "We also use a `Python` package to read `HDF5` file formats and `Python` packages by `nexusformat.org`"
   ]
  },
  {
   "cell_type": "code",
   "execution_count": 1,
   "id": "0f000971",
   "metadata": {
    "scrolled": true
   },
   "outputs": [],
   "source": [
    "from nexusformat.nexus import *\n",
    "from matplotlib import pyplot as plt\n",
    "import numpy as np\n",
    "import  json\n",
    "import h5py\n",
    "from dicttoxml import dicttoxml"
   ]
  },
  {
   "cell_type": "markdown",
   "id": "e350c854",
   "metadata": {},
   "source": [
    "We load a `Nexus` file created by Gerrit Gunther for the icat ingestion of `BESSY II` measurement data"
   ]
  },
  {
   "cell_type": "code",
   "execution_count": 60,
   "id": "be9362b7",
   "metadata": {},
   "outputs": [],
   "source": [
    "path='/home/luigia/Documents/metadata_course/data_public1_HZB/'\n",
    "filename='Co02_2021-03-30.nxs'\n",
    "#filename='Fe01O03ac_3_2017-08-09.nxs'\n",
    "filename='Dy01Cp02_2_2018-12-13.nxs'\n",
    "#%2021-03-Dy01Cp02_2.nxs'\n",
    "fp=path+filename\n",
    "a=nxload(fp,'rw')"
   ]
  },
  {
   "cell_type": "markdown",
   "id": "8d0eb961",
   "metadata": {},
   "source": [
    "Let's have a look at the file structure and its content"
   ]
  },
  {
   "cell_type": "markdown",
   "id": "16263444",
   "metadata": {},
   "source": [
    "We handle the object a as a dictionary and we use the dictionary exploration tools in Python"
   ]
  },
  {
   "cell_type": "code",
   "execution_count": 61,
   "id": "0f533c70",
   "metadata": {
    "scrolled": true
   },
   "outputs": [
    {
     "name": "stdout",
     "output_type": "stream",
     "text": [
      "root\n"
     ]
    },
    {
     "data": {
      "text/plain": [
       "dict_keys(['background', 'entry'])"
      ]
     },
     "execution_count": 61,
     "metadata": {},
     "output_type": "execute_result"
    }
   ],
   "source": [
    "print(a)\n",
    "a.keys()"
   ]
  },
  {
   "cell_type": "markdown",
   "id": "4559157c",
   "metadata": {},
   "source": [
    "We can visualize the whole hierarchical structure"
   ]
  },
  {
   "cell_type": "code",
   "execution_count": 62,
   "id": "cea4601d",
   "metadata": {
    "tags": []
   },
   "outputs": [
    {
     "name": "stdout",
     "output_type": "stream",
     "text": [
      "root:NXroot\n",
      "  @H5PY_version = '3.2.1'\n",
      "  @default = 'entry'\n",
      "  @file_time = '2021-11-05T12:55:24+01:00'\n",
      "  background:NXgroup\n",
      "    data:NXdata\n",
      "      @axis = 'time-of-flight'\n",
      "      @default = 'signal'\n",
      "      @time-of-flight_indices = 0\n",
      "      signal = [[137 160 147 ... 198 185 212]]\n",
      "        @units = 'counts'\n",
      "      time-of-flight = float32(10)\n",
      "        @units = 's'\n",
      "    definition = 'NXxas'\n",
      "      @URL = 'https://manual.nexusformat.org/classes/applica...'\n",
      "      @version = 'v2020.10'\n",
      "    entry_identifier = 'Dy01Cp02_2'\n",
      "    experiment_documentation:NXnote\n",
      "      @default = '/proposal'\n",
      "      author = 'Günther, Gerrit'\n",
      "      description = 'Temperature dependence of Bragg peaks in novel low dimen...'\n",
      "      file_name = '162-04361-EF.pdf'\n",
      "      type = 'application/pdf'\n",
      "    instrument:NXgroup\n",
      "      @default = 'tof_mass_spectrum'\n",
      "      absorbed_beam:NXdetector\n",
      "        @name = 'absorbed_beam'\n",
      "        @short_name = 'xas2'\n",
      "        type = 'photo diode'\n",
      "      incoming_beam:NXdetector\n",
      "        @name = 'incoming_beam'\n",
      "        @short_name = 'xas1'\n",
      "        type = 'photo diode'\n",
      "      insertion_device:NXnote\n",
      "        @short_name = 'UE52'\n",
      "        beam = 'PosEllipH5'\n",
      "        name = 'UE52'\n",
      "        offset = '3.3064E+0'\n",
      "        slope = '1.0014E+0'\n",
      "        table_file:NXnote\n",
      "          file_name = 'h135ellp_oct2013.idt'\n",
      "        type = 'Undulator X-ray Source'\n",
      "      name = 'UE52_PGM Iontrap'\n",
      "        @URL = 'https://doi.org/10.5442/ni000004'\n",
      "        @old_name = 'NanoclusterTrap'\n",
      "        @short_name = 'Iontrap'\n",
      "      source:NXgroup\n",
      "        name = 'BESSY II'\n",
      "          @short_name = 'BESSY'\n",
      "        probe = 'x-ray'\n",
      "        type = 'Synchrotron X-ray Source'\n",
      "      tof_mass_spectrum:NXdetector\n",
      "        @axes = '[\"time\", \"counts\"]'\n",
      "        @axis = 'time-of-flight'\n",
      "        @counts_indices = 2\n",
      "        @default = 'signal'\n",
      "        @name = 'reflectron time-of-flight mass spectrometer'\n",
      "        @short_name = 'reftof'\n",
      "        @time-of-flight_indices = 0\n",
      "        @time_indices = 1\n",
      "        signal = [[137 160 147 ... 198 185 212]]\n",
      "          @units = 'counts'\n",
      "        time-of-flight = float32(10)\n",
      "          @units = 's'\n",
      "        type = 'reflectron time-of-flight mass spectrometer'\n",
      "    notes:NXcollection\n",
      "      note1:NXnote\n",
      "        Dy01Cp02_025_Mono.txt = '# ------------------------------------------------------...'\n",
      "        file_name = 'Dy01Cp02_025_Mono.txt'\n",
      "        type = 'text/plain'\n",
      "      note2:NXnote\n",
      "        comment = 'No comment!'\n",
      "        type = 'text/plain'\n",
      "    sample:NXgroup\n",
      "      name = 'no sample (background measurement)'\n",
      "      situation = 'vacuum'\n",
      "    start_time = '2018-12-13T17:15:59+01:00'\n",
      "    user1:NXuser\n",
      "      address = 'Helmholtz-Zentrum Berlin, BESSY II, Albert-Einstein-Stra...'\n",
      "      name = 'PGM1-User'\n",
      "      role = 'local_contact'\n",
      "    user2:NXuser\n",
      "      address = 'Helmholtz-Zentrum Berlin für Materialien und Energie Ins...'\n",
      "      email = 'gerrit.guenther@helmholtz-berlin.de'\n",
      "      name = 'Günther, Gerrit'\n",
      "      orcid = '0000-0001-6243-1728'\n",
      "      role = 'proposer'\n",
      "  entry:NXgroup\n",
      "    @default = 'data'\n",
      "    data:NXdata\n",
      "      @default = 'signal'\n",
      "      signal = [3.3407e-14 3.6712e-14 3.9921e-14]\n",
      "        @units = 'A'\n",
      "    definition = 'NXxas'\n",
      "      @URL = 'https://manual.nexusformat.org/classes/applica...'\n",
      "      @version = 'v2020.10'\n",
      "    entry_identifier = 'Dy01Cp02_2'\n",
      "    experiment_documentation:NXnote\n",
      "      @default = '/proposal'\n",
      "      author = 'Günther, Gerrit'\n",
      "      description = 'Temperature dependence of Bragg peaks in novel low dimen...'\n",
      "      file_name = '162-04361-EF.pdf'\n",
      "      type = 'application/pdf'\n",
      "    instrument:NXgroup\n",
      "      @default = 'absorbed_beam'\n",
      "      absorbed_beam:NXdetector\n",
      "        @default = 'signal'\n",
      "        @name = 'absorbed_beam'\n",
      "        @short_name = 'xas2'\n",
      "        flux = [1.079031e+12 1.073782e+12 1.069043e+12]\n",
      "          @units = '1/s'\n",
      "        signal = [3.3407e-14 3.6712e-14 3.9921e-14]\n",
      "          @units = 'A'\n",
      "        type = 'photo diode'\n",
      "      incoming_beam:NXdetector\n",
      "        @default = 'signal'\n",
      "        @name = 'incoming_beam'\n",
      "        @short_name = 'xas1'\n",
      "        signal = [4.0986e-05 4.0768e-05 4.0711e-05]\n",
      "          @units = 'A'\n",
      "        type = 'photo diode'\n",
      "      insertion_device:NXnote\n",
      "        @short_name = 'UE52'\n",
      "        bandwidth = [2424.56 2426.29 2428.08]\n",
      "        beam = 'PosEllipH5'\n",
      "        gap = [27.5454 27.5515 27.5575]\n",
      "          @units = 'mm'\n",
      "        name = 'UE52'\n",
      "        offset = '3.3064E+0'\n",
      "        shift = [11.9925 11.9946 11.997 ]\n",
      "          @units = 'mm'\n",
      "        slope = '1.0014E+0'\n",
      "        table_file:NXnote\n",
      "          file_name = 'h135ellp_oct2013.idt'\n",
      "        type = 'Undulator X-ray Source'\n",
      "      monochromator:NXmonochromator\n",
      "        @short_name = 'PGMIontrap'\n",
      "        energy = [1274.99 1275.6  1276.2 ]\n",
      "          @units = 'eV'\n",
      "        energy_set = [1275.  1275.6 1276.2]\n",
      "          @units = 'eV'\n",
      "      name = 'UE52_PGM Iontrap'\n",
      "        @URL = 'https://doi.org/10.5442/ni000004'\n",
      "        @old_name = 'NanoclusterTrap'\n",
      "        @short_name = 'Iontrap'\n",
      "      slitwidth:NXslit\n",
      "        x_gap = [500. 500. 500.]\n",
      "          @units = 'Âµm'\n",
      "      source:NXgroup\n",
      "        current = [297.407 297.334 297.249]\n",
      "          @units = 'mA'\n",
      "        name = 'BESSY II'\n",
      "          @short_name = 'BESSY'\n",
      "        probe = 'x-ray'\n",
      "        type = 'Synchrotron X-ray Source'\n",
      "      tof_mass_spectrum:NXdetector\n",
      "        @axes = '[\"time\", \"counts\"]'\n",
      "        @axis = 'time-of-flight'\n",
      "        @counts_indices = 2\n",
      "        @default = 'signal'\n",
      "        @name = 'reflectron time-of-flight mass spectrometer'\n",
      "        @short_name = 'reftof'\n",
      "        @time-of-flight_indices = 0\n",
      "        @time_indices = 1\n",
      "        signal = int16(3x10)\n",
      "          @units = 'counts'\n",
      "        time-of-flight = float32(10)\n",
      "          @units = 's'\n",
      "        type = 'reflectron time-of-flight mass spectrometer'\n",
      "    integrated_intensity:NXprocess\n",
      "      intensity = [3.3407e-14 3.6712e-14 3.9921e-14]\n",
      "    notes:NXcollection\n",
      "      note1:NXnote\n",
      "        Dy01Cp02_025_Mono.txt = '# ------------------------------------------------------...'\n",
      "        file_name = 'Dy01Cp02_025_Mono.txt'\n",
      "        type = 'text/plain'\n",
      "      note2:NXnote\n",
      "        comment = 'No comment!'\n",
      "        type = 'text/plain'\n",
      "    sample:NXgroup\n",
      "      name = 'Dy01Cp02'\n",
      "      pressure_env:NXenvironment\n",
      "        pressure1:NXsensor\n",
      "          @name = 'Pressure Deflektor DEFL'\n",
      "          value = [7.856e-07 7.818e-07 7.856e-07]\n",
      "            @units = 'mbar'\n",
      "        pressure2:NXsensor\n",
      "          @name = 'Pressure Reflector REF'\n",
      "          value = [1.169e-07 1.173e-07 1.183e-07]\n",
      "            @units = 'mbar'\n",
      "        pressure3:NXsensor\n",
      "          @name = 'Pressure Source SRC'\n",
      "          value = [0.00327  0.00327  0.003258]\n",
      "            @units = 'mbar'\n",
      "        pressure4:NXsensor\n",
      "          @name = 'Pressure Hexapol HEX'\n",
      "          value = [0.004431 0.004409 0.004431]\n",
      "            @units = 'mbar'\n",
      "      situation = 'vacuum'\n",
      "      temperature_env:NXenvironment\n",
      "        short_name = 'temperature trap'\n",
      "        temperature1:NXsensor\n",
      "          @name = 'Temperature Side-Elektrode'\n",
      "          value = [2.7408 2.7409 2.7414]\n",
      "            @units = 'K'\n",
      "        temperature2:NXsensor\n",
      "          @name = 'Temperature He-Tube'\n",
      "          value = [19.4584 19.4618 19.4611]\n",
      "            @units = 'K'\n",
      "        temperature3:NXsensor\n",
      "          @name = 'Temperature Ion-Tube'\n",
      "          value = [56.3624 56.3633 56.363 ]\n",
      "            @units = 'K'\n",
      "        temperature4:NXsensor\n",
      "          @name = 'Temperature LN2-Tube'\n",
      "          value = [82.6315 81.8272 81.8564]\n",
      "            @units = 'K'\n",
      "      type = 'sample'\n",
      "    start_time = '2018-12-13T17:15:59+01:00'\n",
      "    user1:NXuser\n",
      "      address = 'Helmholtz-Zentrum Berlin, BESSY II, Albert-Einstein-Stra...'\n",
      "      name = 'PGM1-User'\n",
      "      role = 'local_contact'\n",
      "    user2:NXuser\n",
      "      address = 'Helmholtz-Zentrum Berlin für Materialien und Energie Ins...'\n",
      "      email = 'gerrit.guenther@helmholtz-berlin.de'\n",
      "      name = 'Günther, Gerrit'\n",
      "      orcid = '0000-0001-6243-1728'\n",
      "      role = 'proposer'\n"
     ]
    }
   ],
   "source": [
    "print(a.tree)"
   ]
  },
  {
   "cell_type": "markdown",
   "id": "32c2f217",
   "metadata": {},
   "source": [
    "Instrument DOI inserted in the notes: `@URL = 'https://doi.org/10.5442/ni000004'`"
   ]
  },
  {
   "cell_type": "markdown",
   "id": "a550c1ee",
   "metadata": {},
   "source": [
    "the @ indicates attributes"
   ]
  },
  {
   "cell_type": "markdown",
   "id": "0c33352b",
   "metadata": {},
   "source": [
    "'Ni01CO04_001_Mono.txt' is a reference/link file"
   ]
  },
  {
   "cell_type": "markdown",
   "id": "52db511b",
   "metadata": {},
   "source": [
    "the xml dictionary or `NeXus` application definition used for the measurements description is given"
   ]
  },
  {
   "cell_type": "markdown",
   "id": "0aef6a14",
   "metadata": {},
   "source": [
    "`definition = 'NXxas'\n",
    "      @URL = 'https://manual.nexusformat.org/classes/applica...'`"
   ]
  },
  {
   "cell_type": "markdown",
   "id": "bbd2d3f3",
   "metadata": {},
   "source": [
    "The sample description goes in `NXsample`"
   ]
  },
  {
   "cell_type": "markdown",
   "id": "8762090d",
   "metadata": {},
   "source": [
    "`sample:NXsample`"
   ]
  },
  {
   "cell_type": "markdown",
   "id": "7778e9c1",
   "metadata": {},
   "source": [
    "For this specific case the object entries are 2: one is called background, the other entry. <br>\n",
    "    They refer to data relative to the tests on the instruments and the measurements data on a sample.<br>\n",
    "    The keys __background__ and __entry__ help to distinguish the 2 groups of data"
   ]
  },
  {
   "cell_type": "markdown",
   "id": "d3334043",
   "metadata": {},
   "source": [
    "## Explore the file content ##"
   ]
  },
  {
   "cell_type": "markdown",
   "id": "34e00206-3dfd-4a0b-b484-09a5f65d41eb",
   "metadata": {},
   "source": [
    "Looping over the dictionary entries"
   ]
  },
  {
   "cell_type": "code",
   "execution_count": 63,
   "id": "267b3a59",
   "metadata": {},
   "outputs": [
    {
     "name": "stdout",
     "output_type": "stream",
     "text": [
      "entry_identifier: Dy01Cp02_2\n",
      "start_time: 2018-12-13T17:15:59+01:00\n",
      "instrument: instrument\n",
      "sample: sample\n",
      "experiment_documentation: experiment_documentation\n",
      "user1: user1\n",
      "user2: user2\n",
      "notes: notes\n",
      "definition: NXxas\n",
      "integrated_intensity: integrated_intensity\n",
      "data: data\n"
     ]
    }
   ],
   "source": [
    "for item in a.entry.keys():\n",
    "    print(item+ \":\",a.entry[item])"
   ]
  },
  {
   "cell_type": "markdown",
   "id": "a4383f71",
   "metadata": {},
   "source": [
    "We can visualize and manipulate the file entries with different approaches: <br>\n",
    "- Direct assignment: <br>\n",
    "\n",
    "`x = NXfield(np.linspace(0,2*np.pi,101), units='degree')` <br>\n",
    "\n",
    "- Attribute assignment as the child of a `NeXus` group, <br> \n",
    "\n",
    "#%a.entry.sample.temperature=40.0\n",
    "\n",
    "- Dictionary assignment to the `NeXus` group"
   ]
  },
  {
   "cell_type": "markdown",
   "id": "6983f20f",
   "metadata": {},
   "source": [
    "We will see all the options in the coming lines"
   ]
  },
  {
   "cell_type": "markdown",
   "id": "f086b032",
   "metadata": {},
   "source": [
    "#### Visualize the dictionary keys ####"
   ]
  },
  {
   "cell_type": "code",
   "execution_count": 64,
   "id": "6d6588d6",
   "metadata": {},
   "outputs": [
    {
     "data": {
      "text/plain": [
       "dict_keys(['entry_identifier', 'start_time', 'instrument', 'sample', 'experiment_documentation', 'user1', 'user2', 'notes', 'definition', 'integrated_intensity', 'data'])"
      ]
     },
     "execution_count": 64,
     "metadata": {},
     "output_type": "execute_result"
    }
   ],
   "source": [
    "a['/entry'].keys()"
   ]
  },
  {
   "cell_type": "markdown",
   "id": "9843300c",
   "metadata": {},
   "source": [
    "#### Access the data and plot them ####"
   ]
  },
  {
   "cell_type": "markdown",
   "id": "9cca924c",
   "metadata": {},
   "source": [
    "Note that the axis and title labels are already given in the Nx group data"
   ]
  },
  {
   "cell_type": "code",
   "execution_count": 65,
   "id": "76af6e43",
   "metadata": {},
   "outputs": [
    {
     "name": "stdout",
     "output_type": "stream",
     "text": [
      "[3.3407e-14 3.6712e-14 3.9921e-14]\n"
     ]
    },
    {
     "data": {
      "image/png": "[encoded data removed]",
      "text/plain": [
       "<Figure size 432x288 with 1 Axes>"
      ]
     },
     "metadata": {
      "needs_background": "light"
     },
     "output_type": "display_data"
    }
   ],
   "source": [
    "b=(a['/entry/data/signal'])\n",
    "print(b)\n",
    "b.plot()\n"
   ]
  },
  {
   "cell_type": "markdown",
   "id": "66f99900",
   "metadata": {},
   "source": [
    "\n",
    "`NeXus` data  are stored in a class `NXfield`: <bc>\n",
    "`NXdata` contains the array of data and axes definition <bc> \n",
    " Additional classes are used to describe acquisition and processing settings"
   ]
  },
  {
   "cell_type": "markdown",
   "id": "99c429ab",
   "metadata": {},
   "source": [
    "In the `NXfield` are allowed `NumPy` arrays, scalars, and attributes /additional metadata"
   ]
  },
  {
   "cell_type": "markdown",
   "id": "233d89e9",
   "metadata": {},
   "source": [
    "#### Visualize which Nexus application has been used to describe these data ####"
   ]
  },
  {
   "cell_type": "code",
   "execution_count": 66,
   "id": "7a78c5bc",
   "metadata": {},
   "outputs": [
    {
     "data": {
      "text/plain": [
       "NXgroup('background')"
      ]
     },
     "execution_count": 66,
     "metadata": {},
     "output_type": "execute_result"
    }
   ],
   "source": [
    "a['/background']"
   ]
  },
  {
   "cell_type": "markdown",
   "id": "0e7a8755",
   "metadata": {},
   "source": [
    "More on the NXxas application: https://manual.nexusformat.org/classes/applications/NXxas.html"
   ]
  },
  {
   "cell_type": "markdown",
   "id": "0061fd85",
   "metadata": {},
   "source": [
    "When using an application is mandatory to consider which elements are required "
   ]
  },
  {
   "cell_type": "markdown",
   "id": "6cd694c7",
   "metadata": {},
   "source": [
    "Details of the xml structure for NXxas application :https://github.com/nexusformat/definitions/blob/main/applications/NXsas.nxdl.xml"
   ]
  },
  {
   "cell_type": "markdown",
   "id": "7cb56600-0692-4ff9-91f2-6e43a1b78ea3",
   "metadata": {
    "tags": []
   },
   "source": [
    "<?xml version=\"1.0\" encoding=\"UTF-8\"?>\n",
    "<?xml-stylesheet type=\"text/xsl\" href=\"nxdlformat.xsl\" ?>\n",
    "<!--\n",
    "# NeXus - Neutron and X-ray Common Data Format\n",
    "# \n",
    "# Copyright (C) 2008-2021 NeXus International Advisory Committee (NIAC)\n",
    "# \n",
    "# This library is free software; you can redistribute it and/or\n",
    "# modify it under the terms of the GNU Lesser General Public\n",
    "# License as published by the Free Software Foundation; either\n",
    "# version 3 of the License, or (at your option) any later version.\n",
    "#\n",
    "# This library is distributed in the hope that it will be useful,\n",
    "# but WITHOUT ANY WARRANTY; without even the implied warranty of\n",
    "# MERCHANTABILITY or FITNESS FOR A PARTICULAR PURPOSE.  See the GNU\n",
    "# Lesser General Public License for more details.\n",
    "#\n",
    "# You should have received a copy of the GNU Lesser General Public\n",
    "# License along with this library; if not, write to the Free Software\n",
    "# Foundation, Inc., 59 Temple Place, Suite 330, Boston, MA  02111-1307  USA\n",
    "#\n",
    "# For further information, see http://www.nexusformat.org\n",
    "-->\n",
    "<definition name=\"NXsas\" extends=\"NXobject\" type=\"group\"\n",
    "  category=\"application\"\n",
    "  xmlns=\"http://definition.nexusformat.org/nxdl/3.1\"\n",
    "  xmlns:xsi=\"http://www.w3.org/2001/XMLSchema-instance\"\n",
    "  xsi:schemaLocation=\"http://definition.nexusformat.org/nxdl/3.1 ../nxdl.xsd\"\n",
    "  >\n",
    "  <symbols>\n",
    "    <doc>\n",
    "\t  The symbol(s) listed here will be used below to coordinate datasets with the same shape.\n",
    "\t</doc>\n",
    "\t<symbol name=\"nXPixel\">\n",
    "\t  <doc>nXPixel description</doc>\n",
    "\t</symbol>\n",
    "\t<symbol name=\"nYPixel\">\n",
    "\t  <doc>nYPixel description</doc>\n",
    "\t</symbol>\n",
    "  </symbols>\n",
    "  <doc>\n",
    "    raw, monochromatic 2-D SAS data with an area detector\n",
    "\n",
    "    This is an application definition for raw data (not processed or reduced data) \n",
    "    from a 2-D small angle scattering instrument collected with a monochromatic \n",
    "    beam and an area detector. It is meant to be suitable both for neutron SANS \n",
    "    and X-ray SAXS data. \n",
    "    \n",
    "    It covers all raw data from any monochromatic SAS techniques that\n",
    "    use an area detector: SAS, WSAS, grazing incidence, GISAS\n",
    "\n",
    "    It covers all raw data from any SAS techniques\n",
    "    that use an area detector\n",
    "    and a monochromatic beam.\n",
    "  </doc>\n",
    "  <group type=\"NXentry\">\n",
    "    <attribute name=\"entry\">\n",
    "      <doc>\n",
    "\t\tNeXus convention is to use ``entry1``, ``entry2``, ... \n",
    "\t\tfor analysis software to locate each entry\n",
    "      </doc>\n",
    "    </attribute>\n",
    "    <field name=\"title\"/>\n",
    "    <field name=\"start_time\" type=\"NX_DATE_TIME\"/>\n",
    "    <field name=\"end_time\" type=\"NX_DATE_TIME\"/>\n",
    "    <field name=\"definition\">\n",
    "      <doc> Official NeXus NXDL schema to which this file conforms </doc>\n",
    "      <enumeration>\n",
    "        <item value=\"NXsas\"/>\n",
    "      </enumeration>\n",
    "    </field>\n",
    "    <group type=\"NXinstrument\" name=\"instrument\">\n",
    "      <group type=\"NXsource\" name=\"source\">\n",
    "        <field name=\"type\">\n",
    "          <doc>type of radiation source</doc>\n",
    "        </field>\n",
    "        <field name=\"name\">\n",
    "          <doc>Name of the radiation source</doc>\n",
    "        </field>\n",
    "        <field name=\"probe\">\n",
    "          <enumeration>\n",
    "            <item value=\"neutron\"/>\n",
    "            <item value=\"x-ray\"/>\n",
    "          </enumeration>\n",
    "        </field>\n",
    "      </group>\n",
    "      <group type=\"NXmonochromator\" name=\"monochromator\">\n",
    "        <field name=\"wavelength\" units=\"NX_WAVELENGTH\" type=\"NX_FLOAT\">\n",
    "          <doc>The wavelength of the radiation</doc>\n",
    "        </field>\n",
    "        <field name=\"wavelength_spread\" type=\"NX_FLOAT\">\n",
    "          <doc>\n",
    "\t          delta_lambda/lambda (:math:`\\Delta\\lambda/\\lambda`):\n",
    "\t          Important for resolution calculations\n",
    "          </doc>\n",
    "        </field>\n",
    "      </group>\n",
    "      <group type=\"NXcollimator\" name=\"collimator\">\n",
    "        <group type=\"NXgeometry\" name=\"geometry\">\n",
    "          <group type=\"NXshape\" name=\"shape\">\n",
    "            <field name=\"shape\" type=\"NX_CHAR\">\n",
    "              <enumeration>\n",
    "                <item value=\"nxcylinder\"/>\n",
    "                <item value=\"nxbox\"/>\n",
    "              </enumeration>\n",
    "            </field>\n",
    "            <field name=\"size\" type=\"NX_FLOAT\" units=\"NX_LENGTH\">\n",
    "              <doc>The collimation length</doc>\n",
    "            </field>\n",
    "          </group>\n",
    "        </group>\n",
    "      </group>\n",
    "      <group type=\"NXdetector\" name=\"detector\">\n",
    "        <field name=\"data\" type=\"NX_NUMBER\" signal=\"1\">\n",
    "          <doc>\n",
    "            This is area detector data, of number of x-pixel versus\n",
    "            number of y-pixels. Since the beam center is to be\n",
    "            determined as a step of data reduction, it is not necessary\n",
    "            to document or assume the position of the beam center in\n",
    "            acquired data.\n",
    "          </doc>\n",
    "          <dimensions rank=\"2\">\n",
    "            <dim index=\"1\" value=\"nXPixel\" />\n",
    "            <dim index=\"2\" value=\"nYPixel\" />\n",
    "          </dimensions>\n",
    "        </field>\n",
    "        <field name=\"distance\" type=\"NX_FLOAT\" units=\"NX_LENGTH\">\n",
    "          <doc>The distance between detector and sample</doc>\n",
    "        </field>\n",
    "        <field name=\"x_pixel_size\" type=\"NX_FLOAT\" units=\"NX_LENGTH\">\n",
    "          <doc>Physical size of a pixel in x-direction</doc>\n",
    "        </field>\n",
    "        <field name=\"y_pixel_size\" type=\"NX_FLOAT\" units=\"NX_LENGTH\">\n",
    "          <doc>Size of a pixel in y direction</doc>\n",
    "        </field>\n",
    "        <field name=\"polar_angle\" type=\"NX_FLOAT\" units=\"NX_ANGLE\"></field>\n",
    "        <field name=\"azimuthal_angle\" type=\"NX_FLOAT\"\n",
    "          units=\"NX_ANGLE\">\n",
    "        </field>\n",
    "        <field name=\"rotation_angle\" type=\"NX_FLOAT\" units=\"NX_ANGLE\"></field>\n",
    "        <field name=\"aequatorial_angle\" type=\"NX_FLOAT\"\n",
    "          units=\"NX_ANGLE\">\n",
    "        </field>\n",
    "\t\t<field name=\"beam_center_x\" type=\"NX_FLOAT\" units=\"NX_LENGTH\">\n",
    "\t\t\t<doc>\n",
    "\t\t\t\tThis is the x position where the direct beam would hit the detector. This is a\n",
    "\t\t\t\tlength, not a pixel position, and can be outside of the actual detector.\n",
    "\t\t\t</doc>\n",
    "\t\t</field>\n",
    "        <field name=\"beam_center_y\" type=\"NX_FLOAT\" units=\"NX_LENGTH\">\n",
    "\t\t\t<doc>\n",
    "\t\t\t\tThis is the y position where the direct beam would hit the detector. This is a\n",
    "\t\t\t\tlength, not a pixel position, and can be outside of the actual detector.\n",
    "\t\t\t</doc>\n",
    "\t\t</field>\n",
    "      </group>\n",
    "      <field name=\"name\" type=\"NX_CHAR\">\n",
    "        <doc>Name of the instrument actually used to perform the experiment</doc>\n",
    "      </field>\n",
    "    </group>\n",
    "    <group type=\"NXsample\" name=\"sample\">\n",
    "      <field name=\"name\">\n",
    "        <doc>Descriptive name of sample</doc>\n",
    "      </field>\n",
    "      <field name=\"aequatorial_angle\" type=\"NX_FLOAT\"\n",
    "        units=\"NX_ANGLE\">\n",
    "      </field>\n",
    "    </group>\n",
    "    <group type=\"NXmonitor\" name=\"control\">\n",
    "      <field name=\"mode\">\n",
    "        <doc>\n",
    "\t\t\tCount to a preset value based on either clock time \n",
    "\t\t\t(timer) or received monitor counts (monitor). \n",
    "        </doc>\n",
    "        <enumeration>\n",
    "          <item value=\"monitor\"/>\n",
    "          <item value=\"timer\"/>\n",
    "        </enumeration>\n",
    "      </field>\n",
    "      <field name=\"preset\" type=\"NX_FLOAT\">\n",
    "        <doc>preset value for time or monitor</doc>\n",
    "      </field>\n",
    "      <field name=\"integral\" type=\"NX_FLOAT\" units=\"NX_ANY\">\n",
    "        <doc>Total integral monitor counts</doc>\n",
    "      </field>\n",
    "    </group>\n",
    "    <group type=\"NXdata\" name=\"data\">\n",
    "      <link name=\"data\" target=\"/NXentry/NXinstrument/NXdetector/data\"></link>\n",
    "    </group>\n",
    "  </group>\n",
    "</definition>"
   ]
  },
  {
   "cell_type": "markdown",
   "id": "e9907a7f",
   "metadata": {},
   "source": [
    "#### Let's continue to explore the `Nexus` fields ####"
   ]
  },
  {
   "cell_type": "code",
   "execution_count": 67,
   "id": "6cd7cf6b",
   "metadata": {},
   "outputs": [
    {
     "data": {
      "text/plain": [
       "dict_keys(['entry_identifier', 'start_time', 'instrument', 'sample', 'experiment_documentation', 'user1', 'user2', 'notes', 'definition', 'integrated_intensity', 'data'])"
      ]
     },
     "execution_count": 67,
     "metadata": {},
     "output_type": "execute_result"
    }
   ],
   "source": [
    "a['/entry/'].keys()"
   ]
  },
  {
   "cell_type": "code",
   "execution_count": 68,
   "id": "b80aa63e",
   "metadata": {},
   "outputs": [
    {
     "name": "stdout",
     "output_type": "stream",
     "text": [
      "dict_keys(['name', 'source', 'incoming_beam', 'absorbed_beam', 'tof_mass_spectrum', 'insertion_device', 'monochromator', 'slitwidth'])\n"
     ]
    }
   ],
   "source": [
    "print(a['/entry/instrument'].keys())"
   ]
  },
  {
   "cell_type": "code",
   "execution_count": 69,
   "id": "b64674dc",
   "metadata": {
    "scrolled": true
   },
   "outputs": [
    {
     "name": "stdout",
     "output_type": "stream",
     "text": [
      "dict_keys(['name', 'type', 'situation', 'temperature_env', 'pressure_env'])\n"
     ]
    }
   ],
   "source": [
    "print(a['/entry/sample'].keys())"
   ]
  },
  {
   "cell_type": "markdown",
   "id": "d5505e2a",
   "metadata": {},
   "source": [
    "Let's explore the parameter using the access to the child of a NeXus group "
   ]
  },
  {
   "cell_type": "code",
   "execution_count": 70,
   "id": "1e407f16",
   "metadata": {
    "scrolled": true
   },
   "outputs": [
    {
     "data": {
      "text/plain": [
       "NXgroup('sample')"
      ]
     },
     "execution_count": 70,
     "metadata": {},
     "output_type": "execute_result"
    }
   ],
   "source": [
    "a.entry.sample"
   ]
  },
  {
   "cell_type": "code",
   "execution_count": 71,
   "id": "48291080",
   "metadata": {},
   "outputs": [
    {
     "data": {
      "text/plain": [
       "NXfield('sample')"
      ]
     },
     "execution_count": 71,
     "metadata": {},
     "output_type": "execute_result"
    }
   ],
   "source": [
    "a.entry.sample.type"
   ]
  },
  {
   "cell_type": "code",
   "execution_count": 72,
   "id": "0f3cf5e8",
   "metadata": {},
   "outputs": [
    {
     "name": "stdout",
     "output_type": "stream",
     "text": [
      "sample\n"
     ]
    }
   ],
   "source": [
    "print(a.entry.sample.type)"
   ]
  },
  {
   "cell_type": "code",
   "execution_count": 73,
   "id": "8d2c49e0",
   "metadata": {
    "scrolled": true
   },
   "outputs": [
    {
     "name": "stdout",
     "output_type": "stream",
     "text": [
      "dict_keys(['entry_identifier', 'start_time', 'instrument', 'sample', 'experiment_documentation', 'user1', 'user2', 'notes', 'definition', 'integrated_intensity', 'data'])\n"
     ]
    }
   ],
   "source": [
    "print(a.entry.keys())"
   ]
  },
  {
   "cell_type": "code",
   "execution_count": 74,
   "id": "e5cd4707",
   "metadata": {},
   "outputs": [
    {
     "data": {
      "text/plain": [
       "NXgroup('instrument')"
      ]
     },
     "execution_count": 74,
     "metadata": {},
     "output_type": "execute_result"
    }
   ],
   "source": [
    "a.entry.instrument"
   ]
  },
  {
   "cell_type": "code",
   "execution_count": 75,
   "id": "52ff2f26",
   "metadata": {},
   "outputs": [
    {
     "data": {
      "text/plain": [
       "NXdata('data')"
      ]
     },
     "execution_count": 75,
     "metadata": {},
     "output_type": "execute_result"
    }
   ],
   "source": [
    "a.entry.data"
   ]
  },
  {
   "cell_type": "code",
   "execution_count": 76,
   "id": "3ba4d5de",
   "metadata": {},
   "outputs": [
    {
     "data": {
      "image/png": "[encoded data removed]",
      "text/plain": [
       "<Figure size 432x288 with 1 Axes>"
      ]
     },
     "metadata": {
      "needs_background": "light"
     },
     "output_type": "display_data"
    }
   ],
   "source": [
    "a.entry.data.signal.plot()"
   ]
  },
  {
   "cell_type": "code",
   "execution_count": 77,
   "id": "b5dc13f7",
   "metadata": {
    "tags": []
   },
   "outputs": [
    {
     "data": {
      "text/plain": [
       "dict_keys(['entry_identifier', 'start_time', 'instrument', 'sample', 'experiment_documentation', 'user1', 'user2', 'notes', 'definition', 'integrated_intensity', 'data'])"
      ]
     },
     "execution_count": 77,
     "metadata": {},
     "output_type": "execute_result"
    }
   ],
   "source": [
    "a.entry.keys()"
   ]
  },
  {
   "cell_type": "code",
   "execution_count": 78,
   "id": "b9f90beb",
   "metadata": {
    "tags": []
   },
   "outputs": [
    {
     "data": {
      "text/plain": [
       "dict_keys(['name', 'source', 'incoming_beam', 'absorbed_beam', 'tof_mass_spectrum', 'insertion_device', 'monochromator', 'slitwidth'])"
      ]
     },
     "execution_count": 78,
     "metadata": {},
     "output_type": "execute_result"
    }
   ],
   "source": [
    "a.entry.instrument.keys()"
   ]
  },
  {
   "cell_type": "code",
   "execution_count": 79,
   "id": "711084f9",
   "metadata": {
    "tags": []
   },
   "outputs": [
    {
     "data": {
      "text/plain": [
       "NXmonochromator('monochromator')"
      ]
     },
     "execution_count": 79,
     "metadata": {},
     "output_type": "execute_result"
    }
   ],
   "source": [
    "a.entry.instrument.monochromator"
   ]
  },
  {
   "cell_type": "code",
   "execution_count": 80,
   "id": "05909b43",
   "metadata": {
    "tags": []
   },
   "outputs": [
    {
     "name": "stdout",
     "output_type": "stream",
     "text": [
      "dict_keys(['energy', 'energy_set'])\n"
     ]
    }
   ],
   "source": [
    "print(a.entry.instrument.monochromator.keys())"
   ]
  },
  {
   "cell_type": "code",
   "execution_count": 81,
   "id": "5edb678a",
   "metadata": {
    "scrolled": true
   },
   "outputs": [
    {
     "data": {
      "text/plain": [
       "NXfield(array([1274.99, 1275.6 , 1276.2 ]))"
      ]
     },
     "execution_count": 81,
     "metadata": {},
     "output_type": "execute_result"
    }
   ],
   "source": [
    "a.entry.instrument.monochromator.energy"
   ]
  },
  {
   "cell_type": "markdown",
   "id": "669b9a6e-0696-48eb-90fb-241b66c26cb0",
   "metadata": {},
   "source": [
    "We can manipulate this entry and assign a new name to the detector,\n",
    "\n",
    "keep in mind that the modifications are automatically saved in file"
   ]
  },
  {
   "cell_type": "code",
   "execution_count": 82,
   "id": "b038328a",
   "metadata": {},
   "outputs": [
    {
     "data": {
      "text/plain": [
       "NXfield('UE52_PGM Iontrap')"
      ]
     },
     "execution_count": 82,
     "metadata": {},
     "output_type": "execute_result"
    }
   ],
   "source": [
    "a['entry/instrument/name']"
   ]
  },
  {
   "cell_type": "code",
   "execution_count": 83,
   "id": "ec85e9ad",
   "metadata": {
    "jupyter": {
     "source_hidden": true
    },
    "tags": []
   },
   "outputs": [
    {
     "ename": "NeXusError",
     "evalue": "Invalid path",
     "output_type": "error",
     "traceback": [
      "\u001b[0;31m---------------------------------------------------------------------------\u001b[0m",
      "\u001b[0;31mNeXusError\u001b[0m                                Traceback (most recent call last)",
      "\u001b[0;32m<ipython-input-83-f32fdf777119>\u001b[0m in \u001b[0;36m<module>\u001b[0;34m\u001b[0m\n\u001b[0;32m----> 1\u001b[0;31m \u001b[0ma\u001b[0m\u001b[0;34m[\u001b[0m\u001b[0;34m'entry/instrument/detector1/type'\u001b[0m\u001b[0;34m]\u001b[0m\u001b[0;34m\u001b[0m\u001b[0;34m\u001b[0m\u001b[0m\n\u001b[0m",
      "\u001b[0;32m~/anaconda3/envs/jupy1/lib/python3.7/site-packages/nexusformat/nexus/tree.py\u001b[0m in \u001b[0;36m__getitem__\u001b[0;34m(self, key)\u001b[0m\n\u001b[1;32m   4317\u001b[0m                         \u001b[0mnode\u001b[0m \u001b[0;34m=\u001b[0m \u001b[0mnode\u001b[0m\u001b[0;34m.\u001b[0m\u001b[0mentries\u001b[0m\u001b[0;34m[\u001b[0m\u001b[0mname\u001b[0m\u001b[0;34m]\u001b[0m\u001b[0;34m\u001b[0m\u001b[0;34m\u001b[0m\u001b[0m\n\u001b[1;32m   4318\u001b[0m                     \u001b[0;32melse\u001b[0m\u001b[0;34m:\u001b[0m\u001b[0;34m\u001b[0m\u001b[0;34m\u001b[0m\u001b[0m\n\u001b[0;32m-> 4319\u001b[0;31m                         \u001b[0;32mraise\u001b[0m \u001b[0mNeXusError\u001b[0m\u001b[0;34m(\u001b[0m\u001b[0;34m\"Invalid path\"\u001b[0m\u001b[0;34m)\u001b[0m\u001b[0;34m\u001b[0m\u001b[0;34m\u001b[0m\u001b[0m\n\u001b[0m\u001b[1;32m   4320\u001b[0m                 \u001b[0;32mreturn\u001b[0m \u001b[0mnode\u001b[0m\u001b[0;34m\u001b[0m\u001b[0;34m\u001b[0m\u001b[0m\n\u001b[1;32m   4321\u001b[0m             \u001b[0;32melse\u001b[0m\u001b[0;34m:\u001b[0m\u001b[0;34m\u001b[0m\u001b[0;34m\u001b[0m\u001b[0m\n",
      "\u001b[0;31mNeXusError\u001b[0m: Invalid path"
     ]
    }
   ],
   "source": [
    "a['entry/instrument/detector1/type']"
   ]
  },
  {
   "cell_type": "code",
   "execution_count": 84,
   "id": "d0e526b2",
   "metadata": {
    "jupyter": {
     "source_hidden": true
    },
    "tags": []
   },
   "outputs": [
    {
     "ename": "NeXusError",
     "evalue": "'detector1' not in /entry/instrument",
     "output_type": "error",
     "traceback": [
      "\u001b[0;31m---------------------------------------------------------------------------\u001b[0m",
      "\u001b[0;31mNeXusError\u001b[0m                                Traceback (most recent call last)",
      "\u001b[0;32m<ipython-input-84-2a1f4318a892>\u001b[0m in \u001b[0;36m<module>\u001b[0;34m\u001b[0m\n\u001b[0;32m----> 1\u001b[0;31m \u001b[0ma\u001b[0m\u001b[0;34m.\u001b[0m\u001b[0mentry\u001b[0m\u001b[0;34m.\u001b[0m\u001b[0minstrument\u001b[0m\u001b[0;34m.\u001b[0m\u001b[0mdetector1\u001b[0m\u001b[0;34m.\u001b[0m\u001b[0mname\u001b[0m\u001b[0;34m\u001b[0m\u001b[0;34m\u001b[0m\u001b[0m\n\u001b[0m",
      "\u001b[0;32m~/anaconda3/envs/jupy1/lib/python3.7/site-packages/nexusformat/nexus/tree.py\u001b[0m in \u001b[0;36m__getattr__\u001b[0;34m(self, name)\u001b[0m\n\u001b[1;32m   4264\u001b[0m         \u001b[0;32melif\u001b[0m \u001b[0mname\u001b[0m \u001b[0;32min\u001b[0m \u001b[0mself\u001b[0m\u001b[0;34m.\u001b[0m\u001b[0mattrs\u001b[0m\u001b[0;34m:\u001b[0m\u001b[0;34m\u001b[0m\u001b[0;34m\u001b[0m\u001b[0m\n\u001b[1;32m   4265\u001b[0m             \u001b[0;32mreturn\u001b[0m \u001b[0mself\u001b[0m\u001b[0;34m.\u001b[0m\u001b[0mattrs\u001b[0m\u001b[0;34m[\u001b[0m\u001b[0mname\u001b[0m\u001b[0;34m]\u001b[0m\u001b[0;34m\u001b[0m\u001b[0;34m\u001b[0m\u001b[0m\n\u001b[0;32m-> 4266\u001b[0;31m         \u001b[0;32mraise\u001b[0m \u001b[0mNeXusError\u001b[0m\u001b[0;34m(\u001b[0m\u001b[0;34m\"'\"\u001b[0m\u001b[0;34m+\u001b[0m\u001b[0mname\u001b[0m\u001b[0;34m+\u001b[0m\u001b[0;34m\"' not in \"\u001b[0m\u001b[0;34m+\u001b[0m\u001b[0mself\u001b[0m\u001b[0;34m.\u001b[0m\u001b[0mnxpath\u001b[0m\u001b[0;34m)\u001b[0m\u001b[0;34m\u001b[0m\u001b[0;34m\u001b[0m\u001b[0m\n\u001b[0m\u001b[1;32m   4267\u001b[0m \u001b[0;34m\u001b[0m\u001b[0m\n\u001b[1;32m   4268\u001b[0m     \u001b[0;32mdef\u001b[0m \u001b[0m__setattr__\u001b[0m\u001b[0;34m(\u001b[0m\u001b[0mself\u001b[0m\u001b[0;34m,\u001b[0m \u001b[0mname\u001b[0m\u001b[0;34m,\u001b[0m \u001b[0mvalue\u001b[0m\u001b[0;34m)\u001b[0m\u001b[0;34m:\u001b[0m\u001b[0;34m\u001b[0m\u001b[0;34m\u001b[0m\u001b[0m\n",
      "\u001b[0;31mNeXusError\u001b[0m: 'detector1' not in /entry/instrument"
     ]
    }
   ],
   "source": [
    "a.entry.instrument.detector1.name"
   ]
  },
  {
   "cell_type": "code",
   "execution_count": 85,
   "id": "94185bb9",
   "metadata": {
    "jupyter": {
     "source_hidden": true
    },
    "tags": []
   },
   "outputs": [
    {
     "ename": "NeXusError",
     "evalue": "'detector1' not in /entry/instrument",
     "output_type": "error",
     "traceback": [
      "\u001b[0;31m---------------------------------------------------------------------------\u001b[0m",
      "\u001b[0;31mNeXusError\u001b[0m                                Traceback (most recent call last)",
      "\u001b[0;32m<ipython-input-85-9461ed17db3d>\u001b[0m in \u001b[0;36m<module>\u001b[0;34m\u001b[0m\n\u001b[0;32m----> 1\u001b[0;31m \u001b[0ma\u001b[0m\u001b[0;34m.\u001b[0m\u001b[0mentry\u001b[0m\u001b[0;34m.\u001b[0m\u001b[0minstrument\u001b[0m\u001b[0;34m.\u001b[0m\u001b[0mdetector1\u001b[0m\u001b[0;34m.\u001b[0m\u001b[0mtype\u001b[0m\u001b[0;34m\u001b[0m\u001b[0;34m\u001b[0m\u001b[0m\n\u001b[0m",
      "\u001b[0;32m~/anaconda3/envs/jupy1/lib/python3.7/site-packages/nexusformat/nexus/tree.py\u001b[0m in \u001b[0;36m__getattr__\u001b[0;34m(self, name)\u001b[0m\n\u001b[1;32m   4264\u001b[0m         \u001b[0;32melif\u001b[0m \u001b[0mname\u001b[0m \u001b[0;32min\u001b[0m \u001b[0mself\u001b[0m\u001b[0;34m.\u001b[0m\u001b[0mattrs\u001b[0m\u001b[0;34m:\u001b[0m\u001b[0;34m\u001b[0m\u001b[0;34m\u001b[0m\u001b[0m\n\u001b[1;32m   4265\u001b[0m             \u001b[0;32mreturn\u001b[0m \u001b[0mself\u001b[0m\u001b[0;34m.\u001b[0m\u001b[0mattrs\u001b[0m\u001b[0;34m[\u001b[0m\u001b[0mname\u001b[0m\u001b[0;34m]\u001b[0m\u001b[0;34m\u001b[0m\u001b[0;34m\u001b[0m\u001b[0m\n\u001b[0;32m-> 4266\u001b[0;31m         \u001b[0;32mraise\u001b[0m \u001b[0mNeXusError\u001b[0m\u001b[0;34m(\u001b[0m\u001b[0;34m\"'\"\u001b[0m\u001b[0;34m+\u001b[0m\u001b[0mname\u001b[0m\u001b[0;34m+\u001b[0m\u001b[0;34m\"' not in \"\u001b[0m\u001b[0;34m+\u001b[0m\u001b[0mself\u001b[0m\u001b[0;34m.\u001b[0m\u001b[0mnxpath\u001b[0m\u001b[0;34m)\u001b[0m\u001b[0;34m\u001b[0m\u001b[0;34m\u001b[0m\u001b[0m\n\u001b[0m\u001b[1;32m   4267\u001b[0m \u001b[0;34m\u001b[0m\u001b[0m\n\u001b[1;32m   4268\u001b[0m     \u001b[0;32mdef\u001b[0m \u001b[0m__setattr__\u001b[0m\u001b[0;34m(\u001b[0m\u001b[0mself\u001b[0m\u001b[0;34m,\u001b[0m \u001b[0mname\u001b[0m\u001b[0;34m,\u001b[0m \u001b[0mvalue\u001b[0m\u001b[0;34m)\u001b[0m\u001b[0;34m:\u001b[0m\u001b[0;34m\u001b[0m\u001b[0;34m\u001b[0m\u001b[0m\n",
      "\u001b[0;31mNeXusError\u001b[0m: 'detector1' not in /entry/instrument"
     ]
    }
   ],
   "source": [
    "a.entry.instrument.detector1.type"
   ]
  },
  {
   "cell_type": "code",
   "execution_count": 86,
   "id": "f2772ecb",
   "metadata": {},
   "outputs": [
    {
     "ename": "NeXusError",
     "evalue": "'detector1' not in /entry/instrument",
     "output_type": "error",
     "traceback": [
      "\u001b[0;31m---------------------------------------------------------------------------\u001b[0m",
      "\u001b[0;31mNeXusError\u001b[0m                                Traceback (most recent call last)",
      "\u001b[0;32m<ipython-input-86-f7e5a41892a5>\u001b[0m in \u001b[0;36m<module>\u001b[0;34m\u001b[0m\n\u001b[0;32m----> 1\u001b[0;31m \u001b[0ma\u001b[0m\u001b[0;34m.\u001b[0m\u001b[0mentry\u001b[0m\u001b[0;34m.\u001b[0m\u001b[0minstrument\u001b[0m\u001b[0;34m.\u001b[0m\u001b[0mdetector1\u001b[0m\u001b[0;34m.\u001b[0m\u001b[0msignal\u001b[0m\u001b[0;34m\u001b[0m\u001b[0;34m\u001b[0m\u001b[0m\n\u001b[0m",
      "\u001b[0;32m~/anaconda3/envs/jupy1/lib/python3.7/site-packages/nexusformat/nexus/tree.py\u001b[0m in \u001b[0;36m__getattr__\u001b[0;34m(self, name)\u001b[0m\n\u001b[1;32m   4264\u001b[0m         \u001b[0;32melif\u001b[0m \u001b[0mname\u001b[0m \u001b[0;32min\u001b[0m \u001b[0mself\u001b[0m\u001b[0;34m.\u001b[0m\u001b[0mattrs\u001b[0m\u001b[0;34m:\u001b[0m\u001b[0;34m\u001b[0m\u001b[0;34m\u001b[0m\u001b[0m\n\u001b[1;32m   4265\u001b[0m             \u001b[0;32mreturn\u001b[0m \u001b[0mself\u001b[0m\u001b[0;34m.\u001b[0m\u001b[0mattrs\u001b[0m\u001b[0;34m[\u001b[0m\u001b[0mname\u001b[0m\u001b[0;34m]\u001b[0m\u001b[0;34m\u001b[0m\u001b[0;34m\u001b[0m\u001b[0m\n\u001b[0;32m-> 4266\u001b[0;31m         \u001b[0;32mraise\u001b[0m \u001b[0mNeXusError\u001b[0m\u001b[0;34m(\u001b[0m\u001b[0;34m\"'\"\u001b[0m\u001b[0;34m+\u001b[0m\u001b[0mname\u001b[0m\u001b[0;34m+\u001b[0m\u001b[0;34m\"' not in \"\u001b[0m\u001b[0;34m+\u001b[0m\u001b[0mself\u001b[0m\u001b[0;34m.\u001b[0m\u001b[0mnxpath\u001b[0m\u001b[0;34m)\u001b[0m\u001b[0;34m\u001b[0m\u001b[0;34m\u001b[0m\u001b[0m\n\u001b[0m\u001b[1;32m   4267\u001b[0m \u001b[0;34m\u001b[0m\u001b[0m\n\u001b[1;32m   4268\u001b[0m     \u001b[0;32mdef\u001b[0m \u001b[0m__setattr__\u001b[0m\u001b[0;34m(\u001b[0m\u001b[0mself\u001b[0m\u001b[0;34m,\u001b[0m \u001b[0mname\u001b[0m\u001b[0;34m,\u001b[0m \u001b[0mvalue\u001b[0m\u001b[0;34m)\u001b[0m\u001b[0;34m:\u001b[0m\u001b[0;34m\u001b[0m\u001b[0;34m\u001b[0m\u001b[0m\n",
      "\u001b[0;31mNeXusError\u001b[0m: 'detector1' not in /entry/instrument"
     ]
    }
   ],
   "source": [
    "a.entry.instrument.detector1.signal"
   ]
  },
  {
   "cell_type": "code",
   "execution_count": 31,
   "id": "3f35aff3",
   "metadata": {},
   "outputs": [
    {
     "data": {
      "image/png": "[encoded data removed]",
      "text/plain": [
       "<Figure size 432x288 with 1 Axes>"
      ]
     },
     "metadata": {
      "needs_background": "light"
     },
     "output_type": "display_data"
    }
   ],
   "source": [
    "a.entry.instrument.monochromator.energy.plot()"
   ]
  },
  {
   "cell_type": "markdown",
   "id": "881af50a",
   "metadata": {},
   "source": [
    "https://manual.nexusformat.org/classes/base_classes/index.html"
   ]
  },
  {
   "cell_type": "markdown",
   "id": "40a4ab86",
   "metadata": {},
   "source": [
    "# visualize the Nexus structure as an xml file"
   ]
  },
  {
   "cell_type": "code",
   "execution_count": 32,
   "id": "08685481",
   "metadata": {
    "scrolled": true,
    "tags": []
   },
   "outputs": [
    {
     "name": "stdout",
     "output_type": "stream",
     "text": [
      "dict_keys(['background', 'entry'])\n",
      "b'<?xml version=\"1.0\" encoding=\"UTF-8\" ?><root><item type=\"str\">background</item><item type=\"str\">entry</item></root>'\n"
     ]
    }
   ],
   "source": [
    "b=(a.keys())\n",
    "print(b)\n",
    "xml=dicttoxml(b)\n",
    "print(xml)"
   ]
  },
  {
   "cell_type": "markdown",
   "id": "f39f18b4-6f1d-4bcd-b221-b62432c6e742",
   "metadata": {},
   "source": [
    "each `NXgroup` is an `XML` entity"
   ]
  },
  {
   "cell_type": "markdown",
   "id": "e5a2d0ee",
   "metadata": {},
   "source": [
    "We can loop over the entries and convert the whole dictionary in an xml structure"
   ]
  },
  {
   "cell_type": "code",
   "execution_count": 34,
   "id": "6bab5e5c",
   "metadata": {
    "scrolled": true
   },
   "outputs": [
    {
     "data": {
      "text/plain": [
       "dict_keys(['H5PY_version', 'default', 'file_time'])"
      ]
     },
     "execution_count": 34,
     "metadata": {},
     "output_type": "execute_result"
    }
   ],
   "source": [
    "a.attrs.keys()"
   ]
  },
  {
   "cell_type": "code",
   "execution_count": 35,
   "id": "08091611",
   "metadata": {},
   "outputs": [
    {
     "name": "stdout",
     "output_type": "stream",
     "text": [
      "H5PY_version: 3.2.1\n",
      "default: entry\n",
      "file_time: 2021-11-05T12:55:17+01:00\n"
     ]
    }
   ],
   "source": [
    "for item in a.attrs.keys():\n",
    "    print(item+\":\", a.attrs[item])"
   ]
  },
  {
   "cell_type": "code",
   "execution_count": 38,
   "id": "021cf283",
   "metadata": {},
   "outputs": [
    {
     "data": {
      "text/plain": [
       "NXenvironment('temperature_env')"
      ]
     },
     "execution_count": 38,
     "metadata": {},
     "output_type": "execute_result"
    }
   ],
   "source": [
    "a.entry.sample.temperature_env"
   ]
  },
  {
   "cell_type": "code",
   "execution_count": 56,
   "id": "ba1843c1",
   "metadata": {},
   "outputs": [],
   "source": [
    "x = NXfield(np.linspace(0,2*np.pi,101), units='degree')"
   ]
  },
  {
   "cell_type": "code",
   "execution_count": 138,
   "id": "0aca6071",
   "metadata": {},
   "outputs": [],
   "source": [
    "sample=NXsample()"
   ]
  },
  {
   "cell_type": "markdown",
   "id": "3e2a2a60",
   "metadata": {},
   "source": [
    "#### Save the array of data as an ASCII and  <bc>\n",
    "#### preserve the metadata information as separated xml file is possible but not recommended ####\n",
    "#### because the link is broken between data versions and metadata versions ####"
   ]
  },
  {
   "cell_type": "code",
   "execution_count": 37,
   "id": "d20d2cf2",
   "metadata": {},
   "outputs": [
    {
     "data": {
      "text/plain": [
       "NXfield(array([0.000255, 0.000255, 0.000255, ..., 0.000271, 0.000271, 0.000271]))"
      ]
     },
     "execution_count": 37,
     "metadata": {},
     "output_type": "execute_result"
    }
   ],
   "source": [
    "a.entry.instrument.detector1.signal"
   ]
  },
  {
   "cell_type": "code",
   "execution_count": 50,
   "id": "e879eb3e",
   "metadata": {},
   "outputs": [],
   "source": [
    "sign=a['/entry/instrument/detector1/signal']"
   ]
  },
  {
   "cell_type": "code",
   "execution_count": 51,
   "id": "90f14eec",
   "metadata": {},
   "outputs": [
    {
     "data": {
      "text/plain": [
       "239"
      ]
     },
     "execution_count": 51,
     "metadata": {},
     "output_type": "execute_result"
    }
   ],
   "source": [
    "len(sign)"
   ]
  },
  {
   "cell_type": "code",
   "execution_count": 52,
   "id": "5a73a36b",
   "metadata": {},
   "outputs": [
    {
     "name": "stdout",
     "output_type": "stream",
     "text": [
      "<_io.TextIOWrapper name='/home/luigia/Documents/metadata_course/data_public1_HZB/test_ASCII.txt' mode='w' encoding='UTF-8'>\n"
     ]
    }
   ],
   "source": [
    "filename=\"test_ASCII.txt\"\n",
    "ff=path+filename\n",
    "f_AS=open(ff,'w')\n",
    "print(f_AS)"
   ]
  },
  {
   "cell_type": "code",
   "execution_count": 53,
   "id": "b868aa50",
   "metadata": {},
   "outputs": [],
   "source": [
    "np.savetxt(f_AS,sign)"
   ]
  },
  {
   "cell_type": "markdown",
   "id": "5e68c816",
   "metadata": {},
   "source": [
    "#### extract the dictionary from the `NeXus` file import a `silx` function http://www.silx.org/doc/silx/latest/install.html ####"
   ]
  },
  {
   "cell_type": "code",
   "execution_count": 39,
   "id": "8064281c",
   "metadata": {},
   "outputs": [],
   "source": [
    "from silx.io.dictdump import h5todict"
   ]
  },
  {
   "cell_type": "code",
   "execution_count": 40,
   "id": "04535330",
   "metadata": {},
   "outputs": [],
   "source": [
    "nxdict=h5todict(fp)"
   ]
  },
  {
   "cell_type": "code",
   "execution_count": 42,
   "id": "dbf127dc",
   "metadata": {
    "scrolled": true
   },
   "outputs": [
    {
     "data": {
      "text/plain": [
       "{'name': array('Co02', dtype='<U4'),\n",
       " 'type': array('sample', dtype='<U6'),\n",
       " 'situation': array('vacuum', dtype='<U6'),\n",
       " 'temperature_env': {'short_name': array('temperature trap', dtype='<U16'),\n",
       "  'temperature1': {'value': array([39.4716, 39.4726, 39.4726, ..., 39.4626, 39.4598, 39.4546])},\n",
       "  'temperature2': {'value': array([40.4723, 40.4244, 40.3845, ..., 40.1108, 40.0685, 40.0108])},\n",
       "  'temperature3': {'value': array([130.687, 130.521, 130.395, ..., 129.596, 129.47 , 129.296])},\n",
       "  'temperature4': {'value': array([79.9454, 80.9427, 80.9898, ..., 80.0094, 79.9829, 79.9322])}},\n",
       " 'pressure_env': {'pressure1': {'value': array([8.986e-07, 8.986e-07, 8.965e-07, ..., 8.954e-07, 8.922e-07,\n",
       "          8.954e-07])},\n",
       "  'pressure2': {'value': array([1.519e-07, 1.519e-07, 1.519e-07, ..., 1.515e-07, 1.517e-07,\n",
       "          1.513e-07])},\n",
       "  'pressure3': {'value': array([0.003939, 0.003944, 0.003944, ..., 0.003949, 0.003944, 0.003944])},\n",
       "  'pressure4': {'value': array([2.484e-06, 2.481e-06, 2.484e-06, ..., 2.481e-06, 2.481e-06,\n",
       "          2.484e-06])}}}"
      ]
     },
     "execution_count": 42,
     "metadata": {},
     "output_type": "execute_result"
    }
   ],
   "source": [
    "nxdict['entry']['sample']"
   ]
  },
  {
   "cell_type": "markdown",
   "id": "848ad49a",
   "metadata": {},
   "source": [
    "#### Alternative option to open the `Nexus` file : h5py attributes ####"
   ]
  },
  {
   "cell_type": "code",
   "execution_count": 43,
   "id": "92e39755",
   "metadata": {},
   "outputs": [
    {
     "name": "stdout",
     "output_type": "stream",
     "text": [
      "H5PY_version: 3.2.1\n",
      "default: entry\n",
      "file_time: 2021-11-05T12:55:17+01:00\n"
     ]
    },
    {
     "data": {
      "text/plain": [
       "<KeysViewHDF5 ['entry_identifier', 'start_time', 'instrument', 'sample', 'experiment_documentation', 'user1', 'user2', 'notes', 'definition', 'integrated_intensity', 'data']>"
      ]
     },
     "execution_count": 43,
     "metadata": {},
     "output_type": "execute_result"
    }
   ],
   "source": [
    "f=h5py.File(fp,\"r\")\n",
    "f.attrs.keys()\n",
    "for item in f.attrs.keys():\n",
    "        print(item+\":\",f.attrs[item])\n",
    "\n",
    "f['/entry'].keys()\n",
    "\n",
    "#%%%%use this dictionary by changing the entries and attaching another dataset%%%%%\n"
   ]
  },
  {
   "cell_type": "code",
   "execution_count": 44,
   "id": "e80ff2c2",
   "metadata": {},
   "outputs": [
    {
     "data": {
      "text/plain": [
       "<Attributes of HDF5 object at 140376988473008>"
      ]
     },
     "execution_count": 44,
     "metadata": {},
     "output_type": "execute_result"
    }
   ],
   "source": [
    "f.attrs"
   ]
  },
  {
   "cell_type": "code",
   "execution_count": 45,
   "id": "3f3f4344",
   "metadata": {},
   "outputs": [
    {
     "name": "stdout",
     "output_type": "stream",
     "text": [
      "<HDF5 file \"Co02_2021-03-30.nxs\" (mode r)>\n"
     ]
    }
   ],
   "source": [
    "print(f)"
   ]
  },
  {
   "cell_type": "code",
   "execution_count": 50,
   "id": "b8d2d763",
   "metadata": {},
   "outputs": [
    {
     "name": "stdout",
     "output_type": "stream",
     "text": [
      "<HDF5 group \"/entry/sample/temperature_env\" (5 members)>\n"
     ]
    }
   ],
   "source": [
    "print(f['/entry/sample/temperature_env'])"
   ]
  },
  {
   "cell_type": "code",
   "execution_count": 51,
   "id": "9d95d1f5",
   "metadata": {
    "scrolled": true,
    "tags": []
   },
   "outputs": [
    {
     "data": {
      "text/plain": [
       "['\"entry:NXgroup',\n",
       " \"  @default = 'data'\",\n",
       " '  data:NXdata',\n",
       " \"    @default = 'signal'\",\n",
       " '    signal = float64(10)',\n",
       " \"      @units = 'A'\",\n",
       " \"  definition = 'NXxas'\",\n",
       " \"    @URL = 'https://manual.nexusformat.org/classes/applica...'\",\n",
       " \"    @version = 'v2020.10'\",\n",
       " \"  entry_identifier = 'Co02'\",\n",
       " '  experiment_documentation:NXnote',\n",
       " \"    @default = '/proposal'\",\n",
       " \"    author = 'G\\\\u00fcnther, Gerrit'\",\n",
       " \"    description = 'Temperature dependence of Bragg peaks in novel low dimen...'\",\n",
       " \"    file_name = '162-04361-EF.pdf'\",\n",
       " \"    type = 'application/pdf'\",\n",
       " '  instrument:NXgroup',\n",
       " \"    @default = 'absorbed_beam'\",\n",
       " '    absorbed_beam:NXdetector',\n",
       " \"      @default = 'signal'\",\n",
       " \"      @name = 'absorbed_beam'\",\n",
       " \"      @short_name = 'xas2'\",\n",
       " '      flux = float64(10)',\n",
       " \"        @units = '1/s'\",\n",
       " '      signal = float64(10)',\n",
       " \"        @units = 'A'\",\n",
       " \"      type = 'photo diode'\",\n",
       " '    incoming_beam:NXdetector',\n",
       " \"      @default = 'signal'\",\n",
       " \"      @name = 'incoming_beam'\",\n",
       " \"      @short_name = 'xas1'\",\n",
       " '      signal = float64(10)',\n",
       " \"        @units = 'A'\",\n",
       " \"      type = 'photo diode'\",\n",
       " '    insertion_device:NXnote',\n",
       " \"      @short_name = 'UE52'\",\n",
       " '      bandwidth = float64(10)',\n",
       " \"      beam = 'HorizontalH3'\",\n",
       " '      gap = float64(10)',\n",
       " \"        @units = 'mm'\",\n",
       " \"      name = 'UE52'\",\n",
       " \"      offset = '-6.2738E-1'\",\n",
       " '      shift = float64(10)',\n",
       " \"        @units = 'mm'\",\n",
       " \"      slope = '1.0020E+0'\",\n",
       " '      table_file:NXnote',\n",
       " \"        file_name = 'CrHz13.idt'\",\n",
       " \"      type = 'Undulator X-ray Source'\",\n",
       " '    monochromator:NXmonochromator',\n",
       " \"      @short_name = 'PGMIontrap'\",\n",
       " '      energy = float64(10)',\n",
       " \"        @units = 'eV'\",\n",
       " '      energy_set = float64(10)',\n",
       " \"        @units = 'eV'\",\n",
       " \"    name = 'UE52_PGM Iontrap'\",\n",
       " \"      @URL = 'https://doi.org/10.5442/ni000004'\",\n",
       " \"      @old_name = 'NanoclusterTrap'\",\n",
       " \"      @short_name = 'Iontrap'\",\n",
       " '    slitwidth:NXslit',\n",
       " '      x_gap = float64(10)',\n",
       " \"        @units = '\\\\u00c2\\\\u00b5m'\",\n",
       " '    source:NXgroup',\n",
       " '      current = float64(10)',\n",
       " \"        @units = 'mA'\",\n",
       " \"      name = 'BESSY II'\",\n",
       " \"        @short_name = 'BESSY'\",\n",
       " \"      probe = 'x-ray'\",\n",
       " \"      type = 'Synchrotron X-ray Source'\",\n",
       " '    tof_mass_spectrum:NXdetector',\n",
       " '      @axes = \\'[\\\\\"time\\\\\", \\\\\"counts\\\\\"]\\'',\n",
       " \"      @axis = 'time-of-flight'\",\n",
       " '      @counts_indices = 2',\n",
       " \"      @default = 'signal'\",\n",
       " \"      @name = 'reflectron time-of-flight mass spectrometer'\",\n",
       " \"      @short_name = 'reftof'\",\n",
       " '      @time-of-flight_indices = 0',\n",
       " '      @time_indices = 1',\n",
       " '      signal = int16(10x139990)',\n",
       " \"        @units = 'counts'\",\n",
       " '      time-of-flight = float32(139990)',\n",
       " \"        @units = 's'\",\n",
       " \"      type = 'reflectron time-of-flight mass spectrometer'\",\n",
       " '  integrated_intensity:NXprocess',\n",
       " '    intensity = float64(10)',\n",
       " '  notes:NXcollection',\n",
       " '    note1:NXnote',\n",
       " \"      Co02_001_Mono.txt = '# ------------------------------------------------------...'\",\n",
       " \"      file_name = 'Co02_001_Mono.txt'\",\n",
       " \"      type = 'text/plain'\",\n",
       " '    note2:NXnote',\n",
       " \"      comment = 'No comment!'\",\n",
       " \"      type = 'text/plain'\",\n",
       " '  sample:NXgroup',\n",
       " \"    name = 'Co02'\",\n",
       " '    pressure_env:NXenvironment',\n",
       " '      pressure1:NXsensor',\n",
       " \"        @name = 'Pressure Deflektor DEFL'\",\n",
       " '        value = float64(10)',\n",
       " \"          @units = 'mbar'\",\n",
       " '      pressure2:NXsensor',\n",
       " \"        @name = 'Pressure Reflector REF'\",\n",
       " '        value = float64(10)',\n",
       " \"          @units = 'mbar'\",\n",
       " '      pressure3:NXsensor',\n",
       " \"        @name = 'Pressure Source SRC'\",\n",
       " '        value = float64(10)',\n",
       " \"          @units = 'mbar'\",\n",
       " '      pressure4:NXsensor',\n",
       " \"        @name = 'Pressure Hexapol HEX'\",\n",
       " '        value = float64(10)',\n",
       " \"          @units = 'mbar'\",\n",
       " \"    situation = 'vacuum'\",\n",
       " '    temperature_env:NXenvironment',\n",
       " \"      short_name = 'temperature trap'\",\n",
       " '      temperature1:NXsensor',\n",
       " \"        @name = 'Temperature Side-Elektrode'\",\n",
       " '        value = float64(10)',\n",
       " \"          @units = 'K'\",\n",
       " '      temperature2:NXsensor',\n",
       " \"        @name = 'Temperature He-Tube'\",\n",
       " '        value = float64(10)',\n",
       " \"          @units = 'K'\",\n",
       " '      temperature3:NXsensor',\n",
       " \"        @name = 'Temperature Ion-Tube'\",\n",
       " '        value = float64(10)',\n",
       " \"          @units = 'K'\",\n",
       " '      temperature4:NXsensor',\n",
       " \"        @name = 'Temperature LN2-Tube'\",\n",
       " '        value = float64(10)',\n",
       " \"          @units = 'K'\",\n",
       " \"    type = 'sample'\",\n",
       " \"  start_time = '2021-03-30T09:54:53+02:00'\",\n",
       " '  user1:NXuser',\n",
       " \"    address = 'Helmholtz-Zentrum Berlin, BESSY II, Albert-Einstein-Stra...'\",\n",
       " \"    name = 'PGM1-User'\",\n",
       " \"    role = 'local_contact'\",\n",
       " '  user2:NXuser',\n",
       " \"    address = 'Helmholtz-Zentrum Berlin f\\\\u00fcr Materialien und Energie Ins...'\",\n",
       " \"    email = 'gerrit.guenther@helmholtz-berlin.de'\",\n",
       " \"    name = 'G\\\\u00fcnther, Gerrit'\",\n",
       " \"    orcid = '0000-0001-6243-1728'\",\n",
       " '    role = \\'proposer\\'\"']"
      ]
     },
     "execution_count": 51,
     "metadata": {},
     "output_type": "execute_result"
    }
   ],
   "source": [
    "import json\n",
    "dictio=json.dumps(a.entry.tree).split('\\\\n')\n",
    "dictio"
   ]
  },
  {
   "cell_type": "markdown",
   "id": "bc96c0a4",
   "metadata": {},
   "source": [
    "### NeXus files and ICAT data ingestions ###"
   ]
  },
  {
   "cell_type": "markdown",
   "id": "05a8b39a",
   "metadata": {},
   "source": [
    "The `NeXus` file entries are mapped to the ICAT metadata schema to enable the data ingestion"
   ]
  },
  {
   "cell_type": "code",
   "execution_count": 13,
   "id": "df62cbff",
   "metadata": {
    "collapsed": true,
    "jupyter": {
     "outputs_hidden": true
    },
    "tags": []
   },
   "outputs": [
    {
     "name": "stdout",
     "output_type": "stream",
     "text": [
      "{'nxs/entry/program_name': {'type': 'STRING', 'units': 'N/A'}, 'nxs/entry/comment/data': {'type': 'STRING', 'units': 'N/A'}, 'nxs/entry/intensityIntegrationProcess/intensity': {'type': 'NUMERIC', 'units': 'a.u.'}, 'nxs/entry/intensityIntegrationProcess/mode': {'type': 'STRING', 'units': 'N/A'}, 'nxs/entry/data/absorbed_beam': {'type': 'NUMERIC', 'units': 'A'}, 'nxs/entry/data/energy': {'type': 'NUMERIC', 'units': 'eV'}, 'nxs/entry/instrument/detector1/long_name': {'type': 'STRING', 'units': 'N/A'}, 'nxs/entry/instrument/detector1/short_name': {'type': 'STRING', 'units': 'N/A'}, 'nxs/entry/instrument/detector1/data': {'type': 'NUMERIC', 'units': 'A'}, 'nxs/entry/instrument/detector1/type': {'type': 'STRING', 'units': 'N/A'}, 'nxs/entry/instrument/detector2/long_name': {'type': 'STRING', 'units': 'N/A'}, 'nxs/entry/instrument/detector2/short_name': {'type': 'STRING', 'units': 'N/A'}, 'nxs/entry/instrument/detector2/flux': {'type': 'NUMERIC', 'units': 'Hz'}, 'nxs/entry/instrument/detector2/type': {'type': 'STRING', 'units': 'N/A'}, 'nxs/entry/instrument/detector3/long_name': {'type': 'STRING', 'units': 'N/A'}, 'nxs/entry/instrument/detector3/short_name': {'type': 'STRING', 'units': 'N/A'}, 'nxs/entry/instrument/detector3/type': {'type': 'STRING', 'units': 'N/A'}, 'nxs/entry/instrument/insertion_device/short_name': {'type': 'STRING', 'units': 'N/A'}, 'nxs/entry/instrument/insertion_device/bandwidth': {'type': 'NUMERIC', 'units': 'eV'}, 'nxs/entry/instrument/insertion_device/beam': {'type': 'STRING', 'units': 'N/A'}, 'nxs/entry/instrument/insertion_device/gap': {'type': 'NUMERIC', 'units': 'm'}, 'nxs/entry/instrument/insertion_device/name': {'type': 'STRING', 'units': 'N/A'}, 'nxs/entry/instrument/insertion_device/offset': {'type': 'STRING', 'units': 'N/A'}, 'nxs/entry/instrument/insertion_device/shift': {'type': 'NUMERIC', 'units': 'm'}, 'nxs/entry/instrument/insertion_device/slope': {'type': 'STRING', 'units': 'N/A'}, 'nxs/entry/instrument/insertion_device/type': {'type': 'STRING', 'units': 'N/A'}, 'nxs/entry/instrument/monochromator/short_name': {'type': 'STRING', 'units': 'N/A'}, 'nxs/entry/instrument/monochromator/energy_set': {'type': 'NUMERIC', 'units': 'eV'}, 'nxs/entry/instrument/slitwidth/x_gap': {'type': 'NUMERIC', 'units': 'm'}, 'nxs/entry/instrument/source/current': {'type': 'NUMERIC', 'units': 'A'}, 'nxs/entry/sample/pressure_env/short_name': {'type': 'STRING', 'units': 'N/A'}, 'nxs/entry/sample/temperature_env/short_name': {'type': 'STRING', 'units': 'N/A'}, 'nxs/entry/instrument/insertion_device/table_file/file_name': {'type': 'STRING', 'units': 'N/A'}, 'nxs/entry/sample/pressure_env/pressure1/long_name': {'type': 'STRING', 'units': 'N/A'}, 'nxs/entry/sample/pressure_env/pressure1/value': {'type': 'NUMERIC', 'units': 'Pa'}, 'nxs/entry/sample/pressure_env/pressure2/long_name': {'type': 'STRING', 'units': 'N/A'}, 'nxs/entry/sample/pressure_env/pressure2/value': {'type': 'NUMERIC', 'units': 'Pa'}, 'nxs/entry/sample/pressure_env/pressure3/long_name': {'type': 'STRING', 'units': 'N/A'}, 'nxs/entry/sample/pressure_env/pressure3/value': {'type': 'NUMERIC', 'units': 'Pa'}, 'nxs/entry/sample/pressure_env/pressure4/long_name': {'type': 'STRING', 'units': 'N/A'}, 'nxs/entry/sample/pressure_env/pressure4/value': {'type': 'NUMERIC', 'units': 'Pa'}, 'nxs/entry/sample/temperature_env/temperature1/long_name': {'type': 'STRING', 'units': 'N/A'}, 'nxs/entry/sample/temperature_env/temperature1/value': {'type': 'NUMERIC', 'units': 'K'}, 'nxs/entry/sample/temperature_env/temperature2/long_name': {'type': 'STRING', 'units': 'N/A'}, 'nxs/entry/sample/temperature_env/temperature2/value': {'type': 'NUMERIC', 'units': 'K'}, 'nxs/entry/sample/temperature_env/temperature3/long_name': {'type': 'STRING', 'units': 'N/A'}, 'nxs/entry/sample/temperature_env/temperature3/value': {'type': 'NUMERIC', 'units': 'K'}, 'nxs/entry/sample/temperature_env/temperature4/long_name': {'type': 'STRING', 'units': 'N/A'}, 'nxs/entry/sample/temperature_env/temperature4/value': {'type': 'NUMERIC', 'units': 'K'}, 'nxs/entry/sample/name': {'type': 'STRING', 'units': 'N/A'}, 'nxs/entry/definition': {'type': 'STRING', 'units': 'N/A'}, 'nxs/entry/sample/temperature/value': {'type': 'NUMERIC', 'units': 'K'}, 'nxs/entry/sample/temperature/long_name': {'type': 'STRING', 'units': 'N/A'}}\n"
     ]
    }
   ],
   "source": [
    "from flatten_dict import flatten\n",
    "filename=path+'icatParameterList.json'\n",
    "fo=open(filename)\n",
    "icat_dict=json.load(fo)\n",
    "print(icat_dict)"
   ]
  },
  {
   "cell_type": "markdown",
   "id": "6f8ed76f",
   "metadata": {},
   "source": [
    "This dictionary entries are used for the data search in the topcat web interface"
   ]
  },
  {
   "cell_type": "markdown",
   "id": "e5fbd282",
   "metadata": {},
   "source": [
    "## Compatibility between NeXus files and data visualization and processing software"
   ]
  },
  {
   "cell_type": "code",
   "execution_count": null,
   "id": "bc771b85",
   "metadata": {},
   "outputs": [],
   "source": [
    "https://manual.nexusformat.org/utilities.html"
   ]
  },
  {
   "cell_type": "markdown",
   "id": "975274ed",
   "metadata": {},
   "source": [
    "## NeXus Writer has already all the necessary routines for the creation and manipulation of NeXus files ##"
   ]
  },
  {
   "cell_type": "markdown",
   "id": "ff9d494c",
   "metadata": {},
   "source": [
    "# Create a NeXus file from array of data #"
   ]
  },
  {
   "cell_type": "markdown",
   "id": "601d5d95",
   "metadata": {},
   "source": [
    "`entry: NXentry <bc>\n",
    "       NXdata <bc>\n",
    "       NXinstrument <bc>\n",
    "       NXmonitor <bc>\n",
    "       NXsample <bc>`"
   ]
  },
  {
   "cell_type": "markdown",
   "id": "4cc077c4",
   "metadata": {},
   "source": [
    "#### Create an hdf5 file from data array ####"
   ]
  },
  {
   "cell_type": "code",
   "execution_count": 100,
   "id": "d173d318",
   "metadata": {},
   "outputs": [],
   "source": [
    "f=h5py.File('/home/luigia/test.hdf5','w')\n"
   ]
  },
  {
   "cell_type": "code",
   "execution_count": 101,
   "id": "d8bb1859",
   "metadata": {},
   "outputs": [
    {
     "data": {
      "text/plain": [
       "<HDF5 dataset \"data1\": shape (101,), type \"<f8\">"
      ]
     },
     "execution_count": 101,
     "metadata": {},
     "output_type": "execute_result"
    }
   ],
   "source": [
    "g1=f.create_group('group1')\n",
    "g1.create_dataset('data1',data=x)"
   ]
  },
  {
   "cell_type": "markdown",
   "id": "329ca688",
   "metadata": {},
   "source": [
    "#### Basic structure of a `NeXus` file ####"
   ]
  },
  {
   "cell_type": "markdown",
   "id": "3200ca8a",
   "metadata": {},
   "source": [
    "#### 1. loop over the dictionary and entries with the classes assignment ####"
   ]
  },
  {
   "cell_type": "code",
   "execution_count": 65,
   "id": "5603f751",
   "metadata": {},
   "outputs": [],
   "source": [
    "x = np.linspace(0,2*np.pi,101)"
   ]
  },
  {
   "cell_type": "code",
   "execution_count": 66,
   "id": "af5be4bb",
   "metadata": {},
   "outputs": [],
   "source": [
    "temp = NXfield(x, units='degree')"
   ]
  },
  {
   "cell_type": "code",
   "execution_count": 67,
   "id": "89233484",
   "metadata": {},
   "outputs": [
    {
     "name": "stdout",
     "output_type": "stream",
     "text": [
      "[0.       0.062832 0.125664 ... 6.157522 6.220353 6.283185]\n"
     ]
    }
   ],
   "source": [
    "print(temp)"
   ]
  },
  {
   "cell_type": "code",
   "execution_count": 115,
   "id": "0ac06166",
   "metadata": {},
   "outputs": [],
   "source": [
    "nx_dict={}"
   ]
  },
  {
   "cell_type": "code",
   "execution_count": 116,
   "id": "b3d9c5dd",
   "metadata": {},
   "outputs": [],
   "source": [
    "nx_dict['entry']='entryname'"
   ]
  },
  {
   "cell_type": "code",
   "execution_count": 117,
   "id": "95b8156d",
   "metadata": {},
   "outputs": [],
   "source": [
    "nx_dict['entry/instrument']='detector'"
   ]
  },
  {
   "cell_type": "code",
   "execution_count": null,
   "id": "21340880",
   "metadata": {},
   "outputs": [],
   "source": [
    "nx_dict['entry/instrument/detector']='incoming beam'"
   ]
  },
  {
   "cell_type": "code",
   "execution_count": 119,
   "id": "0a69f466",
   "metadata": {},
   "outputs": [],
   "source": [
    "nx_dict['entry/notes']=['notes']"
   ]
  },
  {
   "cell_type": "code",
   "execution_count": 120,
   "id": "21e531d8",
   "metadata": {},
   "outputs": [
    {
     "name": "stdout",
     "output_type": "stream",
     "text": [
      "{'entry': 'entryname', 'entry/instrument': 'detector', 'entry/notes': ['notes']}\n"
     ]
    }
   ],
   "source": [
    "print(nx_dict)"
   ]
  },
  {
   "cell_type": "code",
   "execution_count": null,
   "id": "9d8c3d4e",
   "metadata": {},
   "outputs": [],
   "source": [
    "Class definition "
   ]
  },
  {
   "cell_type": "code",
   "execution_count": 127,
   "id": "1069b075",
   "metadata": {},
   "outputs": [],
   "source": [
    "a=NXdata(temp)"
   ]
  },
  {
   "cell_type": "code",
   "execution_count": 128,
   "id": "98b873da",
   "metadata": {
    "scrolled": true
   },
   "outputs": [
    {
     "data": {
      "text/plain": [
       "NXroot('root')"
      ]
     },
     "execution_count": 128,
     "metadata": {},
     "output_type": "execute_result"
    }
   ],
   "source": [
    "a.save(\"test.nxs\")"
   ]
  },
  {
   "cell_type": "code",
   "execution_count": 130,
   "id": "b865253d",
   "metadata": {},
   "outputs": [],
   "source": [
    "b=nxload(\"test.nxs\")"
   ]
  },
  {
   "cell_type": "code",
   "execution_count": 131,
   "id": "61c7bb3a",
   "metadata": {
    "collapsed": true,
    "jupyter": {
     "outputs_hidden": true,
     "source_hidden": true
    },
    "scrolled": true,
    "tags": []
   },
   "outputs": [
    {
     "name": "stdout",
     "output_type": "stream",
     "text": [
      "root:NXroot\n",
      "  @HDF5_Version = '1.10.6'\n",
      "  @file_name = '/home/luigia/Documents/metadata_course/test.nxs'\n",
      "  @file_time = '2021-11-16T22:04:37.063254'\n",
      "  @h5py_version = '3.3.0'\n",
      "  @nexusformat_version = '0.6.1'\n",
      "  entry:NXentry\n",
      "    data:NXdata\n",
      "      @signal = 'signal'\n",
      "      signal = float64(101)\n",
      "        @units = 'degree'\n"
     ]
    }
   ],
   "source": [
    "print(b.tree)"
   ]
  },
  {
   "cell_type": "code",
   "execution_count": 133,
   "id": "ad8360c7",
   "metadata": {},
   "outputs": [
    {
     "data": {
      "text/plain": [
       "dict_keys(['data'])"
      ]
     },
     "execution_count": 133,
     "metadata": {},
     "output_type": "execute_result"
    }
   ],
   "source": [
    "b['/entry'].keys()"
   ]
  },
  {
   "cell_type": "markdown",
   "id": "0e516778",
   "metadata": {},
   "source": [
    "#### Creation of the single elements and the definition of groups ####"
   ]
  },
  {
   "cell_type": "code",
   "execution_count": 140,
   "id": "3d828071",
   "metadata": {},
   "outputs": [],
   "source": [
    "instrument=NXfield(\"testintr\")"
   ]
  },
  {
   "cell_type": "code",
   "execution_count": 141,
   "id": "734c5acc",
   "metadata": {},
   "outputs": [],
   "source": [
    "sample=NXsample()"
   ]
  },
  {
   "cell_type": "code",
   "execution_count": 142,
   "id": "2458d402",
   "metadata": {},
   "outputs": [],
   "source": [
    "sample.temperature=NXfield(\"40\")"
   ]
  },
  {
   "cell_type": "markdown",
   "id": "b16a028a",
   "metadata": {},
   "source": [
    "create a group with subelements already nested"
   ]
  },
  {
   "cell_type": "code",
   "execution_count": 147,
   "id": "5c84fe38",
   "metadata": {
    "scrolled": true
   },
   "outputs": [],
   "source": [
    "final=NXentry(NXsample(temperature=40.0),NXinstrument(NXdetector(distance=10.8)))"
   ]
  },
  {
   "cell_type": "markdown",
   "id": "ac074384",
   "metadata": {},
   "source": [
    "#### Creation of an xml with groups and fields and assignment of the attributes by h5py ####"
   ]
  },
  {
   "cell_type": "code",
   "execution_count": 153,
   "id": "d9b7c817",
   "metadata": {
    "collapsed": true,
    "jupyter": {
     "outputs_hidden": true
    },
    "tags": []
   },
   "outputs": [
    {
     "ename": "OSError",
     "evalue": "Unable to create file (unable to truncate a file which is already open)",
     "output_type": "error",
     "traceback": [
      "\u001b[0;31m---------------------------------------------------------------------------\u001b[0m",
      "\u001b[0;31mOSError\u001b[0m                                   Traceback (most recent call last)",
      "\u001b[0;32m<ipython-input-153-668eb36e5b76>\u001b[0m in \u001b[0;36m<module>\u001b[0;34m\u001b[0m\n\u001b[0;32m----> 1\u001b[0;31m \u001b[0mf\u001b[0m\u001b[0;34m=\u001b[0m\u001b[0mh5py\u001b[0m\u001b[0;34m.\u001b[0m\u001b[0mFile\u001b[0m\u001b[0;34m(\u001b[0m\u001b[0;34m'/home/luigia/test2.hdf5'\u001b[0m\u001b[0;34m,\u001b[0m\u001b[0;34m'w'\u001b[0m\u001b[0;34m)\u001b[0m\u001b[0;34m\u001b[0m\u001b[0;34m\u001b[0m\u001b[0m\n\u001b[0m",
      "\u001b[0;32m~/anaconda3/envs/jupy1/lib/python3.7/site-packages/h5py/_hl/files.py\u001b[0m in \u001b[0;36m__init__\u001b[0;34m(self, name, mode, driver, libver, userblock_size, swmr, rdcc_nslots, rdcc_nbytes, rdcc_w0, track_order, fs_strategy, fs_persist, fs_threshold, **kwds)\u001b[0m\n\u001b[1;32m    445\u001b[0m                                fapl, fcpl=make_fcpl(track_order=track_order, fs_strategy=fs_strategy,\n\u001b[1;32m    446\u001b[0m                                fs_persist=fs_persist, fs_threshold=fs_threshold),\n\u001b[0;32m--> 447\u001b[0;31m                                swmr=swmr)\n\u001b[0m\u001b[1;32m    448\u001b[0m \u001b[0;34m\u001b[0m\u001b[0m\n\u001b[1;32m    449\u001b[0m             \u001b[0;32mif\u001b[0m \u001b[0misinstance\u001b[0m\u001b[0;34m(\u001b[0m\u001b[0mlibver\u001b[0m\u001b[0;34m,\u001b[0m \u001b[0mtuple\u001b[0m\u001b[0;34m)\u001b[0m\u001b[0;34m:\u001b[0m\u001b[0;34m\u001b[0m\u001b[0;34m\u001b[0m\u001b[0m\n",
      "\u001b[0;32m~/anaconda3/envs/jupy1/lib/python3.7/site-packages/h5py/_hl/files.py\u001b[0m in \u001b[0;36mmake_fid\u001b[0;34m(name, mode, userblock_size, fapl, fcpl, swmr)\u001b[0m\n\u001b[1;32m    203\u001b[0m         \u001b[0mfid\u001b[0m \u001b[0;34m=\u001b[0m \u001b[0mh5f\u001b[0m\u001b[0;34m.\u001b[0m\u001b[0mcreate\u001b[0m\u001b[0;34m(\u001b[0m\u001b[0mname\u001b[0m\u001b[0;34m,\u001b[0m \u001b[0mh5f\u001b[0m\u001b[0;34m.\u001b[0m\u001b[0mACC_EXCL\u001b[0m\u001b[0;34m,\u001b[0m \u001b[0mfapl\u001b[0m\u001b[0;34m=\u001b[0m\u001b[0mfapl\u001b[0m\u001b[0;34m,\u001b[0m \u001b[0mfcpl\u001b[0m\u001b[0;34m=\u001b[0m\u001b[0mfcpl\u001b[0m\u001b[0;34m)\u001b[0m\u001b[0;34m\u001b[0m\u001b[0;34m\u001b[0m\u001b[0m\n\u001b[1;32m    204\u001b[0m     \u001b[0;32melif\u001b[0m \u001b[0mmode\u001b[0m \u001b[0;34m==\u001b[0m \u001b[0;34m'w'\u001b[0m\u001b[0;34m:\u001b[0m\u001b[0;34m\u001b[0m\u001b[0;34m\u001b[0m\u001b[0m\n\u001b[0;32m--> 205\u001b[0;31m         \u001b[0mfid\u001b[0m \u001b[0;34m=\u001b[0m \u001b[0mh5f\u001b[0m\u001b[0;34m.\u001b[0m\u001b[0mcreate\u001b[0m\u001b[0;34m(\u001b[0m\u001b[0mname\u001b[0m\u001b[0;34m,\u001b[0m \u001b[0mh5f\u001b[0m\u001b[0;34m.\u001b[0m\u001b[0mACC_TRUNC\u001b[0m\u001b[0;34m,\u001b[0m \u001b[0mfapl\u001b[0m\u001b[0;34m=\u001b[0m\u001b[0mfapl\u001b[0m\u001b[0;34m,\u001b[0m \u001b[0mfcpl\u001b[0m\u001b[0;34m=\u001b[0m\u001b[0mfcpl\u001b[0m\u001b[0;34m)\u001b[0m\u001b[0;34m\u001b[0m\u001b[0;34m\u001b[0m\u001b[0m\n\u001b[0m\u001b[1;32m    206\u001b[0m     \u001b[0;32melif\u001b[0m \u001b[0mmode\u001b[0m \u001b[0;34m==\u001b[0m \u001b[0;34m'a'\u001b[0m\u001b[0;34m:\u001b[0m\u001b[0;34m\u001b[0m\u001b[0;34m\u001b[0m\u001b[0m\n\u001b[1;32m    207\u001b[0m         \u001b[0;31m# Open in append mode (read/write).\u001b[0m\u001b[0;34m\u001b[0m\u001b[0;34m\u001b[0m\u001b[0;34m\u001b[0m\u001b[0m\n",
      "\u001b[0;32mh5py/_objects.pyx\u001b[0m in \u001b[0;36mh5py._objects.with_phil.wrapper\u001b[0;34m()\u001b[0m\n",
      "\u001b[0;32mh5py/_objects.pyx\u001b[0m in \u001b[0;36mh5py._objects.with_phil.wrapper\u001b[0;34m()\u001b[0m\n",
      "\u001b[0;32mh5py/h5f.pyx\u001b[0m in \u001b[0;36mh5py.h5f.create\u001b[0;34m()\u001b[0m\n",
      "\u001b[0;31mOSError\u001b[0m: Unable to create file (unable to truncate a file which is already open)"
     ]
    }
   ],
   "source": [
    "f=h5py.File('/home/luigia/test2.hdf5','w')"
   ]
  },
  {
   "cell_type": "code",
   "execution_count": 123,
   "id": "11143a15",
   "metadata": {},
   "outputs": [],
   "source": [
    "f.attrs['entry']=nx_dict['entry']"
   ]
  },
  {
   "cell_type": "code",
   "execution_count": 126,
   "id": "7a5edc89",
   "metadata": {},
   "outputs": [
    {
     "name": "stdout",
     "output_type": "stream",
     "text": [
      "<KeysViewHDF5 ['entry']>\n"
     ]
    }
   ],
   "source": [
    "print(f.attrs.keys())"
   ]
  },
  {
   "cell_type": "code",
   "execution_count": 152,
   "id": "8cabeb19",
   "metadata": {
    "collapsed": true,
    "jupyter": {
     "outputs_hidden": true,
     "source_hidden": true
    },
    "tags": []
   },
   "outputs": [
    {
     "ename": "NeXusError",
     "evalue": "'entry' not in /entry/data",
     "output_type": "error",
     "traceback": [
      "\u001b[0;31m---------------------------------------------------------------------------\u001b[0m",
      "\u001b[0;31mNeXusError\u001b[0m                                Traceback (most recent call last)",
      "\u001b[0;32m<ipython-input-152-9d892027451e>\u001b[0m in \u001b[0;36m<module>\u001b[0;34m\u001b[0m\n\u001b[0;32m----> 1\u001b[0;31m \u001b[0mdiclist\u001b[0m\u001b[0;34m=\u001b[0m\u001b[0ma\u001b[0m\u001b[0;34m.\u001b[0m\u001b[0mentry\u001b[0m\u001b[0;34m.\u001b[0m\u001b[0mtree\u001b[0m\u001b[0;34m.\u001b[0m\u001b[0msplit\u001b[0m\u001b[0;34m(\u001b[0m\u001b[0;34m'\\n'\u001b[0m\u001b[0;34m)\u001b[0m\u001b[0;34m\u001b[0m\u001b[0;34m\u001b[0m\u001b[0m\n\u001b[0m",
      "\u001b[0;32m~/anaconda3/envs/jupy1/lib/python3.7/site-packages/nexusformat/nexus/tree.py\u001b[0m in \u001b[0;36m__getattr__\u001b[0;34m(self, name)\u001b[0m\n\u001b[1;32m   4264\u001b[0m         \u001b[0;32melif\u001b[0m \u001b[0mname\u001b[0m \u001b[0;32min\u001b[0m \u001b[0mself\u001b[0m\u001b[0;34m.\u001b[0m\u001b[0mattrs\u001b[0m\u001b[0;34m:\u001b[0m\u001b[0;34m\u001b[0m\u001b[0;34m\u001b[0m\u001b[0m\n\u001b[1;32m   4265\u001b[0m             \u001b[0;32mreturn\u001b[0m \u001b[0mself\u001b[0m\u001b[0;34m.\u001b[0m\u001b[0mattrs\u001b[0m\u001b[0;34m[\u001b[0m\u001b[0mname\u001b[0m\u001b[0;34m]\u001b[0m\u001b[0;34m\u001b[0m\u001b[0;34m\u001b[0m\u001b[0m\n\u001b[0;32m-> 4266\u001b[0;31m         \u001b[0;32mraise\u001b[0m \u001b[0mNeXusError\u001b[0m\u001b[0;34m(\u001b[0m\u001b[0;34m\"'\"\u001b[0m\u001b[0;34m+\u001b[0m\u001b[0mname\u001b[0m\u001b[0;34m+\u001b[0m\u001b[0;34m\"' not in \"\u001b[0m\u001b[0;34m+\u001b[0m\u001b[0mself\u001b[0m\u001b[0;34m.\u001b[0m\u001b[0mnxpath\u001b[0m\u001b[0;34m)\u001b[0m\u001b[0;34m\u001b[0m\u001b[0;34m\u001b[0m\u001b[0m\n\u001b[0m\u001b[1;32m   4267\u001b[0m \u001b[0;34m\u001b[0m\u001b[0m\n\u001b[1;32m   4268\u001b[0m     \u001b[0;32mdef\u001b[0m \u001b[0m__setattr__\u001b[0m\u001b[0;34m(\u001b[0m\u001b[0mself\u001b[0m\u001b[0;34m,\u001b[0m \u001b[0mname\u001b[0m\u001b[0;34m,\u001b[0m \u001b[0mvalue\u001b[0m\u001b[0;34m)\u001b[0m\u001b[0;34m:\u001b[0m\u001b[0;34m\u001b[0m\u001b[0;34m\u001b[0m\u001b[0m\n",
      "\u001b[0;31mNeXusError\u001b[0m: 'entry' not in /entry/data"
     ]
    }
   ],
   "source": [
    "diclist=a.entry.tree.split('\\n')"
   ]
  },
  {
   "cell_type": "code",
   "execution_count": 177,
   "id": "f84a37ca",
   "metadata": {},
   "outputs": [
    {
     "data": {
      "text/plain": [
       "'  data:NXdata'"
      ]
     },
     "execution_count": 177,
     "metadata": {},
     "output_type": "execute_result"
    }
   ],
   "source": [
    "dictio[2].strip(\"\")"
   ]
  },
  {
   "cell_type": "code",
   "execution_count": 70,
   "id": "6de73e8e",
   "metadata": {},
   "outputs": [],
   "source": []
  }
 ],
 "metadata": {
  "hide_input": false,
  "kernelspec": {
   "display_name": "Python 3",
   "language": "python",
   "name": "python3"
  },
  "language_info": {
   "codemirror_mode": {
    "name": "ipython",
    "version": 3
   },
   "file_extension": ".py",
   "mimetype": "text/x-python",
   "name": "python",
   "nbconvert_exporter": "python",
   "pygments_lexer": "ipython3",
   "version": "3.7.10"
  }
 },
 "nbformat": 4,
 "nbformat_minor": 5
}
