{
 "cells": [
  {
   "cell_type": "markdown",
   "id": "f00482a0",
   "metadata": {},
   "source": [
    "# Hands on session on metadata extraction and editing"
   ]
  },
  {
   "cell_type": "markdown",
   "id": "a08b5921",
   "metadata": {},
   "source": [
    "Conversion steps for uploading metadata and further use of the metadata entries"
   ]
  },
  {
   "cell_type": "markdown",
   "id": "eb07fb8a",
   "metadata": {},
   "source": [
    "1. download the DataCite schema from Project web page"
   ]
  },
  {
   "cell_type": "markdown",
   "id": "9a268ed9",
   "metadata": {},
   "source": [
    "We select the metadata structure suitable for dataset publication"
   ]
  },
  {
   "cell_type": "markdown",
   "id": "5944d09f",
   "metadata": {},
   "source": [
    "%https://schema.datacite.org/meta/kernel-4.4/\n",
    "https://schema.datacite.org/meta/kernel-4.4/example/datacite-example-dataset-v4.xml"
   ]
  },
  {
   "cell_type": "markdown",
   "id": "b7fa63a9",
   "metadata": {},
   "source": [
    "We save the xml locally and open it using a Python routine"
   ]
  },
  {
   "cell_type": "code",
   "execution_count": 12,
   "id": "49b16e04",
   "metadata": {},
   "outputs": [
    {
     "name": "stdout",
     "output_type": "stream",
     "text": [
      "<Element '{http://datacite.org/schema/kernel-4}resource' at 0x7fd4301fdcc8>\n"
     ]
    }
   ],
   "source": [
    "import xml.etree.ElementTree as ET\n",
    "filename='/home/luigia/jupiter_test/datacite-example-dataset-v4.xml'\n",
    "tree = ET.parse(filename)\n",
    "root = tree.getroot()\n",
    "print(root)"
   ]
  },
  {
   "cell_type": "code",
   "execution_count": 27,
   "id": "bd6d81c7",
   "metadata": {},
   "outputs": [
    {
     "data": {
      "text/plain": [
       "'{http://datacite.org/schema/kernel-4}resource'"
      ]
     },
     "execution_count": 27,
     "metadata": {},
     "output_type": "execute_result"
    }
   ],
   "source": [
    "root.tag"
   ]
  },
  {
   "cell_type": "code",
   "execution_count": 28,
   "id": "758350ff",
   "metadata": {},
   "outputs": [
    {
     "data": {
      "text/plain": [
       "{'{http://www.w3.org/2001/XMLSchema-instance}schemaLocation': 'http://datacite.org/schema/kernel-4 https://schema.datacite.org/meta/kernel-4.4/metadata.xsd'}"
      ]
     },
     "execution_count": 28,
     "metadata": {},
     "output_type": "execute_result"
    }
   ],
   "source": [
    "root.attrib"
   ]
  },
  {
   "cell_type": "code",
   "execution_count": 29,
   "id": "947901d1",
   "metadata": {},
   "outputs": [
    {
     "name": "stdout",
     "output_type": "stream",
     "text": [
      "<Element '{http://datacite.org/schema/kernel-4}identifier' at 0x7fd4301fdbd8>\n",
      "<Element '{http://datacite.org/schema/kernel-4}creators' at 0x7fd4301fd9f8>\n",
      "<Element '{http://datacite.org/schema/kernel-4}titles' at 0x7fd4301fdef8>\n",
      "<Element '{http://datacite.org/schema/kernel-4}publisher' at 0x7fd4301fd138>\n",
      "<Element '{http://datacite.org/schema/kernel-4}publicationYear' at 0x7fd4301fd228>\n",
      "<Element '{http://datacite.org/schema/kernel-4}subjects' at 0x7fd4301f9638>\n",
      "<Element '{http://datacite.org/schema/kernel-4}language' at 0x7fd430202598>\n",
      "<Element '{http://datacite.org/schema/kernel-4}resourceType' at 0x7fd4302024a8>\n",
      "<Element '{http://datacite.org/schema/kernel-4}version' at 0x7fd430202188>\n",
      "<Element '{http://datacite.org/schema/kernel-4}descriptions' at 0x7fd4302020e8>\n"
     ]
    }
   ],
   "source": [
    "for child in root:\n",
    "    print(child.tag,child.attr)"
   ]
  },
  {
   "cell_type": "code",
   "execution_count": 10,
   "id": "9aea9d9e",
   "metadata": {},
   "outputs": [
    {
     "ename": "SyntaxError",
     "evalue": "invalid syntax (<ipython-input-10-bee9cbb0ca8f>, line 4)",
     "output_type": "error",
     "traceback": [
      "\u001b[0;36m  File \u001b[0;32m\"<ipython-input-10-bee9cbb0ca8f>\"\u001b[0;36m, line \u001b[0;32m4\u001b[0m\n\u001b[0;31m    Print Etree.text, Etree.value, Etree.getchildren()\u001b[0m\n\u001b[0m              ^\u001b[0m\n\u001b[0;31mSyntaxError\u001b[0m\u001b[0;31m:\u001b[0m invalid syntax\n"
     ]
    }
   ],
   "source": [
    "Content = open(filename).read()\n",
    "from xml.etree import XML\n",
    "Etree = XML(Content)\n",
    "Print Etree.text, Etree.value, Etree.getchildren()"
   ]
  },
  {
   "cell_type": "code",
   "execution_count": 16,
   "id": "c47f91b6",
   "metadata": {},
   "outputs": [
    {
     "name": "stdout",
     "output_type": "stream",
     "text": [
      "{\n",
      "    \"resource\": {\n",
      "        \"@xmlns:xsi\": \"http://www.w3.org/2001/XMLSchema-instance\",\n",
      "        \"@xmlns\": \"http://datacite.org/schema/kernel-4\",\n",
      "        \"@xsi:schemaLocation\": \"http://datacite.org/schema/kernel-4 https://schema.datacite.org/meta/kernel-4.4/metadata.xsd\",\n",
      "        \"identifier\": {\n",
      "            \"@identifierType\": \"DOI\",\n",
      "            \"#text\": \"10.5072/D3P26Q35R-Test\"\n",
      "        },\n",
      "        \"creators\": {\n",
      "            \"creator\": [\n",
      "                {\n",
      "                    \"creatorName\": {\n",
      "                        \"@nameType\": \"Personal\",\n",
      "                        \"#text\": \"Fosmire, Michael\"\n",
      "                    },\n",
      "                    \"givenName\": \"Michael\",\n",
      "                    \"familyName\": \"Fosmire\"\n",
      "                },\n",
      "                {\n",
      "                    \"creatorName\": {\n",
      "                        \"@nameType\": \"Personal\",\n",
      "                        \"#text\": \"Wertz, Ruth\"\n",
      "                    },\n",
      "                    \"givenName\": \"Ruth\",\n",
      "                    \"familyName\": \"Wertz\"\n",
      "                },\n",
      "                {\n",
      "                    \"creatorName\": {\n",
      "                        \"@nameType\": \"Personal\",\n",
      "                        \"#text\": \"Purzer, Senay\"\n",
      "                    },\n",
      "                    \"givenName\": \"Senay\",\n",
      "                    \"familyName\": \"Purzer\"\n",
      "                }\n",
      "            ]\n",
      "        },\n",
      "        \"titles\": {\n",
      "            \"title\": {\n",
      "                \"@xml:lang\": \"en\",\n",
      "                \"#text\": \"Critical Engineering Literacy Test (CELT)\"\n",
      "            }\n",
      "        },\n",
      "        \"publisher\": {\n",
      "            \"@xml:lang\": \"en\",\n",
      "            \"#text\": \"Purdue University Research Repository (PURR)\"\n",
      "        },\n",
      "        \"publicationYear\": \"2013\",\n",
      "        \"subjects\": {\n",
      "            \"subject\": [\n",
      "                {\n",
      "                    \"@xml:lang\": \"en\",\n",
      "                    \"#text\": \"Assessment\"\n",
      "                },\n",
      "                {\n",
      "                    \"@xml:lang\": \"en\",\n",
      "                    \"#text\": \"Information Literacy\"\n",
      "                },\n",
      "                {\n",
      "                    \"@xml:lang\": \"en\",\n",
      "                    \"#text\": \"Engineering\"\n",
      "                },\n",
      "                {\n",
      "                    \"@xml:lang\": \"en\",\n",
      "                    \"#text\": \"Undergraduate Students\"\n",
      "                },\n",
      "                {\n",
      "                    \"@xml:lang\": \"en\",\n",
      "                    \"#text\": \"CELT\"\n",
      "                },\n",
      "                {\n",
      "                    \"@xml:lang\": \"en\",\n",
      "                    \"#text\": \"Purdue University\"\n",
      "                }\n",
      "            ]\n",
      "        },\n",
      "        \"language\": \"en\",\n",
      "        \"resourceType\": {\n",
      "            \"@resourceTypeGeneral\": \"Dataset\",\n",
      "            \"#text\": \"Dataset\"\n",
      "        },\n",
      "        \"version\": \"1.0\",\n",
      "        \"descriptions\": {\n",
      "            \"description\": {\n",
      "                \"@xml:lang\": \"en\",\n",
      "                \"@descriptionType\": \"Abstract\",\n",
      "                \"#text\": \"We developed an instrument, Critical Engineering Literacy Test (CELT), which is a multiple choice instrument designed to measure undergraduate students\\u2019 scientific and information literacy skills. It requires students to first read a technical memo and, based on the memo\\u2019s arguments, answer eight multiple choice and six open-ended response questions. We collected data from 143 first-year engineering students and conducted an item analysis. The KR-20 reliability of the instrument was .39. Item difficulties ranged between .17 to .83. The results indicate low reliability index but acceptable levels of item difficulties and item discrimination indices. Students were most challenged when answering items measuring scientific and mathematical literacy (i.e., identifying incorrect information).\"\n",
      "            }\n",
      "        }\n",
      "    }\n",
      "}\n"
     ]
    }
   ],
   "source": [
    "import xmltodict\n",
    "import json\n",
    "with open(filename) as fn:\n",
    "    doc=xmltodict.parse(fn.read())\n",
    "print(json.dumps(doc, indent=4))\n"
   ]
  },
  {
   "cell_type": "code",
   "execution_count": null,
   "id": "29c1638e",
   "metadata": {},
   "outputs": [],
   "source": [
    "print(doc)"
   ]
  },
  {
   "cell_type": "code",
   "execution_count": 17,
   "id": "35f02118",
   "metadata": {},
   "outputs": [],
   "source": [
    "data=json.dumps(doc)"
   ]
  },
  {
   "cell_type": "code",
   "execution_count": 18,
   "id": "68c755cc",
   "metadata": {},
   "outputs": [
    {
     "name": "stdout",
     "output_type": "stream",
     "text": [
      "{\"resource\": {\"@xmlns:xsi\": \"http://www.w3.org/2001/XMLSchema-instance\", \"@xmlns\": \"http://datacite.org/schema/kernel-4\", \"@xsi:schemaLocation\": \"http://datacite.org/schema/kernel-4 https://schema.datacite.org/meta/kernel-4.4/metadata.xsd\", \"identifier\": {\"@identifierType\": \"DOI\", \"#text\": \"10.5072/D3P26Q35R-Test\"}, \"creators\": {\"creator\": [{\"creatorName\": {\"@nameType\": \"Personal\", \"#text\": \"Fosmire, Michael\"}, \"givenName\": \"Michael\", \"familyName\": \"Fosmire\"}, {\"creatorName\": {\"@nameType\": \"Personal\", \"#text\": \"Wertz, Ruth\"}, \"givenName\": \"Ruth\", \"familyName\": \"Wertz\"}, {\"creatorName\": {\"@nameType\": \"Personal\", \"#text\": \"Purzer, Senay\"}, \"givenName\": \"Senay\", \"familyName\": \"Purzer\"}]}, \"titles\": {\"title\": {\"@xml:lang\": \"en\", \"#text\": \"Critical Engineering Literacy Test (CELT)\"}}, \"publisher\": {\"@xml:lang\": \"en\", \"#text\": \"Purdue University Research Repository (PURR)\"}, \"publicationYear\": \"2013\", \"subjects\": {\"subject\": [{\"@xml:lang\": \"en\", \"#text\": \"Assessment\"}, {\"@xml:lang\": \"en\", \"#text\": \"Information Literacy\"}, {\"@xml:lang\": \"en\", \"#text\": \"Engineering\"}, {\"@xml:lang\": \"en\", \"#text\": \"Undergraduate Students\"}, {\"@xml:lang\": \"en\", \"#text\": \"CELT\"}, {\"@xml:lang\": \"en\", \"#text\": \"Purdue University\"}]}, \"language\": \"en\", \"resourceType\": {\"@resourceTypeGeneral\": \"Dataset\", \"#text\": \"Dataset\"}, \"version\": \"1.0\", \"descriptions\": {\"description\": {\"@xml:lang\": \"en\", \"@descriptionType\": \"Abstract\", \"#text\": \"We developed an instrument, Critical Engineering Literacy Test (CELT), which is a multiple choice instrument designed to measure undergraduate students\\u2019 scientific and information literacy skills. It requires students to first read a technical memo and, based on the memo\\u2019s arguments, answer eight multiple choice and six open-ended response questions. We collected data from 143 first-year engineering students and conducted an item analysis. The KR-20 reliability of the instrument was .39. Item difficulties ranged between .17 to .83. The results indicate low reliability index but acceptable levels of item difficulties and item discrimination indices. Students were most challenged when answering items measuring scientific and mathematical literacy (i.e., identifying incorrect information).\"}}}}\n"
     ]
    }
   ],
   "source": [
    "print(data)"
   ]
  },
  {
   "cell_type": "code",
   "execution_count": 22,
   "id": "69faeebb",
   "metadata": {},
   "outputs": [
    {
     "data": {
      "text/plain": [
       "odict_keys(['@xmlns:xsi', '@xmlns', '@xsi:schemaLocation', 'identifier', 'creators', 'titles', 'publisher', 'publicationYear', 'subjects', 'language', 'resourceType', 'version', 'descriptions'])"
      ]
     },
     "execution_count": 22,
     "metadata": {},
     "output_type": "execute_result"
    }
   ],
   "source": [
    "doc['resource'].keys()"
   ]
  },
  {
   "cell_type": "code",
   "execution_count": 23,
   "id": "8409adbb",
   "metadata": {
    "scrolled": true
   },
   "outputs": [
    {
     "data": {
      "text/plain": [
       "OrderedDict([('description',\n",
       "              OrderedDict([('@xml:lang', 'en'),\n",
       "                           ('@descriptionType', 'Abstract'),\n",
       "                           ('#text',\n",
       "                            'We developed an instrument, Critical Engineering Literacy Test (CELT), which is a multiple choice instrument designed to measure undergraduate students’ scientific and information literacy skills. It requires students to first read a technical memo and, based on the memo’s arguments, answer eight multiple choice and six open-ended response questions. We collected data from 143 first-year engineering students and conducted an item analysis. The KR-20 reliability of the instrument was .39. Item difficulties ranged between .17 to .83. The results indicate low reliability index but acceptable levels of item difficulties and item discrimination indices. Students were most challenged when answering items measuring scientific and mathematical literacy (i.e., identifying incorrect information).')]))])"
      ]
     },
     "execution_count": 23,
     "metadata": {},
     "output_type": "execute_result"
    }
   ],
   "source": [
    "doc['resource']['descriptions']"
   ]
  },
  {
   "cell_type": "code",
   "execution_count": 25,
   "id": "b734df9c",
   "metadata": {},
   "outputs": [
    {
     "data": {
      "text/plain": [
       "odict_keys(['description'])"
      ]
     },
     "execution_count": 25,
     "metadata": {},
     "output_type": "execute_result"
    }
   ],
   "source": [
    "doc['resource']['descriptions'].keys()"
   ]
  },
  {
   "cell_type": "code",
   "execution_count": 26,
   "id": "15cd13fa",
   "metadata": {},
   "outputs": [
    {
     "data": {
      "text/plain": [
       "'We developed an instrument, Critical Engineering Literacy Test (CELT), which is a multiple choice instrument designed to measure undergraduate students’ scientific and information literacy skills. It requires students to first read a technical memo and, based on the memo’s arguments, answer eight multiple choice and six open-ended response questions. We collected data from 143 first-year engineering students and conducted an item analysis. The KR-20 reliability of the instrument was .39. Item difficulties ranged between .17 to .83. The results indicate low reliability index but acceptable levels of item difficulties and item discrimination indices. Students were most challenged when answering items measuring scientific and mathematical literacy (i.e., identifying incorrect information).'"
      ]
     },
     "execution_count": 26,
     "metadata": {},
     "output_type": "execute_result"
    }
   ],
   "source": [
    "doc['resource']['descriptions']['description']['#text']"
   ]
  },
  {
   "cell_type": "markdown",
   "id": "e5e01fd5",
   "metadata": {},
   "source": [
    "We can change the text or any other element and reassign it to the json dictionary and save it as xml for uploading"
   ]
  },
  {
   "cell_type": "code",
   "execution_count": null,
   "id": "99c2f3f3",
   "metadata": {},
   "outputs": [],
   "source": []
  }
 ],
 "metadata": {
  "kernelspec": {
   "display_name": "Python 3",
   "language": "python",
   "name": "python3"
  },
  "language_info": {
   "codemirror_mode": {
    "name": "ipython",
    "version": 3
   },
   "file_extension": ".py",
   "mimetype": "text/x-python",
   "name": "python",
   "nbconvert_exporter": "python",
   "pygments_lexer": "ipython3",
   "version": "3.6.13"
  }
 },
 "nbformat": 4,
 "nbformat_minor": 5
}
