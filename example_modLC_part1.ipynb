{
 "cells": [
  {
   "cell_type": "markdown",
   "id": "17b0da73",
   "metadata": {},
   "source": [
    "# Using Python functions and community software to visualize hdf5 and
     NeXus files in the notebook"
   ]
  },
  {
   "cell_type": "markdown",
   "id": "57f5e4c6-d95c-467d-ae7f-5e328ee0573d",
   "metadata": {},
   "source": [
    "This notebook is made by editing the following material:\n",
    "\n",
    "H5Web project\n",
    "\n",
    "[https:/github.com/silx-kit/h5web](https:/github.com/silx-kit/h5web)\n",
    "\n",
    "[www.christopherlovell.co.uk](www.christopherlovell.co.uk)\n"
   ]
  },
  {
   "cell_type": "markdown",
   "id": "b9a7feab-16a6-4c17-95cb-1ca9a5e37837",
   "metadata": {},
   "source": [
    "additional references:\n",
    "[https://docs.h5py.org](https://docs.h5py.org)\n",
    "    \n",
    "    "
   ]
  },
  {
   "cell_type": "markdown",
   "id": "3c53f12a-7728-4061-a486-99cf611753a3",
   "metadata": {
    "tags": []
   },
   "source": [
    "# Part 1: Creating and editing HDF5 files"
   ]
  },
  {
   "cell_type": "markdown",
   "id": "e4682f2e-9bdb-4123-bf28-fc99229c81ad",
   "metadata": {},
   "source": [
    "# Content\n",
    "* create an hdf5 file\n",
    "* add content in hierarchical structure\n",
    "* call and visualize content\n",
    "* create links: hard, soft, relative\n",
    "* insert compression\n",
    "* save as ASCII\n",
    "* plotting routines"
   ]
  },
  {
   "cell_type": "markdown",
   "id": "8bf4ebd9",
   "metadata": {
    "tags": []
   },
   "source": [
    "## 1. Create and display a simple HDF5 file"
   ]
  },
  {
   "cell_type": "code",
   "execution_count": 96,
   "id": "0085f19f",
   "metadata": {},
   "outputs": [],
   "source": [
    "import numpy as np\n",
    "import h5py, os\n",
    "#remove first local  copies\n",
    "filename= \"simple.h5\"\n",
    "filename1=\"simple1.h5\"\n",
    "if os.path.exists(filename):\n",
    "    os.remove(filename)\n",
    "if os.path.exists(filename1):\n",
    "    os.remove(filename1)    \n",
    "#the file is created\n",
    "\n",
    "with h5py.File(filename, \"w\") as h5file:\n",
    "    X = np.arange(-5, 5, 0.25)\n",
    "    Y = np.arange(-5, 5, 0.25)\n",
    "    Xg, Yg = np.meshgrid(X, Y)"
   ]
  },
  {
   "cell_type": "code",
   "execution_count": 97,
   "id": "252c1c7a-4154-45ad-bf65-77ce26a8ead3",
   "metadata": {},
   "outputs": [],
   "source": [
    "#new elements respect original notebook are some visualization\n",
    "#and alternative creation of hdf5 files"
   ]
  },
  {
   "cell_type": "code",
   "execution_count": 98,
   "id": "fa2b7f09-4bdd-4bad-84ad-2aa191277508",
   "metadata": {},
   "outputs": [
    {
     "name": "stdout",
     "output_type": "stream",
     "text": [
      "(40, 40) (40, 40)\n"
     ]
    }
   ],
   "source": [
    "print(Xg.shape,Yg.shape)"
   ]
  },
  {
   "cell_type": "markdown",
   "id": "a3e7ef5e-f9d0-4f7f-885d-b116bef3a63a",
   "metadata": {},
   "source": [
    "*Definition of new arrays of data*"
   ]
  },
  {
   "cell_type": "code",
   "execution_count": 99,
   "id": "d9ea48af-ab84-4270-bbcb-bdf17300e40a",
   "metadata": {},
   "outputs": [],
   "source": [
    "d1=[np.sin(2*np.pi*f*np.sqrt(Xg**2 + Yg**2)) for f in np.arange(0.1, 1.1, 0.1)]\n",
    "d2= np.sin(np.sqrt(Xg**2 + Yg**2))"
   ]
  },
  {
   "cell_type": "code",
   "execution_count": 36,
   "id": "bd922e5b",
   "metadata": {},
   "outputs": [
    {
     "name": "stdout",
     "output_type": "stream",
     "text": [
      "<Closed HDF5 file>\n"
     ]
    }
   ],
   "source": [
    "print(h5file)"
   ]
  },
  {
   "cell_type": "markdown",
   "id": "308d93a6-ecdc-4c73-9b87-2d8fcebbbfd1",
   "metadata": {},
   "source": [
    "There are several ways to enrich the hdf5 file with content\n",
    "One is with `create_dataset`"
   ]
  },
  {
   "cell_type": "code",
   "execution_count": 38,
   "id": "4bbefb4b-d78e-493b-ad16-26debfb601c6",
   "metadata": {},
   "outputs": [],
   "source": [
    "hf2=h5py.File(filename1,'w')"
   ]
  },
  {
   "cell_type": "code",
   "execution_count": 39,
   "id": "b500eb1e-2830-47e7-af26-e2e85c06d12b",
   "metadata": {
    "tags": []
   },
   "outputs": [
    {
     "data": {
      "text/plain": [
       "<HDF5 dataset \"dataset_2\": shape (40, 40), type \"<f8\">"
      ]
     },
     "execution_count": 39,
     "metadata": {},
     "output_type": "execute_result"
    }
   ],
   "source": [
    "hf2.create_dataset('dataset_1',data=d1)\n",
    "hf2.create_dataset('dataset_2',data=d2)"
   ]
  },
  {
   "cell_type": "markdown",
   "id": "fc463f1f-036e-4f1d-b863-909ab0eb02e7",
   "metadata": {},
   "source": [
    "Let's parse the array elements"
   ]
  },
  {
   "cell_type": "code",
   "execution_count": 72,
   "id": "e58d62ea-e8e4-41c8-8764-5c30f0a30438",
   "metadata": {},
   "outputs": [
    {
     "name": "stdout",
     "output_type": "stream",
     "text": [
      "[0.01180287 0.0554391  0.09152959 ... 0.32010572 0.96838155 0.71253099]\n"
     ]
    }
   ],
   "source": [
    "with h5py.File(filename1,'r') as f_t_u:\n",
    "    t1=f_t_u['dataset_1']\n",
    "    t2=f_t_u['dataset_2']\n",
    "    print(t1[t1[:]>0.001])"
   ]
  },
  {
   "cell_type": "markdown",
   "id": "875d24f9-ecc3-4d9b-bee9-a9850b719f9b",
   "metadata": {},
   "source": [
    "This way we created a copy of the dataset into the RAM, the actual data are in the hard-drive\n",
    "for further manipulation"
   ]
  },
  {
   "cell_type": "code",
   "execution_count": null,
   "id": "a4277d79-ca39-4c9c-8527-e40896e85758",
   "metadata": {
    "jupyter": {
     "source_hidden": true
    },
    "tags": []
   },
   "outputs": [],
   "source": []
  },
  {
   "cell_type": "code",
   "execution_count": 21,
   "id": "693062b9-1f0d-4e30-9c15-7daa82521338",
   "metadata": {},
   "outputs": [
    {
     "name": "stdout",
     "output_type": "stream",
     "text": [
      "<KeysViewHDF5 ['dataset_1', 'dataset_2']>\n"
     ]
    }
   ],
   "source": [
    "print(hf2.keys())"
   ]
  },
  {
   "cell_type": "markdown",
   "id": "c4c716d5-1a4d-45d3-b23a-08eeb10f65a9",
   "metadata": {},
   "source": [
    "## The other method for the definition of HDF5 elements is  the direct assignment, with dictionary call and direct keys definition"
   ]
  },
  {
   "cell_type": "code",
   "execution_count": 81,
   "id": "abc7f040-353a-47c6-b6e8-160305de03eb",
   "metadata": {
    "tags": []
   },
   "outputs": [],
   "source": [
    "os.remove(filename1)\n",
    "with h5py.File(filename1,'w') as h5filen:\n",
    "    h5filen['one'] = d1\n",
    "    h5filen['two'] = d2\n",
    "    #h5file['oneD'] = X\n",
    "    #h5file['scalar'] = 42"
   ]
  },
  {
   "cell_type": "code",
   "execution_count": 85,
   "id": "a04f4dd0-d1ae-45e0-8b3f-1828b3c6fd39",
   "metadata": {},
   "outputs": [
    {
     "name": "stdout",
     "output_type": "stream",
     "text": [
      "ItemsViewHDF5(<Closed HDF5 file>)\n"
     ]
    }
   ],
   "source": [
    "print(h5filen.items())"
   ]
  },
  {
   "cell_type": "markdown",
   "id": "8f8de86b-220e-478c-8e80-e21db36e9b60",
   "metadata": {
    "tags": []
   },
   "source": [
    "*It is possible to update the assignment\n",
    "and to extract the elements of the hdf5 file using multiple methods*"
   ]
  },
  {
   "cell_type": "markdown",
   "id": "4175be9d-0969-4e52-b167-f4b4a4bb632d",
   "metadata": {},
   "source": [
    "using the `get` function"
   ]
  },
  {
   "cell_type": "code",
   "execution_count": 86,
   "id": "f85790d8-390a-4f48-a28d-069dfbd88a62",
   "metadata": {},
   "outputs": [],
   "source": [
    "n1=hf2.get('dataset_1')"
   ]
  },
  {
   "cell_type": "markdown",
   "id": "fe5d9393-171c-4cae-a75b-c649eebdc31b",
   "metadata": {},
   "source": [
    "we can convert the object to an array using `numpy`"
   ]
  },
  {
   "cell_type": "code",
   "execution_count": 87,
   "id": "c6b09c7c-f6ca-43bf-8642-e1419f7d33a9",
   "metadata": {},
   "outputs": [
    {
     "data": {
      "text/plain": [
       "(10, 40, 40)"
      ]
     },
     "execution_count": 87,
     "metadata": {},
     "output_type": "execute_result"
    }
   ],
   "source": [
    "n1=np.array(n1)\n",
    "n1.shape"
   ]
  },
  {
   "cell_type": "markdown",
   "id": "c53e152b-dfb1-4d76-904c-77b8105642ca",
   "metadata": {},
   "source": [
    "*alternatively*"
   ]
  },
  {
   "cell_type": "code",
   "execution_count": 88,
   "id": "2f1d4001-be96-47e7-84d1-b83ebd59701d",
   "metadata": {},
   "outputs": [
    {
     "data": {
      "text/plain": [
       "(10, 40, 40)"
      ]
     },
     "execution_count": 88,
     "metadata": {},
     "output_type": "execute_result"
    }
   ],
   "source": [
    "n2=hf2['dataset_1']\n",
    "np.array(n2).shape"
   ]
  },
  {
   "cell_type": "markdown",
   "id": "3c0e89f2-5bfc-4547-8519-24d7dd07dd53",
   "metadata": {},
   "source": [
    "or"
   ]
  },
  {
   "cell_type": "markdown",
   "id": "b4478bb6-82ae-4f67-a1b8-ea245fdbd3d0",
   "metadata": {},
   "source": [
    "Visualize the data in the file using the call `keys()`"
   ]
  },
  {
   "cell_type": "code",
   "execution_count": 19,
   "id": "36030d30-ff69-46ad-8fb6-0adc7a6f03b1",
   "metadata": {},
   "outputs": [],
   "source": [
    "hf1=h5py.File('simple.h5')"
   ]
  },
  {
   "cell_type": "code",
   "execution_count": 20,
   "id": "9d323ef4-e615-4ed7-9baf-e50cb4d94e76",
   "metadata": {},
   "outputs": [
    {
     "data": {
      "text/plain": [
       "<KeysViewHDF5 ['oneD', 'scalar', 'threeD', 'twoD']>"
      ]
     },
     "execution_count": 20,
     "metadata": {},
     "output_type": "execute_result"
    }
   ],
   "source": [
    "hf1.keys()"
   ]
  },
  {
   "cell_type": "markdown",
   "id": "3a384efe-f40c-4be5-97ba-1fb6cab97db1",
   "metadata": {},
   "source": [
    "## 2. Introducing the hierarchical structure"
   ]
  },
  {
   "cell_type": "markdown",
   "id": "8a2f5cc1-6619-4c9b-9820-392e2367ac3e",
   "metadata": {},
   "source": [
    "*Using group function*"
   ]
  },
  {
   "cell_type": "markdown",
   "id": "f11e71de-b700-423f-9154-330d2881012f",
   "metadata": {},
   "source": [
    "Group can be seen as container to organize the data in the HDF5\n",
    "they are characterized by keys (names),  vakues (container elements)"
   ]
  },
  {
   "cell_type": "code",
   "execution_count": 50,
   "id": "052ad143-ff00-42a4-9214-ec98fd9d30d5",
   "metadata": {},
   "outputs": [],
   "source": [
    "#h5file['oneD']['data']=X \n",
    "#check why it doesn't work"
   ]
  },
  {
   "cell_type": "code",
   "execution_count": 89,
   "id": "f1f57e63-65e8-4c7b-9297-68f97fd881c7",
   "metadata": {},
   "outputs": [
    {
     "data": {
      "text/plain": [
       "ItemsViewHDF5(<HDF5 group \"/group1\" (1 members)>)"
      ]
     },
     "execution_count": 89,
     "metadata": {},
     "output_type": "execute_result"
    }
   ],
   "source": [
    "g1=hf2.create_group('group1')\n",
    "g1.create_dataset('data1',data=d1)\n",
    "g1.items()"
   ]
  },
  {
   "cell_type": "code",
   "execution_count": 90,
   "id": "535706ee-8e11-469d-963c-248928330fef",
   "metadata": {},
   "outputs": [
    {
     "data": {
      "text/plain": [
       "<HDF5 group \"/group1\" (1 members)>"
      ]
     },
     "execution_count": 90,
     "metadata": {},
     "output_type": "execute_result"
    }
   ],
   "source": [
    "hf2['group1']"
   ]
  },
  {
   "cell_type": "code",
   "execution_count": 91,
   "id": "96e1c480-0283-4c97-8642-81a8fb1d093c",
   "metadata": {
    "tags": []
   },
   "outputs": [
    {
     "data": {
      "text/plain": [
       "<KeysViewHDF5 ['data1']>"
      ]
     },
     "execution_count": 91,
     "metadata": {},
     "output_type": "execute_result"
    }
   ],
   "source": [
    "hf2['group1'].keys()"
   ]
  },
  {
   "cell_type": "code",
   "execution_count": 105,
   "id": "8bf99e9b-1052-43c9-8cff-66d29edd56c6",
   "metadata": {
    "jupyter": {
     "source_hidden": true
    },
    "tags": []
   },
   "outputs": [
    {
     "data": {
      "text/plain": [
       "'/group1'"
      ]
     },
     "execution_count": 105,
     "metadata": {},
     "output_type": "execute_result"
    }
   ],
   "source": [
    "g1.name"
   ]
  },
  {
   "cell_type": "code",
   "execution_count": 114,
   "id": "a54762ea-2ff2-4d56-b04b-4416e2d8b5ae",
   "metadata": {
    "tags": []
   },
   "outputs": [],
   "source": [
    "subgrp=g1.create_group(\"/data1/subgroup1\")\n",
    "#,\"textsubgroup\")"
   ]
  },
  {
   "cell_type": "code",
   "execution_count": 116,
   "id": "fe01d403-36f6-474b-b26a-815a201c3c2f",
   "metadata": {
    "jupyter": {
     "source_hidden": true
    },
    "tags": []
   },
   "outputs": [
    {
     "name": "stdout",
     "output_type": "stream",
     "text": [
      "/data1/subgroup1\n"
     ]
    }
   ],
   "source": [
    "print(subgrp.name)"
   ]
  },
  {
   "cell_type": "code",
   "execution_count": 119,
   "id": "9bfd6870-d96d-4c62-8342-dbee1aae9583",
   "metadata": {
    "jupyter": {
     "source_hidden": true
    },
    "tags": []
   },
   "outputs": [
    {
     "name": "stdout",
     "output_type": "stream",
     "text": [
      "ValuesViewHDF5(<HDF5 group \"/group1\" (2 members)>)\n"
     ]
    }
   ],
   "source": [
    "print(g1.values())"
   ]
  },
  {
   "cell_type": "code",
   "execution_count": null,
   "id": "7167f48d-1762-4ec1-a4bf-c29afd414f4e",
   "metadata": {},
   "outputs": [],
   "source": [
    "items,values,keys are functions to explore the groups\n",
    "The names of the objects are all strings "
   ]
  },
  {
   "cell_type": "markdown",
   "id": "78c584d2-6399-41ba-99ab-2a31340e929f",
   "metadata": {},
   "source": [
    "Many groups can be defined and many arrays associated to the groups"
   ]
  },
  {
   "cell_type": "markdown",
   "id": "dcdadbf7-ffa2-434b-a529-759bf85d4284",
   "metadata": {},
   "source": [
    "`del` command can be used to remove objects"
   ]
  },
  {
   "cell_type": "markdown",
   "id": "bc8edd9a-da63-4d29-9548-4c92db50d442",
   "metadata": {
    "tags": []
   },
   "source": [
    "## 3. Create links \n",
    "** Links to the dataset**\n",
    "\n",
    "**Links to the group**\n",
    "**hard links**\n",
    "**soft links**"
   ]
  },
  {
   "cell_type": "markdown",
   "id": "d81eb423-cab5-4f2f-b6d2-e154a0d6b500",
   "metadata": {},
   "source": [
    "a.Hard links"
   ]
  },
  {
   "cell_type": "code",
   "execution_count": 121,
   "id": "0a841f80-1e05-45c4-8037-8a8d4ee9976a",
   "metadata": {},
   "outputs": [
    {
     "name": "stdout",
     "output_type": "stream",
     "text": [
      "<KeysViewHDF5 ['data1', 'dataset_1', 'dataset_2', 'group1']>\n"
     ]
    }
   ],
   "source": [
    "print(hf2.keys())"
   ]
  },
  {
   "cell_type": "code",
   "execution_count": 138,
   "id": "59412a84-c71d-4ac4-8297-c38c783d9ac4",
   "metadata": {
    "tags": []
   },
   "outputs": [],
   "source": [
    "out=hf2['group1']['subgroup1']"
   ]
  },
  {
   "cell_type": "code",
   "execution_count": 139,
   "id": "48c82c00-9392-4f4a-b350-d40de7b364ac",
   "metadata": {
    "tags": []
   },
   "outputs": [],
   "source": [
    "hf2[\"data2\"]=42"
   ]
  },
  {
   "cell_type": "code",
   "execution_count": 140,
   "id": "5868b27c-76b8-4bac-a122-acbdbce6fb4a",
   "metadata": {},
   "outputs": [],
   "source": [
    "out=hf2['data2']"
   ]
  },
  {
   "cell_type": "code",
   "execution_count": 141,
   "id": "09c2c511-48a0-4920-a5a8-0173bba164c1",
   "metadata": {
    "tags": []
   },
   "outputs": [
    {
     "name": "stdout",
     "output_type": "stream",
     "text": [
      "<HDF5 dataset \"data2\": shape (), type \"<i8\">\n"
     ]
    }
   ],
   "source": [
    "print(out)"
   ]
  },
  {
   "cell_type": "code",
   "execution_count": 142,
   "id": "e86d039c-4cd2-4db1-911a-4f4fd7722565",
   "metadata": {
    "tags": []
   },
   "outputs": [],
   "source": [
    "hf2['data3']=out"
   ]
  },
  {
   "cell_type": "code",
   "execution_count": 143,
   "id": "e8bc5bcb-dff6-412a-b3f6-465ee14e50cf",
   "metadata": {
    "tags": []
   },
   "outputs": [
    {
     "name": "stdout",
     "output_type": "stream",
     "text": [
      "<HDF5 dataset \"data3\": shape (), type \"<i8\">\n"
     ]
    }
   ],
   "source": [
    "print(hf2['data3'])"
   ]
  },
  {
   "cell_type": "markdown",
   "id": "57981590-943d-4767-a6e2-339d60a1543f",
   "metadata": {},
   "source": [
    "b. Soft link"
   ]
  },
  {
   "cell_type": "code",
   "execution_count": null,
   "id": "b540edff-d29e-4491-bcf3-8aaa52cebf80",
   "metadata": {},
   "outputs": [],
   "source": [
    "c. External link"
   ]
  },
  {
   "cell_type": "markdown",
   "id": "252f7d79-9b30-4a30-bbc0-ab8351c54e50",
   "metadata": {
    "jp-MarkdownHeadingCollapsed": true,
    "tags": []
   },
   "source": [
    "## 4. Insert compression"
   ]
  },
  {
   "cell_type": "markdown",
   "id": "83bea636-dc2f-4b8c-9286-f07499878509",
   "metadata": {},
   "source": [
    "## 5. Save in ASCII format**"
   ]
  },
  {
   "cell_type": "markdown",
   "id": "11fac0dc-c916-47d2-a8b9-e8b03f18db4a",
   "metadata": {},
   "source": [
    "## 6. Plotting and Visualization \n",
    "\n",
    "**Panosc software**"
   ]
  },
  {
   "cell_type": "code",
   "execution_count": 92,
   "id": "a80e6e4d",
   "metadata": {},
   "outputs": [],
   "source": [
    "from jupyterlab_h5web import H5Web"
   ]
  },
  {
   "cell_type": "code",
   "execution_count": 103,
   "id": "8b76f770",
   "metadata": {
    "tags": []
   },
   "outputs": [
    {
     "data": {
      "application/x-hdf5": "/home/luigia/jupyterlab-h5web/jupyterlab_h5web/simple.h5",
      "text/plain": [
       "<jupyterlab_h5web.widget.H5Web object>"
      ]
     },
     "execution_count": 103,
     "metadata": {},
     "output_type": "execute_result"
    }
   ],
   "source": [
    "H5Web(filename)"
   ]
  },
  {
   "cell_type": "code",
   "execution_count": 104,
   "id": "fdb3db99-82ef-49c8-9490-a7c094459dcc",
   "metadata": {},
   "outputs": [
    {
     "name": "stdout",
     "output_type": "stream",
     "text": [
      "simple.h5\n"
     ]
    }
   ],
   "source": [
    "print(filename)"
   ]
  },
  {
   "cell_type": "code",
   "execution_count": null,
   "id": "2076fed9-e6a1-4782-9ee3-3e03eab25c56",
   "metadata": {},
   "outputs": [],
   "source": []
  }
 ],
 "metadata": {
  "kernelspec": {
   "display_name": "Python 3",
   "language": "python",
   "name": "python3"
  },
  "language_info": {
   "codemirror_mode": {
    "name": "ipython",
    "version": 3
   },
   "file_extension": ".py",
   "mimetype": "text/x-python",
   "name": "python",
   "nbconvert_exporter": "python",
   "pygments_lexer": "ipython3",
   "version": "3.6.13"
  }
 },
 "nbformat": 4,
 "nbformat_minor": 5
}
