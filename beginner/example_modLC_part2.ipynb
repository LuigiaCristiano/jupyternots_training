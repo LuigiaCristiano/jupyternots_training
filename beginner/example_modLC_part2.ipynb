{
 "cells": [
  {
   "cell_type": "markdown",
   "id": "17b0da73",
   "metadata": {},
   "source": [
    "# Using Python functions and community software to visualize hdf5 and NeXus files in the notebook"
   ]
  },
  {
   "cell_type": "markdown",
   "id": "57f5e4c6-d95c-467d-ae7f-5e328ee0573d",
   "metadata": {},
   "source": [
    "This notebook is made by editing the following material:\n",
    "\n",
    "H5Web project\n",
    "\n",
    "[https:/github.com/silx-kit/h5web](https:/github.com/silx-kit/h5web)\n",
    "\n",
    "[www.christopherlovell.co.uk](www.christopherlovell.co.uk)\n"
   ]
  },
  {
   "cell_type": "markdown",
   "id": "b9a7feab-16a6-4c17-95cb-1ca9a5e37837",
   "metadata": {},
   "source": [
    "additional references:\n",
    "    \n",
    "    "
   ]
  },
  {
   "cell_type": "markdown",
   "id": "cb1acb7e",
   "metadata": {},
   "source": [
    "## Display a NeXus file"
   ]
  },
  {
   "cell_type": "code",
   "execution_count": 3,
   "id": "38b74d00",
   "metadata": {},
   "outputs": [],
   "source": [
    "import numpy as np\n",
    "import h5py\n",
    "\n",
    "with h5py.File(\"nexus.nx\", \"w\") as h5file:\n",
    "    root_group = h5file\n",
    "\n",
    "    "
   ]
  },
  {
   "cell_type": "markdown",
   "id": "e5cbc227-e2c5-4cff-a7b4-07ca768b7d05",
   "metadata": {},
   "source": [
    "Set the attributes using the access to the dictionary\n",
    "and the class definition\n",
    " in `NeXus` the top level is alway `NXroot`\n",
    "and subelement is called **`entry`**"
   ]
  },
  {
   "cell_type": "markdown",
   "id": "5f288605-8167-46b2-8a48-7565e83c44aa",
   "metadata": {},
   "source": [
    "*Definition of attributes*"
   ]
  },
  {
   "cell_type": "code",
   "execution_count": 6,
   "id": "73ca514e-8b58-4942-86d8-c803e3283aaf",
   "metadata": {
    "tags": []
   },
   "outputs": [
    {
     "ename": "ValueError",
     "evalue": "Invalid location identifier (invalid location identifier)",
     "output_type": "error",
     "traceback": [
      "\u001b[0;31m---------------------------------------------------------------------------\u001b[0m",
      "\u001b[0;31mValueError\u001b[0m                                Traceback (most recent call last)",
      "\u001b[0;32m<ipython-input-6-2d4f2c5fb880>\u001b[0m in \u001b[0;36m<module>\u001b[0;34m\u001b[0m\n\u001b[0;32m----> 1\u001b[0;31m \u001b[0mroot_group\u001b[0m\u001b[0;34m.\u001b[0m\u001b[0mattrs\u001b[0m\u001b[0;34m[\u001b[0m\u001b[0;34m\"NX_class\"\u001b[0m\u001b[0;34m]\u001b[0m \u001b[0;34m=\u001b[0m \u001b[0;34m\"NXroot\"\u001b[0m\u001b[0;34m\u001b[0m\u001b[0;34m\u001b[0m\u001b[0m\n\u001b[0m\u001b[1;32m      2\u001b[0m \u001b[0mroot_group\u001b[0m\u001b[0;34m.\u001b[0m\u001b[0mattrs\u001b[0m\u001b[0;34m[\u001b[0m\u001b[0;34m\"default\"\u001b[0m\u001b[0;34m]\u001b[0m \u001b[0;34m=\u001b[0m \u001b[0;34m\"entry\"\u001b[0m\u001b[0;34m\u001b[0m\u001b[0;34m\u001b[0m\u001b[0m\n\u001b[1;32m      3\u001b[0m \u001b[0;34m\u001b[0m\u001b[0m\n\u001b[1;32m      4\u001b[0m \u001b[0;34m\u001b[0m\u001b[0m\n",
      "\u001b[0;32m~/anaconda3/envs/jupyterh5web_test/lib/python3.6/site-packages/h5py/_hl/files.py\u001b[0m in \u001b[0;36mattrs\u001b[0;34m(self)\u001b[0m\n\u001b[1;32m    231\u001b[0m         \u001b[0;32mfrom\u001b[0m \u001b[0;34m.\u001b[0m \u001b[0;32mimport\u001b[0m \u001b[0mattrs\u001b[0m\u001b[0;34m\u001b[0m\u001b[0;34m\u001b[0m\u001b[0m\n\u001b[1;32m    232\u001b[0m         \u001b[0;32mwith\u001b[0m \u001b[0mphil\u001b[0m\u001b[0;34m:\u001b[0m\u001b[0;34m\u001b[0m\u001b[0;34m\u001b[0m\u001b[0m\n\u001b[0;32m--> 233\u001b[0;31m             \u001b[0;32mreturn\u001b[0m \u001b[0mattrs\u001b[0m\u001b[0;34m.\u001b[0m\u001b[0mAttributeManager\u001b[0m\u001b[0;34m(\u001b[0m\u001b[0mself\u001b[0m\u001b[0;34m[\u001b[0m\u001b[0;34m'/'\u001b[0m\u001b[0;34m]\u001b[0m\u001b[0;34m)\u001b[0m\u001b[0;34m\u001b[0m\u001b[0;34m\u001b[0m\u001b[0m\n\u001b[0m\u001b[1;32m    234\u001b[0m \u001b[0;34m\u001b[0m\u001b[0m\n\u001b[1;32m    235\u001b[0m     \u001b[0;34m@\u001b[0m\u001b[0mproperty\u001b[0m\u001b[0;34m\u001b[0m\u001b[0;34m\u001b[0m\u001b[0m\n",
      "\u001b[0;32mh5py/_objects.pyx\u001b[0m in \u001b[0;36mh5py._objects.with_phil.wrapper\u001b[0;34m()\u001b[0m\n",
      "\u001b[0;32mh5py/_objects.pyx\u001b[0m in \u001b[0;36mh5py._objects.with_phil.wrapper\u001b[0;34m()\u001b[0m\n",
      "\u001b[0;32m~/anaconda3/envs/jupyterh5web_test/lib/python3.6/site-packages/h5py/_hl/group.py\u001b[0m in \u001b[0;36m__getitem__\u001b[0;34m(self, name)\u001b[0m\n\u001b[1;32m    286\u001b[0m                 \u001b[0;32mraise\u001b[0m \u001b[0mValueError\u001b[0m\u001b[0;34m(\u001b[0m\u001b[0;34m\"Invalid HDF5 object reference\"\u001b[0m\u001b[0;34m)\u001b[0m\u001b[0;34m\u001b[0m\u001b[0;34m\u001b[0m\u001b[0m\n\u001b[1;32m    287\u001b[0m         \u001b[0;32melse\u001b[0m\u001b[0;34m:\u001b[0m\u001b[0;34m\u001b[0m\u001b[0;34m\u001b[0m\u001b[0m\n\u001b[0;32m--> 288\u001b[0;31m             \u001b[0moid\u001b[0m \u001b[0;34m=\u001b[0m \u001b[0mh5o\u001b[0m\u001b[0;34m.\u001b[0m\u001b[0mopen\u001b[0m\u001b[0;34m(\u001b[0m\u001b[0mself\u001b[0m\u001b[0;34m.\u001b[0m\u001b[0mid\u001b[0m\u001b[0;34m,\u001b[0m \u001b[0mself\u001b[0m\u001b[0;34m.\u001b[0m\u001b[0m_e\u001b[0m\u001b[0;34m(\u001b[0m\u001b[0mname\u001b[0m\u001b[0;34m)\u001b[0m\u001b[0;34m,\u001b[0m \u001b[0mlapl\u001b[0m\u001b[0;34m=\u001b[0m\u001b[0mself\u001b[0m\u001b[0;34m.\u001b[0m\u001b[0m_lapl\u001b[0m\u001b[0;34m)\u001b[0m\u001b[0;34m\u001b[0m\u001b[0;34m\u001b[0m\u001b[0m\n\u001b[0m\u001b[1;32m    289\u001b[0m \u001b[0;34m\u001b[0m\u001b[0m\n\u001b[1;32m    290\u001b[0m         \u001b[0motype\u001b[0m \u001b[0;34m=\u001b[0m \u001b[0mh5i\u001b[0m\u001b[0;34m.\u001b[0m\u001b[0mget_type\u001b[0m\u001b[0;34m(\u001b[0m\u001b[0moid\u001b[0m\u001b[0;34m)\u001b[0m\u001b[0;34m\u001b[0m\u001b[0;34m\u001b[0m\u001b[0m\n",
      "\u001b[0;32mh5py/_objects.pyx\u001b[0m in \u001b[0;36mh5py._objects.with_phil.wrapper\u001b[0;34m()\u001b[0m\n",
      "\u001b[0;32mh5py/_objects.pyx\u001b[0m in \u001b[0;36mh5py._objects.with_phil.wrapper\u001b[0;34m()\u001b[0m\n",
      "\u001b[0;32mh5py/h5o.pyx\u001b[0m in \u001b[0;36mh5py.h5o.open\u001b[0;34m()\u001b[0m\n",
      "\u001b[0;31mValueError\u001b[0m: Invalid location identifier (invalid location identifier)"
     ]
    }
   ],
   "source": [
    "root_group.attrs[\"NX_class\"] = \"NXroot\"\n",
    "root_group.attrs[\"default\"] = \"entry\"\n",
    "\n",
    "    "
   ]
  },
  {
   "cell_type": "code",
   "execution_count": null,
   "id": "9be9e8a9-6f00-471a-ade5-c3c3acbc86c1",
   "metadata": {},
   "outputs": [],
   "source": [
    "\n",
    "entry = root_group.create_group(\"entry\")\n",
    "entry.attrs[\"NX_class\"] = \"NXentry\"\n",
    "entry.attrs[\"default\"] = \"process/spectrum\"\n",
    "\n",
    "process = entry.create_group(\"process\")\n",
    "process.attrs[\"NX_class\"] = \"NXprocess\"\n",
    "process.attrs[\"default\"] = \"spectrum\"\n",
    "\n",
    "spectrum = process.create_group(\"spectrum\")\n",
    "spectrum.attrs[\"NX_class\"] = \"NXdata\"\n",
    "spectrum.attrs[\"signal\"] = \"data\"\n",
    "spectrum.attrs[\"auxiliary_signals\"] = [\"aux1\", \"aux2\"]"
   ]
  },
  {
   "cell_type": "markdown",
   "id": "8c4e843e-e4c0-4c58-ac2f-b52cc4ec89fb",
   "metadata": {},
   "source": [
    "Assigning a data array to the `NXdata`"
   ]
  },
  {
   "cell_type": "code",
   "execution_count": null,
   "id": "97889006-b6f0-4300-b9e9-9c6e0ef5b036",
   "metadata": {},
   "outputs": [],
   "source": []
  },
  {
   "cell_type": "code",
   "execution_count": null,
   "id": "e7e80e6d-3522-4c06-932e-a58e88422373",
   "metadata": {},
   "outputs": [],
   "source": [
    "data = np.array([np.linspace(-x, x, 10) for x in range(1, 6)])\n",
    "    spectrum[\"data\"] = data ** 2\n",
    "    spectrum[\"aux1\"] = -(data ** 2)\n",
    "    spectrum[\"aux2\"] = -data\n",
    "    spectrum[\"data\"].attrs[\"interpretation\"] = \"spectrum\"\n",
    "    \n",
    "    image = process.create_group(\"image\")\n",
    "    image.attrs[\"NX_class\"] = \"NXdata\"\n",
    "    image.attrs[\"signal\"] = \"data\"\n",
    "   "
   ]
  },
  {
   "cell_type": "markdown",
   "id": "9151cf42-999e-475d-8d1a-d064f190b78d",
   "metadata": {},
   "source": [
    "Setting up the axes"
   ]
  },
  {
   "cell_type": "code",
   "execution_count": null,
   "id": "a569ade5-acaf-46d6-94c5-9d2daef59faf",
   "metadata": {},
   "outputs": [],
   "source": [
    " x = np.linspace(-5, 5, 50)\n",
    "    x0 = np.linspace(10, 100, 10)\n",
    "    image[\"data\"] = [a*x**2 for a in x0]\n",
    "    image[\"X\"] = np.linspace(-2, 2, 50, endpoint=False)\n",
    "    image[\"X\"].attrs[\"units\"] = u\"µm\"\n",
    "    image[\"Y\"] = np.linspace(0, 0.1, 10, endpoint=False)\n",
    "    image[\"Y\"].attrs[\"units\"] = \"s\"\n",
    "    image.attrs[\"axes\"] = [\"X\"]\n",
    "    image.attrs[\"axes\"] = [\"Y\", \"X\"]"
   ]
  },
  {
   "cell_type": "markdown",
   "id": "24103735-f5ff-45d7-b33c-d38c0cbe53f3",
   "metadata": {},
   "source": [
    "Call the visualization tool"
   ]
  },
  {
   "cell_type": "code",
   "execution_count": 7,
   "id": "d754aa6a",
   "metadata": {},
   "outputs": [
    {
     "data": {
      "application/x-hdf5": "/home/luigia/jupyterlab-h5web/jupyterlab_h5web/nexus.nx",
      "text/plain": [
       "<jupyterlab_h5web.widget.H5Web object>"
      ]
     },
     "execution_count": 7,
     "metadata": {},
     "output_type": "execute_result"
    }
   ],
   "source": [
    "from jupyterlab_h5web import H5Web\n",
    "\n",
    "H5Web('nexus.nx')"
   ]
  },
  {
   "cell_type": "markdown",
   "id": "cc38fc40-ef3f-40ce-a8d6-88c0fa6f12a9",
   "metadata": {},
   "source": [
    "*Save data as `ASCII` file*"
   ]
  },
  {
   "cell_type": "markdown",
   "id": "211b5ae4-9f69-4b4a-9415-85af240da4aa",
   "metadata": {},
   "source": [
    "*Save the header as attached `tex` file*"
   ]
  },
  {
   "cell_type": "code",
   "execution_count": null,
   "id": "2076fed9-e6a1-4782-9ee3-3e03eab25c56",
   "metadata": {},
   "outputs": [],
   "source": []
  }
 ],
 "metadata": {
  "kernelspec": {
   "display_name": "Python 3",
   "language": "python",
   "name": "python3"
  },
  "language_info": {
   "codemirror_mode": {
    "name": "ipython",
    "version": 3
   },
   "file_extension": ".py",
   "mimetype": "text/x-python",
   "name": "python",
   "nbconvert_exporter": "python",
   "pygments_lexer": "ipython3",
   "version": "3.6.13"
  }
 },
 "nbformat": 4,
 "nbformat_minor": 5
}
