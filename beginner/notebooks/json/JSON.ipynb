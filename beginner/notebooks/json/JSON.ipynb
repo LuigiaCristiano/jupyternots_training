{
 "cells": [
  {
   "cell_type": "markdown",
   "id": "cb19dfb6-fbb3-4569-b41a-6ef6b5158cdb",
   "metadata": {},
   "source": [
    "# Introduction to JSON structures"
   ]
  },
  {
   "cell_type": "markdown",
   "id": "776ce452-3149-465a-8929-0623e6e484b3",
   "metadata": {},
   "source": [
    "`JSON` stands for Java Script Object Notation [more](https://en.wikipedia.org/wiki/Douglas_Crockford)<br>\n",
    "it is a machine readable format that is also human friendly<br>\n",
    "and platform independent used for data serialization.<br>\n",
    "`JSON` files can be parsed by `JavaScript` and `Python` "
   ]
  },
  {
   "cell_type": "markdown",
   "id": "b24c5df7-5f5b-4e30-8dfa-c813373c486f",
   "metadata": {},
   "source": [
    "`JSON` files host structures/containers/objects of strings, numbers\n",
    "written in plain text with `JavaScript` object notation<br>\n",
    "\n",
    "`JSON` files are saved as `.json`"
   ]
  },
  {
   "cell_type": "markdown",
   "id": "3869be14-2bc9-42d8-8ae0-901466a5a7db",
   "metadata": {},
   "source": [
    "We are going to see here, the parsing and editing of `JSON` files in `Python`"
   ]
  },
  {
   "cell_type": "markdown",
   "id": "fdd4add1-51a2-4c05-8e4a-63c87f76483e",
   "metadata": {},
   "source": [
    "<a id='overview'></a>\n",
    "Index:<br>\n",
    "   \n",
    "[JSON core elements](#main) <br>\n",
    "[Examples](#examples)<br>\n",
    "[Parsing](#parse) <br>\n",
    "[Validating](#valid)<br>\n",
    "[Converting](#convert) <br>\n",
    "    "
   ]
  },
  {
   "cell_type": "markdown",
   "id": "81b48fd7-2d1f-4be7-865f-67d00a84f005",
   "metadata": {
    "tags": []
   },
   "source": [
    "<a id='main'></a>\n",
    "## Main elements of a JSON structure"
   ]
  },
  {
   "cell_type": "markdown",
   "id": "460d79ce-d723-49c7-888d-fcb1c5dbea6b",
   "metadata": {},
   "source": [
    "In `JSON` data are defined and value are assigned using a key-pair syntax.<br>\n",
    "Data types in `JSON` are _String_, _Number_,_Array_, _Object_, _Boolean_"
   ]
  },
  {
   "cell_type": "markdown",
   "id": "31442230-f890-4602-9309-b9f64ec3d6db",
   "metadata": {},
   "source": [
    "`JSON` _objects_ are defined as **key** - **value** pairs <br>\n",
    " and   _ordered list_ defined as **array**, lists"
   ]
  },
  {
   "cell_type": "markdown",
   "id": "21a11c20-921d-4411-8dc4-921eb4d6b529",
   "metadata": {},
   "source": [
    "The elements of an object are called items and each item has a key and a corresponding value"
   ]
  },
  {
   "cell_type": "markdown",
   "id": "18cb49c3-2c3b-4134-89f5-b53e3e65350a",
   "metadata": {},
   "source": [
    "## Object"
   ]
  },
  {
   "cell_type": "markdown",
   "id": "6612cb4e-130c-4646-8b78-65f52a8adebc",
   "metadata": {},
   "source": [
    "An __object__ is started by a `{` and similarly closed <br>\n",
    "                            it can contain lists, additional objects, arrays <br>\n",
    "Each __object__ element is separated by a `,` and each __element__ is defined by a **key** **value** pair <br>\n",
    "separated by a semicolon `:`"
   ]
  },
  {
   "cell_type": "markdown",
   "id": "a6b83fdc-4f5b-4cd8-b793-2572c236b42c",
   "metadata": {},
   "source": [
    "A **key** is always a string, a **value** can be anything"
   ]
  },
  {
   "cell_type": "markdown",
   "id": "a7c28bda-b9e8-4959-8d1c-89b354263916",
   "metadata": {},
   "source": [
    "<img src=\"value.png\" width=500 />\n",
    "<figcaption align = \"center\"><b>Fig.1 - Allowed value types (json.org)</b></figcaption>\n",
    "\n"
   ]
  },
  {
   "cell_type": "markdown",
   "id": "98d7be80-f8d6-421d-ab52-3cae6401ee04",
   "metadata": {},
   "source": [
    "A __list__ is started and ended by a square bracket `[`, `]` and the different elements have a comma `,` as a separator"
   ]
  },
  {
   "cell_type": "markdown",
   "id": "e30a566d-2714-4f4b-9f4a-87d796508ca8",
   "metadata": {},
   "source": [
    "the `{` help to introduce hierarchy in the JSON data structure <br>\n",
    "      "
   ]
  },
  {
   "cell_type": "markdown",
   "id": "e6900919-c34b-44e4-be1d-7b4524549211",
   "metadata": {},
   "source": [
    "[Back to the index](#overview)"
   ]
  },
  {
   "cell_type": "markdown",
   "id": "3ddd8151-8ad6-4c38-b393-6e864946bfe5",
   "metadata": {},
   "source": [
    "<a id='examples'></a>\n",
    "## JSON examples"
   ]
  },
  {
   "cell_type": "raw",
   "id": "5b364d87-1cc7-41d9-be71-39e30f6b93d3",
   "metadata": {},
   "source": [
    "{\n",
    "    {\n",
    "        \"key1\": \"value1\",\n",
    "        \"key2\": 2,\n",
    "        \"list\":[\n",
    "            \"l1\",\n",
    "            \"l2\",\n",
    "            300\n",
    "     },\n",
    "     \"name\":\"test\"\n",
    "}"
   ]
  },
  {
   "cell_type": "raw",
   "id": "a6059ea7-e738-4f54-88b6-8629557f88e5",
   "metadata": {},
   "source": [
    "object1={object2={\"key1\":\"value1\",\"key2\":2},list=[\"l1\",\"l2\",300],name:\"test\"}"
   ]
  },
  {
   "cell_type": "markdown",
   "id": "e4573187-b355-4a84-b8a8-e984fec54bcf",
   "metadata": {},
   "source": [
    "[Back to the index](#overview)"
   ]
  },
  {
   "cell_type": "markdown",
   "id": "ef44ed48-d7f9-4e91-a3b3-efe83bf437d1",
   "metadata": {
    "tags": []
   },
   "source": [
    "<a id='parse'></a>\n",
    "## Defining, Parsing, editing and saving in Python"
   ]
  },
  {
   "cell_type": "markdown",
   "id": "4f66f809-0ebc-43ff-a4f9-ebd7670b6cce",
   "metadata": {},
   "source": [
    "### 1. Defining"
   ]
  },
  {
   "cell_type": "markdown",
   "id": "d85ac1d9-4f78-46c4-ab96-0485b682da5d",
   "metadata": {},
   "source": [
    "create a `JSON` dictionary/data object in `Python`"
   ]
  },
  {
   "cell_type": "markdown",
   "id": "106b9732-14ff-4302-a798-cc5078dc41c3",
   "metadata": {},
   "source": [
    "a `JSON` object is seen in `Python` as a `dictionary` with definitions/items and entires"
   ]
  },
  {
   "cell_type": "markdown",
   "id": "56e6e93d-60b4-4072-833a-3dcd507927b9",
   "metadata": {},
   "source": [
    "Let's create a dictionary in `Python`"
   ]
  },
  {
   "cell_type": "code",
   "execution_count": 3,
   "id": "23858b0f-ccd5-476b-8a6b-f732f776e956",
   "metadata": {
    "tags": []
   },
   "outputs": [],
   "source": [
    "import json"
   ]
  },
  {
   "cell_type": "code",
   "execution_count": 4,
   "id": "911250ba-3009-44d0-b94c-8087e65132db",
   "metadata": {},
   "outputs": [],
   "source": [
    "data0={\"participant\":{\"IDnumber\":\"12000ABC\",\"name\":\"John\",\"surname\":\"Doe\",\"affiliation\":\"anywhere\"}, \\\n",
    "       \"dataset\":{\"datatype\":\"binary\",\"disksize\":1020, \"sizeformat\":\"MB\",\"OS\":\"Windows\"}}"
   ]
  },
  {
   "cell_type": "markdown",
   "id": "5dece115-0746-441f-8be3-5da22d378156",
   "metadata": {},
   "source": [
    "We have 2 top levels: <br>\n",
    "_participants_ and _dataset_ <br>\n",
    "each of them has 1 sublevel made of several items\n",
    "    "
   ]
  },
  {
   "cell_type": "code",
   "execution_count": 5,
   "id": "9b367d11-8894-46b7-ab31-10c559fabe76",
   "metadata": {
    "tags": []
   },
   "outputs": [
    {
     "name": "stdout",
     "output_type": "stream",
     "text": [
      "{'participant': {'IDnumber': '12000ABC', 'name': 'John', 'surname': 'Doe', 'affiliation': 'anywhere'}, 'dataset': {'datatype': 'binary', 'disksize': 1020, 'sizeformat': 'MB', 'OS': 'Windows'}}\n"
     ]
    }
   ],
   "source": [
    "print(data0)"
   ]
  },
  {
   "cell_type": "code",
   "execution_count": 7,
   "id": "0c4c06fa-b79b-4543-8ba7-169396585da0",
   "metadata": {},
   "outputs": [
    {
     "name": "stdout",
     "output_type": "stream",
     "text": [
      "<class 'dict'>\n"
     ]
    }
   ],
   "source": [
    "print(type(data0))"
   ]
  },
  {
   "cell_type": "markdown",
   "id": "9c3770ac-d49c-4d00-8635-f8f3363c1f1d",
   "metadata": {},
   "source": [
    "### 2. Parsing"
   ]
  },
  {
   "cell_type": "markdown",
   "id": "bd465b71-3f64-409c-95c6-934863259fa4",
   "metadata": {},
   "source": [
    "check size and item extraction"
   ]
  },
  {
   "cell_type": "code",
   "execution_count": 17,
   "id": "2abb40ad-0913-4343-9341-a11a0cd5fb3f",
   "metadata": {},
   "outputs": [
    {
     "data": {
      "text/plain": [
       "2"
      ]
     },
     "execution_count": 17,
     "metadata": {},
     "output_type": "execute_result"
    }
   ],
   "source": [
    "len(data0)"
   ]
  },
  {
   "cell_type": "markdown",
   "id": "2255dee5-5778-496a-a84e-5d2eab0980f1",
   "metadata": {},
   "source": [
    "check class type"
   ]
  },
  {
   "cell_type": "code",
   "execution_count": 18,
   "id": "2724c6a4-522f-48cf-b2c2-eb81788e52bc",
   "metadata": {},
   "outputs": [
    {
     "name": "stdout",
     "output_type": "stream",
     "text": [
      "<class 'dict'>\n"
     ]
    }
   ],
   "source": [
    "print(type(data0))"
   ]
  },
  {
   "cell_type": "markdown",
   "id": "1f2021fa-3ee0-49d2-943e-9aee99d3c1e6",
   "metadata": {},
   "source": [
    "get an overview of the object structure"
   ]
  },
  {
   "cell_type": "code",
   "execution_count": 19,
   "id": "0da9115b-5a32-4a69-bdb2-5b70eeef5ff9",
   "metadata": {},
   "outputs": [
    {
     "data": {
      "text/plain": [
       "dict_items([('participant', {'IDnumber': 'None', 'name': 'John', 'surname': 'Doe', 'affiliation': 'anywhere'}), ('dataset', {'datatype': 'binary', 'disksize': 1020, 'sizeformat': 'MB', 'OS': 'Windows'})])"
      ]
     },
     "execution_count": 19,
     "metadata": {},
     "output_type": "execute_result"
    }
   ],
   "source": [
    "data0.items()"
   ]
  },
  {
   "cell_type": "markdown",
   "id": "6b278691-a2f4-48fa-8d75-64a1ddbc0eea",
   "metadata": {},
   "source": [
    "extracting the top level _participants_ and _dataset_"
   ]
  },
  {
   "cell_type": "code",
   "execution_count": 20,
   "id": "dbcea1a0-6ecd-471a-9c20-f8139c738e90",
   "metadata": {},
   "outputs": [
    {
     "data": {
      "text/plain": [
       "{'IDnumber': 'None',\n",
       " 'name': 'John',\n",
       " 'surname': 'Doe',\n",
       " 'affiliation': 'anywhere'}"
      ]
     },
     "execution_count": 20,
     "metadata": {},
     "output_type": "execute_result"
    }
   ],
   "source": [
    "data0['participant']"
   ]
  },
  {
   "cell_type": "code",
   "execution_count": 21,
   "id": "b28af63e-5c6f-4f29-94df-efa54f6dc105",
   "metadata": {},
   "outputs": [
    {
     "data": {
      "text/plain": [
       "{'datatype': 'binary', 'disksize': 1020, 'sizeformat': 'MB', 'OS': 'Windows'}"
      ]
     },
     "execution_count": 21,
     "metadata": {},
     "output_type": "execute_result"
    }
   ],
   "source": [
    "data0['dataset']"
   ]
  },
  {
   "cell_type": "markdown",
   "id": "937d4026-dd51-412d-ad36-9eece05465a0",
   "metadata": {},
   "source": [
    "Extract the inner parameters"
   ]
  },
  {
   "cell_type": "code",
   "execution_count": 22,
   "id": "9ad97cc5-cd35-4b87-bcf3-c9d065d655a6",
   "metadata": {},
   "outputs": [
    {
     "name": "stdout",
     "output_type": "stream",
     "text": [
      "participant:  {'IDnumber': 'None', 'name': 'John', 'surname': 'Doe', 'affiliation': 'anywhere'}\n",
      "dataset:  {'datatype': 'binary', 'disksize': 1020, 'sizeformat': 'MB', 'OS': 'Windows'}\n"
     ]
    }
   ],
   "source": [
    "for keys, values in data0.items():\n",
    "    print (keys +\": \",values)\n",
    "    "
   ]
  },
  {
   "cell_type": "code",
   "execution_count": 23,
   "id": "a5d232e7-806a-4c65-ac5d-7fb8dd65b4ff",
   "metadata": {
    "tags": []
   },
   "outputs": [
    {
     "data": {
      "text/plain": [
       "'None'"
      ]
     },
     "execution_count": 23,
     "metadata": {},
     "output_type": "execute_result"
    }
   ],
   "source": [
    "data0['participant']['IDnumber']"
   ]
  },
  {
   "cell_type": "markdown",
   "id": "ca8f7c0b-305e-4913-9b47-aecc1ed0e770",
   "metadata": {},
   "source": [
    "We can reassign the value"
   ]
  },
  {
   "cell_type": "code",
   "execution_count": 24,
   "id": "58ed9f07-a3c5-4c93-99f4-3fcfd7b0c59c",
   "metadata": {},
   "outputs": [],
   "source": [
    "data0['participant']['IDnumber']=\"None\""
   ]
  },
  {
   "cell_type": "code",
   "execution_count": 25,
   "id": "0c81f6d5-4aff-4c17-bec1-b06d2a647cc7",
   "metadata": {
    "tags": []
   },
   "outputs": [
    {
     "data": {
      "text/plain": [
       "'None'"
      ]
     },
     "execution_count": 25,
     "metadata": {},
     "output_type": "execute_result"
    }
   ],
   "source": [
    "data0['participant']['IDnumber']"
   ]
  },
  {
   "cell_type": "markdown",
   "id": "85bbf5d4-7e76-4203-9ae0-dd97efc33419",
   "metadata": {},
   "source": [
    "### 3. Save and Load `JSON` in `Python`"
   ]
  },
  {
   "cell_type": "markdown",
   "id": "27a4c866-96bf-4238-ac9a-8f08b06121a8",
   "metadata": {},
   "source": [
    "to save a dictionary as `JSON` data we can use the function dump of the json package"
   ]
  },
  {
   "cell_type": "markdown",
   "id": "799513f2-09c2-431b-a475-f834c4861161",
   "metadata": {},
   "source": [
    "first we convert a dictionary into `JSON`"
   ]
  },
  {
   "cell_type": "code",
   "execution_count": 26,
   "id": "4a7dfdbe-284f-459e-b14d-af2ae26ec072",
   "metadata": {},
   "outputs": [
    {
     "name": "stdout",
     "output_type": "stream",
     "text": [
      "{\"participant\": {\"IDnumber\": \"None\", \"name\": \"John\", \"surname\": \"Doe\", \"affiliation\": \"anywhere\"}, \"dataset\": {\"datatype\": \"binary\", \"disksize\": 1020, \"sizeformat\": \"MB\", \"OS\": \"Windows\"}}\n"
     ]
    }
   ],
   "source": [
    "import json\n",
    "dataJ=json.dumps(data0)\n",
    "print(dataJ)"
   ]
  },
  {
   "cell_type": "code",
   "execution_count": 27,
   "id": "b2fd3362-512f-403d-aad4-1fa9d1891516",
   "metadata": {},
   "outputs": [
    {
     "name": "stdout",
     "output_type": "stream",
     "text": [
      "<class 'str'>\n"
     ]
    }
   ],
   "source": [
    "print(type(dataJ))"
   ]
  },
  {
   "cell_type": "code",
   "execution_count": 33,
   "id": "8318fb4f-0058-44df-bb3c-7a0c7c3a09cb",
   "metadata": {},
   "outputs": [
    {
     "data": {
      "text/plain": [
       "'{\\n    \"participant\": {\\n        \"IDnumber\": \"None\",\\n        \"name\": \"John\",\\n        \"surname\": \"Doe\",\\n        \"affiliation\": \"anywhere\"\\n    },\\n    \"dataset\": {\\n        \"datatype\": \"binary\",\\n        \"disksize\": 1020,\\n        \"sizeformat\": \"MB\",\\n        \"OS\": \"Windows\"\\n    }\\n}'"
      ]
     },
     "execution_count": 33,
     "metadata": {},
     "output_type": "execute_result"
    }
   ],
   "source": [
    "json.dumps(data0, indent=4)"
   ]
  },
  {
   "cell_type": "code",
   "execution_count": 34,
   "id": "acc66a13-0a59-4b03-915b-a5982a9226cf",
   "metadata": {},
   "outputs": [
    {
     "data": {
      "text/plain": [
       "'{\\n  \"participant\" = {\\n    \"IDnumber\" = \"None\". \\n    \"name\" = \"John\". \\n    \"surname\" = \"Doe\". \\n    \"affiliation\" = \"anywhere\"\\n  }. \\n  \"dataset\" = {\\n    \"datatype\" = \"binary\". \\n    \"disksize\" = 1020. \\n    \"sizeformat\" = \"MB\". \\n    \"OS\" = \"Windows\"\\n  }\\n}'"
      ]
     },
     "execution_count": 34,
     "metadata": {},
     "output_type": "execute_result"
    }
   ],
   "source": [
    "json.dumps(data0, indent=2, separators=(\". \", \" = \"))"
   ]
  },
  {
   "cell_type": "code",
   "execution_count": 36,
   "id": "3c826169-1012-4a40-a12c-7f16d42e40f8",
   "metadata": {},
   "outputs": [
    {
     "data": {
      "text/plain": [
       "'{\\n  \"dataset\" = {\\n    \"OS\" = \"Windows\". \\n    \"datatype\" = \"binary\". \\n    \"disksize\" = 1020. \\n    \"sizeformat\" = \"MB\"\\n  }. \\n  \"participant\" = {\\n    \"IDnumber\" = \"None\". \\n    \"affiliation\" = \"anywhere\". \\n    \"name\" = \"John\". \\n    \"surname\" = \"Doe\"\\n  }\\n}'"
      ]
     },
     "execution_count": 36,
     "metadata": {},
     "output_type": "execute_result"
    }
   ],
   "source": [
    "json.dumps(data0, indent=2, separators=(\". \", \" = \"),sort_keys=True)"
   ]
  },
  {
   "cell_type": "markdown",
   "id": "7f5bd26a-5b1e-47de-85fa-6571e1148946",
   "metadata": {},
   "source": [
    "The JSON object are always seen as strings"
   ]
  },
  {
   "cell_type": "markdown",
   "id": "f711923c-7ebc-4717-a10a-0e2d00a8a2e8",
   "metadata": {},
   "source": [
    "Is it possible to  convert `Python` objects of the following types, into `JSON` strings:\n",
    "    \n",
    "\n",
    "   - dict\n",
    "   - list\n",
    "   - tuple\n",
    "   - string\n",
    "   - int\n",
    "   - float\n",
    "   - True\n",
    "   - False\n",
    "   - None\n"
   ]
  },
  {
   "cell_type": "markdown",
   "id": "7ceccaf4-2547-4ec4-af41-c19edca00737",
   "metadata": {},
   "source": [
    "Now we save the JSON object in a file"
   ]
  },
  {
   "cell_type": "code",
   "execution_count": 32,
   "id": "6296bcc2-0ba7-4b5a-a467-dca9cc6c56b6",
   "metadata": {},
   "outputs": [
    {
     "name": "stdout",
     "output_type": "stream",
     "text": [
      "{'IDnumber': '2500DE', 'var1': 3}\n"
     ]
    }
   ],
   "source": [
    "xjson = '{\"IDnumber\": \"1234AB\", \"IDnumber\": \"2500DE\", \"var1\": 3}'\n",
    "# define the json object as a string\n",
    "print(json.loads(xjson))"
   ]
  },
  {
   "cell_type": "code",
   "execution_count": null,
   "id": "99174562-7322-4411-997f-05d47a1d5082",
   "metadata": {},
   "outputs": [],
   "source": [
    "Defining the JSON object directly in `Python` as a string expressing the hierarchy"
   ]
  },
  {
   "cell_type": "code",
   "execution_count": 49,
   "id": "0e24b335-015b-47c6-ac5f-53fab6572781",
   "metadata": {},
   "outputs": [
    {
     "name": "stdout",
     "output_type": "stream",
     "text": [
      "\n",
      "{\n",
      "    \"participant\": {\n",
      "        \"IDnumber\": \"1200RT\",\n",
      "        \"name\": \"John\",\n",
      "        \"surname\":\"Doe\",\n",
      "        \"affiliation\": \"nowhere\"\n",
      "                    },\n",
      "                    \n",
      "    \"dataset\":{\n",
      "        \"datatype\": \"binary\", \n",
      "        \"disksize\": \"1020\", \n",
      "        \"sizeformat\": \"MB\", \n",
      "        \"OS\": \"Windows\"\n",
      "    \n",
      "              }\n",
      "}\n",
      "\n"
     ]
    }
   ],
   "source": [
    "\n",
    "\n",
    "json_string = \"\"\"\n",
    "{\n",
    "    \"participant\": {\n",
    "        \"IDnumber\": \"1200RT\",\n",
    "        \"name\": \"John\",\n",
    "        \"surname\":\"Doe\",\n",
    "        \"affiliation\": \"nowhere\"\n",
    "                    },\n",
    "                    \n",
    "    \"dataset\":{\n",
    "        \"datatype\": \"binary\", \n",
    "        \"disksize\": \"1020\", \n",
    "        \"sizeformat\": \"MB\", \n",
    "        \"OS\": \"Windows\"\n",
    "    \n",
    "              }\n",
    "}\n",
    "\"\"\"\n",
    "print(json_string)\n",
    "\n"
   ]
  },
  {
   "cell_type": "code",
   "execution_count": 52,
   "id": "77e92537-897d-4dc4-9153-032d0a0c3577",
   "metadata": {},
   "outputs": [
    {
     "name": "stdout",
     "output_type": "stream",
     "text": [
      "{'participant': {'IDnumber': 'None', 'name': 'John', 'surname': 'Doe', 'affiliation': 'anywhere'}, 'dataset': {'datatype': 'binary', 'disksize': 1020, 'sizeformat': 'MB', 'OS': 'Windows'}} {'participant': {'IDnumber': '1200RT', 'name': 'John', 'surname': 'Doe', 'affiliation': 'nowhere'}, 'dataset': {'datatype': 'binary', 'disksize': '1020', 'sizeformat': 'MB', 'OS': 'Windows'}}\n"
     ]
    }
   ],
   "source": [
    "data1 = json.loads(json_string)\n",
    "print(data0,data1)"
   ]
  },
  {
   "cell_type": "code",
   "execution_count": 57,
   "id": "99250bf8-b18b-47ae-b66d-dfb3fa208825",
   "metadata": {},
   "outputs": [
    {
     "data": {
      "text/plain": [
       "str"
      ]
     },
     "execution_count": 57,
     "metadata": {},
     "output_type": "execute_result"
    }
   ],
   "source": [
    "type(data1['dataset']['disksize'])"
   ]
  },
  {
   "cell_type": "code",
   "execution_count": 58,
   "id": "0596595b-9f43-413c-84fc-e5bb5851966c",
   "metadata": {},
   "outputs": [
    {
     "data": {
      "text/plain": [
       "int"
      ]
     },
     "execution_count": 58,
     "metadata": {},
     "output_type": "execute_result"
    }
   ],
   "source": [
    "type(data0['dataset']['disksize'])"
   ]
  },
  {
   "cell_type": "code",
   "execution_count": 17,
   "id": "b57c694a-0363-45fd-bd32-4e132ecb822e",
   "metadata": {},
   "outputs": [],
   "source": [
    "!rm dataJSON.json\n",
    "with open(\"dataJSON.json\",\"w\") as Jf:\n",
    "    Jf.write(dataJ)"
   ]
  },
  {
   "cell_type": "markdown",
   "id": "0d62df07-8d2d-4b27-a72d-786a62074345",
   "metadata": {},
   "source": [
    "load a json file and convert to a dictionary"
   ]
  },
  {
   "cell_type": "markdown",
   "id": "b151977f-26dc-42fc-a76e-482199a4aa71",
   "metadata": {},
   "source": [
    "with the load function you can get any data type, <br>\n",
    "consider it when loading a new `JSON` file (that you didn't create yourself)"
   ]
  },
  {
   "cell_type": "markdown",
   "id": "6362c938-7b99-4341-9abf-61a5feaaf251",
   "metadata": {},
   "source": [
    "[Back to the index](#overview)"
   ]
  },
  {
   "cell_type": "markdown",
   "id": "e38436f9-3efb-42ac-88e7-49f9474e527c",
   "metadata": {
    "tags": []
   },
   "source": [
    "<a id='valid'></a>\n",
    "## JSON Validator"
   ]
  },
  {
   "cell_type": "markdown",
   "id": "cf2c5702-eec2-4acd-88cc-9d4966a0bd2d",
   "metadata": {},
   "source": [
    "There is a number of JSON validators available online,<br>\n",
    "here we are going to see how to validate a `JSON` file from command line in `Python`"
   ]
  },
  {
   "cell_type": "code",
   "execution_count": 54,
   "id": "314ad763-ba64-44e7-adad-b57dbb69830b",
   "metadata": {},
   "outputs": [],
   "source": [
    "import json.tool\n",
    "# it validates or pretty print the `JSON` files"
   ]
  },
  {
   "cell_type": "code",
   "execution_count": 56,
   "id": "1d72c9ea-2059-483a-b8af-975878cb7eaa",
   "metadata": {},
   "outputs": [
    {
     "name": "stdout",
     "output_type": "stream",
     "text": [
      "{\n",
      "    \"participant\": {\n",
      "        \"IDnumber\": \"None\",\n",
      "        \"name\": \"John\",\n",
      "        \"surname\": \"Doe\",\n",
      "        \"affiliation\": \"anywhere\"\n",
      "    },\n",
      "    \"dataset\": {\n",
      "        \"datatype\": \"binary\",\n",
      "        \"disksize\": 1020,\n",
      "        \"sizeformat\": \"MB\",\n",
      "        \"OS\": \"Windows\"\n",
      "    }\n",
      "}\n"
     ]
    }
   ],
   "source": [
    "!python -m json.tool dataJSON.json"
   ]
  },
  {
   "cell_type": "markdown",
   "id": "3166000e-8c7d-4893-b170-5e6f131dbec2",
   "metadata": {},
   "source": [
    "[Back to the index](#overview)"
   ]
  },
  {
   "cell_type": "markdown",
   "id": "b5632ab7-8ecb-4938-a64f-c61495ca2d37",
   "metadata": {},
   "source": [
    "<a id='convert'></a>\n",
    "## Converters"
   ]
  },
  {
   "cell_type": "code",
   "execution_count": null,
   "id": "04e88fa1-99a7-4431-9f94-d0a34328a2a3",
   "metadata": {},
   "outputs": [],
   "source": [
    "https://jsonformatter.org/parti"
   ]
  },
  {
   "cell_type": "markdown",
   "id": "6f08b73d-a809-47e5-8e75-d007b67fa73a",
   "metadata": {},
   "source": [
    "[Back to the index](#overview)"
   ]
  },
  {
   "cell_type": "markdown",
   "id": "895242d9-e5b1-4a9f-abec-597d36b8e3df",
   "metadata": {},
   "source": [
    "References:<br>\n",
    "  - [w3schools](https://www.w3schools.com/js/js_json_intro.asp)<br>\n",
    "  - [json.org](https://www.json.org/json-en.html)"
   ]
  },
  {
   "cell_type": "markdown",
   "id": "ec8d42d7-5404-4118-acd8-6b3d6c07a350",
   "metadata": {},
   "source": [
    "Glossary:<br>\n",
    "- Serialization : conversion of data in a byte sequence"
   ]
  },
  {
   "cell_type": "code",
   "execution_count": null,
   "id": "984a51f1-17cf-4bb4-9cad-91135c069035",
   "metadata": {},
   "outputs": [],
   "source": []
  }
 ],
 "metadata": {
  "kernelspec": {
   "display_name": "Python 3 (ipykernel)",
   "language": "python",
   "name": "python3"
  },
  "language_info": {
   "codemirror_mode": {
    "name": "ipython",
    "version": 3
   },
   "file_extension": ".py",
   "mimetype": "text/x-python",
   "name": "python",
   "nbconvert_exporter": "python",
   "pygments_lexer": "ipython3",
   "version": "3.8.13"
  }
 },
 "nbformat": 4,
 "nbformat_minor": 5
}
