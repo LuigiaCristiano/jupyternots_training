{
 "cells": [
  {
   "cell_type": "markdown",
   "id": "b79d3894",
   "metadata": {},
   "source": [
    "# Yaml file upload and manipulation #"
   ]
  },
  {
   "cell_type": "markdown",
   "id": "9bedc0db",
   "metadata": {
    "tags": []
   },
   "source": [
    "### 1. upload a local yaml file, for instance the datacite metadata structure in yaml ###<br>\n",
    "https://github.com/G-Node/gogs/blob/master/conf/datacite/datacite.yml\n",
    "\n",
    "here we find mostly bibliographic metadata"
   ]
  },
  {
   "cell_type": "markdown",
   "id": "92594fbf",
   "metadata": {},
   "source": [
    "Here we have a cheatsheet for yaml files "
   ]
  },
  {
   "cell_type": "markdown",
   "id": "cc4960fb",
   "metadata": {},
   "source": [
    "Yaml accept blank spaces for indentation and not tabs"
   ]
  },
  {
   "cell_type": "markdown",
   "id": "04860729",
   "metadata": {},
   "source": [
    "Declaring an integer , float and string <br>\n",
    "`a: 1        # integer `    <br>     \n",
    "`a: 1.234    # float     ` <br>\n",
    "`b: 'abc'    # string `     <br>"
   ]
  },
  {
   "cell_type": "markdown",
   "id": "971e51ba",
   "metadata": {},
   "source": [
    "Start a sequence"
   ]
  },
  {
   "cell_type": "markdown",
   "id": "7774347e",
   "metadata": {},
   "source": [
    "` keywords: ` <br>\n",
    "  `- Neuroscience` <br>\n",
    "  `- Keyword2 ` <br>\n",
    "  `- Keyword3  `"
   ]
  },
  {
   "cell_type": "markdown",
   "id": "8418421e",
   "metadata": {},
   "source": [
    "create a list"
   ]
  },
  {
   "cell_type": "markdown",
   "id": "f744001a",
   "metadata": {},
   "source": [
    "`my_list: [1, 2, 3]`"
   ]
  },
  {
   "cell_type": "markdown",
   "id": "5d144d11",
   "metadata": {},
   "source": [
    "Create a text block"
   ]
  },
  {
   "cell_type": "markdown",
   "id": "09978064",
   "metadata": {},
   "source": [
    "`Abstract: >` <br>\n",
    "`Abstract: | `    "
   ]
  },
  {
   "cell_type": "markdown",
   "id": "56c409a7",
   "metadata": {},
   "source": [
    "Identify the different documents with `---` to start a document and `...` to end it"
   ]
  },
  {
   "cell_type": "markdown",
   "id": "fbd82a5c",
   "metadata": {},
   "source": [
    "`--- ` <br>\n",
    " `   content:doc1 ` <br>\n",
    " `...`\n",
    "`---` <br>\n",
    " `   content:doc2`"
   ]
  },
  {
   "cell_type": "markdown",
   "id": "63f6e62e",
   "metadata": {},
   "source": [
    "The following symbols are also special characters in `YAML` <br>\n",
    "`* & ! % # ` @ ,.` <br>\n",
    "`*` <br> reference to a repetable node\n",
    "`&` define a repitable node\n",
    "`!`\n",
    "`%`\n",
    "`#` is to comment a line <br>\n",
    "`@` <br>\n",
    "`,` <br>\n",
    "`.`"
   ]
  },
  {
   "cell_type": "markdown",
   "id": "e4666d07",
   "metadata": {},
   "source": [
    "### Let's have a look at the yaml file structure and syntax ###"
   ]
  },
  {
   "cell_type": "markdown",
   "id": "5e9a730b",
   "metadata": {},
   "source": [
    "Generally `YAML` files are used as configuration or parameter files"
   ]
  },
  {
   "cell_type": "markdown",
   "id": "7c1b885f",
   "metadata": {},
   "source": [
    "Here there is an example of metadata definition for a data publication using the `DataCite Metadata Schema `"
   ]
  },
  {
   "cell_type": "code",
   "execution_count": null,
   "id": "5ef0970b",
   "metadata": {},
   "outputs": [],
   "source": [
    "# Metadata for DOI registration according to DataCite Metadata Schema 4.1.\n",
    "# For detailed schema description see https://doi.org/10.5438/0014\n",
    "\n",
    "## Required fields\n",
    "\n",
    "# The main researchers involved. Include digital identifier (e.g., ORCID)\n",
    "# if possible, including the prefix to indicate its type.\n",
    "authors:\n",
    "  -\n",
    "    firstname: \"GivenName1\"\n",
    "    lastname: \"FamilyName1\"\n",
    "    affiliation: \"Affiliation1\"\n",
    "    id: \"ORCID:0000-0001-2345-6789\"\n",
    "  -\n",
    "    firstname: \"GivenName2\"\n",
    "    lastname: \"FamilyName2\"\n",
    "    affiliation: \"Affiliation2\"\n",
    "    id: \"ResearcherID:X-1234-5678\"\n",
    "  -\n",
    "    firstname: \"GivenName3\"\n",
    "    lastname: \"FamilyName3\"\n",
    "\n",
    "# A title to describe the published resource.\n",
    "title: \"Example Title\"\n",
    "\n",
    "# Additional information about the resource, e.g., a brief abstract.\n",
    "description: |\n",
    "  Example description\n",
    "  that can contain linebreaks\n",
    "  but has to maintain indentation.\n",
    "# Lit of keywords the resource should be associated with.\n",
    "# Give as many keywords as possible, to make the resource findable.\n",
    "keywords:\n",
    "  - Neuroscience\n",
    "  - Keyword2\n",
    "  - Keyword3\n",
    "\n",
    "# License information for this resource. Please provide the license name and/or a link to the license.\n",
    "# Please add also a corresponding LICENSE file to the repository.\n",
    "license:\n",
    "  name: \"Creative Commons CC0 1.0 Public Domain Dedication\"\n",
    "  url: \"https://creativecommons.org/publicdomain/zero/1.0/\"\n",
    "\n",
    "\n",
    "\n",
    "## Optional Fields\n",
    "\n",
    "# Funding information for this resource.\n",
    "# Separate funder name and grant number by comma.\n",
    "funding:\n",
    "  - \"DFG, AB1234/5-6\"\n",
    "  - \"EU, EU.12345\"\n",
    "\n",
    "\n",
    "# Related publications. reftype might be: IsSupplementTo, IsDescribedBy, IsReferencedBy.\n",
    "# Please provide digital identifier (e.g., DOI) if possible.\n",
    "# Add a prefix to the ID, separated by a colon, to indicate the source.\n",
    "# Supported sources are: DOI, arXiv, PMID\n",
    "# In the citation field, please provide the full reference, including title, authors, journal etc.\n",
    "references:\n",
    "  -\n",
    "    id: \"doi:10.xxx/zzzz\"\n",
    "    reftype: \"IsSupplementTo\"\n",
    "    citation: \"Citation1\"\n",
    "  -\n",
    "    id: \"arxiv:mmmm.nnnn\"\n",
    "    reftype: \"IsSupplementTo\"\n",
    "    citation: \"Citation2\"\n",
    "  -\n",
    "    id: \"pmid:nnnnnnnn\"\n",
    "    reftype: \"IsReferencedBy\"\n",
    "    citation: \"Citation3\"\n",
    "\n",
    "\n",
    "# Resource type. Default is Dataset, other possible values are Software, DataPaper, Image, Text.\n",
    "resourcetype: Dataset\n",
    "\n",
    "# Do not edit or remove the following line\n",
    "templateversion: 1.2"
   ]
  },
  {
   "cell_type": "markdown",
   "id": "01b9c7fe",
   "metadata": {},
   "source": [
    "#### The  `yaml` file content can be parsed using a python functions #### "
   ]
  },
  {
   "cell_type": "code",
   "execution_count": 18,
   "id": "3f63e305",
   "metadata": {},
   "outputs": [],
   "source": [
    "import yaml\n",
    "import xmldict\n",
    "import dicttoxml\n",
    "import sys\n",
    "local=(sys.path[-1].strip('.ipython'))\n",
    "filename=local+'doi_structure.yml'\n",
    "with open(filename) as file:\n",
    "    yaml_file = yaml.load(file, Loader=yaml.FullLoader)"
   ]
  },
  {
   "cell_type": "markdown",
   "id": "5098f1b1",
   "metadata": {},
   "source": [
    "into a dictionary made of keys and entries"
   ]
  },
  {
   "cell_type": "code",
   "execution_count": 19,
   "id": "5c7b5a0b",
   "metadata": {},
   "outputs": [
    {
     "name": "stdout",
     "output_type": "stream",
     "text": [
      "{'authors': [{'firstname': 'GivenName1', 'lastname': 'FamilyName1', 'affiliation': 'Affiliation1', 'id': 'ORCID:0000-0001-2345-6789'}, {'firstname': 'GivenName2', 'lastname': 'FamilyName2', 'affiliation': 'Affiliation2', 'id': 'ResearcherID:X-1234-5678'}, {'firstname': 'GivenName3', 'lastname': 'FamilyName3'}], 'title': 'Example Title', 'description': 'Example description\\nthat can contain linebreaks\\nbut has to maintain indentation.\\n', 'keywords': ['Neuroscience', 'Keyword2', 'Keyword3'], 'license': {'name': 'Creative Commons CC0 1.0 Public Domain Dedication', 'url': 'https://creativecommons.org/publicdomain/zero/1.0/'}, 'funding': ['DFG, AB1234/5-6', 'EU, EU.12345'], 'references': [{'id': 'doi:10.xxx/zzzz', 'reftype': 'IsSupplementTo', 'citation': 'Citation1'}, {'id': 'arxiv:mmmm.nnnn', 'reftype': 'IsSupplementTo', 'citation': 'Citation2'}, {'id': 'pmid:nnnnnnnn', 'reftype': 'IsReferencedBy', 'citation': 'Citation3'}], 'resourcetype': 'Dataset', 'templateversion': 1.2}\n"
     ]
    }
   ],
   "source": [
    "print(yaml_file)"
   ]
  },
  {
   "cell_type": "markdown",
   "id": "61203a36",
   "metadata": {},
   "source": [
    "### Loop over keys and values for a tabular view ###"
   ]
  },
  {
   "cell_type": "code",
   "execution_count": 28,
   "id": "4e7f1459",
   "metadata": {},
   "outputs": [
    {
     "name": "stdout",
     "output_type": "stream",
     "text": [
      "authors:[{'firstname': 'given', 'lastname': 'FamilyName1', 'affiliation': 'Affiliation1', 'id': 'ORCID:0000-0001-2345-6789'}, {'firstname': 'GivenName2', 'lastname': 'FamilyName2', 'affiliation': 'Affiliation2', 'id': 'ResearcherID:X-1234-5678'}, {'firstname': 'GivenName3', 'lastname': 'FamilyName3'}]\n",
      "title:Example Title\n",
      "description:Example description\n",
      "that can contain linebreaks\n",
      "but has to maintain indentation.\n",
      "\n",
      "keywords:['Neuroscience', 'Keyword2', 'Keyword3']\n",
      "license:{'name': 'Creative Commons CC0 1.0 Public Domain Dedication', 'url': 'https://creativecommons.org/publicdomain/zero/1.0/'}\n",
      "funding:['DFG, AB1234/5-6', 'EU, EU.12345']\n",
      "references:[{'id': 'doi:10.xxx/zzzz', 'reftype': 'IsSupplementTo', 'citation': 'Citation1'}, {'id': 'arxiv:mmmm.nnnn', 'reftype': 'IsSupplementTo', 'citation': 'Citation2'}, {'id': 'pmid:nnnnnnnn', 'reftype': 'IsReferencedBy', 'citation': 'Citation3'}]\n",
      "resourcetype:Dataset\n",
      "templateversion:1.2\n"
     ]
    }
   ],
   "source": [
    "yaml_file.keys()\n",
    "for key,value in yaml_file.items():\n",
    "    print(key + \":\" +str(value))"
   ]
  },
  {
   "cell_type": "markdown",
   "id": "0ec80ff6",
   "metadata": {},
   "source": [
    "#### Explore the dictionary entries ####"
   ]
  },
  {
   "cell_type": "code",
   "execution_count": 23,
   "id": "47838eb7",
   "metadata": {},
   "outputs": [
    {
     "data": {
      "text/plain": [
       "[{'firstname': 'GivenName1',\n",
       "  'lastname': 'FamilyName1',\n",
       "  'affiliation': 'Affiliation1',\n",
       "  'id': 'ORCID:0000-0001-2345-6789'},\n",
       " {'firstname': 'GivenName2',\n",
       "  'lastname': 'FamilyName2',\n",
       "  'affiliation': 'Affiliation2',\n",
       "  'id': 'ResearcherID:X-1234-5678'},\n",
       " {'firstname': 'GivenName3', 'lastname': 'FamilyName3'}]"
      ]
     },
     "execution_count": 23,
     "metadata": {},
     "output_type": "execute_result"
    }
   ],
   "source": [
    "yaml_file['authors']"
   ]
  },
  {
   "cell_type": "code",
   "execution_count": 24,
   "id": "42cad046",
   "metadata": {},
   "outputs": [
    {
     "data": {
      "text/plain": [
       "'GivenName1'"
      ]
     },
     "execution_count": 24,
     "metadata": {},
     "output_type": "execute_result"
    }
   ],
   "source": [
    "yaml_file['authors'][0]['firstname']"
   ]
  },
  {
   "cell_type": "markdown",
   "id": "bbe816ce",
   "metadata": {},
   "source": [
    "#### Assign new values from command line ####"
   ]
  },
  {
   "cell_type": "code",
   "execution_count": 25,
   "id": "e815cb98",
   "metadata": {},
   "outputs": [
    {
     "data": {
      "text/plain": [
       "'given'"
      ]
     },
     "execution_count": 25,
     "metadata": {},
     "output_type": "execute_result"
    }
   ],
   "source": [
    "yaml_file['authors'][0]['firstname']='given'\n",
    "yaml_file['authors'][0]['firstname']"
   ]
  },
  {
   "cell_type": "markdown",
   "id": "23feeb79",
   "metadata": {},
   "source": [
    "#### Convert to xml structure ###"
   ]
  },
  {
   "cell_type": "code",
   "execution_count": 26,
   "id": "d82d3aaa",
   "metadata": {},
   "outputs": [
    {
     "name": "stdout",
     "output_type": "stream",
     "text": [
      "b'<?xml version=\"1.0\" encoding=\"UTF-8\" ?><root><authors type=\"list\"><item type=\"dict\"><firstname type=\"str\">given</firstname><lastname type=\"str\">FamilyName1</lastname><affiliation type=\"str\">Affiliation1</affiliation><id type=\"str\">ORCID:0000-0001-2345-6789</id></item><item type=\"dict\"><firstname type=\"str\">GivenName2</firstname><lastname type=\"str\">FamilyName2</lastname><affiliation type=\"str\">Affiliation2</affiliation><id type=\"str\">ResearcherID:X-1234-5678</id></item><item type=\"dict\"><firstname type=\"str\">GivenName3</firstname><lastname type=\"str\">FamilyName3</lastname></item></authors><title type=\"str\">Example Title</title><description type=\"str\">Example description\\nthat can contain linebreaks\\nbut has to maintain indentation.\\n</description><keywords type=\"list\"><item type=\"str\">Neuroscience</item><item type=\"str\">Keyword2</item><item type=\"str\">Keyword3</item></keywords><license type=\"dict\"><name type=\"str\">Creative Commons CC0 1.0 Public Domain Dedication</name><url type=\"str\">https://creativecommons.org/publicdomain/zero/1.0/</url></license><funding type=\"list\"><item type=\"str\">DFG, AB1234/5-6</item><item type=\"str\">EU, EU.12345</item></funding><references type=\"list\"><item type=\"dict\"><id type=\"str\">doi:10.xxx/zzzz</id><reftype type=\"str\">IsSupplementTo</reftype><citation type=\"str\">Citation1</citation></item><item type=\"dict\"><id type=\"str\">arxiv:mmmm.nnnn</id><reftype type=\"str\">IsSupplementTo</reftype><citation type=\"str\">Citation2</citation></item><item type=\"dict\"><id type=\"str\">pmid:nnnnnnnn</id><reftype type=\"str\">IsReferencedBy</reftype><citation type=\"str\">Citation3</citation></item></references><resourcetype type=\"str\">Dataset</resourcetype><templateversion type=\"float\">1.2</templateversion></root>'\n"
     ]
    }
   ],
   "source": [
    "xmltest = dicttoxml.dicttoxml(yaml_file)\n",
    "print(xmltest)"
   ]
  },
  {
   "cell_type": "markdown",
   "id": "97df0068",
   "metadata": {},
   "source": [
    "and submit the metadata to the publication service provider"
   ]
  },
  {
   "cell_type": "markdown",
   "id": "2cb1b9f1",
   "metadata": {},
   "source": [
    "### Yaml file are also very suitable as parameter files. Python can distinguish between different file sections.\n",
    "Yaml can be used to run a subpackage in Python or to assign analysis parameters ###"
   ]
  },
  {
   "cell_type": "markdown",
   "id": "3ef3118f",
   "metadata": {},
   "source": [
    "Let's have a look at the parameter file in AutoStatsQConfig, source: https://github.com/gesape/AutoStatsQ"
   ]
  },
  {
   "cell_type": "markdown",
   "id": "4eaf0b8f",
   "metadata": {},
   "source": [
    "here the -! is used to start subpackages of the software"
   ]
  },
  {
   "cell_type": "code",
   "execution_count": 27,
   "id": "0a973460",
   "metadata": {
    "jupyter": {
     "source_hidden": true
    },
    "tags": []
   },
   "outputs": [
    {
     "ename": "SyntaxError",
     "evalue": "invalid syntax (<ipython-input-27-bd8c8967b6bc>, line 1)",
     "output_type": "error",
     "traceback": [
      "\u001b[0;36m  File \u001b[0;32m\"<ipython-input-27-bd8c8967b6bc>\"\u001b[0;36m, line \u001b[0;32m1\u001b[0m\n\u001b[0;31m    --- !autostatsq.config.AutoStatsQConfig\u001b[0m\n\u001b[0m        ^\u001b[0m\n\u001b[0;31mSyntaxError\u001b[0m\u001b[0;31m:\u001b[0m invalid syntax\n"
     ]
    }
   ],
   "source": [
    "--- !autostatsq.config.AutoStatsQConfig\n",
    "Settings:\n",
    "- !autostatsq.config.GeneralSettings\n",
    "  work_dir: /some/data/directory/\n",
    "  list_station_lists: [/path/to/station-file/file.csv, /path/to/station-file/file.xml]\n",
    "  st_use_list: [STATION] \n",
    "  # if set, only stations in this list are considered. remove or set to [] to use all stations\n",
    "  # in station files.\n",
    "\n",
    "- !autostatsq.config.CatalogConfig\n",
    "  search_events: true \n",
    "  # search gCMT catalog for events?\n",
    "\n",
    "  use_local_catalog: false\n",
    "  # Or use a local (already downloaded) catalog? \n",
    "  # Needed re-runs using same catalog.\n",
    "\n",
    "  subset_of_local_catalog: true\n",
    "  # Find a subset of the full catalog?\n",
    "\n",
    "  use_local_subsets: false\n",
    "  # Use local (already saved) subset instead?\n",
    "  \n",
    "  subset_fns: {}\n",
    "  # if so, give here paths to subset-catalog-files: e.g. \n",
    "  # {'deep': 'catalog_deep_subset.txt',\n",
    "  # 'shallow': 'catalog_shallow_subset.txt'}\n",
    "\n",
    "  min_mag: 6.5\n",
    "  max_mag: 8.5\n",
    "  tmin_str: '2000-01-01 00:00:00'\n",
    "  tmax_str: '2018-10-01 00:00:00'\n",
    "  min_dist_km: 4000.0\n",
    "  max_dist_km: 20000.0\n",
    "  depth_options:\n",
    "    deep: [25000, 600000] # [m]\n",
    "    shallow: [100, 40000] # [m]\n",
    "\n",
    "  wedges_width: 15\n",
    "  # backazimuthal step for subset generation\n",
    "  # adjust to get more events, especially if time range is small\n",
    "\n",
    "  mid_point: [46.98, 10.74]\n",
    "  # give a rough estimate of midpoint of array/ network\n",
    "  # optional, if not provided a geographic station midpoint is calculated\n",
    "\n",
    "  ### catalog plotting options ###\n",
    "  plot_catalog_all: false\n",
    "  # plots entire catalog on a map\n",
    "\n",
    "  plot_hist_wedges: false\n",
    "  # catalog statistics plot\n",
    "  \n",
    "  plot_catalog_subset: false\n",
    "  # plots the subset(s) on a map\n",
    "\n",
    "- !autostatsq.config.ArrTConfig\n",
    "  calc_first_arr_t: true\n",
    "  # Should first arrivals be computed?\n",
    "\n",
    "  phase_select: P|p|P(cmb)P(icb)P(icb)p(cmb)p|P(cmb)Pv(icb)p(cmb)p|P(cmb)P<(icb)(cmb)p\n",
    "  # which phases?\n",
    "\n",
    "  calc_est_R: true\n",
    "  # compute arrival time of Rayleigh waves for each station-event pair? \n",
    "  # (needed for orientation test)\n",
    "  v_rayleigh: 4.0  # [km/s] default\n",
    "\n",
    "- !autostatsq.config.MetaDataDownloadConfig\n",
    "  # download of metadata and data\n",
    "\n",
    "  download_data: false\n",
    "  download_metadata: false \n",
    "  use_downmeta: true\n",
    "  # Set to true if downloaded metadata should be used.\n",
    "\n",
    "  # local_metadata: [stations.xml]\n",
    "  # list of local metadata files (uncomment if needed)\n",
    "  # local_data: [./data]\n",
    "  # list with paths to local waveform data (uncomment if needed)\n",
    "  # sds_structure: true\n",
    "  # if the local waveform data is saved in sds structure, set to true!\n",
    "  # otherwise assessing local data might be very slow in case of large amounts of data. \n",
    "  # working on it...\n",
    "  # local_data_only: true\n",
    "  # if only local, no freshly downloaded data is used\n",
    "\n",
    "  channels_download: HH*\n",
    "  # '*' would download all and analyse the most broadband channel for each\n",
    "  # station\n",
    "  token:\n",
    "    geofon: /path/to/token/token.asc\n",
    "  # delete token-dictionary, if no token needed for fdsn query\n",
    "  sites: [geofon, orfeus, iris]\n",
    "\n",
    "  dt_start: 0.1\n",
    "  # start time before origin time [h]\n",
    "  dt_end: 1.5\n",
    "  # end time after origin time [h]\n",
    "\n",
    "- !autostatsq.config.RestDownRotConfig\n",
    "  # restitution, downsampling and rotation of data\n",
    "  # required for all tests\n",
    "  rest_data: false\n",
    "  freqlim: [0.005, 0.01, 0.2, 0.25] # [Hz]\n",
    "  rotate_data: false\n",
    "  deltat_down: 2 [s]\n",
    "  # set deltat_down to 0.0 if no downsampling is wanted. (This will slow down everything,\n",
    "  # and the PSD-test does only work if the sampling freuqency of synthtic and real data is \n",
    "  # the same.)\n",
    "\n",
    "- !autostatsq.config.SynthDataConfig\n",
    "  # computation of synthetic data\n",
    "  # needed for PSD-test only, can otherwise be left out\n",
    "  make_syn_data: false\n",
    "  engine_path: /path/to/GF_stores\n",
    "  store_id: global_2s\n",
    "\n",
    "- !autostatsq.config.GainfactorsConfig\n",
    "  # settings for first test\n",
    "  calc_gainfactors: false\n",
    "  gain_factor_method:\n",
    "  - reference_nsl\n",
    "  - [GE, MATE]\n",
    "  ### describe different methods\n",
    "  fband:\n",
    "    corner_hp: 0.01 # [Hz]\n",
    "    corner_lp: 0.2 # [Hz]\n",
    "    order: 4\n",
    "  taper_xfrac: 0.25 # [s]\n",
    "\n",
    "  wdw_st_arr: 5\n",
    "  wdw_sp_arr: 60\n",
    "  # time window around P phase onset, start [s] before and end [s] after theo. arrival time\n",
    "\n",
    "  snr_thresh: 2. # threshold for snr of used event\n",
    "  debug_mode: false # if true, time windows are opened in snuffler to check window settings.\n",
    "\n",
    "  phase_select: first(P|p|P(cmb)P(icb)P(icb)p(cmb)p|P(cmb)Pv(icb)p(cmb)p|P(cmb)P<(icb)(cmb)p)\n",
    "  components: [Z, R, T]\n",
    "\n",
    "  # plotting options\n",
    "  plot_median_gain_on_map: false\n",
    "  plot_allgains: false\n",
    "\n",
    "- !autostatsq.config.PSDConfig\n",
    "  # settings for PSD test\n",
    "  calc_psd: false\n",
    "  tinc: 600  # [s]\n",
    "  tpad: 200  # [s]\n",
    "  dt_start: 60  # [s] start before arrival of first P phases\n",
    "  dt_end: 120  # [s] end before arrival of Rayleigh waves\n",
    "  n_poly: 25\n",
    "  norm_factor: 50\n",
    "  f_ign: 0.02  # [Hz]\n",
    "  only_first: true # outputs only first \"flat\" frequency range\n",
    "  plot_psds: false\n",
    "  plot_ratio_extra: false\n",
    "  plot_m_rat: false\n",
    "  plot_flat_ranges: false\n",
    "\n",
    "- !autostatsq.config.OrientConfig\n",
    "  # settings for orientation test\n",
    "  orient_rayl: false\n",
    "  bandpass: [3.0, 0.01, 0.05]  # [Hz]\n",
    "  start_before_ev: 30.0  # start befor theo. Rayleigh wave arrival, [s]\n",
    "  stop_after_ev: 480.0  # end after theo. Rayleigh wave arrival, [s]\n",
    "  ccmin: 0.80\n",
    "  # min. cross-correlation value. results below this value will not be\n",
    "  # considered\n",
    "  debug_mode: false\n",
    "  # if true, time windows are opened in snuffler to check window settings.\n",
    "\n",
    "  plot_heatmap: false\n",
    "  # plot correction angle vs. cross-correlation value as imshow heatmap\n",
    "  # usually distibution plot is better.\n",
    "  plot_distr: false\n",
    "  # plot correction angle vs. cross-correlation value\n",
    "  # usually distibution plot is better.\n",
    "  plot_orient_map_fromfile: false\n",
    "  # plot a map with correction angles as lines\n",
    "  plot_angles_vs_events: false\n",
    "  # plot angle vs single events, one plot for each station\n",
    "\n",
    "- !autostatsq.config.TimingConfig\n",
    "  # simple test for large timing errors (> 2s)\n",
    "  timing_test: false\n",
    "  bandpass: [3, 0.01, 0.1]\n",
    "  time_wdw: [firstP, 1200]  \n",
    "  # needs a long time window for correlation\n",
    "  cc_thresh: 0.6\n",
    "  # test appropriate setting with debug mode, depends on frequency range\n",
    "  search_locations: false  \n",
    "  # uses all stations in station list if false, otherwise all found \n",
    "  # in traces are used\n",
    "  debug_mode: false \n",
    "  # starts in interactive mode in snuffler showing the traces and the obtained\n",
    "  # cross correlation function\n",
    "\n",
    "- !autostatsq.config.TeleCheckConfig\n",
    "  tele_check: false\n",
    "\n",
    "- !autostatsq.config.maps\n",
    "  # settings for all output maps\n",
    "  map_size: [30.0, 30.0]\n",
    "  pl_opt: [46, 11.75, 800000]\n",
    "  # mid point of map (lat, lon) and radius [m]\n",
    "  # to use automated map dimensions:\n",
    "  # pl_opt: ['automatic']\n",
    "  pl_topo: false\n",
    "  # plotting topography can be very slow,\n",
    "  # topographic data will be downloaded first\n"
   ]
  },
  {
   "cell_type": "markdown",
   "id": "0093560b",
   "metadata": {},
   "source": [
    "#### Yaml can be combined to csv files in csvy files or used as metadatastructure detached to the data array ####"
   ]
  },
  {
   "cell_type": "markdown",
   "id": "3d942f1c",
   "metadata": {},
   "source": [
    "yaml files should be validate to avoid hidden configurations or indentation errors"
   ]
  },
  {
   "cell_type": "code",
   "execution_count": null,
   "id": "ebc1609a",
   "metadata": {},
   "outputs": [],
   "source": []
  }
 ],
 "metadata": {
  "kernelspec": {
   "display_name": "Python 3",
   "language": "python",
   "name": "python3"
  },
  "language_info": {
   "codemirror_mode": {
    "name": "ipython",
    "version": 3
   },
   "file_extension": ".py",
   "mimetype": "text/x-python",
   "name": "python",
   "nbconvert_exporter": "python",
   "pygments_lexer": "ipython3",
   "version": "3.6.13"
  }
 },
 "nbformat": 4,
 "nbformat_minor": 5
}
