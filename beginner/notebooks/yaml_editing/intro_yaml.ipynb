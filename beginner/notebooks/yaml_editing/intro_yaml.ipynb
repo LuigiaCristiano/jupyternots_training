{
 "cells": [
  {
   "cell_type": "markdown",
   "id": "283d0b84-0d61-49ba-a07f-a0958ae33e84",
   "metadata": {},
   "source": [
    "# Introduction to `YAML`"
   ]
  },
  {
   "cell_type": "markdown",
   "id": "144a50e6-4a45-4673-b743-16b27e284dd3",
   "metadata": {},
   "source": [
    "\"Yet another markup language\" --> \"YAML Ain't Markup Language\" <br>\n",
    "yaml file are often used as configuration files (Docker, Kubernets use it as configuration files format) <br>\n",
    "in generale used by DevOPs tools and applications"
   ]
  },
  {
   "cell_type": "markdown",
   "id": "82981672-e389-4bf9-a6e4-f74234546fae",
   "metadata": {},
   "source": [
    "and <br>\n",
    "in general is \"human friendly\" data serialization language (like `JSON` and `XML`)"
   ]
  },
  {
   "cell_type": "markdown",
   "id": "648e50c4-9d2a-4399-9c8e-7eb3683d5674",
   "metadata": {},
   "source": [
    "`YAML` files can be interpreted by several scripting languages like `Python` and `Java`"
   ]
  },
  {
   "cell_type": "markdown",
   "id": "5411f861-db47-462e-abb0-cb49148726f3",
   "metadata": {},
   "source": [
    "The structure of `YAML` is what is called a dictionary, <br> a \n",
    "map, object"
   ]
  },
  {
   "cell_type": "markdown",
   "id": "731a549b-effe-437c-8e57-df2ee05da553",
   "metadata": {},
   "source": [
    "_scalar_ as a **number**, **boolean** , <br>\n",
    "_strings_, _arrays_ and _text blocks_ are allowed"
   ]
  },
  {
   "cell_type": "markdown",
   "id": "70491d70-a1d8-469e-b9b0-a22bf75111a0",
   "metadata": {},
   "source": [
    "<a id='overview'></a>"
   ]
  },
  {
   "cell_type": "markdown",
   "id": "4c73d965-6c6a-4a42-92b8-5ba1fb5aa828",
   "metadata": {},
   "source": [
    "### Overview\n",
    "\n",
    "\n",
    "[Basic syntax](#Basic_syntax) <br>\n",
    "[Data Structure](#Data_structure)<br>\n",
    "[A few examples](#examples) <br>\n",
    "[Data Structure](#tags)<br>\n",
    "[Python interpreter](#yaml_Python) <br>\n",
    "[YAML validator](#validators)<br>\n",
    "[Converting to XML and JSON](#converters)<br>\n",
    "[References](#References)<br>\n",
    "\n"
   ]
  },
  {
   "cell_type": "markdown",
   "id": "dd34fa2c-ad3d-4ae4-a8e2-8d515233bdf1",
   "metadata": {},
   "source": [
    "_ _ _ "
   ]
  },
  {
   "cell_type": "markdown",
   "id": "02b7055d-b8da-4f3f-a614-47cf5f320bae",
   "metadata": {},
   "source": [
    "<a id='Basic_syntax'></a>"
   ]
  },
  {
   "cell_type": "markdown",
   "id": "fef5088e-10b2-4709-9326-2616808c89ec",
   "metadata": {},
   "source": [
    "## Basic syntax"
   ]
  },
  {
   "cell_type": "markdown",
   "id": "b1321268-c1bc-4d59-99c8-c0ebec07ab06",
   "metadata": {},
   "source": [
    "### File naming and start and end of a file"
   ]
  },
  {
   "cell_type": "markdown",
   "id": "84b07fe3-38b9-48c2-8431-76c7daff78f0",
   "metadata": {},
   "source": [
    "`YAML` files should be saved with the following ending <br>\n",
    "`.yml` or `yaml`"
   ]
  },
  {
   "cell_type": "markdown",
   "id": "6508d943-8427-4b9a-8aeb-bb9c2e055bb7",
   "metadata": {},
   "source": [
    "The file starts with 3 dashes indicating which is an indicator of  the doc syntax:<br>\n",
    "`---` <br>\n",
    "it's a `YAML` file \n"
   ]
  },
  {
   "cell_type": "markdown",
   "id": "2e8c1d5c-1f45-4fb8-be5d-63d20a8ebbc1",
   "metadata": {},
   "source": [
    "the `YAML` file is ended by 3 dots <br>"
   ]
  },
  {
   "cell_type": "markdown",
   "id": "da27d896-2eb3-43b0-a92c-db8b7da3137a",
   "metadata": {},
   "source": [
    "`...`"
   ]
  },
  {
   "cell_type": "markdown",
   "id": "173a00d5-6252-4baa-a6ca-4747f5a2611d",
   "metadata": {},
   "source": [
    "[back to Index](#overview)"
   ]
  },
  {
   "cell_type": "markdown",
   "id": "9ddcf59a-1f8d-4be5-8b1b-03c3730ab4fe",
   "metadata": {},
   "source": [
    "<a id='Data_structure'></a>"
   ]
  },
  {
   "cell_type": "markdown",
   "id": "8dc03284-c4b1-424e-acfc-f5f69e36c114",
   "metadata": {},
   "source": [
    "### Data structure"
   ]
  },
  {
   "cell_type": "markdown",
   "id": "60b9fdd3-3fdf-4aeb-a5d5-690115196d44",
   "metadata": {},
   "source": [
    "Data structure is defined by new line and indentation"
   ]
  },
  {
   "cell_type": "markdown",
   "id": "cf05f9dc-e590-4f02-a551-b9f5867e7fe8",
   "metadata": {
    "tags": []
   },
   "source": [
    "`\\newline`  determines the end of a variable definition <br>\n",
    "_indentation_ can be done by one or more spaces"
   ]
  },
  {
   "cell_type": "markdown",
   "id": "6814e0c4-5691-44ee-852b-c4c60f30b9d2",
   "metadata": {},
   "source": [
    "`\\tab` is not supported"
   ]
  },
  {
   "cell_type": "markdown",
   "id": "e2efaa44-c62a-44ca-9ae4-b3d1da58e518",
   "metadata": {},
   "source": [
    "the semicolon `:` separate `keys` and `entries` of the vocabulary"
   ]
  },
  {
   "cell_type": "markdown",
   "id": "131fe559-24bc-4d30-9063-9dcb877ba59a",
   "metadata": {},
   "source": [
    "identation is setting the hierarchy, <br>\n",
    "a string is defined by a `\"`, `'`, or no quotes"
   ]
  },
  {
   "cell_type": "markdown",
   "id": "17ba9482-ab85-40b1-a081-4c9220553f10",
   "metadata": {},
   "source": [
    "The following symbols are special characters in `YAML` <br>\n",
    "*&!%@#"
   ]
  },
  {
   "cell_type": "markdown",
   "id": "ebf01b18-5ed7-47cb-a79d-4788b22e8517",
   "metadata": {},
   "source": [
    "`&` defines a repeatable node introduced by  anchor <br>\n",
    "and then aliased. The `*` is the reference to the repeatable node"
   ]
  },
  {
   "cell_type": "markdown",
   "id": "94923a66-8acb-4ab8-ac53-5c6cbf70a8e9",
   "metadata": {},
   "source": [
    "like `&varname` <br>\n",
    "its reference is called by `*varname`"
   ]
  },
  {
   "cell_type": "markdown",
   "id": "3f43d5e7-d8b7-4e80-ab78-f8bd9c2ecb37",
   "metadata": {},
   "source": [
    "In `YAML` is possible to use environmental variables"
   ]
  },
  {
   "cell_type": "markdown",
   "id": "5abfa187-d1d7-49e8-8473-6b9df7c35091",
   "metadata": {},
   "source": [
    "and execute commands written in `YAML` as a text blocks"
   ]
  },
  {
   "cell_type": "markdown",
   "id": "375c3ce7-b072-4b2b-9ccb-1452707636f3",
   "metadata": {},
   "source": [
    "<a id='examples'></a>"
   ]
  },
  {
   "cell_type": "markdown",
   "id": "cbb5373e-0fd3-419e-bdb0-20e5d9973d64",
   "metadata": {},
   "source": [
    "[back to Index](#overview)"
   ]
  },
  {
   "cell_type": "markdown",
   "id": "23687b43-36ab-4e91-bc59-5a88293d43ed",
   "metadata": {},
   "source": [
    "### A few examples :"
   ]
  },
  {
   "cell_type": "markdown",
   "id": "a7695f2b-fccb-4dc4-ba5c-cf4b8694280e",
   "metadata": {},
   "source": [
    "**variable definition** <br>\n",
    "`YAML` distinguish between integers, floats by assignment"
   ]
  },
  {
   "cell_type": "markdown",
   "id": "8beda144-abd8-44c5-91db-86f409586257",
   "metadata": {},
   "source": [
    "a : 1"
   ]
  },
  {
   "cell_type": "markdown",
   "id": "a858dae1-38ef-48bc-93b0-73658c864c42",
   "metadata": {},
   "source": [
    "a:1.34"
   ]
  },
  {
   "cell_type": "markdown",
   "id": "4dd6ebe9-9962-4900-9c7f-35e5748bdc62",
   "metadata": {},
   "source": [
    "to the variable a is associated the value 1"
   ]
  },
  {
   "cell_type": "markdown",
   "id": "b5bc9d77-4ee8-4da3-950f-524a1e950afd",
   "metadata": {},
   "source": [
    "Boolean"
   ]
  },
  {
   "cell_type": "raw",
   "id": "82667ebf-d363-4c5c-a3c2-3425669b16b9",
   "metadata": {},
   "source": [
    "a: True\n",
    "b: on\n",
    "c: yes"
   ]
  },
  {
   "cell_type": "markdown",
   "id": "031aed4d-5f74-49cc-966c-eb354440d959",
   "metadata": {},
   "source": [
    "**set of hierachical variables, or dictionary structure**"
   ]
  },
  {
   "cell_type": "raw",
   "id": "7c974e99-8a49-49f8-b81c-0f912c85165d",
   "metadata": {},
   "source": [
    "total:\n",
    "    entry1: \n",
    "        subentry1:2\n",
    "        subentry2:\n",
    "            subsubentry1: 20\n",
    "            subsubentry2: 0\n",
    "    entry2: 20"
   ]
  },
  {
   "cell_type": "markdown",
   "id": "ea37e361-85a8-4c06-bc1a-b03ca2ddd22c",
   "metadata": {},
   "source": [
    "total is an object, and everything indented after its definition are the objects *attributes*: <br>\n",
    "entry1, entry2"
   ]
  },
  {
   "cell_type": "markdown",
   "id": "50225b14-c49d-4f84-9327-177f682f6d23",
   "metadata": {},
   "source": [
    "The *indentation* is defining the levels of the *hierachical* structure"
   ]
  },
  {
   "cell_type": "markdown",
   "id": "32ec94b0-4b74-4283-ac03-e2129d8b86c6",
   "metadata": {},
   "source": [
    "A **list** is indicated by using `dashes`"
   ]
  },
  {
   "cell_type": "raw",
   "id": "99a08387-0119-4074-97c0-a15c3c44b635",
   "metadata": {},
   "source": [
    "- item1\n",
    "- item2\n",
    "- item3"
   ]
  },
  {
   "cell_type": "markdown",
   "id": "90dae377-7aeb-4aca-a9d5-a763229553c4",
   "metadata": {},
   "source": [
    "An **array** can be indicated by:"
   ]
  },
  {
   "cell_type": "raw",
   "id": "6bfc8c66-a364-4675-9af4-ab1d5ce246ce",
   "metadata": {},
   "source": [
    "array1:[1,2,3,4]"
   ]
  },
  {
   "cell_type": "markdown",
   "id": "3c64af99-b104-49d5-a6dd-5128834afc58",
   "metadata": {},
   "source": [
    "or "
   ]
  },
  {
   "cell_type": "raw",
   "id": "c20c9511-88eb-4a2d-8954-fc240c9d74b6",
   "metadata": {},
   "source": [
    "array2:\n",
    "    - 1\n",
    "    - 2\n",
    "    - 3\n",
    "    - 4"
   ]
  },
  {
   "cell_type": "markdown",
   "id": "4625cdb5-2d8b-44c9-8ccf-0161ff936c03",
   "metadata": {},
   "source": [
    "It is possible to create nested lists or better sequences"
   ]
  },
  {
   "cell_type": "raw",
   "id": "90037db5-e53f-489e-994c-aae7fabf0b64",
   "metadata": {},
   "source": [
    "- list1:\n",
    "    - foo: 123\n",
    "    - az: 30\n",
    "    - baz: -120\n",
    "    - tilt: -2\n",
    "    "
   ]
  },
  {
   "cell_type": "markdown",
   "id": "5087bf08-52b0-4478-a23f-db083f59e466",
   "metadata": {},
   "source": [
    "Is it possible to create a dictionary on a line:"
   ]
  },
  {
   "cell_type": "raw",
   "id": "3ca1a945-b6d2-418b-af6e-cffa09f86610",
   "metadata": {},
   "source": [
    "test_dict={key1:value1,key2:value2,key3:value3}"
   ]
  },
  {
   "cell_type": "markdown",
   "id": "da119d73-341b-4f5e-baec-9e0353a8af24",
   "metadata": {},
   "source": [
    "**Comments** are started by a `#`"
   ]
  },
  {
   "cell_type": "markdown",
   "id": "6684e56d-a517-431d-80cc-e3ebb56f76dc",
   "metadata": {},
   "source": [
    "If you want to start a **literaly block** you can either use the pipe `|`\n",
    "or the `greater than` command `>` <bc> for a single line"
   ]
  },
  {
   "cell_type": "markdown",
   "id": "10e1318f-cc0c-4e2c-83c8-12c9ec8d47c2",
   "metadata": {},
   "source": [
    "`YAML` data structure is defined by spaces, for this reason is very easy to mess up a datastructure in `YAML` <br>\n",
    "For this reason is convenient using a `YAML` file validator"
   ]
  },
  {
   "cell_type": "markdown",
   "id": "4a93d6a6-0f15-46b7-8449-6026edfa385d",
   "metadata": {},
   "source": [
    "[back to Index](#overview)"
   ]
  },
  {
   "cell_type": "markdown",
   "id": "ce314ba4-7212-4a6d-947d-66eba21dd092",
   "metadata": {
    "tags": []
   },
   "source": [
    "<a id='tags'></a>"
   ]
  },
  {
   "cell_type": "markdown",
   "id": "4d2e5348-d6d9-49db-9f73-d3d6922fb8f3",
   "metadata": {},
   "source": [
    "#### TAGS"
   ]
  },
  {
   "cell_type": "markdown",
   "id": "4a14b817-ef42-4c4d-9f8a-63363d8983e9",
   "metadata": {},
   "source": [
    "\n",
    " `Tags` can be used to : <br>\n",
    " 1. set a custom URI (universal resource indicator), which is used to reference our tags<br>\n",
    " 2. set local tags. Local tag is a tag that is relevant only to the existing YAML file<br>\n",
    " 3. set the data type.\n"
   ]
  },
  {
   "cell_type": "markdown",
   "id": "bb669da7-cd66-49ca-a425-0e6143c52916",
   "metadata": {},
   "source": [
    "Let's see examples for 2. and 3."
   ]
  },
  {
   "cell_type": "markdown",
   "id": "485f2d43-b3f9-4917-8da8-41c4a5c77c40",
   "metadata": {
    "tags": []
   },
   "source": [
    "3.<br>"
   ]
  },
  {
   "cell_type": "raw",
   "id": "42d312b1-0bb1-4e0d-9d04-eb11e3576097",
   "metadata": {
    "tags": []
   },
   "source": [
    "corenumber:3"
   ]
  },
  {
   "cell_type": "markdown",
   "id": "d71f17da-b9c0-4704-8e51-5e7a4de4f531",
   "metadata": {},
   "source": [
    "this will be interpreted as an integer <br>\n",
    "we can redefine the interpretation as the following: "
   ]
  },
  {
   "cell_type": "raw",
   "id": "e9aa066a-69a3-4fdf-a5c2-2b2fc09cdb1a",
   "metadata": {},
   "source": [
    "corenumber: !!str 3"
   ]
  },
  {
   "cell_type": "markdown",
   "id": "a91588dc-b5dc-4dc0-91cf-b3b9f6aeb499",
   "metadata": {},
   "source": [
    "\n",
    "now `corenumber` will be seen as a string"
   ]
  },
  {
   "cell_type": "markdown",
   "id": "0cbe8053-97ef-4027-96c2-2da11b8bd37c",
   "metadata": {},
   "source": [
    "2.<br>"
   ]
  },
  {
   "cell_type": "raw",
   "id": "f3efd084-57b3-4d52-8928-c628d571e24c",
   "metadata": {},
   "source": [
    "!foo \"test\""
   ]
  },
  {
   "cell_type": "markdown",
   "id": "c48f46d9-af30-4a52-8b78-6475b6a7c8a2",
   "metadata": {},
   "source": [
    "To the tag `foo` is assigned the value string `\"test\"`"
   ]
  },
  {
   "cell_type": "markdown",
   "id": "e8f63c52-2773-4904-909f-84b1938594ba",
   "metadata": {},
   "source": [
    "[back to Index](#overview)"
   ]
  },
  {
   "cell_type": "markdown",
   "id": "9d88a260-1531-45bf-9bd5-ca2d11396c6a",
   "metadata": {},
   "source": [
    "__________"
   ]
  },
  {
   "cell_type": "markdown",
   "id": "28aa83a6-3e92-41d1-b37e-b227c8836260",
   "metadata": {},
   "source": [
    "<a id='yaml_Python'></a>"
   ]
  },
  {
   "cell_type": "markdown",
   "id": "07fa58b6-68f2-45ab-ad19-6c93824f00f2",
   "metadata": {},
   "source": [
    "#### How to create a `YAML` file in `Python`"
   ]
  },
  {
   "cell_type": "markdown",
   "id": "2f163bb3-30d7-4ccf-a709-776ff75a8683",
   "metadata": {},
   "source": [
    "[PyYAML](https://pypi.org/project/PyYAML/) features a complete YAML 1.1 parser, <br>\n",
    "Unicode support, pickle support, capable extension API, and sensible error messages.<br>\n",
    "<br> `PyYAML` supports standard `YAML` tags and provides Python-specific tags that <br>\n",
    "allow to represent an arbitrary Python object.\n",
    "\n"
   ]
  },
  {
   "cell_type": "code",
   "execution_count": 4,
   "id": "54ab275b-7b4e-4486-9062-13fed9b28c89",
   "metadata": {},
   "outputs": [
    {
     "name": "stdout",
     "output_type": "stream",
     "text": [
      "Requirement already satisfied: pyyaml in /home/a2395/anaconda3/envs/webAPInexus_course/lib/python3.8/site-packages (6.0)\n",
      "Note: you may need to restart the kernel to use updated packages.\n"
     ]
    }
   ],
   "source": [
    "pip install pyyaml"
   ]
  },
  {
   "cell_type": "code",
   "execution_count": 5,
   "id": "476ce108-981d-4a3e-a32c-681bbc79decb",
   "metadata": {},
   "outputs": [],
   "source": [
    "import yaml "
   ]
  },
  {
   "cell_type": "code",
   "execution_count": 35,
   "id": "5eb6b7fb-4df7-4105-a480-c9489157f306",
   "metadata": {},
   "outputs": [],
   "source": [
    "# -*- coding: utf-8 -*-\n",
    "import yaml\n",
    "import io\n",
    "\n",
    "# Define data as a dictionary with a nested structure\n",
    "# hosting strings, array and numbers\n",
    "# the assignment is with \":\" and \"{\" for introducing the hierarchy and \n",
    "# \"[\" for starting a list\n",
    "\n",
    "entry = { 'entry1': {\n",
    "    'subentry_list_mix': [\n",
    "        1, \n",
    "        [1,2,3,4],\n",
    "        True, \n",
    "        'test', \n",
    "       \n",
    "    ]\n",
    "},\n",
    "\n",
    "    'entry2': 'string1',\n",
    "    'entry3': {\n",
    "        'key1': 'value1',\n",
    "        'key2': 'value2',\n",
    "        'array': [1,2,3,4]\n",
    "    }\n",
    "}\n",
    " \n",
    "# Write YAML file\n",
    "# open a file with local write option and selection of a specific enconding\n",
    "with io.open('data.yml', 'w', encoding='utf8') as outfile:\n",
    "    #### fill the file with the entry dictionary\n",
    "    yaml.dump(entry, outfile) #, default_flow_style=True, allow_unicode=True)\n",
    "\n",
    "    \n",
    "# Read YAML file\n",
    "\n",
    "#with open(\"data.yaml\", 'r') as stream:\n",
    "#    data_loaded = yaml.safe_load(stream)\n",
    "\n",
    "#print(data_loaded)\n",
    "\n"
   ]
  },
  {
   "cell_type": "markdown",
   "id": "1092c071-7596-4a7d-ba0b-10d7b693bf2c",
   "metadata": {},
   "source": [
    "Parse the element of the loaded file read as a dictionary"
   ]
  },
  {
   "cell_type": "code",
   "execution_count": 7,
   "id": "1ce20fcc-f1ca-483d-93b5-8ebbb2774d9c",
   "metadata": {},
   "outputs": [
    {
     "name": "stdout",
     "output_type": "stream",
     "text": [
      "entry1:{'subentry_list_mix': [1, [1, 2, 3, 4], True, 'test']}\n",
      "entry2:string1\n",
      "entry3:{'array': [1, 2, 3, 4], 'key1': 'value1', 'key2': 'value2'}\n"
     ]
    }
   ],
   "source": [
    "for key, value in data_loaded.items():\n",
    "    print(key + \":\" +str(value))"
   ]
  },
  {
   "cell_type": "markdown",
   "id": "992b7071-7d51-46df-bd64-96fa9ddc63f1",
   "metadata": {},
   "source": [
    "Compare defined input with what is loaded from file\n",
    "\n"
   ]
  },
  {
   "cell_type": "code",
   "execution_count": 8,
   "id": "3a9324a4-a245-4945-9ed4-35737fd05650",
   "metadata": {},
   "outputs": [
    {
     "name": "stdout",
     "output_type": "stream",
     "text": [
      "True\n"
     ]
    }
   ],
   "source": [
    "print(entry == data_loaded)"
   ]
  },
  {
   "cell_type": "markdown",
   "id": "0c8e7751-8ab3-4981-b92d-dc79df522682",
   "metadata": {},
   "source": [
    "[back to Index](#overview)"
   ]
  },
  {
   "cell_type": "markdown",
   "id": "b3c9c8de-8cfe-4f01-98de-ea9efa3f868a",
   "metadata": {
    "tags": []
   },
   "source": [
    "### `Python` based `YAML` interpreter"
   ]
  },
  {
   "cell_type": "markdown",
   "id": "a89fdfaf-0499-4398-9604-9b1df8460bce",
   "metadata": {},
   "source": [
    "we can check the type of a variable"
   ]
  },
  {
   "cell_type": "code",
   "execution_count": 9,
   "id": "e206a707-0d88-4c4c-8c6f-80e559009bef",
   "metadata": {
    "tags": []
   },
   "outputs": [],
   "source": [
    "for key,value in data_loaded.items():\n",
    "  #  print(key + \": \", value)\n",
    "    if type(value) is list:\n",
    "        print(str(len(value),str(value)))"
   ]
  },
  {
   "cell_type": "markdown",
   "id": "31d420ed-9f0d-4400-b120-200a78535b5a",
   "metadata": {},
   "source": [
    "[back to Index](#overview)"
   ]
  },
  {
   "cell_type": "markdown",
   "id": "9051fbfc-3946-4d92-bd90-adf49a1a4d21",
   "metadata": {},
   "source": [
    "<a id='validators'></a>"
   ]
  },
  {
   "cell_type": "markdown",
   "id": "2457887c-7877-4312-8303-921b097eee5f",
   "metadata": {
    "tags": []
   },
   "source": [
    "### `YAML` validators"
   ]
  },
  {
   "cell_type": "markdown",
   "id": "3a598623-cb55-4e9e-ad92-f9f0930c96f3",
   "metadata": {},
   "source": [
    "Let's modify the data.yaml and try to validate the new file"
   ]
  },
  {
   "cell_type": "code",
   "execution_count": 10,
   "id": "a36f682a-2f6e-436a-a373-5bbf318b274e",
   "metadata": {},
   "outputs": [],
   "source": [
    "!cp data.yaml data1.yaml"
   ]
  },
  {
   "cell_type": "markdown",
   "id": "34992231-b361-4d71-99de-4d50855ef4bd",
   "metadata": {},
   "source": [
    "Let's edit from the files panel and insert an extra space to \"ruin\" the indentation"
   ]
  },
  {
   "cell_type": "code",
   "execution_count": 31,
   "id": "97bcbc8d-2ea3-4c41-b53f-6ce3035d48c8",
   "metadata": {
    "tags": []
   },
   "outputs": [
    {
     "name": "stdout",
     "output_type": "stream",
     "text": [
      "{'entry1': {'subentry_list_mix': [1, [1, 2, 3, 4], True, 'test']}, 'entry2': 'string1', 'entry3': {'array': [1, 2, 3, 4], 'key1': 'value1', 'key2': 'value2'}}\n",
      "<class 'dict'>\n"
     ]
    }
   ],
   "source": [
    "with open(\"data1.yaml\", 'r') as stream1:\n",
    "    data1_loaded = yaml.safe_load(stream1)\n",
    "    \n",
    "    ### safe_load acts as validator of the yaml file\n",
    "\n",
    "print(data1_loaded)\n",
    "print(type(data1_loaded))"
   ]
  },
  {
   "cell_type": "markdown",
   "id": "08b1bc89-be01-4934-9a9c-21a352acce10",
   "metadata": {
    "tags": []
   },
   "source": [
    "[back to the index](#overview)"
   ]
  },
  {
   "cell_type": "markdown",
   "id": "831824f7-70ec-4c8f-8b4f-6894e6df4488",
   "metadata": {},
   "source": [
    "<a id='configuration'></a>"
   ]
  },
  {
   "cell_type": "markdown",
   "id": "c57991fa-7f5e-42a2-844a-dfff7f5b5076",
   "metadata": {
    "tags": []
   },
   "source": [
    "#### How to use `YAML` configuration files in `Python`"
   ]
  },
  {
   "cell_type": "markdown",
   "id": "3c57043a-b1ac-40cd-8426-9a9681107e88",
   "metadata": {},
   "source": [
    "[back to the index](#overview)"
   ]
  },
  {
   "cell_type": "markdown",
   "id": "df59c994-6d51-49a5-9c6a-421d3538eb4b",
   "metadata": {},
   "source": [
    "<a id='converters'></a>"
   ]
  },
  {
   "cell_type": "markdown",
   "id": "53d9ce12-ea5e-44fd-840a-c099628907c6",
   "metadata": {
    "tags": []
   },
   "source": [
    "### Converters"
   ]
  },
  {
   "cell_type": "markdown",
   "id": "89af77d8-e5bc-4746-8595-9fee4d1aa3d6",
   "metadata": {},
   "source": [
    "#### `YAML` to `JSON`"
   ]
  },
  {
   "cell_type": "code",
   "execution_count": 13,
   "id": "7a436202-eb62-4cd7-908c-8d1ec37aa3e2",
   "metadata": {},
   "outputs": [
    {
     "name": "stdout",
     "output_type": "stream",
     "text": [
      "{'entry1': {'subentry_list_mix': [1, [1, 2, 3, 4], True, 'test']}, 'entry2': 'string1', 'entry3': {'array': [1, 2, 3, 4], 'key1': 'value1', 'key2': 'value2'}}\n"
     ]
    }
   ],
   "source": [
    "with open(\"data.yaml\", 'r') as stream:\n",
    "    data_loaded = yaml.safe_load(stream)\n",
    "print(data_loaded)"
   ]
  },
  {
   "cell_type": "code",
   "execution_count": 15,
   "id": "962805ca-aec0-4a15-8c19-040efa97f46a",
   "metadata": {},
   "outputs": [],
   "source": [
    "import json\n",
    "with open(\"myfile.json\", 'w') as jf:\n",
    "    json.dump(data_loaded,jf)"
   ]
  },
  {
   "cell_type": "markdown",
   "id": "8e299416-6bbf-4724-a1cf-1ff97de18208",
   "metadata": {},
   "source": [
    "`YAML` is defined as superset of `JSON` : a `YAML` parser can unserstand `JSON` <br> \n",
    "but viceversa is not obvious. <br>\n",
    "Or better said any valid `JSON` file is also a valid `YAML` file"
   ]
  },
  {
   "cell_type": "markdown",
   "id": "d437d797-ea0a-49db-a3c5-36f4625d6d5d",
   "metadata": {},
   "source": [
    "#### `YAML` to `XML`"
   ]
  },
  {
   "cell_type": "code",
   "execution_count": 19,
   "id": "82250cb8-1413-47e1-b3ad-94f517f2c1d5",
   "metadata": {},
   "outputs": [
    {
     "name": "stdout",
     "output_type": "stream",
     "text": [
      "Collecting dict2xml\n",
      "  Downloading dict2xml-1.7.1.tar.gz (6.6 kB)\n",
      "  Installing build dependencies ... \u001b[?25ldone\n",
      "\u001b[?25h  Getting requirements to build wheel ... \u001b[?25ldone\n",
      "\u001b[?25h    Preparing wheel metadata ... \u001b[?25ldone\n",
      "\u001b[?25hBuilding wheels for collected packages: dict2xml\n",
      "  Building wheel for dict2xml (PEP 517) ... \u001b[?25ldone\n",
      "\u001b[?25h  Created wheel for dict2xml: filename=dict2xml-1.7.1-py3-none-any.whl size=6912 sha256=ced77992a1378ebe0366a277e898aabd08d3564153700274b66178e832cd04c9\n",
      "  Stored in directory: /home/a2395/.cache/pip/wheels/ab/23/ef/f33d7e60cafeb4f4e62c8d2b76c59875e5d4018d0d69fa85c9\n",
      "Successfully built dict2xml\n",
      "Installing collected packages: dict2xml\n",
      "Successfully installed dict2xml-1.7.1\n",
      "Note: you may need to restart the kernel to use updated packages.\n"
     ]
    }
   ],
   "source": [
    "pip install dict2xml"
   ]
  },
  {
   "cell_type": "code",
   "execution_count": 22,
   "id": "7ffe2b83-5b7b-4b4a-a5e6-8ff529eab62e",
   "metadata": {},
   "outputs": [],
   "source": [
    "from dict2xml import dict2xml"
   ]
  },
  {
   "cell_type": "code",
   "execution_count": 28,
   "id": "4dae2a45-3345-4822-8138-a2b21ec2b53f",
   "metadata": {
    "tags": []
   },
   "outputs": [
    {
     "name": "stdout",
     "output_type": "stream",
     "text": [
      "<entry1>\n",
      "  <subentry_list_mix>1</subentry_list_mix>\n",
      "  <subentry_list_mix>\n",
      "    1\n",
      "    2\n",
      "    3\n",
      "    4\n",
      "  </subentry_list_mix>\n",
      "  <subentry_list_mix>True</subentry_list_mix>\n",
      "  <subentry_list_mix>test</subentry_list_mix>\n",
      "</entry1>\n",
      "<entry2>string1</entry2>\n",
      "<entry3>\n",
      "  <array>1</array>\n",
      "  <array>2</array>\n",
      "  <array>3</array>\n",
      "  <array>4</array>\n",
      "  <key1>value1</key1>\n",
      "  <key2>value2</key2>\n",
      "</entry3>\n"
     ]
    }
   ],
   "source": [
    "xmldict=dict2xml(data_loaded)\n",
    "print (xmldict)"
   ]
  },
  {
   "cell_type": "code",
   "execution_count": null,
   "id": "9cb2fd19-8091-490a-a031-be672632f623",
   "metadata": {},
   "outputs": [],
   "source": []
  },
  {
   "cell_type": "code",
   "execution_count": 37,
   "id": "f5d94abc-69bd-4f56-9f51-327542fa8d57",
   "metadata": {},
   "outputs": [],
   "source": [
    "\n",
    "with open('data.xml',\"w\") as xml_data:\n",
    "    xml_data.write(xmldict)"
   ]
  },
  {
   "cell_type": "markdown",
   "id": "4338181e-b8fb-4d13-b117-eee2c00e6bd4",
   "metadata": {},
   "source": [
    "[back to the index](#overview)"
   ]
  },
  {
   "cell_type": "code",
   "execution_count": null,
   "id": "25d7899c-1ff8-49ad-acdc-2d5eeb3b69a1",
   "metadata": {},
   "outputs": [],
   "source": []
  },
  {
   "cell_type": "markdown",
   "id": "1e4140f8-8eb2-4984-9d9f-50747955cc3d",
   "metadata": {},
   "source": [
    "<a id='References'></a>"
   ]
  },
  {
   "cell_type": "markdown",
   "id": "94c6c6ff-308e-4cb9-a9eb-65624a8e77e4",
   "metadata": {},
   "source": [
    "### References: \n",
    "- [web site 1](https://circleci.com/blog/what-is-yaml-a-beginner-s-guide/?utm_source=google&utm_medium=sem&utm_campaign=sem-google-dg--emea-en-dsa-maxConv-auth-nb&utm_term=g_-_c__dsa_&utm_content=&gclid=CjwKCAjw2rmWBhB4EiwAiJ0mtRaU6CX3sndz_Pt_S1pIBLYJexhR_lAwvWqOB01DHdN2P9ZbZed03hoCqhwQAvD_BwE) <br>\n",
    "- https://pypi.org/project/PyYAML/\n",
    "- https://yaml.org/spec/1.2.2/#13-terminology"
   ]
  },
  {
   "cell_type": "markdown",
   "id": "8c94110e-3148-481f-950b-b83fb086fb68",
   "metadata": {},
   "source": [
    "[back to the index](#overview)"
   ]
  },
  {
   "cell_type": "code",
   "execution_count": null,
   "id": "20008b6a-8382-45b2-a466-619aa89d559f",
   "metadata": {},
   "outputs": [],
   "source": []
  }
 ],
 "metadata": {
  "kernelspec": {
   "display_name": "Python 3 (ipykernel)",
   "language": "python",
   "name": "python3"
  },
  "language_info": {
   "codemirror_mode": {
    "name": "ipython",
    "version": 3
   },
   "file_extension": ".py",
   "mimetype": "text/x-python",
   "name": "python",
   "nbconvert_exporter": "python",
   "pygments_lexer": "ipython3",
   "version": "3.8.13"
  }
 },
 "nbformat": 4,
 "nbformat_minor": 5
}
