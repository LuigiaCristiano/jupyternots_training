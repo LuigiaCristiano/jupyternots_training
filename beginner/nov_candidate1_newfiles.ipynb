{
 "cells": [
  {
   "cell_type": "markdown",
   "id": "99b16ad1",
   "metadata": {},
   "source": [
    "# Let's test how to load and manipulate a Nexus File #"
   ]
  },
  {
   "cell_type": "markdown",
   "id": "90d69568",
   "metadata": {},
   "source": [
    "### A few words on the Nexus hierarchical structure and classes ###"
   ]
  },
  {
   "cell_type": "markdown",
   "id": "2621942d",
   "metadata": {},
   "source": [
    "`NeXus` Objects are used to handle Xray and muon experiment with a domanin specific dictionary \n",
    "evaluated by NIAC supervision.\n",
    "Community users can submit dictionary implementations\n",
    "related to the full description of their measurements data"
   ]
  },
  {
   "cell_type": "markdown",
   "id": "a25d85b3",
   "metadata": {},
   "source": [
    "`NeXus` files are suitable for __raw data__ as well as for\n",
    "__processed data__. <br>\n",
    "`NeXus` data is stored as a hierarchical tree structure <br>.\n",
    "\n",
    "\n",
    "The structure is made of entities: **groups**, **fields**, **attributes** and **links** <br>\n",
    "__groups__ are __containers /folders__ of fields and other groups<br>\n",
    "__fields__ are array and scalars <br> \n",
    "__attributes__ are extra info of groups and fields"
   ]
  },
  {
   "cell_type": "markdown",
   "id": "ffb3ce33",
   "metadata": {},
   "source": [
    "The `Nexus` *classes* are objects for the experiment data descriptions:<br>\n",
    " *base classes* and *applications* <br>\n",
    "Each __group__ has a name and a *class* defining it.<br>\n",
    "The *class* tells about the type of object and the *name* identifies it <br>\n",
    "https://manual.nexusformat.org\n",
    "the Application definition list which elements are necessary to describe an application"
   ]
  },
  {
   "cell_type": "code",
   "execution_count": null,
   "id": "8ed26758",
   "metadata": {},
   "outputs": [],
   "source": [
    "An additional class is contributed definitions initiated by the community"
   ]
  },
  {
   "cell_type": "markdown",
   "id": "04de8072",
   "metadata": {},
   "source": [
    "## Load a file compatible with icat ingestion ##"
   ]
  },
  {
   "cell_type": "markdown",
   "id": "3ab37d58",
   "metadata": {},
   "source": [
    "There is a number of GUI options to load `HDF5` data. Here we show how to use `NexPy`, `HDFView` <bc>\n",
    "as well as command line to upload and manipulate the `NeXus` files"
   ]
  },
  {
   "cell_type": "markdown",
   "id": "fbb242fa",
   "metadata": {},
   "source": [
    "### Case 1 : Commands in Python environment ###"
   ]
  },
  {
   "cell_type": "markdown",
   "id": "f42553d1",
   "metadata": {},
   "source": [
    "We use `Python` shell and built in functions to:<br>\n",
    "handle array of data <br>\n",
    "plot the data array <br>\n",
    "handle `xml` structures <br>\n",
    "save the array of data in `ASCII` format"
   ]
  },
  {
   "cell_type": "markdown",
   "id": "600ff085",
   "metadata": {},
   "source": [
    "We also use a `Python` package to read `HDF5` file formats"
   ]
  },
  {
   "cell_type": "code",
   "execution_count": 8,
   "id": "0f000971",
   "metadata": {
    "scrolled": true
   },
   "outputs": [],
   "source": [
    "from nexusformat.nexus import *\n",
    "from matplotlib import pyplot as plt\n",
    "import numpy as np\n",
    "import  json\n",
    "import h5py\n",
    "from dicttoxml import dicttoxml"
   ]
  },
  {
   "cell_type": "markdown",
   "id": "e350c854",
   "metadata": {},
   "source": [
    "We load a `Nexus` file created by Gerrit Gunther for the icat ingestion of `BESSY II` measurement data"
   ]
  },
  {
   "cell_type": "code",
   "execution_count": 97,
   "id": "be9362b7",
   "metadata": {},
   "outputs": [],
   "source": [
    "path='/home/luigia/Documents/metadata_course/data_public1_HZB/'\n",
    "filename='Co02_2021-03-30.nxs'\n",
    "#%2021-03-Dy01Cp02_2.nxs'\n",
    "fp=path+filename\n",
    "a=nxload(fp)"
   ]
  },
  {
   "cell_type": "markdown",
   "id": "8d0eb961",
   "metadata": {},
   "source": [
    "Let's have a look at the file structure and its content"
   ]
  },
  {
   "cell_type": "markdown",
   "id": "16263444",
   "metadata": {},
   "source": [
    "We handle the object a as a dictionary and we use the dictionary exploration tools in Python"
   ]
  },
  {
   "cell_type": "code",
   "execution_count": 98,
   "id": "0f533c70",
   "metadata": {
    "scrolled": true
   },
   "outputs": [
    {
     "name": "stdout",
     "output_type": "stream",
     "text": [
      "root\n"
     ]
    },
    {
     "data": {
      "text/plain": [
       "dict_keys(['background', 'entry'])"
      ]
     },
     "execution_count": 98,
     "metadata": {},
     "output_type": "execute_result"
    }
   ],
   "source": [
    "print(a)\n",
    "a.keys()"
   ]
  },
  {
   "cell_type": "markdown",
   "id": "b06ff0fe",
   "metadata": {},
   "source": [
    "We can visualize the whole hierarchical structure"
   ]
  },
  {
   "cell_type": "code",
   "execution_count": 99,
   "id": "186234c6",
   "metadata": {},
   "outputs": [
    {
     "name": "stdout",
     "output_type": "stream",
     "text": [
      "root:NXroot\n",
      "  @H5PY_version = '3.2.1'\n",
      "  @default = 'entry'\n",
      "  @file_time = '2021-11-05T12:55:17+01:00'\n",
      "  background:NXgroup\n",
      "    data:NXdata\n",
      "      @axis = 'time-of-flight'\n",
      "      @default = 'signal'\n",
      "      @time-of-flight_indices = 0\n",
      "      signal = int16(1x139990)\n",
      "        @units = 'counts'\n",
      "      time-of-flight = float32(139990)\n",
      "        @units = 's'\n",
      "    definition = 'NXxas'\n",
      "      @URL = 'https://manual.nexusformat.org/classes/applica...'\n",
      "      @version = 'v2020.10'\n",
      "    entry_identifier = 'Co02'\n",
      "    experiment_documentation:NXnote\n",
      "      @default = '/proposal'\n",
      "      author = 'Günther, Gerrit'\n",
      "      description = 'Temperature dependence of Bragg peaks in novel low dimen...'\n",
      "      file_name = '162-04361-EF.pdf'\n",
      "      type = 'application/pdf'\n",
      "    instrument:NXgroup\n",
      "      @default = 'tof_mass_spectrum'\n",
      "      absorbed_beam:NXdetector\n",
      "        @name = 'absorbed_beam'\n",
      "        @short_name = 'xas2'\n",
      "        type = 'photo diode'\n",
      "      incoming_beam:NXdetector\n",
      "        @name = 'incoming_beam'\n",
      "        @short_name = 'xas1'\n",
      "        type = 'photo diode'\n",
      "      insertion_device:NXnote\n",
      "        @short_name = 'UE52'\n",
      "        beam = 'HorizontalH3'\n",
      "        name = 'UE52'\n",
      "        offset = '-6.2738E-1'\n",
      "        slope = '1.0020E+0'\n",
      "        table_file:NXnote\n",
      "          file_name = 'CrHz13.idt'\n",
      "        type = 'Undulator X-ray Source'\n",
      "      name = 'UE52_PGM Iontrap'\n",
      "        @URL = 'https://doi.org/10.5442/ni000004'\n",
      "        @old_name = 'NanoclusterTrap'\n",
      "        @short_name = 'Iontrap'\n",
      "      source:NXgroup\n",
      "        name = 'BESSY II'\n",
      "          @short_name = 'BESSY'\n",
      "        probe = 'x-ray'\n",
      "        type = 'Synchrotron X-ray Source'\n",
      "      tof_mass_spectrum:NXdetector\n",
      "        @axes = '[\"time\", \"counts\"]'\n",
      "        @axis = 'time-of-flight'\n",
      "        @counts_indices = 2\n",
      "        @default = 'signal'\n",
      "        @name = 'reflectron time-of-flight mass spectrometer'\n",
      "        @short_name = 'reftof'\n",
      "        @time-of-flight_indices = 0\n",
      "        @time_indices = 1\n",
      "        signal = int16(1x139990)\n",
      "          @units = 'counts'\n",
      "        time-of-flight = float32(139990)\n",
      "          @units = 's'\n",
      "        type = 'reflectron time-of-flight mass spectrometer'\n",
      "    notes:NXcollection\n",
      "      note1:NXnote\n",
      "        Co02_001_Mono.txt = '# ------------------------------------------------------...'\n",
      "        file_name = 'Co02_001_Mono.txt'\n",
      "        type = 'text/plain'\n",
      "      note2:NXnote\n",
      "        comment = 'No comment!'\n",
      "        type = 'text/plain'\n",
      "    sample:NXgroup\n",
      "      name = 'no sample (background measurement)'\n",
      "      situation = 'vacuum'\n",
      "    start_time = '2021-03-30T09:54:53+02:00'\n",
      "    user1:NXuser\n",
      "      address = 'Helmholtz-Zentrum Berlin, BESSY II, Albert-Einstein-Stra...'\n",
      "      name = 'PGM1-User'\n",
      "      role = 'local_contact'\n",
      "    user2:NXuser\n",
      "      address = 'Helmholtz-Zentrum Berlin für Materialien und Energie Ins...'\n",
      "      email = 'gerrit.guenther@helmholtz-berlin.de'\n",
      "      name = 'Günther, Gerrit'\n",
      "      orcid = '0000-0001-6243-1728'\n",
      "      role = 'proposer'\n",
      "  entry:NXgroup\n",
      "    @default = 'data'\n",
      "    data:NXdata\n",
      "      @default = 'signal'\n",
      "      signal = float64(10)\n",
      "        @units = 'A'\n",
      "    definition = 'NXxas'\n",
      "      @URL = 'https://manual.nexusformat.org/classes/applica...'\n",
      "      @version = 'v2020.10'\n",
      "    entry_identifier = 'Co02'\n",
      "    experiment_documentation:NXnote\n",
      "      @default = '/proposal'\n",
      "      author = 'Günther, Gerrit'\n",
      "      description = 'Temperature dependence of Bragg peaks in novel low dimen...'\n",
      "      file_name = '162-04361-EF.pdf'\n",
      "      type = 'application/pdf'\n",
      "    instrument:NXgroup\n",
      "      @default = 'absorbed_beam'\n",
      "      absorbed_beam:NXdetector\n",
      "        @default = 'signal'\n",
      "        @name = 'absorbed_beam'\n",
      "        @short_name = 'xas2'\n",
      "        flux = float64(10)\n",
      "          @units = '1/s'\n",
      "        signal = float64(10)\n",
      "          @units = 'A'\n",
      "        type = 'photo diode'\n",
      "      incoming_beam:NXdetector\n",
      "        @default = 'signal'\n",
      "        @name = 'incoming_beam'\n",
      "        @short_name = 'xas1'\n",
      "        signal = float64(10)\n",
      "          @units = 'A'\n",
      "        type = 'photo diode'\n",
      "      insertion_device:NXnote\n",
      "        @short_name = 'UE52'\n",
      "        bandwidth = float64(10)\n",
      "        beam = 'HorizontalH3'\n",
      "        gap = float64(10)\n",
      "          @units = 'mm'\n",
      "        name = 'UE52'\n",
      "        offset = '-6.2738E-1'\n",
      "        shift = float64(10)\n",
      "          @units = 'mm'\n",
      "        slope = '1.0020E+0'\n",
      "        table_file:NXnote\n",
      "          file_name = 'CrHz13.idt'\n",
      "        type = 'Undulator X-ray Source'\n",
      "      monochromator:NXmonochromator\n",
      "        @short_name = 'PGMIontrap'\n",
      "        energy = float64(10)\n",
      "          @units = 'eV'\n",
      "        energy_set = float64(10)\n",
      "          @units = 'eV'\n",
      "      name = 'UE52_PGM Iontrap'\n",
      "        @URL = 'https://doi.org/10.5442/ni000004'\n",
      "        @old_name = 'NanoclusterTrap'\n",
      "        @short_name = 'Iontrap'\n",
      "      slitwidth:NXslit\n",
      "        x_gap = float64(10)\n",
      "          @units = 'Âµm'\n",
      "      source:NXgroup\n",
      "        current = float64(10)\n",
      "          @units = 'mA'\n",
      "        name = 'BESSY II'\n",
      "          @short_name = 'BESSY'\n",
      "        probe = 'x-ray'\n",
      "        type = 'Synchrotron X-ray Source'\n",
      "      tof_mass_spectrum:NXdetector\n",
      "        @axes = '[\"time\", \"counts\"]'\n",
      "        @axis = 'time-of-flight'\n",
      "        @counts_indices = 2\n",
      "        @default = 'signal'\n",
      "        @name = 'reflectron time-of-flight mass spectrometer'\n",
      "        @short_name = 'reftof'\n",
      "        @time-of-flight_indices = 0\n",
      "        @time_indices = 1\n",
      "        signal = int16(10x139990)\n",
      "          @units = 'counts'\n",
      "        time-of-flight = float32(139990)\n",
      "          @units = 's'\n",
      "        type = 'reflectron time-of-flight mass spectrometer'\n",
      "    integrated_intensity:NXprocess\n",
      "      intensity = float64(10)\n",
      "    notes:NXcollection\n",
      "      note1:NXnote\n",
      "        Co02_001_Mono.txt = '# ------------------------------------------------------...'\n",
      "        file_name = 'Co02_001_Mono.txt'\n",
      "        type = 'text/plain'\n",
      "      note2:NXnote\n",
      "        comment = 'No comment!'\n",
      "        type = 'text/plain'\n",
      "    sample:NXgroup\n",
      "      name = 'Co02'\n",
      "      pressure_env:NXenvironment\n",
      "        pressure1:NXsensor\n",
      "          @name = 'Pressure Deflektor DEFL'\n",
      "          value = float64(10)\n",
      "            @units = 'mbar'\n",
      "        pressure2:NXsensor\n",
      "          @name = 'Pressure Reflector REF'\n",
      "          value = float64(10)\n",
      "            @units = 'mbar'\n",
      "        pressure3:NXsensor\n",
      "          @name = 'Pressure Source SRC'\n",
      "          value = float64(10)\n",
      "            @units = 'mbar'\n",
      "        pressure4:NXsensor\n",
      "          @name = 'Pressure Hexapol HEX'\n",
      "          value = float64(10)\n",
      "            @units = 'mbar'\n",
      "      situation = 'vacuum'\n",
      "      temperature_env:NXenvironment\n",
      "        short_name = 'temperature trap'\n",
      "        temperature1:NXsensor\n",
      "          @name = 'Temperature Side-Elektrode'\n",
      "          value = float64(10)\n",
      "            @units = 'K'\n",
      "        temperature2:NXsensor\n",
      "          @name = 'Temperature He-Tube'\n",
      "          value = float64(10)\n",
      "            @units = 'K'\n",
      "        temperature3:NXsensor\n",
      "          @name = 'Temperature Ion-Tube'\n",
      "          value = float64(10)\n",
      "            @units = 'K'\n",
      "        temperature4:NXsensor\n",
      "          @name = 'Temperature LN2-Tube'\n",
      "          value = float64(10)\n",
      "            @units = 'K'\n",
      "      type = 'sample'\n",
      "    start_time = '2021-03-30T09:54:53+02:00'\n",
      "    user1:NXuser\n",
      "      address = 'Helmholtz-Zentrum Berlin, BESSY II, Albert-Einstein-Stra...'\n",
      "      name = 'PGM1-User'\n",
      "      role = 'local_contact'\n",
      "    user2:NXuser\n",
      "      address = 'Helmholtz-Zentrum Berlin für Materialien und Energie Ins...'\n",
      "      email = 'gerrit.guenther@helmholtz-berlin.de'\n",
      "      name = 'Günther, Gerrit'\n",
      "      orcid = '0000-0001-6243-1728'\n",
      "      role = 'proposer'\n"
     ]
    }
   ],
   "source": [
    "print(a.tree)"
   ]
  },
  {
   "cell_type": "markdown",
   "id": "2ffee5e2",
   "metadata": {},
   "source": [
    "Instrument DOI inserted in the notes: `@URL = 'https://doi.org/10.5442/ni000004'`"
   ]
  },
  {
   "cell_type": "markdown",
   "id": "6cda4e9d",
   "metadata": {},
   "source": [
    "'Co02_001_Mono.txt' is a reference/link file"
   ]
  },
  {
   "cell_type": "markdown",
   "id": "ab1254b7",
   "metadata": {},
   "source": [
    "the xml dictionary or `NeXus` application definition used for the measurements description is given"
   ]
  },
  {
   "cell_type": "markdown",
   "id": "4e1add0f",
   "metadata": {},
   "source": [
    "`definition = 'NXxas'\n",
    "      @URL = 'https://manual.nexusformat.org/classes/applica...'`"
   ]
  },
  {
   "cell_type": "markdown",
   "id": "ed384c74",
   "metadata": {},
   "source": [
    "The sample description goes in `NXsample`"
   ]
  },
  {
   "cell_type": "markdown",
   "id": "3c8152e1",
   "metadata": {},
   "source": [
    "`sample:NXsample`"
   ]
  },
  {
   "cell_type": "markdown",
   "id": "7778e9c1",
   "metadata": {},
   "source": [
    "For this specific case the object entries are 2: one is called background, the other entry. <br>\n",
    "    They refer to data relative to the tests on the instruments and the measurements data on a sample.<br>\n",
    "    The keys __background__ and __entry__ help to distinguish the 2 groups of data"
   ]
  },
  {
   "cell_type": "markdown",
   "id": "d3334043",
   "metadata": {},
   "source": [
    "## Explore the file content ##"
   ]
  },
  {
   "cell_type": "markdown",
   "id": "3508e8e1",
   "metadata": {},
   "source": [
    "We can visualize and manipulate the file entries with different approaches: <br>\n",
    "Direct assignment: <br>\n",
    "\n",
    "`x = NXfield(np.linspace(0,2*np.pi,101), units='degree')` <br>\n",
    "\n",
    "Attribute assignment as the child of a `NeXus` group, <br> \n",
    "\n",
    "#%a.entry.sample.temperature=40.0\n",
    "\n",
    "Dictionary assignment to the `NeXus` group"
   ]
  },
  {
   "cell_type": "markdown",
   "id": "9405939d",
   "metadata": {},
   "source": [
    "We will see all the options in the coming lines"
   ]
  },
  {
   "cell_type": "markdown",
   "id": "f086b032",
   "metadata": {},
   "source": [
    "#### Visualize the dictionary keys ####"
   ]
  },
  {
   "cell_type": "code",
   "execution_count": 100,
   "id": "6d6588d6",
   "metadata": {
    "scrolled": true
   },
   "outputs": [
    {
     "data": {
      "text/plain": [
       "dict_keys(['entry_identifier', 'start_time', 'instrument', 'sample', 'experiment_documentation', 'user1', 'user2', 'notes', 'definition', 'integrated_intensity', 'data'])"
      ]
     },
     "execution_count": 100,
     "metadata": {},
     "output_type": "execute_result"
    }
   ],
   "source": [
    "a['/entry'].keys()"
   ]
  },
  {
   "cell_type": "markdown",
   "id": "9843300c",
   "metadata": {},
   "source": [
    "#### Access the data and plot them ####"
   ]
  },
  {
   "cell_type": "markdown",
   "id": "9cca924c",
   "metadata": {},
   "source": [
    "Note that the axis and title labels are already given in the Nx group data"
   ]
  },
  {
   "cell_type": "code",
   "execution_count": 101,
   "id": "76af6e43",
   "metadata": {},
   "outputs": [
    {
     "name": "stdout",
     "output_type": "stream",
     "text": [
      "[ 9.6926e-15 -3.4870e-15  1.7626e-16 ... -3.4347e-15 -2.0290e-15\n",
      "  7.4493e-15]\n"
     ]
    },
    {
     "data": {
      "image/png": "[encoded data removed]",
      "text/plain": [
       "<Figure size 432x288 with 1 Axes>"
      ]
     },
     "metadata": {
      "needs_background": "light"
     },
     "output_type": "display_data"
    }
   ],
   "source": [
    "b=(a['/entry/data/signal'])\n",
    "print(b)\n",
    "b.plot()\n"
   ]
  },
  {
   "cell_type": "markdown",
   "id": "4e93ec58",
   "metadata": {},
   "source": [
    "\n",
    "`NeXus` data  are stored in a class `NXfield`: <bc>\n",
    "`NXdata` contains the array of data and axes definition <bc> \n",
    " Additional classes are used to describe acquisition and processing settings"
   ]
  },
  {
   "cell_type": "markdown",
   "id": "48f30d9a",
   "metadata": {},
   "source": [
    "In the `NXfield` are allowed `NumPy` arrays, scalars, and attributes /additional metadata"
   ]
  },
  {
   "cell_type": "markdown",
   "id": "233d89e9",
   "metadata": {},
   "source": [
    "#### Visualize which Nexus application has been used to describe these data ####"
   ]
  },
  {
   "cell_type": "code",
   "execution_count": 103,
   "id": "7a78c5bc",
   "metadata": {},
   "outputs": [
    {
     "data": {
      "text/plain": [
       "NXgroup('background')"
      ]
     },
     "execution_count": 103,
     "metadata": {},
     "output_type": "execute_result"
    }
   ],
   "source": [
    "a['/background']"
   ]
  },
  {
   "cell_type": "markdown",
   "id": "0e7a8755",
   "metadata": {},
   "source": [
    "More on the NXxas application: https://manual.nexusformat.org/classes/applications/NXxas.html"
   ]
  },
  {
   "cell_type": "markdown",
   "id": "0061fd85",
   "metadata": {},
   "source": [
    "When using an application is mandatory to consider which elements are required "
   ]
  },
  {
   "cell_type": "markdown",
   "id": "2d7a32b4",
   "metadata": {},
   "source": [
    "Details of the xml structure for NXxas application :https://github.com/nexusformat/definitions/blob/main/applications/NXsas.nxdl.xml"
   ]
  },
  {
   "cell_type": "code",
   "execution_count": 105,
   "id": "7e349735",
   "metadata": {},
   "outputs": [
    {
     "ename": "IndentationError",
     "evalue": "unindent does not match any outer indentation level (<tokenize>, line 33)",
     "output_type": "error",
     "traceback": [
      "\u001b[0;36m  File \u001b[0;32m\"<tokenize>\"\u001b[0;36m, line \u001b[0;32m33\u001b[0m\n\u001b[0;31m    </doc>\u001b[0m\n\u001b[0m    ^\u001b[0m\n\u001b[0;31mIndentationError\u001b[0m\u001b[0;31m:\u001b[0m unindent does not match any outer indentation level\n"
     ]
    }
   ],
   "source": [
    "<?xml version=\"1.0\" encoding=\"UTF-8\"?>\n",
    "<?xml-stylesheet type=\"text/xsl\" href=\"nxdlformat.xsl\" ?>\n",
    "<!--\n",
    "# NeXus - Neutron and X-ray Common Data Format\n",
    "# \n",
    "# Copyright (C) 2008-2021 NeXus International Advisory Committee (NIAC)\n",
    "# \n",
    "# This library is free software; you can redistribute it and/or\n",
    "# modify it under the terms of the GNU Lesser General Public\n",
    "# License as published by the Free Software Foundation; either\n",
    "# version 3 of the License, or (at your option) any later version.\n",
    "#\n",
    "# This library is distributed in the hope that it will be useful,\n",
    "# but WITHOUT ANY WARRANTY; without even the implied warranty of\n",
    "# MERCHANTABILITY or FITNESS FOR A PARTICULAR PURPOSE.  See the GNU\n",
    "# Lesser General Public License for more details.\n",
    "#\n",
    "# You should have received a copy of the GNU Lesser General Public\n",
    "# License along with this library; if not, write to the Free Software\n",
    "# Foundation, Inc., 59 Temple Place, Suite 330, Boston, MA  02111-1307  USA\n",
    "#\n",
    "# For further information, see http://www.nexusformat.org\n",
    "-->\n",
    "<definition name=\"NXsas\" extends=\"NXobject\" type=\"group\"\n",
    "  category=\"application\"\n",
    "  xmlns=\"http://definition.nexusformat.org/nxdl/3.1\"\n",
    "  xmlns:xsi=\"http://www.w3.org/2001/XMLSchema-instance\"\n",
    "  xsi:schemaLocation=\"http://definition.nexusformat.org/nxdl/3.1 ../nxdl.xsd\"\n",
    "  >\n",
    "  <symbols>\n",
    "    <doc>\n",
    "\t  The symbol(s) listed here will be used below to coordinate datasets with the same shape.\n",
    "\t</doc>\n",
    "\t<symbol name=\"nXPixel\">\n",
    "\t  <doc>nXPixel description</doc>\n",
    "\t</symbol>\n",
    "\t<symbol name=\"nYPixel\">\n",
    "\t  <doc>nYPixel description</doc>\n",
    "\t</symbol>\n",
    "  </symbols>\n",
    "  <doc>\n",
    "    raw, monochromatic 2-D SAS data with an area detector\n",
    "\n",
    "    This is an application definition for raw data (not processed or reduced data) \n",
    "    from a 2-D small angle scattering instrument collected with a monochromatic \n",
    "    beam and an area detector. It is meant to be suitable both for neutron SANS \n",
    "    and X-ray SAXS data. \n",
    "    \n",
    "    It covers all raw data from any monochromatic SAS techniques that\n",
    "    use an area detector: SAS, WSAS, grazing incidence, GISAS\n",
    "\n",
    "    It covers all raw data from any SAS techniques\n",
    "    that use an area detector\n",
    "    and a monochromatic beam.\n",
    "  </doc>\n",
    "  <group type=\"NXentry\">\n",
    "    <attribute name=\"entry\">\n",
    "      <doc>\n",
    "\t\tNeXus convention is to use ``entry1``, ``entry2``, ... \n",
    "\t\tfor analysis software to locate each entry\n",
    "      </doc>\n",
    "    </attribute>\n",
    "    <field name=\"title\"/>\n",
    "    <field name=\"start_time\" type=\"NX_DATE_TIME\"/>\n",
    "    <field name=\"end_time\" type=\"NX_DATE_TIME\"/>\n",
    "    <field name=\"definition\">\n",
    "      <doc> Official NeXus NXDL schema to which this file conforms </doc>\n",
    "      <enumeration>\n",
    "        <item value=\"NXsas\"/>\n",
    "      </enumeration>\n",
    "    </field>\n",
    "    <group type=\"NXinstrument\" name=\"instrument\">\n",
    "      <group type=\"NXsource\" name=\"source\">\n",
    "        <field name=\"type\">\n",
    "          <doc>type of radiation source</doc>\n",
    "        </field>\n",
    "        <field name=\"name\">\n",
    "          <doc>Name of the radiation source</doc>\n",
    "        </field>\n",
    "        <field name=\"probe\">\n",
    "          <enumeration>\n",
    "            <item value=\"neutron\"/>\n",
    "            <item value=\"x-ray\"/>\n",
    "          </enumeration>\n",
    "        </field>\n",
    "      </group>\n",
    "      <group type=\"NXmonochromator\" name=\"monochromator\">\n",
    "        <field name=\"wavelength\" units=\"NX_WAVELENGTH\" type=\"NX_FLOAT\">\n",
    "          <doc>The wavelength of the radiation</doc>\n",
    "        </field>\n",
    "        <field name=\"wavelength_spread\" type=\"NX_FLOAT\">\n",
    "          <doc>\n",
    "\t          delta_lambda/lambda (:math:`\\Delta\\lambda/\\lambda`):\n",
    "\t          Important for resolution calculations\n",
    "          </doc>\n",
    "        </field>\n",
    "      </group>\n",
    "      <group type=\"NXcollimator\" name=\"collimator\">\n",
    "        <group type=\"NXgeometry\" name=\"geometry\">\n",
    "          <group type=\"NXshape\" name=\"shape\">\n",
    "            <field name=\"shape\" type=\"NX_CHAR\">\n",
    "              <enumeration>\n",
    "                <item value=\"nxcylinder\"/>\n",
    "                <item value=\"nxbox\"/>\n",
    "              </enumeration>\n",
    "            </field>\n",
    "            <field name=\"size\" type=\"NX_FLOAT\" units=\"NX_LENGTH\">\n",
    "              <doc>The collimation length</doc>\n",
    "            </field>\n",
    "          </group>\n",
    "        </group>\n",
    "      </group>\n",
    "      <group type=\"NXdetector\" name=\"detector\">\n",
    "        <field name=\"data\" type=\"NX_NUMBER\" signal=\"1\">\n",
    "          <doc>\n",
    "            This is area detector data, of number of x-pixel versus\n",
    "            number of y-pixels. Since the beam center is to be\n",
    "            determined as a step of data reduction, it is not necessary\n",
    "            to document or assume the position of the beam center in\n",
    "            acquired data.\n",
    "          </doc>\n",
    "          <dimensions rank=\"2\">\n",
    "            <dim index=\"1\" value=\"nXPixel\" />\n",
    "            <dim index=\"2\" value=\"nYPixel\" />\n",
    "          </dimensions>\n",
    "        </field>\n",
    "        <field name=\"distance\" type=\"NX_FLOAT\" units=\"NX_LENGTH\">\n",
    "          <doc>The distance between detector and sample</doc>\n",
    "        </field>\n",
    "        <field name=\"x_pixel_size\" type=\"NX_FLOAT\" units=\"NX_LENGTH\">\n",
    "          <doc>Physical size of a pixel in x-direction</doc>\n",
    "        </field>\n",
    "        <field name=\"y_pixel_size\" type=\"NX_FLOAT\" units=\"NX_LENGTH\">\n",
    "          <doc>Size of a pixel in y direction</doc>\n",
    "        </field>\n",
    "        <field name=\"polar_angle\" type=\"NX_FLOAT\" units=\"NX_ANGLE\"></field>\n",
    "        <field name=\"azimuthal_angle\" type=\"NX_FLOAT\"\n",
    "          units=\"NX_ANGLE\">\n",
    "        </field>\n",
    "        <field name=\"rotation_angle\" type=\"NX_FLOAT\" units=\"NX_ANGLE\"></field>\n",
    "        <field name=\"aequatorial_angle\" type=\"NX_FLOAT\"\n",
    "          units=\"NX_ANGLE\">\n",
    "        </field>\n",
    "\t\t<field name=\"beam_center_x\" type=\"NX_FLOAT\" units=\"NX_LENGTH\">\n",
    "\t\t\t<doc>\n",
    "\t\t\t\tThis is the x position where the direct beam would hit the detector. This is a\n",
    "\t\t\t\tlength, not a pixel position, and can be outside of the actual detector.\n",
    "\t\t\t</doc>\n",
    "\t\t</field>\n",
    "        <field name=\"beam_center_y\" type=\"NX_FLOAT\" units=\"NX_LENGTH\">\n",
    "\t\t\t<doc>\n",
    "\t\t\t\tThis is the y position where the direct beam would hit the detector. This is a\n",
    "\t\t\t\tlength, not a pixel position, and can be outside of the actual detector.\n",
    "\t\t\t</doc>\n",
    "\t\t</field>\n",
    "      </group>\n",
    "      <field name=\"name\" type=\"NX_CHAR\">\n",
    "        <doc>Name of the instrument actually used to perform the experiment</doc>\n",
    "      </field>\n",
    "    </group>\n",
    "    <group type=\"NXsample\" name=\"sample\">\n",
    "      <field name=\"name\">\n",
    "        <doc>Descriptive name of sample</doc>\n",
    "      </field>\n",
    "      <field name=\"aequatorial_angle\" type=\"NX_FLOAT\"\n",
    "        units=\"NX_ANGLE\">\n",
    "      </field>\n",
    "    </group>\n",
    "    <group type=\"NXmonitor\" name=\"control\">\n",
    "      <field name=\"mode\">\n",
    "        <doc>\n",
    "\t\t\tCount to a preset value based on either clock time \n",
    "\t\t\t(timer) or received monitor counts (monitor). \n",
    "        </doc>\n",
    "        <enumeration>\n",
    "          <item value=\"monitor\"/>\n",
    "          <item value=\"timer\"/>\n",
    "        </enumeration>\n",
    "      </field>\n",
    "      <field name=\"preset\" type=\"NX_FLOAT\">\n",
    "        <doc>preset value for time or monitor</doc>\n",
    "      </field>\n",
    "      <field name=\"integral\" type=\"NX_FLOAT\" units=\"NX_ANY\">\n",
    "        <doc>Total integral monitor counts</doc>\n",
    "      </field>\n",
    "    </group>\n",
    "    <group type=\"NXdata\" name=\"data\">\n",
    "      <link name=\"data\" target=\"/NXentry/NXinstrument/NXdetector/data\"></link>\n",
    "    </group>\n",
    "  </group>\n",
    "</definition>"
   ]
  },
  {
   "cell_type": "markdown",
   "id": "d413262f",
   "metadata": {},
   "source": [
    "#### Let's continue to explore the `Nexus` fields ####"
   ]
  },
  {
   "cell_type": "code",
   "execution_count": 106,
   "id": "8e54fd4b",
   "metadata": {},
   "outputs": [
    {
     "data": {
      "text/plain": [
       "dict_keys(['entry_identifier', 'start_time', 'instrument', 'sample', 'experiment_documentation', 'user1', 'user2', 'notes', 'definition', 'integrated_intensity', 'data'])"
      ]
     },
     "execution_count": 106,
     "metadata": {},
     "output_type": "execute_result"
    }
   ],
   "source": [
    "a['/entry/'].keys()"
   ]
  },
  {
   "cell_type": "code",
   "execution_count": 107,
   "id": "b80aa63e",
   "metadata": {},
   "outputs": [
    {
     "name": "stdout",
     "output_type": "stream",
     "text": [
      "dict_keys(['name', 'source', 'incoming_beam', 'absorbed_beam', 'tof_mass_spectrum', 'insertion_device', 'monochromator', 'slitwidth'])\n"
     ]
    }
   ],
   "source": [
    "print(a['/entry/instrument'].keys())"
   ]
  },
  {
   "cell_type": "code",
   "execution_count": 108,
   "id": "b64674dc",
   "metadata": {
    "scrolled": true
   },
   "outputs": [
    {
     "name": "stdout",
     "output_type": "stream",
     "text": [
      "dict_keys(['name', 'type', 'situation', 'temperature_env', 'pressure_env'])\n"
     ]
    }
   ],
   "source": [
    "print(a['/entry/sample'].keys())"
   ]
  },
  {
   "cell_type": "markdown",
   "id": "ec7a958b",
   "metadata": {},
   "source": [
    "Let's explore the parameter using the access to the child of a NeXus group "
   ]
  },
  {
   "cell_type": "code",
   "execution_count": 109,
   "id": "1e407f16",
   "metadata": {
    "scrolled": true
   },
   "outputs": [
    {
     "data": {
      "text/plain": [
       "NXgroup('sample')"
      ]
     },
     "execution_count": 109,
     "metadata": {},
     "output_type": "execute_result"
    }
   ],
   "source": [
    "a.entry.sample"
   ]
  },
  {
   "cell_type": "code",
   "execution_count": 110,
   "id": "48291080",
   "metadata": {},
   "outputs": [
    {
     "data": {
      "text/plain": [
       "NXfield('sample')"
      ]
     },
     "execution_count": 110,
     "metadata": {},
     "output_type": "execute_result"
    }
   ],
   "source": [
    "a.entry.sample.type"
   ]
  },
  {
   "cell_type": "code",
   "execution_count": 111,
   "id": "0f3cf5e8",
   "metadata": {},
   "outputs": [
    {
     "name": "stdout",
     "output_type": "stream",
     "text": [
      "sample\n"
     ]
    }
   ],
   "source": [
    "print(a.entry.sample.type)"
   ]
  },
  {
   "cell_type": "code",
   "execution_count": 112,
   "id": "8d2c49e0",
   "metadata": {
    "scrolled": true
   },
   "outputs": [
    {
     "name": "stdout",
     "output_type": "stream",
     "text": [
      "dict_keys(['entry_identifier', 'start_time', 'instrument', 'sample', 'experiment_documentation', 'user1', 'user2', 'notes', 'definition', 'integrated_intensity', 'data'])\n"
     ]
    }
   ],
   "source": [
    "print(a.entry.keys())"
   ]
  },
  {
   "cell_type": "code",
   "execution_count": 113,
   "id": "e5cd4707",
   "metadata": {},
   "outputs": [
    {
     "data": {
      "text/plain": [
       "NXgroup('instrument')"
      ]
     },
     "execution_count": 113,
     "metadata": {},
     "output_type": "execute_result"
    }
   ],
   "source": [
    "a.entry.instrument"
   ]
  },
  {
   "cell_type": "code",
   "execution_count": 114,
   "id": "52ff2f26",
   "metadata": {},
   "outputs": [
    {
     "data": {
      "text/plain": [
       "NXdata('data')"
      ]
     },
     "execution_count": 114,
     "metadata": {},
     "output_type": "execute_result"
    }
   ],
   "source": [
    "a.entry.data"
   ]
  },
  {
   "cell_type": "code",
   "execution_count": 115,
   "id": "3ba4d5de",
   "metadata": {},
   "outputs": [
    {
     "data": {
      "image/png": "[encoded data removed]",
      "text/plain": [
       "<Figure size 432x288 with 1 Axes>"
      ]
     },
     "metadata": {
      "needs_background": "light"
     },
     "output_type": "display_data"
    }
   ],
   "source": [
    "a.entry.data.signal.plot()"
   ]
  },
  {
   "cell_type": "code",
   "execution_count": 116,
   "id": "b5dc13f7",
   "metadata": {},
   "outputs": [
    {
     "data": {
      "text/plain": [
       "dict_keys(['entry_identifier', 'start_time', 'instrument', 'sample', 'experiment_documentation', 'user1', 'user2', 'notes', 'definition', 'integrated_intensity', 'data'])"
      ]
     },
     "execution_count": 116,
     "metadata": {},
     "output_type": "execute_result"
    }
   ],
   "source": [
    "a.entry.keys()"
   ]
  },
  {
   "cell_type": "code",
   "execution_count": 117,
   "id": "b9f90beb",
   "metadata": {},
   "outputs": [
    {
     "data": {
      "text/plain": [
       "dict_keys(['name', 'source', 'incoming_beam', 'absorbed_beam', 'tof_mass_spectrum', 'insertion_device', 'monochromator', 'slitwidth'])"
      ]
     },
     "execution_count": 117,
     "metadata": {},
     "output_type": "execute_result"
    }
   ],
   "source": [
    "a.entry.instrument.keys()"
   ]
  },
  {
   "cell_type": "code",
   "execution_count": 119,
   "id": "711084f9",
   "metadata": {},
   "outputs": [
    {
     "data": {
      "text/plain": [
       "NXmonochromator('monochromator')"
      ]
     },
     "execution_count": 119,
     "metadata": {},
     "output_type": "execute_result"
    }
   ],
   "source": [
    "a.entry.instrument.monochromator"
   ]
  },
  {
   "cell_type": "code",
   "execution_count": 120,
   "id": "05909b43",
   "metadata": {},
   "outputs": [
    {
     "name": "stdout",
     "output_type": "stream",
     "text": [
      "dict_keys(['name', 'probe', 'type', 'current'])\n"
     ]
    }
   ],
   "source": [
    "print(a.entry.instrument.source.keys())"
   ]
  },
  {
   "cell_type": "code",
   "execution_count": 121,
   "id": "5edb678a",
   "metadata": {
    "scrolled": true
   },
   "outputs": [
    {
     "data": {
      "text/plain": [
       "NXfield('BESSY II')"
      ]
     },
     "execution_count": 121,
     "metadata": {},
     "output_type": "execute_result"
    }
   ],
   "source": [
    "a.entry.instrument.source.name"
   ]
  },
  {
   "cell_type": "markdown",
   "id": "3dddd7d4",
   "metadata": {},
   "source": [
    "We can manipulate this entry and assign a new name to the source"
   ]
  },
  {
   "cell_type": "markdown",
   "id": "881af50a",
   "metadata": {},
   "source": [
    "https://manual.nexusformat.org/classes/base_classes/index.html"
   ]
  },
  {
   "cell_type": "markdown",
   "id": "ac5411b7",
   "metadata": {},
   "source": [
    "The use of the GUI `NexusWriter` by Gerrit Günther, facilitate the dictionary exploration.\n",
    "It enables a user friendly data curation and a later ingestion in Icat repository"
   ]
  },
  {
   "cell_type": "markdown",
   "id": "40a4ab86",
   "metadata": {},
   "source": [
    "# visualize the Nexus structure as an xml file"
   ]
  },
  {
   "cell_type": "code",
   "execution_count": 55,
   "id": "08685481",
   "metadata": {},
   "outputs": [
    {
     "name": "stdout",
     "output_type": "stream",
     "text": [
      "dict_keys(['background', 'entry'])\n",
      "b'<?xml version=\"1.0\" encoding=\"UTF-8\" ?><root><item type=\"str\">background</item><item type=\"str\">entry</item></root>'\n"
     ]
    }
   ],
   "source": [
    "b=(a.keys())\n",
    "print(b)\n",
    "xml=dicttoxml(b)\n",
    "print(xml)"
   ]
  },
  {
   "cell_type": "code",
   "execution_count": 62,
   "id": "e0773f78",
   "metadata": {},
   "outputs": [
    {
     "name": "stdout",
     "output_type": "stream",
     "text": [
      "definition\n",
      "start_time\n",
      "entry_identifier\n",
      "experiment_identifier\n",
      "user1\n",
      "notes\n",
      "instrument\n",
      "integrated_intensity\n",
      "sample\n",
      "data\n"
     ]
    }
   ],
   "source": [
    "for item in a.entry.keys():\n",
    "    print(item)"
   ]
  },
  {
   "cell_type": "markdown",
   "id": "a4ab6b6f",
   "metadata": {},
   "source": [
    "We can loop over the entries and convert the whole dictionary in an xml structure"
   ]
  },
  {
   "cell_type": "code",
   "execution_count": 70,
   "id": "863874ac",
   "metadata": {},
   "outputs": [
    {
     "data": {
      "text/plain": [
       "dict_keys(['H5PY_version', 'creator', 'default', 'file_time'])"
      ]
     },
     "execution_count": 70,
     "metadata": {},
     "output_type": "execute_result"
    }
   ],
   "source": [
    "a.attrs.keys()"
   ]
  },
  {
   "cell_type": "markdown",
   "id": "64376169",
   "metadata": {},
   "source": [
    "#### Save the array of data as an ASCII and  <bc>\n",
    "#### preserve the metadata information as separated xml file is possible but not recommended ####"
   ]
  },
  {
   "cell_type": "markdown",
   "id": "848ad49a",
   "metadata": {},
   "source": [
    "#### Alternative option to open the `Nexus` file : h5py attributes ####"
   ]
  },
  {
   "cell_type": "code",
   "execution_count": 64,
   "id": "92e39755",
   "metadata": {},
   "outputs": [
    {
     "name": "stdout",
     "output_type": "stream",
     "text": [
      "H5PY_version: 3.2.1\n",
      "creator: h5py\n",
      "default: entry\n",
      "file_time: 2021-06-29T16:51:09+02:00\n"
     ]
    },
    {
     "data": {
      "text/plain": [
       "<KeysViewHDF5 ['definition', 'start_time', 'entry_identifier', 'experiment_identifier', 'user1', 'notes', 'instrument', 'integrated_intensity', 'sample', 'data']>"
      ]
     },
     "execution_count": 64,
     "metadata": {},
     "output_type": "execute_result"
    }
   ],
   "source": [
    "f=h5py.File(fp,\"r\")\n",
    "f.attrs.keys()\n",
    "for item in f.attrs.keys():\n",
    "        print(item+\":\",f.attrs[item])\n",
    "\n",
    "f['/entry'].keys()\n",
    "\n",
    "#%%%%use this dictionary by changing the entries and attaching another dataset%%%%%\n"
   ]
  },
  {
   "cell_type": "code",
   "execution_count": 71,
   "id": "387ce073",
   "metadata": {},
   "outputs": [
    {
     "data": {
      "text/plain": [
       "<Attributes of HDF5 object at 139954745201392>"
      ]
     },
     "execution_count": 71,
     "metadata": {},
     "output_type": "execute_result"
    }
   ],
   "source": [
    "f.attrs"
   ]
  },
  {
   "cell_type": "code",
   "execution_count": 28,
   "id": "3f3f4344",
   "metadata": {},
   "outputs": [
    {
     "name": "stdout",
     "output_type": "stream",
     "text": [
      "<HDF5 file \"2021-03-Dy01Cp02_2.nxs\" (mode r)>\n"
     ]
    }
   ],
   "source": [
    "print(f)"
   ]
  },
  {
   "cell_type": "code",
   "execution_count": 34,
   "id": "b8d2d763",
   "metadata": {},
   "outputs": [
    {
     "name": "stdout",
     "output_type": "stream",
     "text": [
      "<KeysViewHDF5 ['temperature1', 'temperature2', 'temperature3', 'temperature4']>\n"
     ]
    }
   ],
   "source": [
    "print(f['/entry1/sample/temperature_env'].keys())"
   ]
  },
  {
   "cell_type": "code",
   "execution_count": 72,
   "id": "e5680de3",
   "metadata": {},
   "outputs": [
    {
     "ename": "AttributeError",
     "evalue": "'File' object has no attribute 'entry'",
     "output_type": "error",
     "traceback": [
      "\u001b[0;31m---------------------------------------------------------------------------\u001b[0m",
      "\u001b[0;31mAttributeError\u001b[0m                            Traceback (most recent call last)",
      "\u001b[0;32m<ipython-input-72-aaa36e290a73>\u001b[0m in \u001b[0;36m<module>\u001b[0;34m\u001b[0m\n\u001b[0;32m----> 1\u001b[0;31m \u001b[0mf\u001b[0m\u001b[0;34m.\u001b[0m\u001b[0mentry\u001b[0m\u001b[0;34m\u001b[0m\u001b[0;34m\u001b[0m\u001b[0m\n\u001b[0m",
      "\u001b[0;31mAttributeError\u001b[0m: 'File' object has no attribute 'entry'"
     ]
    }
   ],
   "source": [
    "f.entry"
   ]
  },
  {
   "cell_type": "markdown",
   "id": "2db95db0",
   "metadata": {},
   "source": [
    "### NeXus files and ICAT data ingestions ###"
   ]
  },
  {
   "cell_type": "markdown",
   "id": "9391c7a7",
   "metadata": {},
   "source": [
    "The `NeXus` file entries are mapped to the ICAT metadata schema to enable the data ingestion"
   ]
  },
  {
   "cell_type": "code",
   "execution_count": 48,
   "id": "df62cbff",
   "metadata": {
    "scrolled": true
   },
   "outputs": [
    {
     "name": "stdout",
     "output_type": "stream",
     "text": [
      "{'nxs/entry/program_name': {'type': 'STRING', 'units': 'N/A'}, 'nxs/entry/comment/data': {'type': 'STRING', 'units': 'N/A'}, 'nxs/entry/intensityIntegrationProcess/intensity': {'type': 'NUMERIC', 'units': 'a.u.'}, 'nxs/entry/intensityIntegrationProcess/mode': {'type': 'STRING', 'units': 'N/A'}, 'nxs/entry/data/absorbed_beam': {'type': 'NUMERIC', 'units': 'A'}, 'nxs/entry/data/energy': {'type': 'NUMERIC', 'units': 'eV'}, 'nxs/entry/instrument/detector1/long_name': {'type': 'STRING', 'units': 'N/A'}, 'nxs/entry/instrument/detector1/short_name': {'type': 'STRING', 'units': 'N/A'}, 'nxs/entry/instrument/detector1/data': {'type': 'NUMERIC', 'units': 'A'}, 'nxs/entry/instrument/detector1/type': {'type': 'STRING', 'units': 'N/A'}, 'nxs/entry/instrument/detector2/long_name': {'type': 'STRING', 'units': 'N/A'}, 'nxs/entry/instrument/detector2/short_name': {'type': 'STRING', 'units': 'N/A'}, 'nxs/entry/instrument/detector2/flux': {'type': 'NUMERIC', 'units': 'Hz'}, 'nxs/entry/instrument/detector2/type': {'type': 'STRING', 'units': 'N/A'}, 'nxs/entry/instrument/detector3/long_name': {'type': 'STRING', 'units': 'N/A'}, 'nxs/entry/instrument/detector3/short_name': {'type': 'STRING', 'units': 'N/A'}, 'nxs/entry/instrument/detector3/type': {'type': 'STRING', 'units': 'N/A'}, 'nxs/entry/instrument/insertion_device/short_name': {'type': 'STRING', 'units': 'N/A'}, 'nxs/entry/instrument/insertion_device/bandwidth': {'type': 'NUMERIC', 'units': 'eV'}, 'nxs/entry/instrument/insertion_device/beam': {'type': 'STRING', 'units': 'N/A'}, 'nxs/entry/instrument/insertion_device/gap': {'type': 'NUMERIC', 'units': 'm'}, 'nxs/entry/instrument/insertion_device/name': {'type': 'STRING', 'units': 'N/A'}, 'nxs/entry/instrument/insertion_device/offset': {'type': 'STRING', 'units': 'N/A'}, 'nxs/entry/instrument/insertion_device/shift': {'type': 'NUMERIC', 'units': 'm'}, 'nxs/entry/instrument/insertion_device/slope': {'type': 'STRING', 'units': 'N/A'}, 'nxs/entry/instrument/insertion_device/type': {'type': 'STRING', 'units': 'N/A'}, 'nxs/entry/instrument/monochromator/short_name': {'type': 'STRING', 'units': 'N/A'}, 'nxs/entry/instrument/monochromator/energy_set': {'type': 'NUMERIC', 'units': 'eV'}, 'nxs/entry/instrument/slitwidth/x_gap': {'type': 'NUMERIC', 'units': 'm'}, 'nxs/entry/instrument/source/current': {'type': 'NUMERIC', 'units': 'A'}, 'nxs/entry/sample/pressure_env/short_name': {'type': 'STRING', 'units': 'N/A'}, 'nxs/entry/sample/temperature_env/short_name': {'type': 'STRING', 'units': 'N/A'}, 'nxs/entry/instrument/insertion_device/table_file/file_name': {'type': 'STRING', 'units': 'N/A'}, 'nxs/entry/sample/pressure_env/pressure1/long_name': {'type': 'STRING', 'units': 'N/A'}, 'nxs/entry/sample/pressure_env/pressure1/value': {'type': 'NUMERIC', 'units': 'Pa'}, 'nxs/entry/sample/pressure_env/pressure2/long_name': {'type': 'STRING', 'units': 'N/A'}, 'nxs/entry/sample/pressure_env/pressure2/value': {'type': 'NUMERIC', 'units': 'Pa'}, 'nxs/entry/sample/pressure_env/pressure3/long_name': {'type': 'STRING', 'units': 'N/A'}, 'nxs/entry/sample/pressure_env/pressure3/value': {'type': 'NUMERIC', 'units': 'Pa'}, 'nxs/entry/sample/pressure_env/pressure4/long_name': {'type': 'STRING', 'units': 'N/A'}, 'nxs/entry/sample/pressure_env/pressure4/value': {'type': 'NUMERIC', 'units': 'Pa'}, 'nxs/entry/sample/temperature_env/temperature1/long_name': {'type': 'STRING', 'units': 'N/A'}, 'nxs/entry/sample/temperature_env/temperature1/value': {'type': 'NUMERIC', 'units': 'K'}, 'nxs/entry/sample/temperature_env/temperature2/long_name': {'type': 'STRING', 'units': 'N/A'}, 'nxs/entry/sample/temperature_env/temperature2/value': {'type': 'NUMERIC', 'units': 'K'}, 'nxs/entry/sample/temperature_env/temperature3/long_name': {'type': 'STRING', 'units': 'N/A'}, 'nxs/entry/sample/temperature_env/temperature3/value': {'type': 'NUMERIC', 'units': 'K'}, 'nxs/entry/sample/temperature_env/temperature4/long_name': {'type': 'STRING', 'units': 'N/A'}, 'nxs/entry/sample/temperature_env/temperature4/value': {'type': 'NUMERIC', 'units': 'K'}, 'nxs/entry/sample/name': {'type': 'STRING', 'units': 'N/A'}, 'nxs/entry/definition': {'type': 'STRING', 'units': 'N/A'}, 'nxs/entry/sample/temperature/value': {'type': 'NUMERIC', 'units': 'K'}, 'nxs/entry/sample/temperature/long_name': {'type': 'STRING', 'units': 'N/A'}}\n"
     ]
    }
   ],
   "source": [
    "from flatten_dict import flatten\n",
    "filename=path+'icatParameterList.json'\n",
    "fo=open(filename)\n",
    "icat_dict=json.load(fo)\n",
    "print(icat_dict)"
   ]
  },
  {
   "cell_type": "markdown",
   "id": "5be7b2cd",
   "metadata": {},
   "source": [
    "This dictionary entries are used for the data search in the topcat web interface"
   ]
  },
  {
   "cell_type": "markdown",
   "id": "bf59bcbc",
   "metadata": {},
   "source": [
    "## Compatibility between NeXus files and data visualization and processing software"
   ]
  },
  {
   "cell_type": "code",
   "execution_count": null,
   "id": "8a57bbeb",
   "metadata": {},
   "outputs": [],
   "source": []
  }
 ],
 "metadata": {
  "hide_input": false,
  "kernelspec": {
   "display_name": "Python 3",
   "language": "python",
   "name": "python3"
  },
  "language_info": {
   "codemirror_mode": {
    "name": "ipython",
    "version": 3
   },
   "file_extension": ".py",
   "mimetype": "text/x-python",
   "name": "python",
   "nbconvert_exporter": "python",
   "pygments_lexer": "ipython3",
   "version": "3.7.10"
  }
 },
 "nbformat": 4,
 "nbformat_minor": 5
}
