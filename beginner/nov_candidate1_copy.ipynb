{
 "cells": [
  {
   "cell_type": "markdown",
   "id": "a8e4fac5",
   "metadata": {},
   "source": [
    "# Let's test how to load and manipulate a Nexus File #"
   ]
  },
  {
   "cell_type": "markdown",
   "id": "67261660",
   "metadata": {},
   "source": [
    "### A few words on the Nexus hierarchical structure and classes ###"
   ]
  },
  {
   "cell_type": "markdown",
   "id": "72e354c2",
   "metadata": {},
   "source": [
    "NeXus Objects are used to handle Xray and muon experiment with a domanin specific dictionary \n",
    "evaluated by NIAC supervision.\n",
    "Community users can submit dictionary implementations\n",
    "related to the full description of their measurements data"
   ]
  },
  {
   "cell_type": "markdown",
   "id": "4dca38d2",
   "metadata": {},
   "source": [
    "Nexus files are suitable for __raw data__ as well as for\n",
    "__processed data__. <br>\n",
    "NeXus data is stored as a hierarchical tree structure The structure is made of groups, fields, attributes and links groups are containers /folders of fields and other groups fields are array and scalars attributes are extra info of groups and fields\n",
    "\n",
    "Base classes are standard objects for describing the experiment each group has a name and a class defining it. the class define the type of object, the name identifies it\n",
    "\n",
    "the base class definitions and application definitions contain all the components to built a data file\n",
    "\n",
    "The further developement of Nexus classes is under the NIAC supervision NXentry is the root level of Nexus file containing all the data and\n",
    "descriptors Nxdata contains the array of data and axes definition other classes allow the description of acquisition and processing settings\n",
    "\n",
    "The NXfield class wraps standard NumPy arrays, scalars, and attributes /additional metadata\n",
    "For the latter there is a dedicated entry for the data processing documentation "
   ]
  },
  {
   "cell_type": "markdown",
   "id": "433abeaa",
   "metadata": {},
   "source": [
    "\n",
    "groups are containers /folders of fields and other groups fields are array and scalars attributes are extra info of groups and fields\n",
    "\n",
    "Base classes are standard objects for describing the experiment each group has a name and a class defining it. the class define the type of object, the name identifies it\n",
    "\n",
    "the base class definitions and application definitions contain all the components to built a data file\n",
    "\n",
    "The further developement of Nexus classes is under the NIAC supervision NXentry is the root level of Nexus file containing all the data and\n",
    "descriptors Nxdata contains the array of data and axes definition other classes allow the description of acquisition and processing settings\n",
    "here are three ways to create an NXfield.\n",
    "\n",
    "    Direct assignment:\n",
    "\n",
    "x = NXfield(np.linspace(0,2*np.pi,101), units='degree')\n",
    "\n",
    "\n",
    "    The data value is given by the first positional argument, and may be a Python scalar or string, or a NumPy array. In this method, keyword arguments can be used to define NXfield attributes.\n",
    "\n",
    "    Attribute assignment as the child of a NeXus group:\n",
    "\n",
    "    a.entry.sample.temperature=40.0\n",
    "\n",
    "    The assigned values are automatically converted to an NXfield:\n",
    "\n",
    "    a.entry.sample.temperature\n",
    "    NXfield(40.0)\n",
    "\n",
    "    Dictionary assignment to the NeXus group:\n",
    "\n",
    "    a['entry/sample/temperature']=40.0\n",
    "\n",
    "    This is equivalent to the second method, but should be used if there is a danger of a name clash with an NXfield method, e.g., if the NXfield is called ‘plot’.\n",
    "NeXus attributes\n",
    "Nexus Standars are the application definitions\n",
    "The structure is made of groups, fields and attributes\n",
    "NeXus data values are stored in NeXus objects of class ‘NXfield’. \n",
    "The NXfield class wraps standard NumPy arrays, scalars, and Python strings so that additional metadata\n",
    "(or attributes) and methods can be associated with them."
   ]
  },
  {
   "cell_type": "markdown",
   "id": "04de8072",
   "metadata": {},
   "source": [
    "## Case 1: Load a file compatible with icat ingestion ##"
   ]
  },
  {
   "cell_type": "markdown",
   "id": "c5c324e1",
   "metadata": {},
   "source": [
    "The Nexus structure consists of groups, fields, attributes and \n",
    "links."
   ]
  },
  {
   "cell_type": "markdown",
   "id": "ef65975a",
   "metadata": {},
   "source": [
    "We use Python shell and built in functions to:<br>\n",
    "handle array of data <br>\n",
    "plot the data array <br>\n",
    "handle xml structures"
   ]
  },
  {
   "cell_type": "markdown",
   "id": "f0cc476c",
   "metadata": {},
   "source": [
    "We also use a python package to read HDF5 file formats"
   ]
  },
  {
   "cell_type": "code",
   "execution_count": 2,
   "id": "0f000971",
   "metadata": {
    "scrolled": true
   },
   "outputs": [],
   "source": [
    "from nexusformat.nexus import *\n",
    "from matplotlib import pyplot as plt\n",
    "import numpy as np\n",
    "import  json\n",
    "import h5py\n",
    "from dicttoxml import dicttoxml"
   ]
  },
  {
   "cell_type": "markdown",
   "id": "fe06d32e",
   "metadata": {},
   "source": [
    "We load a Nexus file created by Gerrit Gunther for the icat ingestion"
   ]
  },
  {
   "cell_type": "code",
   "execution_count": 3,
   "id": "7579b769",
   "metadata": {},
   "outputs": [],
   "source": [
    "path='/home/luigia/Documents/metadata_course/data_public1_HZB/'\n",
    "filename='Ni01CO04_001_2020-07-02.nxs'\n",
    "#%2021-03-Dy01Cp02_2.nxs'\n",
    "fp=path+filename\n",
    "a=nxload(fp)"
   ]
  },
  {
   "cell_type": "markdown",
   "id": "aed76948",
   "metadata": {},
   "source": [
    "Let's have a look at the file structure and its content"
   ]
  },
  {
   "cell_type": "markdown",
   "id": "38a09898",
   "metadata": {},
   "source": [
    "We handle the object a as a dictionary and we use the dictionary exploration tools in Python"
   ]
  },
  {
   "cell_type": "code",
   "execution_count": 4,
   "id": "0f533c70",
   "metadata": {},
   "outputs": [
    {
     "name": "stdout",
     "output_type": "stream",
     "text": [
      "root\n"
     ]
    },
    {
     "data": {
      "text/plain": [
       "dict_keys(['background', 'entry'])"
      ]
     },
     "execution_count": 4,
     "metadata": {},
     "output_type": "execute_result"
    }
   ],
   "source": [
    "print(a)\n",
    "a.keys()"
   ]
  },
  {
   "cell_type": "markdown",
   "id": "85d03f23",
   "metadata": {},
   "source": [
    "For this specific case the object entries are 2: one is called background, the other entry. <br>\n",
    "    They refer to data relative to the tests on the instruments and the measurements data on a sample.<br>\n",
    "    The keys __background__ and __entry__ help to distinguish the 2 groups of data"
   ]
  },
  {
   "cell_type": "markdown",
   "id": "2c6d0f86",
   "metadata": {},
   "source": [
    "## Explore the file content ##"
   ]
  },
  {
   "cell_type": "markdown",
   "id": "a30c64ae",
   "metadata": {},
   "source": [
    "#### Visualize the dictionary keys ####"
   ]
  },
  {
   "cell_type": "code",
   "execution_count": 14,
   "id": "6d6588d6",
   "metadata": {},
   "outputs": [
    {
     "data": {
      "text/plain": [
       "dict_keys(['definition', 'start_time', 'entry_identifier', 'experiment_identifier', 'user1', 'notes', 'instrument', 'integrated_intensity', 'sample', 'data'])"
      ]
     },
     "execution_count": 14,
     "metadata": {},
     "output_type": "execute_result"
    }
   ],
   "source": [
    "a['/entry'].keys()"
   ]
  },
  {
   "cell_type": "markdown",
   "id": "0d1610f2",
   "metadata": {},
   "source": [
    "#### Access the data and plot them ####"
   ]
  },
  {
   "cell_type": "markdown",
   "id": "b38ad372",
   "metadata": {},
   "source": [
    "Note that the axis and title labels are already given in the Nx group data"
   ]
  },
  {
   "cell_type": "code",
   "execution_count": 12,
   "id": "76af6e43",
   "metadata": {},
   "outputs": [
    {
     "name": "stdout",
     "output_type": "stream",
     "text": [
      "[ 9.0790e-15 -6.8904e-15  3.9614e-15 ...  1.2817e-14  1.3788e-14\n",
      "  1.8786e-14]\n"
     ]
    },
    {
     "data": {
      "image/png": "[encoded data removed]",
      "text/plain": [
       "<Figure size 432x288 with 1 Axes>"
      ]
     },
     "metadata": {
      "needs_background": "light"
     },
     "output_type": "display_data"
    }
   ],
   "source": [
    "b=(a['/entry/data/signal'])\n",
    "print(b)\n",
    "b.plot()\n"
   ]
  },
  {
   "cell_type": "markdown",
   "id": "ac06c1b4",
   "metadata": {},
   "source": [
    "#### Visualize which Nexus application has been used to describe these data ####"
   ]
  },
  {
   "cell_type": "code",
   "execution_count": 15,
   "id": "09109349",
   "metadata": {},
   "outputs": [
    {
     "data": {
      "text/plain": [
       "NXxas('background')"
      ]
     },
     "execution_count": 15,
     "metadata": {},
     "output_type": "execute_result"
    }
   ],
   "source": [
    "a['/background']"
   ]
  },
  {
   "cell_type": "markdown",
   "id": "30bcb5b8",
   "metadata": {},
   "source": [
    "More on the NXxas application: https://manual.nexusformat.org/classes/applications/NXxas.html"
   ]
  },
  {
   "cell_type": "markdown",
   "id": "abfca174",
   "metadata": {},
   "source": [
    "When using an application is mandatory to consider which elements are required "
   ]
  },
  {
   "cell_type": "code",
   "execution_count": 24,
   "id": "b80aa63e",
   "metadata": {},
   "outputs": [
    {
     "name": "stdout",
     "output_type": "stream",
     "text": [
      "comment\n",
      "instrument\n"
     ]
    }
   ],
   "source": [
    "a['/entry1/comment']\n",
    "print(a['/entry1/comment'])\n",
    "print(a['/entry1/instrument'])"
   ]
  },
  {
   "cell_type": "code",
   "execution_count": 25,
   "id": "b64674dc",
   "metadata": {
    "scrolled": true
   },
   "outputs": [
    {
     "name": "stdout",
     "output_type": "stream",
     "text": [
      "sample\n",
      "dict_keys(['name', 'pressure_env', 'temperature', 'temperature_env'])\n"
     ]
    }
   ],
   "source": [
    "print(a['/entry1/sample'])\n",
    "print(a['/entry1/sample'].keys())"
   ]
  },
  {
   "cell_type": "code",
   "execution_count": 37,
   "id": "1e407f16",
   "metadata": {
    "scrolled": true
   },
   "outputs": [
    {
     "data": {
      "text/plain": [
       "NXsample('sample')"
      ]
     },
     "execution_count": 37,
     "metadata": {},
     "output_type": "execute_result"
    }
   ],
   "source": [
    "a.entry1.sample"
   ]
  },
  {
   "cell_type": "code",
   "execution_count": null,
   "id": "48291080",
   "metadata": {},
   "outputs": [],
   "source": [
    "#print(a['/entry1/comment'].keys())\n",
    "#print(a['/entry1/comment/data']\n",
    "#print(a['/entry1/sample'].keys())\n",
    "#print(a['/entry1/comment'])\n",
    "#print(a['/entry1/comment/data'].keys())\n",
    "#print(a['/entry1/comment/data'])\n",
    "#print(a['/entry1/'].keys())\n",
    "#print(a['/entry1/instrument'].keys())\n",
    "#      print(a['/entry1/instrument/detector1'].keys())\n",
    "#print(a['/entry1/instrument/detector1/type'].keys())\n",
    "#print(a['/entry1/instrument/detector1/type'])\n",
    "#print(a['/entry1/instrument/detector1/type'])\n",
    "#print(a['/entry1/instrument/detector1/data'])\n"
   ]
  },
  {
   "cell_type": "code",
   "execution_count": 38,
   "id": "0f3cf5e8",
   "metadata": {},
   "outputs": [
    {
     "name": "stdout",
     "output_type": "stream",
     "text": [
      "sample\n"
     ]
    }
   ],
   "source": [
    "print(a.entry1.sample)"
   ]
  },
  {
   "cell_type": "code",
   "execution_count": 40,
   "id": "8d2c49e0",
   "metadata": {
    "scrolled": true
   },
   "outputs": [
    {
     "name": "stdout",
     "output_type": "stream",
     "text": [
      "dict_keys(['comment', 'control', 'data', 'definition', 'entry_identifier', 'experiment_identifier', 'instrument', 'intensityIntegrationProcess', 'related_files', 'sample', 'start_time', 'user'])\n"
     ]
    }
   ],
   "source": [
    "print(a.entry1.keys())"
   ]
  },
  {
   "cell_type": "code",
   "execution_count": 41,
   "id": "e5cd4707",
   "metadata": {},
   "outputs": [
    {
     "data": {
      "text/plain": [
       "NXmonitor('control')"
      ]
     },
     "execution_count": 41,
     "metadata": {},
     "output_type": "execute_result"
    }
   ],
   "source": [
    "a.entry1.control"
   ]
  },
  {
   "cell_type": "code",
   "execution_count": 42,
   "id": "52ff2f26",
   "metadata": {},
   "outputs": [
    {
     "data": {
      "text/plain": [
       "NXdata('data')"
      ]
     },
     "execution_count": 42,
     "metadata": {},
     "output_type": "execute_result"
    }
   ],
   "source": [
    "a.entry1.data"
   ]
  },
  {
   "cell_type": "code",
   "execution_count": 43,
   "id": "3ba4d5de",
   "metadata": {},
   "outputs": [
    {
     "data": {
      "image/png": "[encoded data removed]",
      "text/plain": [
       "<Figure size 432x288 with 1 Axes>"
      ]
     },
     "metadata": {
      "needs_background": "light"
     },
     "output_type": "display_data"
    }
   ],
   "source": [
    "a.entry1.data.plot()"
   ]
  },
  {
   "cell_type": "code",
   "execution_count": 44,
   "id": "b5dc13f7",
   "metadata": {},
   "outputs": [
    {
     "data": {
      "text/plain": [
       "dict_keys(['comment', 'control', 'data', 'definition', 'entry_identifier', 'experiment_identifier', 'instrument', 'intensityIntegrationProcess', 'related_files', 'sample', 'start_time', 'user'])"
      ]
     },
     "execution_count": 44,
     "metadata": {},
     "output_type": "execute_result"
    }
   ],
   "source": [
    "a.entry1.keys()"
   ]
  },
  {
   "cell_type": "code",
   "execution_count": 45,
   "id": "b9f90beb",
   "metadata": {},
   "outputs": [
    {
     "data": {
      "text/plain": [
       "NXinstrument('instrument')"
      ]
     },
     "execution_count": 45,
     "metadata": {},
     "output_type": "execute_result"
    }
   ],
   "source": [
    "a.entry1.instrument"
   ]
  },
  {
   "cell_type": "code",
   "execution_count": 46,
   "id": "711084f9",
   "metadata": {},
   "outputs": [
    {
     "data": {
      "text/plain": [
       "NXmonitor('control')"
      ]
     },
     "execution_count": 46,
     "metadata": {},
     "output_type": "execute_result"
    }
   ],
   "source": [
    "a.entry1.control"
   ]
  },
  {
   "cell_type": "code",
   "execution_count": 48,
   "id": "05909b43",
   "metadata": {},
   "outputs": [
    {
     "data": {
      "text/plain": [
       "dict_keys(['detector1', 'detector2', 'detector3', 'insertion_device', 'monochromator', 'name', 'slitwidth', 'source'])"
      ]
     },
     "execution_count": 48,
     "metadata": {},
     "output_type": "execute_result"
    }
   ],
   "source": [
    "a.entry1.instrument.keys()"
   ]
  },
  {
   "cell_type": "code",
   "execution_count": 50,
   "id": "5edb678a",
   "metadata": {
    "scrolled": true
   },
   "outputs": [
    {
     "data": {
      "text/plain": [
       "NXdetector('detector1')"
      ]
     },
     "execution_count": 50,
     "metadata": {},
     "output_type": "execute_result"
    }
   ],
   "source": [
    "a.entry1.instrument.detector1"
   ]
  },
  {
   "cell_type": "code",
   "execution_count": 52,
   "id": "94185bb9",
   "metadata": {},
   "outputs": [
    {
     "data": {
      "text/plain": [
       "NXfield('photo diode')"
      ]
     },
     "execution_count": 52,
     "metadata": {},
     "output_type": "execute_result"
    }
   ],
   "source": [
    "a.entry1.instrument.detector1.type"
   ]
  },
  {
   "cell_type": "markdown",
   "id": "881af50a",
   "metadata": {},
   "source": [
    "https://manual.nexusformat.org/classes/base_classes/index.html"
   ]
  },
  {
   "cell_type": "markdown",
   "id": "40a4ab86",
   "metadata": {},
   "source": [
    "# visualize the Nexus structure as an xml file"
   ]
  },
  {
   "cell_type": "code",
   "execution_count": 15,
   "id": "08685481",
   "metadata": {},
   "outputs": [
    {
     "name": "stdout",
     "output_type": "stream",
     "text": [
      "b'<?xml version=\"1.0\" encoding=\"UTF-8\" ?><root><item type=\"str\">entry1</item><item type=\"str\">entry2</item></root>'\n"
     ]
    }
   ],
   "source": [
    "b=(a.keys())\n",
    "xml=dicttoxml(b)\n",
    "print(xml)\n"
   ]
  },
  {
   "cell_type": "code",
   "execution_count": 35,
   "id": "df62cbff",
   "metadata": {},
   "outputs": [
    {
     "name": "stdout",
     "output_type": "stream",
     "text": [
      "{'nxs/entry/program_name': {'type': 'STRING', 'units': 'N/A'}, 'nxs/entry/comment/data': {'type': 'STRING', 'units': 'N/A'}, 'nxs/entry/intensityIntegrationProcess/intensity': {'type': 'NUMERIC', 'units': 'a.u.'}, 'nxs/entry/intensityIntegrationProcess/mode': {'type': 'STRING', 'units': 'N/A'}, 'nxs/entry/data/absorbed_beam': {'type': 'NUMERIC', 'units': 'A'}, 'nxs/entry/data/energy': {'type': 'NUMERIC', 'units': 'eV'}, 'nxs/entry/instrument/detector1/long_name': {'type': 'STRING', 'units': 'N/A'}, 'nxs/entry/instrument/detector1/short_name': {'type': 'STRING', 'units': 'N/A'}, 'nxs/entry/instrument/detector1/data': {'type': 'NUMERIC', 'units': 'A'}, 'nxs/entry/instrument/detector1/type': {'type': 'STRING', 'units': 'N/A'}, 'nxs/entry/instrument/detector2/long_name': {'type': 'STRING', 'units': 'N/A'}, 'nxs/entry/instrument/detector2/short_name': {'type': 'STRING', 'units': 'N/A'}, 'nxs/entry/instrument/detector2/flux': {'type': 'NUMERIC', 'units': 'Hz'}, 'nxs/entry/instrument/detector2/type': {'type': 'STRING', 'units': 'N/A'}, 'nxs/entry/instrument/detector3/long_name': {'type': 'STRING', 'units': 'N/A'}, 'nxs/entry/instrument/detector3/short_name': {'type': 'STRING', 'units': 'N/A'}, 'nxs/entry/instrument/detector3/type': {'type': 'STRING', 'units': 'N/A'}, 'nxs/entry/instrument/insertion_device/short_name': {'type': 'STRING', 'units': 'N/A'}, 'nxs/entry/instrument/insertion_device/bandwidth': {'type': 'NUMERIC', 'units': 'eV'}, 'nxs/entry/instrument/insertion_device/beam': {'type': 'STRING', 'units': 'N/A'}, 'nxs/entry/instrument/insertion_device/gap': {'type': 'NUMERIC', 'units': 'm'}, 'nxs/entry/instrument/insertion_device/name': {'type': 'STRING', 'units': 'N/A'}, 'nxs/entry/instrument/insertion_device/offset': {'type': 'STRING', 'units': 'N/A'}, 'nxs/entry/instrument/insertion_device/shift': {'type': 'NUMERIC', 'units': 'm'}, 'nxs/entry/instrument/insertion_device/slope': {'type': 'STRING', 'units': 'N/A'}, 'nxs/entry/instrument/insertion_device/type': {'type': 'STRING', 'units': 'N/A'}, 'nxs/entry/instrument/monochromator/short_name': {'type': 'STRING', 'units': 'N/A'}, 'nxs/entry/instrument/monochromator/energy_set': {'type': 'NUMERIC', 'units': 'eV'}, 'nxs/entry/instrument/slitwidth/x_gap': {'type': 'NUMERIC', 'units': 'm'}, 'nxs/entry/instrument/source/current': {'type': 'NUMERIC', 'units': 'A'}, 'nxs/entry/sample/pressure_env/short_name': {'type': 'STRING', 'units': 'N/A'}, 'nxs/entry/sample/temperature_env/short_name': {'type': 'STRING', 'units': 'N/A'}, 'nxs/entry/instrument/insertion_device/table_file/file_name': {'type': 'STRING', 'units': 'N/A'}, 'nxs/entry/sample/pressure_env/pressure1/long_name': {'type': 'STRING', 'units': 'N/A'}, 'nxs/entry/sample/pressure_env/pressure1/value': {'type': 'NUMERIC', 'units': 'Pa'}, 'nxs/entry/sample/pressure_env/pressure2/long_name': {'type': 'STRING', 'units': 'N/A'}, 'nxs/entry/sample/pressure_env/pressure2/value': {'type': 'NUMERIC', 'units': 'Pa'}, 'nxs/entry/sample/pressure_env/pressure3/long_name': {'type': 'STRING', 'units': 'N/A'}, 'nxs/entry/sample/pressure_env/pressure3/value': {'type': 'NUMERIC', 'units': 'Pa'}, 'nxs/entry/sample/pressure_env/pressure4/long_name': {'type': 'STRING', 'units': 'N/A'}, 'nxs/entry/sample/pressure_env/pressure4/value': {'type': 'NUMERIC', 'units': 'Pa'}, 'nxs/entry/sample/temperature_env/temperature1/long_name': {'type': 'STRING', 'units': 'N/A'}, 'nxs/entry/sample/temperature_env/temperature1/value': {'type': 'NUMERIC', 'units': 'K'}, 'nxs/entry/sample/temperature_env/temperature2/long_name': {'type': 'STRING', 'units': 'N/A'}, 'nxs/entry/sample/temperature_env/temperature2/value': {'type': 'NUMERIC', 'units': 'K'}, 'nxs/entry/sample/temperature_env/temperature3/long_name': {'type': 'STRING', 'units': 'N/A'}, 'nxs/entry/sample/temperature_env/temperature3/value': {'type': 'NUMERIC', 'units': 'K'}, 'nxs/entry/sample/temperature_env/temperature4/long_name': {'type': 'STRING', 'units': 'N/A'}, 'nxs/entry/sample/temperature_env/temperature4/value': {'type': 'NUMERIC', 'units': 'K'}, 'nxs/entry/sample/name': {'type': 'STRING', 'units': 'N/A'}, 'nxs/entry/definition': {'type': 'STRING', 'units': 'N/A'}, 'nxs/entry/sample/temperature/value': {'type': 'NUMERIC', 'units': 'K'}, 'nxs/entry/sample/temperature/long_name': {'type': 'STRING', 'units': 'N/A'}}\n"
     ]
    }
   ],
   "source": [
    "from flatten_dict import flatten\n",
    "filename=path+'icatParameterList.json'\n",
    "fo=open(filename)\n",
    "icat_dict=json.load(fo)\n",
    "print(icat_dict)"
   ]
  },
  {
   "cell_type": "markdown",
   "id": "848ad49a",
   "metadata": {},
   "source": [
    "Using h5py to open the Nexus file"
   ]
  },
  {
   "cell_type": "code",
   "execution_count": 23,
   "id": "92e39755",
   "metadata": {},
   "outputs": [
    {
     "name": "stdout",
     "output_type": "stream",
     "text": [
      "default: entry1\n"
     ]
    },
    {
     "data": {
      "text/plain": [
       "<KeysViewHDF5 ['comment', 'control', 'data', 'definition', 'entry_identifier', 'experiment_identifier', 'instrument', 'intensityIntegrationProcess', 'related_files', 'sample', 'start_time', 'user']>"
      ]
     },
     "execution_count": 23,
     "metadata": {},
     "output_type": "execute_result"
    }
   ],
   "source": [
    "f=h5py.File(fp,\"r\")\n",
    "f.attrs.keys()\n",
    "for item in f.attrs.keys():\n",
    "        print(item+\":\",f.attrs[item])\n",
    "\n",
    "f['/entry1'].keys()\n",
    "\n",
    "#%%%%use this dictionary by changing the entries and attaching another dataset%%%%%\n"
   ]
  },
  {
   "cell_type": "code",
   "execution_count": 28,
   "id": "3f3f4344",
   "metadata": {},
   "outputs": [
    {
     "name": "stdout",
     "output_type": "stream",
     "text": [
      "<HDF5 file \"2021-03-Dy01Cp02_2.nxs\" (mode r)>\n"
     ]
    }
   ],
   "source": [
    "print(f)"
   ]
  },
  {
   "cell_type": "code",
   "execution_count": 34,
   "id": "b8d2d763",
   "metadata": {},
   "outputs": [
    {
     "name": "stdout",
     "output_type": "stream",
     "text": [
      "<KeysViewHDF5 ['temperature1', 'temperature2', 'temperature3', 'temperature4']>\n"
     ]
    }
   ],
   "source": [
    "print(f['/entry1/sample/temperature_env'].keys())"
   ]
  },
  {
   "cell_type": "code",
   "execution_count": 36,
   "id": "e5680de3",
   "metadata": {},
   "outputs": [
    {
     "ename": "AttributeError",
     "evalue": "'File' object has no attribute 'entry1'",
     "output_type": "error",
     "traceback": [
      "\u001b[0;31m---------------------------------------------------------------------------\u001b[0m",
      "\u001b[0;31mAttributeError\u001b[0m                            Traceback (most recent call last)",
      "\u001b[0;32m<ipython-input-36-dbec333d8dc1>\u001b[0m in \u001b[0;36m<module>\u001b[0;34m\u001b[0m\n\u001b[0;32m----> 1\u001b[0;31m \u001b[0mf\u001b[0m\u001b[0;34m.\u001b[0m\u001b[0mentry1\u001b[0m\u001b[0;34m\u001b[0m\u001b[0;34m\u001b[0m\u001b[0m\n\u001b[0m",
      "\u001b[0;31mAttributeError\u001b[0m: 'File' object has no attribute 'entry1'"
     ]
    }
   ],
   "source": [
    "f.entry1"
   ]
  },
  {
   "cell_type": "code",
   "execution_count": null,
   "id": "f64c805b",
   "metadata": {},
   "outputs": [],
   "source": []
  }
 ],
 "metadata": {
  "hide_input": false,
  "kernelspec": {
   "display_name": "Python 3",
   "language": "python",
   "name": "python3"
  },
  "language_info": {
   "codemirror_mode": {
    "name": "ipython",
    "version": 3
   },
   "file_extension": ".py",
   "mimetype": "text/x-python",
   "name": "python",
   "nbconvert_exporter": "python",
   "pygments_lexer": "ipython3",
   "version": "3.7.10"
  }
 },
 "nbformat": 4,
 "nbformat_minor": 5
}
