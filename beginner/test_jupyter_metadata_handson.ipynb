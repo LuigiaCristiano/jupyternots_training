{
 "cells": [
  {
   "cell_type": "markdown",
   "id": "1174de88",
   "metadata": {},
   "source": [
    "# Hands on session on metadata extraction and editing"
   ]
  },
  {
   "cell_type": "markdown",
   "id": "94e59120",
   "metadata": {},
   "source": [
    "In this class we are going to see practicle examples of metadata extraction from publications and laboratory reports"
   ]
  },
  {
   "cell_type": "code",
   "execution_count": 3,
   "id": "bd684d30",
   "metadata": {},
   "outputs": [
    {
     "data": {
      "text/html": [
       "<script>$(\"div.input\").hide()</script>"
      ],
      "text/plain": [
       "<IPython.core.display.HTML object>"
      ]
     },
     "metadata": {},
     "output_type": "display_data"
    }
   ],
   "source": [
    "import ipywidgets as widgets\n",
    "from IPython.display import display as dis\n",
    "from IPython.display import HTML\n",
    "javascript_functions = {False: \"hide()\", True: \"show()\"}\n",
    "button_descriptions  = {False: \"Show code\", True: \"Hide code\"}\n",
    "\n",
    "\n",
    "def toggle_code(state):\n",
    "\n",
    "    \"\"\"\n",
    "    Toggles the JavaScript show()/hide() function on the div.input element.\n",
    "    \"\"\"\n",
    "\n",
    "    output_string = \"<script>$(\\\"div.input\\\").{}</script>\"\n",
    "    output_args   = (javascript_functions[state],)\n",
    "    output        = output_string.format(*output_args)\n",
    "\n",
    "    dis(HTML(output))\n",
    "\n",
    "\n",
    "def button_action(value):\n",
    "\n",
    "    \"\"\"\n",
    "    Calls the toggle_code function and updates the button description.\n",
    "    \"\"\"\n",
    "\n",
    "    state = value.new\n",
    "\n",
    "    toggle_code(state)\n",
    "\n",
    "    value.owner.description = button_descriptions[state]\n",
    "\n",
    "\n",
    "state = False\n",
    "toggle_code(state)\n",
    "\n",
    "button = widgets.ToggleButton(state, description = button_descriptions[state])\n",
    "button.observe(button_action, \"value\")\n"
   ]
  },
  {
   "cell_type": "markdown",
   "id": "ce5b8572",
   "metadata": {},
   "source": [
    "### **Case 1**: Lab experiment report for the exams of Kinematics: evaluate the equation \n"
   ]
  },
  {
   "cell_type": "markdown",
   "id": "7319ba8c",
   "metadata": {},
   "source": [
    "$T=2\\pi\\sqrt\\frac{L}{g}$ "
   ]
  },
  {
   "cell_type": "markdown",
   "id": "228d1788",
   "metadata": {},
   "source": [
    "Load an excel table and show the content here.\n",
    "The fields can be changed directly in the table and the table can be updated and saved as html,xml,csv structure"
   ]
  },
  {
   "cell_type": "code",
   "execution_count": 19,
   "id": "0d99089d",
   "metadata": {},
   "outputs": [
    {
     "data": {
      "application/vnd.jupyter.widget-view+json": {
       "model_id": "e20979bb2f54462984592006e71ec76b",
       "version_major": 2,
       "version_minor": 0
      },
      "text/plain": [
       "Sheet(cells=(Cell(column_end=0, column_start=0, numeric_format=None, row_end=13, row_start=0, squeeze_row=Fals…"
      ]
     },
     "metadata": {},
     "output_type": "display_data"
    }
   ],
   "source": [
    "import pandas as pd\n",
    "####read from excel file###\n",
    "data = pd.read_excel('./basic.ods')\n",
    "sheet=from_dataframe(data)\n",
    "sheet\n",
    "#print(df.head())"
   ]
  },
  {
   "cell_type": "code",
   "execution_count": 4,
   "id": "7eb9d5af",
   "metadata": {
    "scrolled": true
   },
   "outputs": [
    {
     "data": {
      "application/vnd.jupyter.widget-view+json": {
       "model_id": "fda5066ef0094001ac369bec96a9ba85",
       "version_major": 2,
       "version_minor": 0
      },
      "text/plain": [
       "HBox(children=(Output(),))"
      ]
     },
     "metadata": {},
     "output_type": "display_data"
    }
   ],
   "source": [
    "import ipywidgets as widgets\n",
    "from IPython.display import display as dis\n",
    "from IPython.display import HTML\n",
    "\n",
    "import pandas as pd\n",
    "from ipysheet import from_dataframe,to_dataframe\n",
    "\n",
    "\n",
    "## create output widgets\n",
    "widget1 = widgets.Output()\n",
    "\n",
    "#hbox = widgets.HBox([widget1])#, widget2])\n",
    "\n",
    "values=[('10000','completed','2020-01-10')]\n",
    "\n",
    "keys=['Experiment ID','Status', 'Report Create Date']#, 'ReportcreateAuth','Institution',\n",
    "     #'Abstract','Instrument','Contact','rights','filename','external sources','subject/keywords',\n",
    "     #'Format','DOI']\n",
    "\n",
    "\n",
    "\n",
    "df = pd.DataFrame.from_records (values, columns = keys)\n",
    "with widget1:\n",
    "    dis.display(df)\n",
    "hbox = widgets.HBox([widget1])\n",
    "hbox\n",
    "#print(df)\n",
    "\n",
    "#display(button)"
   ]
  },
  {
   "cell_type": "markdown",
   "id": "c80b3210",
   "metadata": {},
   "source": [
    "### **Case 2**: From Laboratory Report to Database Metadata\n",
    "extract Metadata for the Nuclear Physics experiment on Nuclear emulsions data from Opera experiment\n"
   ]
  },
  {
   "cell_type": "markdown",
   "id": "e7bc9f8f",
   "metadata": {},
   "source": [
    "| Keys | Values | Type |\n",
    "| :- | -: | :-: |\n",
    "|ID of the emulsion layer| ---|---|\n",
    "| Company name | Gaussian | .843|"
   ]
  },
  {
   "cell_type": "code",
   "execution_count": 22,
   "id": "62321a0b",
   "metadata": {
    "scrolled": true
   },
   "outputs": [
    {
     "data": {
      "application/vnd.jupyter.widget-view+json": {
       "model_id": "a72c2225f553465599cc4f59a30317f2",
       "version_major": 2,
       "version_minor": 0
      },
      "text/plain": [
       "HBox(children=(Output(),))"
      ]
     },
     "metadata": {},
     "output_type": "display_data"
    }
   ],
   "source": [
    "import ipywidgets as widgets\n",
    "from IPython import display\n",
    "import pandas as pd\n",
    "\n",
    "\n",
    "## create output widgets\n",
    "widget1 = widgets.Output()\n",
    "\n",
    "#hbox = widgets.HBox([widget1])#, widget2])\n",
    "values=[('001','completed','2020-01-10',101,200),\n",
    "        ('002','completed','2020-01-10',101,200),\n",
    "        ('003','completed','2020-01-10',100,20),\n",
    "        ('004','completed','2020-01-10',101,2000),\n",
    "        ('005','completed','2020-01-10',100,2),\n",
    "        ('006','completed','2020-01-10',101,20),\n",
    "       ('007','completed','2020-01-10',100,200),\n",
    "        ('008','completed','2020-01-10',101,20),\n",
    "       ('009','completed','2020-01-10',100,200),\n",
    "        ('010','completed','2020-01-10',101,2),\n",
    "        ('011','completed','2020-01-10',100,200),\n",
    "        ('012','completed','2020-01-10',101,300),\n",
    "       ('013','completed','2020-01-10',100,20),\n",
    "        ('002','completed','2020-01-10',101,200)]\n",
    "\n",
    "keys=['Emulsion ID','Status', 'Report Create Date','Author ID', 'number of black traces']#, 'ReportcreateAuth','Institution',\n",
    "     #'Abstract','Instrument','Contact','rights','filename','external sources','subject/keywords',\n",
    "     #'Format','DOI']\n",
    "\n",
    "\n",
    "\n",
    "df = pd.DataFrame.from_records (values, columns = keys)\n",
    "with widget1:\n",
    "    display.display(df)\n",
    "hbox = widgets.HBox([widget1])\n",
    "hbox\n",
    "#print(df)\n"
   ]
  },
  {
   "cell_type": "markdown",
   "id": "b81aecd8",
   "metadata": {},
   "source": [
    "Make statistic from metadata, like i.e. check if the author ID had an influence on the data collection\n",
    "Or to follow the changes of variables with emulsion ID"
   ]
  },
  {
   "cell_type": "code",
   "execution_count": 23,
   "id": "9562de8b",
   "metadata": {
    "scrolled": false
   },
   "outputs": [
    {
     "name": "stdout",
     "output_type": "stream",
     "text": [
      "Selecting over the author ID\n"
     ]
    },
    {
     "data": {
      "image/png": "[encoded data removed]",
      "text/plain": [
       "<Figure size 432x288 with 2 Axes>"
      ]
     },
     "metadata": {
      "needs_background": "light"
     },
     "output_type": "display_data"
    }
   ],
   "source": [
    "####make statistics with authorID,emulsion ID and number of black traces\n",
    "#1. extract the columns\n",
    "widget2= widgets.Output()\n",
    "subset=df[['Emulsion ID','Author ID','number of black traces']]\n",
    "with widget2:\n",
    "    display.display(subset)\n",
    "hbox = widgets.HBox([widget2])\n",
    "hbox\n",
    "#print(subset)\n",
    "#2. convert strings in floats\n",
    "totest=df[['number of black traces']].astype(float)\n",
    "\n",
    "index=df[['Author ID']].astype(int)\n",
    "\n",
    "#print(totest)\n",
    "#toplot=pd.DataFrame(index,totest)\n",
    "#print(totest,index)\n",
    "#3. create the graphs\n",
    "#ax=totest.plot.bar(x='number of black traces',rot=0)\n",
    "print(\"Selecting over the author ID\")\n",
    "subset.hist(by='Author ID');"
   ]
  },
  {
   "cell_type": "code",
   "execution_count": 24,
   "id": "c35f4421",
   "metadata": {},
   "outputs": [
    {
     "name": "stdout",
     "output_type": "stream",
     "text": [
      "Selecting on the emulsion ID\n"
     ]
    },
    {
     "data": {
      "image/png": "[encoded data removed]",
      "text/plain": [
       "<Figure size 432x288 with 16 Axes>"
      ]
     },
     "metadata": {
      "needs_background": "light"
     },
     "output_type": "display_data"
    }
   ],
   "source": [
    "print(\"Selecting on the emulsion ID\")\n",
    "subset.hist(by='Emulsion ID');"
   ]
  },
  {
   "cell_type": "markdown",
   "id": "f5c069cc",
   "metadata": {},
   "source": [
    "### Case 3: From journal publication to research product metadata"
   ]
  },
  {
   "cell_type": "code",
   "execution_count": null,
   "id": "162ce8f8",
   "metadata": {},
   "outputs": [],
   "source": []
  },
  {
   "cell_type": "code",
   "execution_count": null,
   "id": "cbfe0a33",
   "metadata": {},
   "outputs": [],
   "source": []
  },
  {
   "cell_type": "code",
   "execution_count": null,
   "id": "7ae7293f",
   "metadata": {},
   "outputs": [],
   "source": []
  }
 ],
 "metadata": {
  "hide_input": false,
  "kernelspec": {
   "display_name": "Python 3",
   "language": "python",
   "name": "python3"
  },
  "language_info": {
   "codemirror_mode": {
    "name": "ipython",
    "version": 3
   },
   "file_extension": ".py",
   "mimetype": "text/x-python",
   "name": "python",
   "nbconvert_exporter": "python",
   "pygments_lexer": "ipython3",
   "version": "3.7.10"
  }
 },
 "nbformat": 4,
 "nbformat_minor": 5
}
