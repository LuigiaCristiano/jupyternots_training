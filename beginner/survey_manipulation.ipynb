{
 "cells": [
  {
   "cell_type": "markdown",
   "id": "dcc18de3",
   "metadata": {},
   "source": [
    "# Open and manipulate the csv from HMC Survey"
   ]
  },
  {
   "cell_type": "markdown",
   "id": "ef6aa547",
   "metadata": {
    "tags": []
   },
   "source": [
    "### Extracted information on: <br>\n",
    "  ###  - Center<br>\n",
    "   ### - Familiarity with FAIR<br>\n",
    "   ### - Use of Python"
   ]
  },
  {
   "cell_type": "code",
   "execution_count": 1,
   "id": "3969df82",
   "metadata": {},
   "outputs": [],
   "source": [
    "import pandas as pd\n",
    "import numpy as np\n",
    "import matplotlib.pyplot as plt\n",
    "%matplotlib inline"
   ]
  },
  {
   "cell_type": "markdown",
   "id": "fa06f484",
   "metadata": {},
   "source": [
    "Declare file name and use panda for loading the csv file"
   ]
  },
  {
   "cell_type": "code",
   "execution_count": 2,
   "id": "2513c1be",
   "metadata": {},
   "outputs": [],
   "source": [
    "path=\"/home/luigia/Documents/\""
   ]
  },
  {
   "cell_type": "code",
   "execution_count": 3,
   "id": "3fecf69a",
   "metadata": {},
   "outputs": [
    {
     "name": "stdout",
     "output_type": "stream",
     "text": [
      "/home/luigia/Documents/\n"
     ]
    }
   ],
   "source": [
    "print(path)"
   ]
  },
  {
   "cell_type": "code",
   "execution_count": 4,
   "id": "b2ac020d",
   "metadata": {},
   "outputs": [],
   "source": [
    "filename=\"HMC_survey_mod.csv\""
   ]
  },
  {
   "cell_type": "code",
   "execution_count": 5,
   "id": "52219c5e",
   "metadata": {},
   "outputs": [],
   "source": [
    "file_to_use=path+filename"
   ]
  },
  {
   "cell_type": "code",
   "execution_count": 6,
   "id": "ee731a3f",
   "metadata": {},
   "outputs": [],
   "source": [
    "df=pd.read_csv(file_to_use)"
   ]
  },
  {
   "cell_type": "code",
   "execution_count": 7,
   "id": "3f0fd0a2",
   "metadata": {},
   "outputs": [
    {
     "data": {
      "text/html": [
       "<div>\n",
       "<style scoped>\n",
       "    .dataframe tbody tr th:only-of-type {\n",
       "        vertical-align: middle;\n",
       "    }\n",
       "\n",
       "    .dataframe tbody tr th {\n",
       "        vertical-align: top;\n",
       "    }\n",
       "\n",
       "    .dataframe thead th {\n",
       "        text-align: right;\n",
       "    }\n",
       "</style>\n",
       "<table border=\"1\" class=\"dataframe\">\n",
       "  <thead>\n",
       "    <tr style=\"text-align: right;\">\n",
       "      <th></th>\n",
       "      <th>id. Response ID</th>\n",
       "      <th>submitdate. Date submitted</th>\n",
       "      <th>lastpage. Last page</th>\n",
       "      <th>startlanguage. Start language</th>\n",
       "      <th>seed. Seed</th>\n",
       "      <th>PERBG1. Which Helmholtz center do you typically work in?</th>\n",
       "      <th>PERBG1[other]. Which Helmholtz center do you typically work in?  [Other]</th>\n",
       "      <th>PERBG2. Please select the Helmholtz research field you associate yourself with.</th>\n",
       "      <th>PERBG3. Please select your principle research area.</th>\n",
       "      <th>PERBG3[other]. Please select your principle research area. [Other]</th>\n",
       "      <th>...</th>\n",
       "      <th>DTPUB7Time. Question time: DTPUB7</th>\n",
       "      <th>RDMPR4Time. Question time: RDMPR4</th>\n",
       "      <th>RDMPR5Time. Question time: RDMPR5</th>\n",
       "      <th>RDMPR6Time. Question time: RDMPR6</th>\n",
       "      <th>RDMPR12Time. Question time: RDMPR12</th>\n",
       "      <th>RDMPR11Time. Question time: RDMPR11</th>\n",
       "      <th>groupTime210. Group time: Services</th>\n",
       "      <th>SERVC1Time. Question time: SERVC1</th>\n",
       "      <th>SERVC2Time. Question time: SERVC2</th>\n",
       "      <th>SERVC3Time. Question time: SERVC3</th>\n",
       "    </tr>\n",
       "  </thead>\n",
       "  <tbody>\n",
       "    <tr>\n",
       "      <th>0</th>\n",
       "      <td>1</td>\n",
       "      <td>NaN</td>\n",
       "      <td>1</td>\n",
       "      <td>de</td>\n",
       "      <td>370885046</td>\n",
       "      <td>Helmholtz Centre for Heavy Ion Research (GSI)</td>\n",
       "      <td>NaN</td>\n",
       "      <td>Matter</td>\n",
       "      <td>Chemistry</td>\n",
       "      <td>NaN</td>\n",
       "      <td>...</td>\n",
       "      <td>NaN</td>\n",
       "      <td>NaN</td>\n",
       "      <td>NaN</td>\n",
       "      <td>NaN</td>\n",
       "      <td>NaN</td>\n",
       "      <td>NaN</td>\n",
       "      <td>NaN</td>\n",
       "      <td>NaN</td>\n",
       "      <td>NaN</td>\n",
       "      <td>NaN</td>\n",
       "    </tr>\n",
       "    <tr>\n",
       "      <th>1</th>\n",
       "      <td>2</td>\n",
       "      <td>NaN</td>\n",
       "      <td>1</td>\n",
       "      <td>de</td>\n",
       "      <td>179248756</td>\n",
       "      <td>Helmholtz Centre for Heavy Ion Research (GSI)</td>\n",
       "      <td>NaN</td>\n",
       "      <td>Matter</td>\n",
       "      <td>Physics</td>\n",
       "      <td>NaN</td>\n",
       "      <td>...</td>\n",
       "      <td>NaN</td>\n",
       "      <td>NaN</td>\n",
       "      <td>NaN</td>\n",
       "      <td>NaN</td>\n",
       "      <td>NaN</td>\n",
       "      <td>NaN</td>\n",
       "      <td>NaN</td>\n",
       "      <td>NaN</td>\n",
       "      <td>NaN</td>\n",
       "      <td>NaN</td>\n",
       "    </tr>\n",
       "    <tr>\n",
       "      <th>2</th>\n",
       "      <td>4</td>\n",
       "      <td>1/1/1980 0:00</td>\n",
       "      <td>5</td>\n",
       "      <td>de</td>\n",
       "      <td>754353933</td>\n",
       "      <td>Deutsches Elektronen-Synchrotron (DESY)</td>\n",
       "      <td>NaN</td>\n",
       "      <td>Matter</td>\n",
       "      <td>Physics</td>\n",
       "      <td>NaN</td>\n",
       "      <td>...</td>\n",
       "      <td>NaN</td>\n",
       "      <td>NaN</td>\n",
       "      <td>NaN</td>\n",
       "      <td>NaN</td>\n",
       "      <td>NaN</td>\n",
       "      <td>NaN</td>\n",
       "      <td>3432.0</td>\n",
       "      <td>NaN</td>\n",
       "      <td>NaN</td>\n",
       "      <td>NaN</td>\n",
       "    </tr>\n",
       "    <tr>\n",
       "      <th>3</th>\n",
       "      <td>6</td>\n",
       "      <td>1/1/1980 0:00</td>\n",
       "      <td>5</td>\n",
       "      <td>de</td>\n",
       "      <td>1424516290</td>\n",
       "      <td>Deutsches Elektronen-Synchrotron (DESY)</td>\n",
       "      <td>NaN</td>\n",
       "      <td>Matter</td>\n",
       "      <td>Physics</td>\n",
       "      <td>NaN</td>\n",
       "      <td>...</td>\n",
       "      <td>NaN</td>\n",
       "      <td>NaN</td>\n",
       "      <td>NaN</td>\n",
       "      <td>NaN</td>\n",
       "      <td>NaN</td>\n",
       "      <td>NaN</td>\n",
       "      <td>16353.0</td>\n",
       "      <td>NaN</td>\n",
       "      <td>NaN</td>\n",
       "      <td>NaN</td>\n",
       "    </tr>\n",
       "    <tr>\n",
       "      <th>4</th>\n",
       "      <td>5</td>\n",
       "      <td>NaN</td>\n",
       "      <td>2</td>\n",
       "      <td>de</td>\n",
       "      <td>1839941698</td>\n",
       "      <td>Helmholtz Centre for Heavy Ion Research (GSI)</td>\n",
       "      <td>NaN</td>\n",
       "      <td>Matter</td>\n",
       "      <td>Physics</td>\n",
       "      <td>NaN</td>\n",
       "      <td>...</td>\n",
       "      <td>NaN</td>\n",
       "      <td>NaN</td>\n",
       "      <td>NaN</td>\n",
       "      <td>NaN</td>\n",
       "      <td>NaN</td>\n",
       "      <td>NaN</td>\n",
       "      <td>NaN</td>\n",
       "      <td>NaN</td>\n",
       "      <td>NaN</td>\n",
       "      <td>NaN</td>\n",
       "    </tr>\n",
       "    <tr>\n",
       "      <th>...</th>\n",
       "      <td>...</td>\n",
       "      <td>...</td>\n",
       "      <td>...</td>\n",
       "      <td>...</td>\n",
       "      <td>...</td>\n",
       "      <td>...</td>\n",
       "      <td>...</td>\n",
       "      <td>...</td>\n",
       "      <td>...</td>\n",
       "      <td>...</td>\n",
       "      <td>...</td>\n",
       "      <td>...</td>\n",
       "      <td>...</td>\n",
       "      <td>...</td>\n",
       "      <td>...</td>\n",
       "      <td>...</td>\n",
       "      <td>...</td>\n",
       "      <td>...</td>\n",
       "      <td>...</td>\n",
       "      <td>...</td>\n",
       "      <td>...</td>\n",
       "    </tr>\n",
       "    <tr>\n",
       "      <th>212</th>\n",
       "      <td>218</td>\n",
       "      <td>NaN</td>\n",
       "      <td>0</td>\n",
       "      <td>en</td>\n",
       "      <td>1157684680</td>\n",
       "      <td>NaN</td>\n",
       "      <td>NaN</td>\n",
       "      <td>Matter</td>\n",
       "      <td>NaN</td>\n",
       "      <td>NaN</td>\n",
       "      <td>...</td>\n",
       "      <td>NaN</td>\n",
       "      <td>NaN</td>\n",
       "      <td>NaN</td>\n",
       "      <td>NaN</td>\n",
       "      <td>NaN</td>\n",
       "      <td>NaN</td>\n",
       "      <td>NaN</td>\n",
       "      <td>NaN</td>\n",
       "      <td>NaN</td>\n",
       "      <td>NaN</td>\n",
       "    </tr>\n",
       "    <tr>\n",
       "      <th>213</th>\n",
       "      <td>128</td>\n",
       "      <td>1/1/1980 0:00</td>\n",
       "      <td>5</td>\n",
       "      <td>de</td>\n",
       "      <td>1380236318</td>\n",
       "      <td>Other</td>\n",
       "      <td>Helmholtz Institut Mainz</td>\n",
       "      <td>Matter</td>\n",
       "      <td>Physics</td>\n",
       "      <td>NaN</td>\n",
       "      <td>...</td>\n",
       "      <td>NaN</td>\n",
       "      <td>NaN</td>\n",
       "      <td>NaN</td>\n",
       "      <td>NaN</td>\n",
       "      <td>NaN</td>\n",
       "      <td>NaN</td>\n",
       "      <td>6703.0</td>\n",
       "      <td>NaN</td>\n",
       "      <td>NaN</td>\n",
       "      <td>NaN</td>\n",
       "    </tr>\n",
       "    <tr>\n",
       "      <th>214</th>\n",
       "      <td>220</td>\n",
       "      <td>NaN</td>\n",
       "      <td>3</td>\n",
       "      <td>de</td>\n",
       "      <td>1114240336</td>\n",
       "      <td>Helmholtz-Zentrum Berlin für Materialien und E...</td>\n",
       "      <td>NaN</td>\n",
       "      <td>Matter</td>\n",
       "      <td>Physics</td>\n",
       "      <td>NaN</td>\n",
       "      <td>...</td>\n",
       "      <td>NaN</td>\n",
       "      <td>NaN</td>\n",
       "      <td>NaN</td>\n",
       "      <td>NaN</td>\n",
       "      <td>NaN</td>\n",
       "      <td>NaN</td>\n",
       "      <td>NaN</td>\n",
       "      <td>NaN</td>\n",
       "      <td>NaN</td>\n",
       "      <td>NaN</td>\n",
       "    </tr>\n",
       "    <tr>\n",
       "      <th>215</th>\n",
       "      <td>221</td>\n",
       "      <td>NaN</td>\n",
       "      <td>0</td>\n",
       "      <td>en</td>\n",
       "      <td>996383267</td>\n",
       "      <td>NaN</td>\n",
       "      <td>NaN</td>\n",
       "      <td>Matter</td>\n",
       "      <td>NaN</td>\n",
       "      <td>NaN</td>\n",
       "      <td>...</td>\n",
       "      <td>NaN</td>\n",
       "      <td>NaN</td>\n",
       "      <td>NaN</td>\n",
       "      <td>NaN</td>\n",
       "      <td>NaN</td>\n",
       "      <td>NaN</td>\n",
       "      <td>NaN</td>\n",
       "      <td>NaN</td>\n",
       "      <td>NaN</td>\n",
       "      <td>NaN</td>\n",
       "    </tr>\n",
       "    <tr>\n",
       "      <th>216</th>\n",
       "      <td>222</td>\n",
       "      <td>NaN</td>\n",
       "      <td>0</td>\n",
       "      <td>de</td>\n",
       "      <td>1504091511</td>\n",
       "      <td>NaN</td>\n",
       "      <td>NaN</td>\n",
       "      <td>Matter</td>\n",
       "      <td>NaN</td>\n",
       "      <td>NaN</td>\n",
       "      <td>...</td>\n",
       "      <td>NaN</td>\n",
       "      <td>NaN</td>\n",
       "      <td>NaN</td>\n",
       "      <td>NaN</td>\n",
       "      <td>NaN</td>\n",
       "      <td>NaN</td>\n",
       "      <td>NaN</td>\n",
       "      <td>NaN</td>\n",
       "      <td>NaN</td>\n",
       "      <td>NaN</td>\n",
       "    </tr>\n",
       "  </tbody>\n",
       "</table>\n",
       "<p>217 rows × 302 columns</p>\n",
       "</div>"
      ],
      "text/plain": [
       "     id. Response ID submitdate. Date submitted  lastpage. Last page  \\\n",
       "0                  1                        NaN                    1   \n",
       "1                  2                        NaN                    1   \n",
       "2                  4              1/1/1980 0:00                    5   \n",
       "3                  6              1/1/1980 0:00                    5   \n",
       "4                  5                        NaN                    2   \n",
       "..               ...                        ...                  ...   \n",
       "212              218                        NaN                    0   \n",
       "213              128              1/1/1980 0:00                    5   \n",
       "214              220                        NaN                    3   \n",
       "215              221                        NaN                    0   \n",
       "216              222                        NaN                    0   \n",
       "\n",
       "    startlanguage. Start language  seed. Seed  \\\n",
       "0                              de   370885046   \n",
       "1                              de   179248756   \n",
       "2                              de   754353933   \n",
       "3                              de  1424516290   \n",
       "4                              de  1839941698   \n",
       "..                            ...         ...   \n",
       "212                            en  1157684680   \n",
       "213                            de  1380236318   \n",
       "214                            de  1114240336   \n",
       "215                            en   996383267   \n",
       "216                            de  1504091511   \n",
       "\n",
       "    PERBG1. Which Helmholtz center do you typically work in?   \\\n",
       "0        Helmholtz Centre for Heavy Ion Research (GSI)          \n",
       "1        Helmholtz Centre for Heavy Ion Research (GSI)          \n",
       "2              Deutsches Elektronen-Synchrotron (DESY)          \n",
       "3              Deutsches Elektronen-Synchrotron (DESY)          \n",
       "4        Helmholtz Centre for Heavy Ion Research (GSI)          \n",
       "..                                                 ...          \n",
       "212                                                NaN          \n",
       "213                                              Other          \n",
       "214  Helmholtz-Zentrum Berlin für Materialien und E...          \n",
       "215                                                NaN          \n",
       "216                                                NaN          \n",
       "\n",
       "    PERBG1[other]. Which Helmholtz center do you typically work in?  [Other]  \\\n",
       "0                                                  NaN                         \n",
       "1                                                  NaN                         \n",
       "2                                                  NaN                         \n",
       "3                                                  NaN                         \n",
       "4                                                  NaN                         \n",
       "..                                                 ...                         \n",
       "212                                                NaN                         \n",
       "213                           Helmholtz Institut Mainz                         \n",
       "214                                                NaN                         \n",
       "215                                                NaN                         \n",
       "216                                                NaN                         \n",
       "\n",
       "    PERBG2. Please select the Helmholtz research field you associate yourself with.  \\\n",
       "0                                               Matter                                \n",
       "1                                               Matter                                \n",
       "2                                               Matter                                \n",
       "3                                               Matter                                \n",
       "4                                               Matter                                \n",
       "..                                                 ...                                \n",
       "212                                             Matter                                \n",
       "213                                             Matter                                \n",
       "214                                             Matter                                \n",
       "215                                             Matter                                \n",
       "216                                             Matter                                \n",
       "\n",
       "    PERBG3. Please select your principle research area.  \\\n",
       "0                                            Chemistry    \n",
       "1                                              Physics    \n",
       "2                                              Physics    \n",
       "3                                              Physics    \n",
       "4                                              Physics    \n",
       "..                                                 ...    \n",
       "212                                                NaN    \n",
       "213                                            Physics    \n",
       "214                                            Physics    \n",
       "215                                                NaN    \n",
       "216                                                NaN    \n",
       "\n",
       "    PERBG3[other]. Please select your principle research area. [Other]  ...  \\\n",
       "0                                                  NaN                  ...   \n",
       "1                                                  NaN                  ...   \n",
       "2                                                  NaN                  ...   \n",
       "3                                                  NaN                  ...   \n",
       "4                                                  NaN                  ...   \n",
       "..                                                 ...                  ...   \n",
       "212                                                NaN                  ...   \n",
       "213                                                NaN                  ...   \n",
       "214                                                NaN                  ...   \n",
       "215                                                NaN                  ...   \n",
       "216                                                NaN                  ...   \n",
       "\n",
       "    DTPUB7Time. Question time: DTPUB7 RDMPR4Time. Question time: RDMPR4  \\\n",
       "0                                 NaN                               NaN   \n",
       "1                                 NaN                               NaN   \n",
       "2                                 NaN                               NaN   \n",
       "3                                 NaN                               NaN   \n",
       "4                                 NaN                               NaN   \n",
       "..                                ...                               ...   \n",
       "212                               NaN                               NaN   \n",
       "213                               NaN                               NaN   \n",
       "214                               NaN                               NaN   \n",
       "215                               NaN                               NaN   \n",
       "216                               NaN                               NaN   \n",
       "\n",
       "    RDMPR5Time. Question time: RDMPR5  RDMPR6Time. Question time: RDMPR6  \\\n",
       "0                                 NaN                                NaN   \n",
       "1                                 NaN                                NaN   \n",
       "2                                 NaN                                NaN   \n",
       "3                                 NaN                                NaN   \n",
       "4                                 NaN                                NaN   \n",
       "..                                ...                                ...   \n",
       "212                               NaN                                NaN   \n",
       "213                               NaN                                NaN   \n",
       "214                               NaN                                NaN   \n",
       "215                               NaN                                NaN   \n",
       "216                               NaN                                NaN   \n",
       "\n",
       "     RDMPR12Time. Question time: RDMPR12  RDMPR11Time. Question time: RDMPR11  \\\n",
       "0                                    NaN                                  NaN   \n",
       "1                                    NaN                                  NaN   \n",
       "2                                    NaN                                  NaN   \n",
       "3                                    NaN                                  NaN   \n",
       "4                                    NaN                                  NaN   \n",
       "..                                   ...                                  ...   \n",
       "212                                  NaN                                  NaN   \n",
       "213                                  NaN                                  NaN   \n",
       "214                                  NaN                                  NaN   \n",
       "215                                  NaN                                  NaN   \n",
       "216                                  NaN                                  NaN   \n",
       "\n",
       "    groupTime210. Group time: Services SERVC1Time. Question time: SERVC1  \\\n",
       "0                                  NaN                               NaN   \n",
       "1                                  NaN                               NaN   \n",
       "2                               3432.0                               NaN   \n",
       "3                              16353.0                               NaN   \n",
       "4                                  NaN                               NaN   \n",
       "..                                 ...                               ...   \n",
       "212                                NaN                               NaN   \n",
       "213                             6703.0                               NaN   \n",
       "214                                NaN                               NaN   \n",
       "215                                NaN                               NaN   \n",
       "216                                NaN                               NaN   \n",
       "\n",
       "    SERVC2Time. Question time: SERVC2 SERVC3Time. Question time: SERVC3  \n",
       "0                                 NaN                               NaN  \n",
       "1                                 NaN                               NaN  \n",
       "2                                 NaN                               NaN  \n",
       "3                                 NaN                               NaN  \n",
       "4                                 NaN                               NaN  \n",
       "..                                ...                               ...  \n",
       "212                               NaN                               NaN  \n",
       "213                               NaN                               NaN  \n",
       "214                               NaN                               NaN  \n",
       "215                               NaN                               NaN  \n",
       "216                               NaN                               NaN  \n",
       "\n",
       "[217 rows x 302 columns]"
      ]
     },
     "execution_count": 7,
     "metadata": {},
     "output_type": "execute_result"
    }
   ],
   "source": [
    "df"
   ]
  },
  {
   "cell_type": "markdown",
   "id": "e128d4d4",
   "metadata": {},
   "source": [
    "We can parse the content focusing on specific columns"
   ]
  },
  {
   "cell_type": "markdown",
   "id": "f3070c91",
   "metadata": {},
   "source": [
    "We take the one with the info on the center"
   ]
  },
  {
   "cell_type": "markdown",
   "id": "1b4cfbce",
   "metadata": {},
   "source": [
    "For instance let's have a look at the centers distribution (column 6)"
   ]
  },
  {
   "cell_type": "code",
   "execution_count": 8,
   "id": "04ee06c0",
   "metadata": {},
   "outputs": [],
   "source": [
    "center=df.iloc[:,5]"
   ]
  },
  {
   "cell_type": "code",
   "execution_count": 9,
   "id": "c11cad19",
   "metadata": {
    "scrolled": true
   },
   "outputs": [
    {
     "name": "stdout",
     "output_type": "stream",
     "text": [
      "0          Helmholtz Centre for Heavy Ion Research (GSI)\n",
      "1          Helmholtz Centre for Heavy Ion Research (GSI)\n",
      "2                Deutsches Elektronen-Synchrotron (DESY)\n",
      "3                Deutsches Elektronen-Synchrotron (DESY)\n",
      "4          Helmholtz Centre for Heavy Ion Research (GSI)\n",
      "                             ...                        \n",
      "212                                                  NaN\n",
      "213                                                Other\n",
      "214    Helmholtz-Zentrum Berlin für Materialien und E...\n",
      "215                                                  NaN\n",
      "216                                                  NaN\n",
      "Name: PERBG1. Which Helmholtz center do you typically work in? , Length: 217, dtype: object\n"
     ]
    }
   ],
   "source": [
    "print(center)"
   ]
  },
  {
   "cell_type": "markdown",
   "id": "add4e150-853f-4981-a0f7-07f80fc93f69",
   "metadata": {},
   "source": [
    "Remove the NaN and create strings for the histogram labels"
   ]
  },
  {
   "cell_type": "code",
   "execution_count": 10,
   "id": "705af5a0",
   "metadata": {},
   "outputs": [],
   "source": [
    "center1=center.notna()"
   ]
  },
  {
   "cell_type": "code",
   "execution_count": 11,
   "id": "dba02d48",
   "metadata": {},
   "outputs": [
    {
     "data": {
      "text/plain": [
       "217"
      ]
     },
     "execution_count": 11,
     "metadata": {},
     "output_type": "execute_result"
    }
   ],
   "source": [
    "len(center1)"
   ]
  },
  {
   "cell_type": "markdown",
   "id": "1eb37688",
   "metadata": {},
   "source": [
    "Redifine the columns content shortening the content if different from NaN"
   ]
  },
  {
   "cell_type": "markdown",
   "id": "4c2436e6-8450-4d98-950b-31fdf89cd440",
   "metadata": {},
   "source": [
    "Initialize a new array of strings\n"
   ]
  },
  {
   "cell_type": "markdown",
   "id": "a48202cc",
   "metadata": {},
   "source": [
    "loop over the entries"
   ]
  },
  {
   "cell_type": "code",
   "execution_count": 12,
   "id": "98e67940",
   "metadata": {},
   "outputs": [],
   "source": [
    "newstr=[];\n",
    "#newstr=pd.DataFrame([])\n",
    "for ind in range(len((center))):\n",
    "      #%  print(center[ind],ind,len(str(center[ind])))\n",
    "        if len(str(center[ind]))<=3:\n",
    "            newstrtmp='NaN'\n",
    "        if str(center[ind])=='Other':\n",
    "            newstrtmp='Otr'\n",
    "        if len(str(center[ind]))>3 and center[ind]!= \"Other\":\n",
    "            if str(center[ind])==\"Helmholtz-Zentrum Hereon\":\n",
    "                   newstrtmp='Here'\n",
    "            if str(center[ind])!=\"Helmholtz-Zentrum Hereon\":\n",
    "                   newstrtmp=str(str(center[ind]).split('(')[1].split(')')[0].strip())\n",
    "        #print(newstrtmp,len(newstrtmp),ind)\n",
    "        newstr.append((newstrtmp))\n",
    "#print(newstr)\n",
    "                \n",
    "                \n"
   ]
  },
  {
   "cell_type": "code",
   "execution_count": 13,
   "id": "e72e6541",
   "metadata": {},
   "outputs": [
    {
     "data": {
      "text/plain": [
       "217"
      ]
     },
     "execution_count": 13,
     "metadata": {},
     "output_type": "execute_result"
    }
   ],
   "source": [
    "len(newstr)"
   ]
  },
  {
   "cell_type": "code",
   "execution_count": 14,
   "id": "17fd43ed",
   "metadata": {},
   "outputs": [],
   "source": [
    "dfnew=pd.DataFrame(newstr,dtype='object',columns=['center names'])"
   ]
  },
  {
   "cell_type": "code",
   "execution_count": 15,
   "id": "74163f3b",
   "metadata": {},
   "outputs": [
    {
     "data": {
      "image/png": "[encoded data removed]",
      "text/plain": [
       "<Figure size 432x288 with 1 Axes>"
      ]
     },
     "metadata": {
      "needs_background": "light"
     },
     "output_type": "display_data"
    }
   ],
   "source": [
    "plt.title('Centers')\n",
    "(n,bins,patches)=plt.hist(dfnew,11,facecolor='blue',alpha=0.5,edgecolor='black')"
   ]
  },
  {
   "cell_type": "markdown",
   "id": "f64844fa",
   "metadata": {},
   "source": [
    "extract other parameters from the csv file of the survey"
   ]
  },
  {
   "cell_type": "code",
   "execution_count": 16,
   "id": "88a197bf",
   "metadata": {
    "scrolled": true
   },
   "outputs": [
    {
     "data": {
      "text/html": [
       "<div>\n",
       "<style scoped>\n",
       "    .dataframe tbody tr th:only-of-type {\n",
       "        vertical-align: middle;\n",
       "    }\n",
       "\n",
       "    .dataframe tbody tr th {\n",
       "        vertical-align: top;\n",
       "    }\n",
       "\n",
       "    .dataframe thead th {\n",
       "        text-align: right;\n",
       "    }\n",
       "</style>\n",
       "<table border=\"1\" class=\"dataframe\">\n",
       "  <thead>\n",
       "    <tr style=\"text-align: right;\">\n",
       "      <th></th>\n",
       "      <th>PERBG4. How many years have you been working in research?</th>\n",
       "      <th>PERBG6. Which is your current career level?</th>\n",
       "      <th>PERBG6[other]. Which is your current career level? [Other]</th>\n",
       "      <th>PERBG7. Do you have an ORCID iD?</th>\n",
       "      <th>PERBG8. How familiar are you with the FAIR data guidelines?</th>\n",
       "      <th>RSDP1[3A4]. Please characterize the origin of your research data. [|I generate the data by myself.|I typically reuse data collected by others.]</th>\n",
       "      <th>RSDP1[1A2]. Please characterize the origin of your research data. [|Measurements and observations|Simulations and models]</th>\n",
       "      <th>RSDP1b[1]. Which amount of your data sets was recorded at large scale facilities (e.g., LHC, PETRA III, BESSY II, KATRIN, ELBE)? (Percentage)  [|0%|100%]</th>\n",
       "      <th>RSDP1c[1]. Please specify the large scale facility used: [LHC]</th>\n",
       "      <th>RSDP1c[2]. Please specify the large scale facility used: [PETRA III ]</th>\n",
       "    </tr>\n",
       "  </thead>\n",
       "  <tbody>\n",
       "    <tr>\n",
       "      <th>0</th>\n",
       "      <td>More than 10 years</td>\n",
       "      <td>Principal Investigator</td>\n",
       "      <td>NaN</td>\n",
       "      <td>Yes</td>\n",
       "      <td>familiar</td>\n",
       "      <td>NaN</td>\n",
       "      <td>NaN</td>\n",
       "      <td>NaN</td>\n",
       "      <td>NaN</td>\n",
       "      <td>NaN</td>\n",
       "    </tr>\n",
       "    <tr>\n",
       "      <th>1</th>\n",
       "      <td>More than 10 years</td>\n",
       "      <td>Director (of the institute)</td>\n",
       "      <td>NaN</td>\n",
       "      <td>Yes</td>\n",
       "      <td>familiar</td>\n",
       "      <td>NaN</td>\n",
       "      <td>NaN</td>\n",
       "      <td>NaN</td>\n",
       "      <td>NaN</td>\n",
       "      <td>NaN</td>\n",
       "    </tr>\n",
       "    <tr>\n",
       "      <th>2</th>\n",
       "      <td>More than 10 years</td>\n",
       "      <td>Principal Investigator</td>\n",
       "      <td>NaN</td>\n",
       "      <td>Yes</td>\n",
       "      <td>apply</td>\n",
       "      <td>3.0</td>\n",
       "      <td>3.0</td>\n",
       "      <td>95.0</td>\n",
       "      <td>No</td>\n",
       "      <td>No</td>\n",
       "    </tr>\n",
       "    <tr>\n",
       "      <th>3</th>\n",
       "      <td>More than 10 years</td>\n",
       "      <td>Research associate</td>\n",
       "      <td>NaN</td>\n",
       "      <td>No</td>\n",
       "      <td>apply</td>\n",
       "      <td>NaN</td>\n",
       "      <td>4.0</td>\n",
       "      <td>80.0</td>\n",
       "      <td>No</td>\n",
       "      <td>No</td>\n",
       "    </tr>\n",
       "    <tr>\n",
       "      <th>4</th>\n",
       "      <td>More than 10 years</td>\n",
       "      <td>Principal Investigator</td>\n",
       "      <td>NaN</td>\n",
       "      <td>NaN</td>\n",
       "      <td>familiar</td>\n",
       "      <td>2.0</td>\n",
       "      <td>2.0</td>\n",
       "      <td>100.0</td>\n",
       "      <td>No</td>\n",
       "      <td>No</td>\n",
       "    </tr>\n",
       "    <tr>\n",
       "      <th>...</th>\n",
       "      <td>...</td>\n",
       "      <td>...</td>\n",
       "      <td>...</td>\n",
       "      <td>...</td>\n",
       "      <td>...</td>\n",
       "      <td>...</td>\n",
       "      <td>...</td>\n",
       "      <td>...</td>\n",
       "      <td>...</td>\n",
       "      <td>...</td>\n",
       "    </tr>\n",
       "    <tr>\n",
       "      <th>212</th>\n",
       "      <td>NaN</td>\n",
       "      <td>NaN</td>\n",
       "      <td>NaN</td>\n",
       "      <td>NaN</td>\n",
       "      <td>NaN</td>\n",
       "      <td>NaN</td>\n",
       "      <td>NaN</td>\n",
       "      <td>NaN</td>\n",
       "      <td>NaN</td>\n",
       "      <td>NaN</td>\n",
       "    </tr>\n",
       "    <tr>\n",
       "      <th>213</th>\n",
       "      <td>4 to 6 years</td>\n",
       "      <td>PhD student</td>\n",
       "      <td>NaN</td>\n",
       "      <td>No</td>\n",
       "      <td>new</td>\n",
       "      <td>1.0</td>\n",
       "      <td>4.0</td>\n",
       "      <td>0.0</td>\n",
       "      <td>NaN</td>\n",
       "      <td>NaN</td>\n",
       "    </tr>\n",
       "    <tr>\n",
       "      <th>214</th>\n",
       "      <td>1 to 3 years</td>\n",
       "      <td>PhD student</td>\n",
       "      <td>NaN</td>\n",
       "      <td>No</td>\n",
       "      <td>new</td>\n",
       "      <td>1.0</td>\n",
       "      <td>1.0</td>\n",
       "      <td>100.0</td>\n",
       "      <td>No</td>\n",
       "      <td>No</td>\n",
       "    </tr>\n",
       "    <tr>\n",
       "      <th>215</th>\n",
       "      <td>NaN</td>\n",
       "      <td>NaN</td>\n",
       "      <td>NaN</td>\n",
       "      <td>NaN</td>\n",
       "      <td>NaN</td>\n",
       "      <td>NaN</td>\n",
       "      <td>NaN</td>\n",
       "      <td>NaN</td>\n",
       "      <td>NaN</td>\n",
       "      <td>NaN</td>\n",
       "    </tr>\n",
       "    <tr>\n",
       "      <th>216</th>\n",
       "      <td>NaN</td>\n",
       "      <td>NaN</td>\n",
       "      <td>NaN</td>\n",
       "      <td>NaN</td>\n",
       "      <td>NaN</td>\n",
       "      <td>NaN</td>\n",
       "      <td>NaN</td>\n",
       "      <td>NaN</td>\n",
       "      <td>NaN</td>\n",
       "      <td>NaN</td>\n",
       "    </tr>\n",
       "  </tbody>\n",
       "</table>\n",
       "<p>217 rows × 10 columns</p>\n",
       "</div>"
      ],
      "text/plain": [
       "    PERBG4. How many years have you been working in research?  \\\n",
       "0                                   More than 10 years          \n",
       "1                                   More than 10 years          \n",
       "2                                   More than 10 years          \n",
       "3                                   More than 10 years          \n",
       "4                                   More than 10 years          \n",
       "..                                                 ...          \n",
       "212                                                NaN          \n",
       "213                                       4 to 6 years          \n",
       "214                                       1 to 3 years          \n",
       "215                                                NaN          \n",
       "216                                                NaN          \n",
       "\n",
       "    PERBG6. Which is your current career level?  \\\n",
       "0                        Principal Investigator   \n",
       "1                   Director (of the institute)   \n",
       "2                        Principal Investigator   \n",
       "3                            Research associate   \n",
       "4                        Principal Investigator   \n",
       "..                                          ...   \n",
       "212                                         NaN   \n",
       "213                                 PhD student   \n",
       "214                                 PhD student   \n",
       "215                                         NaN   \n",
       "216                                         NaN   \n",
       "\n",
       "    PERBG6[other]. Which is your current career level? [Other]  \\\n",
       "0                                                  NaN           \n",
       "1                                                  NaN           \n",
       "2                                                  NaN           \n",
       "3                                                  NaN           \n",
       "4                                                  NaN           \n",
       "..                                                 ...           \n",
       "212                                                NaN           \n",
       "213                                                NaN           \n",
       "214                                                NaN           \n",
       "215                                                NaN           \n",
       "216                                                NaN           \n",
       "\n",
       "    PERBG7. Do you have an ORCID iD?  \\\n",
       "0                                Yes   \n",
       "1                                Yes   \n",
       "2                                Yes   \n",
       "3                                 No   \n",
       "4                                NaN   \n",
       "..                               ...   \n",
       "212                              NaN   \n",
       "213                               No   \n",
       "214                               No   \n",
       "215                              NaN   \n",
       "216                              NaN   \n",
       "\n",
       "    PERBG8. How familiar are you with the FAIR data guidelines?  \\\n",
       "0                                             familiar            \n",
       "1                                             familiar            \n",
       "2                                                apply            \n",
       "3                                                apply            \n",
       "4                                             familiar            \n",
       "..                                                 ...            \n",
       "212                                                NaN            \n",
       "213                                                new            \n",
       "214                                                new            \n",
       "215                                                NaN            \n",
       "216                                                NaN            \n",
       "\n",
       "     RSDP1[3A4]. Please characterize the origin of your research data. [|I generate the data by myself.|I typically reuse data collected by others.]  \\\n",
       "0                                                  NaN                                                                                                 \n",
       "1                                                  NaN                                                                                                 \n",
       "2                                                  3.0                                                                                                 \n",
       "3                                                  NaN                                                                                                 \n",
       "4                                                  2.0                                                                                                 \n",
       "..                                                 ...                                                                                                 \n",
       "212                                                NaN                                                                                                 \n",
       "213                                                1.0                                                                                                 \n",
       "214                                                1.0                                                                                                 \n",
       "215                                                NaN                                                                                                 \n",
       "216                                                NaN                                                                                                 \n",
       "\n",
       "     RSDP1[1A2]. Please characterize the origin of your research data. [|Measurements and observations|Simulations and models]  \\\n",
       "0                                                  NaN                                                                           \n",
       "1                                                  NaN                                                                           \n",
       "2                                                  3.0                                                                           \n",
       "3                                                  4.0                                                                           \n",
       "4                                                  2.0                                                                           \n",
       "..                                                 ...                                                                           \n",
       "212                                                NaN                                                                           \n",
       "213                                                4.0                                                                           \n",
       "214                                                1.0                                                                           \n",
       "215                                                NaN                                                                           \n",
       "216                                                NaN                                                                           \n",
       "\n",
       "     RSDP1b[1]. Which amount of your data sets was recorded at large scale facilities (e.g., LHC, PETRA III, BESSY II, KATRIN, ELBE)? (Percentage)  [|0%|100%]  \\\n",
       "0                                                  NaN                                                                                                           \n",
       "1                                                  NaN                                                                                                           \n",
       "2                                                 95.0                                                                                                           \n",
       "3                                                 80.0                                                                                                           \n",
       "4                                                100.0                                                                                                           \n",
       "..                                                 ...                                                                                                           \n",
       "212                                                NaN                                                                                                           \n",
       "213                                                0.0                                                                                                           \n",
       "214                                              100.0                                                                                                           \n",
       "215                                                NaN                                                                                                           \n",
       "216                                                NaN                                                                                                           \n",
       "\n",
       "    RSDP1c[1]. Please specify the large scale facility used: [LHC]  \\\n",
       "0                                                  NaN               \n",
       "1                                                  NaN               \n",
       "2                                                   No               \n",
       "3                                                   No               \n",
       "4                                                   No               \n",
       "..                                                 ...               \n",
       "212                                                NaN               \n",
       "213                                                NaN               \n",
       "214                                                 No               \n",
       "215                                                NaN               \n",
       "216                                                NaN               \n",
       "\n",
       "    RSDP1c[2]. Please specify the large scale facility used: [PETRA III ]  \n",
       "0                                                  NaN                     \n",
       "1                                                  NaN                     \n",
       "2                                                   No                     \n",
       "3                                                   No                     \n",
       "4                                                   No                     \n",
       "..                                                 ...                     \n",
       "212                                                NaN                     \n",
       "213                                                NaN                     \n",
       "214                                                 No                     \n",
       "215                                                NaN                     \n",
       "216                                                NaN                     \n",
       "\n",
       "[217 rows x 10 columns]"
      ]
     },
     "execution_count": 16,
     "metadata": {},
     "output_type": "execute_result"
    }
   ],
   "source": [
    "extr2=df.iloc[:,30:40]\n",
    "extr2"
   ]
  },
  {
   "cell_type": "markdown",
   "id": "dfbb9b47",
   "metadata": {},
   "source": [
    "Parse to isolate the information on professional role, orcid, fair knowledge"
   ]
  },
  {
   "cell_type": "code",
   "execution_count": 17,
   "id": "d0e6102d",
   "metadata": {},
   "outputs": [],
   "source": [
    "years=df.iloc[:,30]\n",
    "role=df.iloc[:,31]\n",
    "orcid=df.iloc[:,33]\n",
    "fair=df.iloc[:,34]\n",
    "#print(years,role,orcid,fair)\n",
    "cols=[30,31,33,34];\n",
    "extr_fair_prof=df[df.columns[cols]]"
   ]
  },
  {
   "cell_type": "code",
   "execution_count": 18,
   "id": "af293d39",
   "metadata": {},
   "outputs": [
    {
     "data": {
      "text/html": [
       "<div>\n",
       "<style scoped>\n",
       "    .dataframe tbody tr th:only-of-type {\n",
       "        vertical-align: middle;\n",
       "    }\n",
       "\n",
       "    .dataframe tbody tr th {\n",
       "        vertical-align: top;\n",
       "    }\n",
       "\n",
       "    .dataframe thead th {\n",
       "        text-align: right;\n",
       "    }\n",
       "</style>\n",
       "<table border=\"1\" class=\"dataframe\">\n",
       "  <thead>\n",
       "    <tr style=\"text-align: right;\">\n",
       "      <th></th>\n",
       "      <th>PERBG4. How many years have you been working in research?</th>\n",
       "      <th>PERBG6. Which is your current career level?</th>\n",
       "      <th>PERBG7. Do you have an ORCID iD?</th>\n",
       "      <th>PERBG8. How familiar are you with the FAIR data guidelines?</th>\n",
       "    </tr>\n",
       "  </thead>\n",
       "  <tbody>\n",
       "    <tr>\n",
       "      <th>0</th>\n",
       "      <td>More than 10 years</td>\n",
       "      <td>Principal Investigator</td>\n",
       "      <td>Yes</td>\n",
       "      <td>familiar</td>\n",
       "    </tr>\n",
       "    <tr>\n",
       "      <th>1</th>\n",
       "      <td>More than 10 years</td>\n",
       "      <td>Director (of the institute)</td>\n",
       "      <td>Yes</td>\n",
       "      <td>familiar</td>\n",
       "    </tr>\n",
       "    <tr>\n",
       "      <th>2</th>\n",
       "      <td>More than 10 years</td>\n",
       "      <td>Principal Investigator</td>\n",
       "      <td>Yes</td>\n",
       "      <td>apply</td>\n",
       "    </tr>\n",
       "    <tr>\n",
       "      <th>3</th>\n",
       "      <td>More than 10 years</td>\n",
       "      <td>Research associate</td>\n",
       "      <td>No</td>\n",
       "      <td>apply</td>\n",
       "    </tr>\n",
       "    <tr>\n",
       "      <th>4</th>\n",
       "      <td>More than 10 years</td>\n",
       "      <td>Principal Investigator</td>\n",
       "      <td>NaN</td>\n",
       "      <td>familiar</td>\n",
       "    </tr>\n",
       "    <tr>\n",
       "      <th>...</th>\n",
       "      <td>...</td>\n",
       "      <td>...</td>\n",
       "      <td>...</td>\n",
       "      <td>...</td>\n",
       "    </tr>\n",
       "    <tr>\n",
       "      <th>212</th>\n",
       "      <td>NaN</td>\n",
       "      <td>NaN</td>\n",
       "      <td>NaN</td>\n",
       "      <td>NaN</td>\n",
       "    </tr>\n",
       "    <tr>\n",
       "      <th>213</th>\n",
       "      <td>4 to 6 years</td>\n",
       "      <td>PhD student</td>\n",
       "      <td>No</td>\n",
       "      <td>new</td>\n",
       "    </tr>\n",
       "    <tr>\n",
       "      <th>214</th>\n",
       "      <td>1 to 3 years</td>\n",
       "      <td>PhD student</td>\n",
       "      <td>No</td>\n",
       "      <td>new</td>\n",
       "    </tr>\n",
       "    <tr>\n",
       "      <th>215</th>\n",
       "      <td>NaN</td>\n",
       "      <td>NaN</td>\n",
       "      <td>NaN</td>\n",
       "      <td>NaN</td>\n",
       "    </tr>\n",
       "    <tr>\n",
       "      <th>216</th>\n",
       "      <td>NaN</td>\n",
       "      <td>NaN</td>\n",
       "      <td>NaN</td>\n",
       "      <td>NaN</td>\n",
       "    </tr>\n",
       "  </tbody>\n",
       "</table>\n",
       "<p>217 rows × 4 columns</p>\n",
       "</div>"
      ],
      "text/plain": [
       "    PERBG4. How many years have you been working in research?  \\\n",
       "0                                   More than 10 years          \n",
       "1                                   More than 10 years          \n",
       "2                                   More than 10 years          \n",
       "3                                   More than 10 years          \n",
       "4                                   More than 10 years          \n",
       "..                                                 ...          \n",
       "212                                                NaN          \n",
       "213                                       4 to 6 years          \n",
       "214                                       1 to 3 years          \n",
       "215                                                NaN          \n",
       "216                                                NaN          \n",
       "\n",
       "    PERBG6. Which is your current career level?  \\\n",
       "0                        Principal Investigator   \n",
       "1                   Director (of the institute)   \n",
       "2                        Principal Investigator   \n",
       "3                            Research associate   \n",
       "4                        Principal Investigator   \n",
       "..                                          ...   \n",
       "212                                         NaN   \n",
       "213                                 PhD student   \n",
       "214                                 PhD student   \n",
       "215                                         NaN   \n",
       "216                                         NaN   \n",
       "\n",
       "    PERBG7. Do you have an ORCID iD?  \\\n",
       "0                                Yes   \n",
       "1                                Yes   \n",
       "2                                Yes   \n",
       "3                                 No   \n",
       "4                                NaN   \n",
       "..                               ...   \n",
       "212                              NaN   \n",
       "213                               No   \n",
       "214                               No   \n",
       "215                              NaN   \n",
       "216                              NaN   \n",
       "\n",
       "    PERBG8. How familiar are you with the FAIR data guidelines?  \n",
       "0                                             familiar           \n",
       "1                                             familiar           \n",
       "2                                                apply           \n",
       "3                                                apply           \n",
       "4                                             familiar           \n",
       "..                                                 ...           \n",
       "212                                                NaN           \n",
       "213                                                new           \n",
       "214                                                new           \n",
       "215                                                NaN           \n",
       "216                                                NaN           \n",
       "\n",
       "[217 rows x 4 columns]"
      ]
     },
     "execution_count": 18,
     "metadata": {},
     "output_type": "execute_result"
    }
   ],
   "source": [
    "extr_fair_prof"
   ]
  },
  {
   "cell_type": "markdown",
   "id": "a52e7962-9325-4ad2-b246-66ba7d4b3b0f",
   "metadata": {},
   "source": [
    "### Knowledge of FAIR Principles and their implementation"
   ]
  },
  {
   "cell_type": "code",
   "execution_count": 19,
   "id": "3ad9ed45",
   "metadata": {},
   "outputs": [],
   "source": [
    "fair=df[df.columns[34]]"
   ]
  },
  {
   "cell_type": "code",
   "execution_count": 20,
   "id": "a52427a3",
   "metadata": {},
   "outputs": [
    {
     "data": {
      "text/plain": [
       "<AxesSubplot:>"
      ]
     },
     "execution_count": 20,
     "metadata": {},
     "output_type": "execute_result"
    },
    {
     "data": {
      "image/png": "[encoded data removed]",
      "text/plain": [
       "<Figure size 432x288 with 1 Axes>"
      ]
     },
     "metadata": {
      "needs_background": "light"
     },
     "output_type": "display_data"
    }
   ],
   "source": [
    "fair.hist(xrot=20,xlabelsize=8)"
   ]
  },
  {
   "cell_type": "markdown",
   "id": "6365b9eb-8f91-4984-8504-74a20ab5e893",
   "metadata": {},
   "source": [
    "### Scientific position held at the moment"
   ]
  },
  {
   "cell_type": "code",
   "execution_count": 21,
   "id": "09043fb0",
   "metadata": {},
   "outputs": [],
   "source": [
    "cols=[31];\n",
    "position=df[df.columns[31]]"
   ]
  },
  {
   "cell_type": "code",
   "execution_count": 22,
   "id": "99dd9ded",
   "metadata": {},
   "outputs": [
    {
     "data": {
      "text/plain": [
       "<AxesSubplot:>"
      ]
     },
     "execution_count": 22,
     "metadata": {},
     "output_type": "execute_result"
    },
    {
     "data": {
      "image/png": "[encoded data removed]",
      "text/plain": [
       "<Figure size 432x288 with 1 Axes>"
      ]
     },
     "metadata": {
      "needs_background": "light"
     },
     "output_type": "display_data"
    }
   ],
   "source": [
    "position.hist(xrot=20,edgecolor='black')"
   ]
  },
  {
   "cell_type": "markdown",
   "id": "fb9baee6",
   "metadata": {},
   "source": [
    "### About having an **ORCID**"
   ]
  },
  {
   "cell_type": "code",
   "execution_count": 23,
   "id": "80c5c5fb",
   "metadata": {},
   "outputs": [],
   "source": [
    "cols=[33];\n",
    "orcid=df[df.columns[cols]]"
   ]
  },
  {
   "cell_type": "code",
   "execution_count": 24,
   "id": "87ab8c1b",
   "metadata": {},
   "outputs": [
    {
     "data": {
      "text/html": [
       "<div>\n",
       "<style scoped>\n",
       "    .dataframe tbody tr th:only-of-type {\n",
       "        vertical-align: middle;\n",
       "    }\n",
       "\n",
       "    .dataframe tbody tr th {\n",
       "        vertical-align: top;\n",
       "    }\n",
       "\n",
       "    .dataframe thead th {\n",
       "        text-align: right;\n",
       "    }\n",
       "</style>\n",
       "<table border=\"1\" class=\"dataframe\">\n",
       "  <thead>\n",
       "    <tr style=\"text-align: right;\">\n",
       "      <th></th>\n",
       "      <th>PERBG7. Do you have an ORCID iD?</th>\n",
       "    </tr>\n",
       "  </thead>\n",
       "  <tbody>\n",
       "    <tr>\n",
       "      <th>0</th>\n",
       "      <td>Yes</td>\n",
       "    </tr>\n",
       "    <tr>\n",
       "      <th>1</th>\n",
       "      <td>Yes</td>\n",
       "    </tr>\n",
       "    <tr>\n",
       "      <th>2</th>\n",
       "      <td>Yes</td>\n",
       "    </tr>\n",
       "    <tr>\n",
       "      <th>3</th>\n",
       "      <td>No</td>\n",
       "    </tr>\n",
       "    <tr>\n",
       "      <th>4</th>\n",
       "      <td>NaN</td>\n",
       "    </tr>\n",
       "    <tr>\n",
       "      <th>...</th>\n",
       "      <td>...</td>\n",
       "    </tr>\n",
       "    <tr>\n",
       "      <th>212</th>\n",
       "      <td>NaN</td>\n",
       "    </tr>\n",
       "    <tr>\n",
       "      <th>213</th>\n",
       "      <td>No</td>\n",
       "    </tr>\n",
       "    <tr>\n",
       "      <th>214</th>\n",
       "      <td>No</td>\n",
       "    </tr>\n",
       "    <tr>\n",
       "      <th>215</th>\n",
       "      <td>NaN</td>\n",
       "    </tr>\n",
       "    <tr>\n",
       "      <th>216</th>\n",
       "      <td>NaN</td>\n",
       "    </tr>\n",
       "  </tbody>\n",
       "</table>\n",
       "<p>217 rows × 1 columns</p>\n",
       "</div>"
      ],
      "text/plain": [
       "    PERBG7. Do you have an ORCID iD?\n",
       "0                                Yes\n",
       "1                                Yes\n",
       "2                                Yes\n",
       "3                                 No\n",
       "4                                NaN\n",
       "..                               ...\n",
       "212                              NaN\n",
       "213                               No\n",
       "214                               No\n",
       "215                              NaN\n",
       "216                              NaN\n",
       "\n",
       "[217 rows x 1 columns]"
      ]
     },
     "execution_count": 24,
     "metadata": {},
     "output_type": "execute_result"
    }
   ],
   "source": [
    "orcid"
   ]
  },
  {
   "cell_type": "code",
   "execution_count": 25,
   "id": "6e3143ff",
   "metadata": {
    "scrolled": true
   },
   "outputs": [
    {
     "ename": "ValueError",
     "evalue": "hist method requires numerical or datetime columns, nothing to plot.",
     "output_type": "error",
     "traceback": [
      "\u001b[0;31m---------------------------------------------------------------------------\u001b[0m",
      "\u001b[0;31mValueError\u001b[0m                                Traceback (most recent call last)",
      "\u001b[0;32m<ipython-input-25-36cb629aafc9>\u001b[0m in \u001b[0;36m<module>\u001b[0;34m\u001b[0m\n\u001b[0;32m----> 1\u001b[0;31m \u001b[0morcid\u001b[0m\u001b[0;34m.\u001b[0m\u001b[0mhist\u001b[0m\u001b[0;34m(\u001b[0m\u001b[0;34m)\u001b[0m\u001b[0;34m\u001b[0m\u001b[0;34m\u001b[0m\u001b[0m\n\u001b[0m",
      "\u001b[0;32m~/anaconda3/envs/jupy1/lib/python3.7/site-packages/pandas/plotting/_core.py\u001b[0m in \u001b[0;36mhist_frame\u001b[0;34m(data, column, by, grid, xlabelsize, xrot, ylabelsize, yrot, ax, sharex, sharey, figsize, layout, bins, backend, legend, **kwargs)\u001b[0m\n\u001b[1;32m    240\u001b[0m         \u001b[0mlegend\u001b[0m\u001b[0;34m=\u001b[0m\u001b[0mlegend\u001b[0m\u001b[0;34m,\u001b[0m\u001b[0;34m\u001b[0m\u001b[0;34m\u001b[0m\u001b[0m\n\u001b[1;32m    241\u001b[0m         \u001b[0mbins\u001b[0m\u001b[0;34m=\u001b[0m\u001b[0mbins\u001b[0m\u001b[0;34m,\u001b[0m\u001b[0;34m\u001b[0m\u001b[0;34m\u001b[0m\u001b[0m\n\u001b[0;32m--> 242\u001b[0;31m         \u001b[0;34m**\u001b[0m\u001b[0mkwargs\u001b[0m\u001b[0;34m,\u001b[0m\u001b[0;34m\u001b[0m\u001b[0;34m\u001b[0m\u001b[0m\n\u001b[0m\u001b[1;32m    243\u001b[0m     )\n\u001b[1;32m    244\u001b[0m \u001b[0;34m\u001b[0m\u001b[0m\n",
      "\u001b[0;32m~/anaconda3/envs/jupy1/lib/python3.7/site-packages/pandas/plotting/_matplotlib/hist.py\u001b[0m in \u001b[0;36mhist_frame\u001b[0;34m(data, column, by, grid, xlabelsize, xrot, ylabelsize, yrot, ax, sharex, sharey, figsize, layout, bins, legend, **kwds)\u001b[0m\n\u001b[1;32m    442\u001b[0m     \u001b[0;32mif\u001b[0m \u001b[0mnaxes\u001b[0m \u001b[0;34m==\u001b[0m \u001b[0;36m0\u001b[0m\u001b[0;34m:\u001b[0m\u001b[0;34m\u001b[0m\u001b[0;34m\u001b[0m\u001b[0m\n\u001b[1;32m    443\u001b[0m         raise ValueError(\n\u001b[0;32m--> 444\u001b[0;31m             \u001b[0;34m\"hist method requires numerical or datetime columns, nothing to plot.\"\u001b[0m\u001b[0;34m\u001b[0m\u001b[0;34m\u001b[0m\u001b[0m\n\u001b[0m\u001b[1;32m    445\u001b[0m         )\n\u001b[1;32m    446\u001b[0m \u001b[0;34m\u001b[0m\u001b[0m\n",
      "\u001b[0;31mValueError\u001b[0m: hist method requires numerical or datetime columns, nothing to plot."
     ]
    }
   ],
   "source": [
    "orcid.hist()"
   ]
  },
  {
   "cell_type": "markdown",
   "id": "35504a27",
   "metadata": {},
   "source": [
    "2D histograms"
   ]
  },
  {
   "cell_type": "code",
   "execution_count": 26,
   "id": "1cbdef04",
   "metadata": {
    "scrolled": true,
    "tags": []
   },
   "outputs": [
    {
     "data": {
      "text/plain": [
       "0           Principal Investigator\n",
       "1      Director (of the institute)\n",
       "2           Principal Investigator\n",
       "3               Research associate\n",
       "4           Principal Investigator\n",
       "                  ...             \n",
       "212                            NaN\n",
       "213                    PhD student\n",
       "214                    PhD student\n",
       "215                            NaN\n",
       "216                            NaN\n",
       "Name: PERBG6. Which is your current career level?, Length: 217, dtype: object"
      ]
     },
     "execution_count": 26,
     "metadata": {},
     "output_type": "execute_result"
    }
   ],
   "source": [
    "position"
   ]
  },
  {
   "cell_type": "code",
   "execution_count": 27,
   "id": "fd2b39c7",
   "metadata": {},
   "outputs": [],
   "source": [
    "import seaborn as sns\n",
    "import pandas as pd\n"
   ]
  },
  {
   "cell_type": "code",
   "execution_count": 28,
   "id": "3c728065-2e87-4c09-b119-d9ad8e254a3d",
   "metadata": {},
   "outputs": [],
   "source": [
    "x=position\n",
    "y=fair"
   ]
  },
  {
   "cell_type": "code",
   "execution_count": 29,
   "id": "2f1cab5a-d885-4994-aa6d-6557be17cc84",
   "metadata": {},
   "outputs": [
    {
     "data": {
      "text/html": [
       "<div>\n",
       "<style scoped>\n",
       "    .dataframe tbody tr th:only-of-type {\n",
       "        vertical-align: middle;\n",
       "    }\n",
       "\n",
       "    .dataframe tbody tr th {\n",
       "        vertical-align: top;\n",
       "    }\n",
       "\n",
       "    .dataframe thead th {\n",
       "        text-align: right;\n",
       "    }\n",
       "</style>\n",
       "<table border=\"1\" class=\"dataframe\">\n",
       "  <thead>\n",
       "    <tr style=\"text-align: right;\">\n",
       "      <th></th>\n",
       "      <th>id. Response ID</th>\n",
       "      <th>submitdate. Date submitted</th>\n",
       "      <th>lastpage. Last page</th>\n",
       "      <th>startlanguage. Start language</th>\n",
       "      <th>seed. Seed</th>\n",
       "      <th>PERBG1. Which Helmholtz center do you typically work in?</th>\n",
       "      <th>PERBG1[other]. Which Helmholtz center do you typically work in?  [Other]</th>\n",
       "      <th>PERBG2. Please select the Helmholtz research field you associate yourself with.</th>\n",
       "      <th>PERBG3. Please select your principle research area.</th>\n",
       "      <th>PERBG3[other]. Please select your principle research area. [Other]</th>\n",
       "      <th>...</th>\n",
       "      <th>DTPUB7Time. Question time: DTPUB7</th>\n",
       "      <th>RDMPR4Time. Question time: RDMPR4</th>\n",
       "      <th>RDMPR5Time. Question time: RDMPR5</th>\n",
       "      <th>RDMPR6Time. Question time: RDMPR6</th>\n",
       "      <th>RDMPR12Time. Question time: RDMPR12</th>\n",
       "      <th>RDMPR11Time. Question time: RDMPR11</th>\n",
       "      <th>groupTime210. Group time: Services</th>\n",
       "      <th>SERVC1Time. Question time: SERVC1</th>\n",
       "      <th>SERVC2Time. Question time: SERVC2</th>\n",
       "      <th>SERVC3Time. Question time: SERVC3</th>\n",
       "    </tr>\n",
       "  </thead>\n",
       "  <tbody>\n",
       "    <tr>\n",
       "      <th>1</th>\n",
       "      <td>2</td>\n",
       "      <td>NaN</td>\n",
       "      <td>1</td>\n",
       "      <td>de</td>\n",
       "      <td>179248756</td>\n",
       "      <td>Helmholtz Centre for Heavy Ion Research (GSI)</td>\n",
       "      <td>NaN</td>\n",
       "      <td>Matter</td>\n",
       "      <td>Physics</td>\n",
       "      <td>NaN</td>\n",
       "      <td>...</td>\n",
       "      <td>NaN</td>\n",
       "      <td>NaN</td>\n",
       "      <td>NaN</td>\n",
       "      <td>NaN</td>\n",
       "      <td>NaN</td>\n",
       "      <td>NaN</td>\n",
       "      <td>NaN</td>\n",
       "      <td>NaN</td>\n",
       "      <td>NaN</td>\n",
       "      <td>NaN</td>\n",
       "    </tr>\n",
       "    <tr>\n",
       "      <th>2</th>\n",
       "      <td>4</td>\n",
       "      <td>1/1/1980 0:00</td>\n",
       "      <td>5</td>\n",
       "      <td>de</td>\n",
       "      <td>754353933</td>\n",
       "      <td>Deutsches Elektronen-Synchrotron (DESY)</td>\n",
       "      <td>NaN</td>\n",
       "      <td>Matter</td>\n",
       "      <td>Physics</td>\n",
       "      <td>NaN</td>\n",
       "      <td>...</td>\n",
       "      <td>NaN</td>\n",
       "      <td>NaN</td>\n",
       "      <td>NaN</td>\n",
       "      <td>NaN</td>\n",
       "      <td>NaN</td>\n",
       "      <td>NaN</td>\n",
       "      <td>3432.0</td>\n",
       "      <td>NaN</td>\n",
       "      <td>NaN</td>\n",
       "      <td>NaN</td>\n",
       "    </tr>\n",
       "    <tr>\n",
       "      <th>3</th>\n",
       "      <td>6</td>\n",
       "      <td>1/1/1980 0:00</td>\n",
       "      <td>5</td>\n",
       "      <td>de</td>\n",
       "      <td>1424516290</td>\n",
       "      <td>Deutsches Elektronen-Synchrotron (DESY)</td>\n",
       "      <td>NaN</td>\n",
       "      <td>Matter</td>\n",
       "      <td>Physics</td>\n",
       "      <td>NaN</td>\n",
       "      <td>...</td>\n",
       "      <td>NaN</td>\n",
       "      <td>NaN</td>\n",
       "      <td>NaN</td>\n",
       "      <td>NaN</td>\n",
       "      <td>NaN</td>\n",
       "      <td>NaN</td>\n",
       "      <td>16353.0</td>\n",
       "      <td>NaN</td>\n",
       "      <td>NaN</td>\n",
       "      <td>NaN</td>\n",
       "    </tr>\n",
       "    <tr>\n",
       "      <th>4</th>\n",
       "      <td>5</td>\n",
       "      <td>NaN</td>\n",
       "      <td>2</td>\n",
       "      <td>de</td>\n",
       "      <td>1839941698</td>\n",
       "      <td>Helmholtz Centre for Heavy Ion Research (GSI)</td>\n",
       "      <td>NaN</td>\n",
       "      <td>Matter</td>\n",
       "      <td>Physics</td>\n",
       "      <td>NaN</td>\n",
       "      <td>...</td>\n",
       "      <td>NaN</td>\n",
       "      <td>NaN</td>\n",
       "      <td>NaN</td>\n",
       "      <td>NaN</td>\n",
       "      <td>NaN</td>\n",
       "      <td>NaN</td>\n",
       "      <td>NaN</td>\n",
       "      <td>NaN</td>\n",
       "      <td>NaN</td>\n",
       "      <td>NaN</td>\n",
       "    </tr>\n",
       "    <tr>\n",
       "      <th>5</th>\n",
       "      <td>14</td>\n",
       "      <td>1/1/1980 0:00</td>\n",
       "      <td>5</td>\n",
       "      <td>de</td>\n",
       "      <td>897920213</td>\n",
       "      <td>Deutsches Elektronen-Synchrotron (DESY)</td>\n",
       "      <td>NaN</td>\n",
       "      <td>Matter</td>\n",
       "      <td>Psychology</td>\n",
       "      <td>NaN</td>\n",
       "      <td>...</td>\n",
       "      <td>NaN</td>\n",
       "      <td>NaN</td>\n",
       "      <td>NaN</td>\n",
       "      <td>NaN</td>\n",
       "      <td>NaN</td>\n",
       "      <td>NaN</td>\n",
       "      <td>1732.0</td>\n",
       "      <td>NaN</td>\n",
       "      <td>NaN</td>\n",
       "      <td>NaN</td>\n",
       "    </tr>\n",
       "    <tr>\n",
       "      <th>...</th>\n",
       "      <td>...</td>\n",
       "      <td>...</td>\n",
       "      <td>...</td>\n",
       "      <td>...</td>\n",
       "      <td>...</td>\n",
       "      <td>...</td>\n",
       "      <td>...</td>\n",
       "      <td>...</td>\n",
       "      <td>...</td>\n",
       "      <td>...</td>\n",
       "      <td>...</td>\n",
       "      <td>...</td>\n",
       "      <td>...</td>\n",
       "      <td>...</td>\n",
       "      <td>...</td>\n",
       "      <td>...</td>\n",
       "      <td>...</td>\n",
       "      <td>...</td>\n",
       "      <td>...</td>\n",
       "      <td>...</td>\n",
       "      <td>...</td>\n",
       "    </tr>\n",
       "    <tr>\n",
       "      <th>212</th>\n",
       "      <td>218</td>\n",
       "      <td>NaN</td>\n",
       "      <td>0</td>\n",
       "      <td>en</td>\n",
       "      <td>1157684680</td>\n",
       "      <td>NaN</td>\n",
       "      <td>NaN</td>\n",
       "      <td>Matter</td>\n",
       "      <td>NaN</td>\n",
       "      <td>NaN</td>\n",
       "      <td>...</td>\n",
       "      <td>NaN</td>\n",
       "      <td>NaN</td>\n",
       "      <td>NaN</td>\n",
       "      <td>NaN</td>\n",
       "      <td>NaN</td>\n",
       "      <td>NaN</td>\n",
       "      <td>NaN</td>\n",
       "      <td>NaN</td>\n",
       "      <td>NaN</td>\n",
       "      <td>NaN</td>\n",
       "    </tr>\n",
       "    <tr>\n",
       "      <th>213</th>\n",
       "      <td>128</td>\n",
       "      <td>1/1/1980 0:00</td>\n",
       "      <td>5</td>\n",
       "      <td>de</td>\n",
       "      <td>1380236318</td>\n",
       "      <td>Other</td>\n",
       "      <td>Helmholtz Institut Mainz</td>\n",
       "      <td>Matter</td>\n",
       "      <td>Physics</td>\n",
       "      <td>NaN</td>\n",
       "      <td>...</td>\n",
       "      <td>NaN</td>\n",
       "      <td>NaN</td>\n",
       "      <td>NaN</td>\n",
       "      <td>NaN</td>\n",
       "      <td>NaN</td>\n",
       "      <td>NaN</td>\n",
       "      <td>6703.0</td>\n",
       "      <td>NaN</td>\n",
       "      <td>NaN</td>\n",
       "      <td>NaN</td>\n",
       "    </tr>\n",
       "    <tr>\n",
       "      <th>214</th>\n",
       "      <td>220</td>\n",
       "      <td>NaN</td>\n",
       "      <td>3</td>\n",
       "      <td>de</td>\n",
       "      <td>1114240336</td>\n",
       "      <td>Helmholtz-Zentrum Berlin für Materialien und E...</td>\n",
       "      <td>NaN</td>\n",
       "      <td>Matter</td>\n",
       "      <td>Physics</td>\n",
       "      <td>NaN</td>\n",
       "      <td>...</td>\n",
       "      <td>NaN</td>\n",
       "      <td>NaN</td>\n",
       "      <td>NaN</td>\n",
       "      <td>NaN</td>\n",
       "      <td>NaN</td>\n",
       "      <td>NaN</td>\n",
       "      <td>NaN</td>\n",
       "      <td>NaN</td>\n",
       "      <td>NaN</td>\n",
       "      <td>NaN</td>\n",
       "    </tr>\n",
       "    <tr>\n",
       "      <th>215</th>\n",
       "      <td>221</td>\n",
       "      <td>NaN</td>\n",
       "      <td>0</td>\n",
       "      <td>en</td>\n",
       "      <td>996383267</td>\n",
       "      <td>NaN</td>\n",
       "      <td>NaN</td>\n",
       "      <td>Matter</td>\n",
       "      <td>NaN</td>\n",
       "      <td>NaN</td>\n",
       "      <td>...</td>\n",
       "      <td>NaN</td>\n",
       "      <td>NaN</td>\n",
       "      <td>NaN</td>\n",
       "      <td>NaN</td>\n",
       "      <td>NaN</td>\n",
       "      <td>NaN</td>\n",
       "      <td>NaN</td>\n",
       "      <td>NaN</td>\n",
       "      <td>NaN</td>\n",
       "      <td>NaN</td>\n",
       "    </tr>\n",
       "    <tr>\n",
       "      <th>216</th>\n",
       "      <td>222</td>\n",
       "      <td>NaN</td>\n",
       "      <td>0</td>\n",
       "      <td>de</td>\n",
       "      <td>1504091511</td>\n",
       "      <td>NaN</td>\n",
       "      <td>NaN</td>\n",
       "      <td>Matter</td>\n",
       "      <td>NaN</td>\n",
       "      <td>NaN</td>\n",
       "      <td>...</td>\n",
       "      <td>NaN</td>\n",
       "      <td>NaN</td>\n",
       "      <td>NaN</td>\n",
       "      <td>NaN</td>\n",
       "      <td>NaN</td>\n",
       "      <td>NaN</td>\n",
       "      <td>NaN</td>\n",
       "      <td>NaN</td>\n",
       "      <td>NaN</td>\n",
       "      <td>NaN</td>\n",
       "    </tr>\n",
       "  </tbody>\n",
       "</table>\n",
       "<p>216 rows × 302 columns</p>\n",
       "</div>"
      ],
      "text/plain": [
       "     id. Response ID submitdate. Date submitted  lastpage. Last page  \\\n",
       "1                  2                        NaN                    1   \n",
       "2                  4              1/1/1980 0:00                    5   \n",
       "3                  6              1/1/1980 0:00                    5   \n",
       "4                  5                        NaN                    2   \n",
       "5                 14              1/1/1980 0:00                    5   \n",
       "..               ...                        ...                  ...   \n",
       "212              218                        NaN                    0   \n",
       "213              128              1/1/1980 0:00                    5   \n",
       "214              220                        NaN                    3   \n",
       "215              221                        NaN                    0   \n",
       "216              222                        NaN                    0   \n",
       "\n",
       "    startlanguage. Start language  seed. Seed  \\\n",
       "1                              de   179248756   \n",
       "2                              de   754353933   \n",
       "3                              de  1424516290   \n",
       "4                              de  1839941698   \n",
       "5                              de   897920213   \n",
       "..                            ...         ...   \n",
       "212                            en  1157684680   \n",
       "213                            de  1380236318   \n",
       "214                            de  1114240336   \n",
       "215                            en   996383267   \n",
       "216                            de  1504091511   \n",
       "\n",
       "    PERBG1. Which Helmholtz center do you typically work in?   \\\n",
       "1        Helmholtz Centre for Heavy Ion Research (GSI)          \n",
       "2              Deutsches Elektronen-Synchrotron (DESY)          \n",
       "3              Deutsches Elektronen-Synchrotron (DESY)          \n",
       "4        Helmholtz Centre for Heavy Ion Research (GSI)          \n",
       "5              Deutsches Elektronen-Synchrotron (DESY)          \n",
       "..                                                 ...          \n",
       "212                                                NaN          \n",
       "213                                              Other          \n",
       "214  Helmholtz-Zentrum Berlin für Materialien und E...          \n",
       "215                                                NaN          \n",
       "216                                                NaN          \n",
       "\n",
       "    PERBG1[other]. Which Helmholtz center do you typically work in?  [Other]  \\\n",
       "1                                                  NaN                         \n",
       "2                                                  NaN                         \n",
       "3                                                  NaN                         \n",
       "4                                                  NaN                         \n",
       "5                                                  NaN                         \n",
       "..                                                 ...                         \n",
       "212                                                NaN                         \n",
       "213                           Helmholtz Institut Mainz                         \n",
       "214                                                NaN                         \n",
       "215                                                NaN                         \n",
       "216                                                NaN                         \n",
       "\n",
       "    PERBG2. Please select the Helmholtz research field you associate yourself with.  \\\n",
       "1                                               Matter                                \n",
       "2                                               Matter                                \n",
       "3                                               Matter                                \n",
       "4                                               Matter                                \n",
       "5                                               Matter                                \n",
       "..                                                 ...                                \n",
       "212                                             Matter                                \n",
       "213                                             Matter                                \n",
       "214                                             Matter                                \n",
       "215                                             Matter                                \n",
       "216                                             Matter                                \n",
       "\n",
       "    PERBG3. Please select your principle research area.  \\\n",
       "1                                              Physics    \n",
       "2                                              Physics    \n",
       "3                                              Physics    \n",
       "4                                              Physics    \n",
       "5                                           Psychology    \n",
       "..                                                 ...    \n",
       "212                                                NaN    \n",
       "213                                            Physics    \n",
       "214                                            Physics    \n",
       "215                                                NaN    \n",
       "216                                                NaN    \n",
       "\n",
       "    PERBG3[other]. Please select your principle research area. [Other]  ...  \\\n",
       "1                                                  NaN                  ...   \n",
       "2                                                  NaN                  ...   \n",
       "3                                                  NaN                  ...   \n",
       "4                                                  NaN                  ...   \n",
       "5                                                  NaN                  ...   \n",
       "..                                                 ...                  ...   \n",
       "212                                                NaN                  ...   \n",
       "213                                                NaN                  ...   \n",
       "214                                                NaN                  ...   \n",
       "215                                                NaN                  ...   \n",
       "216                                                NaN                  ...   \n",
       "\n",
       "    DTPUB7Time. Question time: DTPUB7 RDMPR4Time. Question time: RDMPR4  \\\n",
       "1                                 NaN                               NaN   \n",
       "2                                 NaN                               NaN   \n",
       "3                                 NaN                               NaN   \n",
       "4                                 NaN                               NaN   \n",
       "5                                 NaN                               NaN   \n",
       "..                                ...                               ...   \n",
       "212                               NaN                               NaN   \n",
       "213                               NaN                               NaN   \n",
       "214                               NaN                               NaN   \n",
       "215                               NaN                               NaN   \n",
       "216                               NaN                               NaN   \n",
       "\n",
       "    RDMPR5Time. Question time: RDMPR5  RDMPR6Time. Question time: RDMPR6  \\\n",
       "1                                 NaN                                NaN   \n",
       "2                                 NaN                                NaN   \n",
       "3                                 NaN                                NaN   \n",
       "4                                 NaN                                NaN   \n",
       "5                                 NaN                                NaN   \n",
       "..                                ...                                ...   \n",
       "212                               NaN                                NaN   \n",
       "213                               NaN                                NaN   \n",
       "214                               NaN                                NaN   \n",
       "215                               NaN                                NaN   \n",
       "216                               NaN                                NaN   \n",
       "\n",
       "     RDMPR12Time. Question time: RDMPR12  RDMPR11Time. Question time: RDMPR11  \\\n",
       "1                                    NaN                                  NaN   \n",
       "2                                    NaN                                  NaN   \n",
       "3                                    NaN                                  NaN   \n",
       "4                                    NaN                                  NaN   \n",
       "5                                    NaN                                  NaN   \n",
       "..                                   ...                                  ...   \n",
       "212                                  NaN                                  NaN   \n",
       "213                                  NaN                                  NaN   \n",
       "214                                  NaN                                  NaN   \n",
       "215                                  NaN                                  NaN   \n",
       "216                                  NaN                                  NaN   \n",
       "\n",
       "    groupTime210. Group time: Services SERVC1Time. Question time: SERVC1  \\\n",
       "1                                  NaN                               NaN   \n",
       "2                               3432.0                               NaN   \n",
       "3                              16353.0                               NaN   \n",
       "4                                  NaN                               NaN   \n",
       "5                               1732.0                               NaN   \n",
       "..                                 ...                               ...   \n",
       "212                                NaN                               NaN   \n",
       "213                             6703.0                               NaN   \n",
       "214                                NaN                               NaN   \n",
       "215                                NaN                               NaN   \n",
       "216                                NaN                               NaN   \n",
       "\n",
       "    SERVC2Time. Question time: SERVC2 SERVC3Time. Question time: SERVC3  \n",
       "1                                 NaN                               NaN  \n",
       "2                                 NaN                               NaN  \n",
       "3                                 NaN                               NaN  \n",
       "4                                 NaN                               NaN  \n",
       "5                                 NaN                               NaN  \n",
       "..                                ...                               ...  \n",
       "212                               NaN                               NaN  \n",
       "213                               NaN                               NaN  \n",
       "214                               NaN                               NaN  \n",
       "215                               NaN                               NaN  \n",
       "216                               NaN                               NaN  \n",
       "\n",
       "[216 rows x 302 columns]"
      ]
     },
     "execution_count": 29,
     "metadata": {},
     "output_type": "execute_result"
    }
   ],
   "source": [
    "df.iloc[1:]"
   ]
  },
  {
   "cell_type": "raw",
   "id": "08cbbadb-a547-44b8-8e51-609db0d83912",
   "metadata": {},
   "source": [
    "print(df.columns)"
   ]
  },
  {
   "cell_type": "code",
   "execution_count": 30,
   "id": "69cdc23f-f09f-4d98-ab57-8aff4ef02e33",
   "metadata": {},
   "outputs": [
    {
     "name": "stdout",
     "output_type": "stream",
     "text": [
      "Index(['PERBG4. How many years have you been working in research?',\n",
      "       'PERBG6. Which is your current career level?',\n",
      "       'PERBG6[other]. Which is your current career level? [Other]',\n",
      "       'PERBG7. Do you have an ORCID iD?',\n",
      "       'PERBG8. How familiar are you with the FAIR data guidelines?',\n",
      "       'RSDP1[3A4]. Please characterize the origin of your research data. [|I generate the data by myself.|I typically reuse data collected by others.]'],\n",
      "      dtype='object')\n"
     ]
    }
   ],
   "source": [
    "colnames=df.columns\n",
    "print(colnames[30:36])"
   ]
  },
  {
   "cell_type": "code",
   "execution_count": 31,
   "id": "be7b32f2-11ad-495e-aee8-e15bb4d90f36",
   "metadata": {},
   "outputs": [],
   "source": [
    "xcol='PERBG6. Which is your current career level?'\n",
    "ycol='PERBG8. How familiar are you with the FAIR data guidelines?'"
   ]
  },
  {
   "cell_type": "code",
   "execution_count": 32,
   "id": "c051fe31-f565-40df-b7dc-e2621e883922",
   "metadata": {},
   "outputs": [],
   "source": [
    "dflast=pd.DataFrame(position,fair)"
   ]
  },
  {
   "cell_type": "code",
   "execution_count": 33,
   "id": "a543cc13-e477-43f5-bcea-6bd00bc4f764",
   "metadata": {},
   "outputs": [],
   "source": [
    "#ax=sns.histplot(data=df,cbar='True')"
   ]
  },
  {
   "cell_type": "markdown",
   "id": "7b4f3b44-09d6-48e1-aae0-9d36cf3a7299",
   "metadata": {},
   "source": [
    "## Correlation FAIR knowledge -Professional degree"
   ]
  },
  {
   "cell_type": "code",
   "execution_count": 34,
   "id": "3a2fa016-6fe0-4a74-9d03-916709d2030e",
   "metadata": {
    "tags": []
   },
   "outputs": [
    {
     "name": "stdout",
     "output_type": "stream",
     "text": [
      "/bin/bash: -c: line 0: syntax error near unexpected token `('\n",
      "/bin/bash: -c: line 0: `ax=sns.histplot(x=PERBG6. Which is your current career level?, y=PERBG8. How familiar are you with the FAIR data guidelines?,data=df,cbar=True)'\n"
     ]
    }
   ],
   "source": [
    "!ax=sns.histplot(x=$xcol, y=$ycol,data=df,cbar=True)"
   ]
  },
  {
   "cell_type": "code",
   "execution_count": 35,
   "id": "722c5795-003a-4538-8667-4a2bb5d5ed5d",
   "metadata": {},
   "outputs": [],
   "source": [
    "sns.set(font_scale=1)"
   ]
  },
  {
   "cell_type": "code",
   "execution_count": 36,
   "id": "4c8df622-d18a-40d1-92af-f91235acbcb4",
   "metadata": {},
   "outputs": [
    {
     "data": {
      "text/plain": [
       "<Figure size 1440x1152 with 0 Axes>"
      ]
     },
     "execution_count": 36,
     "metadata": {},
     "output_type": "execute_result"
    },
    {
     "data": {
      "text/plain": [
       "<Figure size 1440x1152 with 0 Axes>"
      ]
     },
     "metadata": {},
     "output_type": "display_data"
    }
   ],
   "source": [
    "plt.figure(figsize=(20,16))"
   ]
  },
  {
   "cell_type": "code",
   "execution_count": 37,
   "id": "a653d77a-e59d-4f5c-ac58-697bcef87eb6",
   "metadata": {
    "scrolled": true,
    "tags": []
   },
   "outputs": [
    {
     "data": {
      "image/png": "[encoded data removed]",
      "text/plain": [
       "<Figure size 432x288 with 2 Axes>"
      ]
     },
     "metadata": {},
     "output_type": "display_data"
    }
   ],
   "source": [
    "ax=sns.histplot(x='PERBG8. How familiar are you with the FAIR data guidelines?',y='PERBG6. Which is your current career level?',data=df,cbar=True)\n"
   ]
  },
  {
   "cell_type": "code",
   "execution_count": 38,
   "id": "1acf5457",
   "metadata": {
    "tags": []
   },
   "outputs": [
    {
     "ename": "TypeError",
     "evalue": "'<=' not supported between instances of 'float' and 'str'",
     "output_type": "error",
     "traceback": [
      "\u001b[0;31m---------------------------------------------------------------------------\u001b[0m",
      "\u001b[0;31mTypeError\u001b[0m                                 Traceback (most recent call last)",
      "\u001b[0;32m<ipython-input-38-1e085d510f82>\u001b[0m in \u001b[0;36m<module>\u001b[0;34m\u001b[0m\n\u001b[0;32m----> 1\u001b[0;31m \u001b[0mplt\u001b[0m\u001b[0;34m.\u001b[0m\u001b[0mhist2d\u001b[0m\u001b[0;34m(\u001b[0m\u001b[0mdf\u001b[0m\u001b[0;34m.\u001b[0m\u001b[0miloc\u001b[0m\u001b[0;34m[\u001b[0m\u001b[0;34m:\u001b[0m\u001b[0;34m,\u001b[0m\u001b[0;36m1\u001b[0m\u001b[0;34m]\u001b[0m\u001b[0;34m,\u001b[0m\u001b[0mdf\u001b[0m\u001b[0;34m.\u001b[0m\u001b[0miloc\u001b[0m\u001b[0;34m[\u001b[0m\u001b[0;34m:\u001b[0m\u001b[0;34m,\u001b[0m\u001b[0;36m2\u001b[0m\u001b[0;34m]\u001b[0m\u001b[0;34m)\u001b[0m\u001b[0;34m\u001b[0m\u001b[0;34m\u001b[0m\u001b[0m\n\u001b[0m\u001b[1;32m      2\u001b[0m \u001b[0;31m#,df[\"PERBG6. Which is your current career level?\"])\u001b[0m\u001b[0;34m\u001b[0m\u001b[0;34m\u001b[0m\u001b[0;34m\u001b[0m\u001b[0m\n",
      "\u001b[0;32m~/anaconda3/envs/jupy1/lib/python3.7/site-packages/matplotlib/pyplot.py\u001b[0m in \u001b[0;36mhist2d\u001b[0;34m(x, y, bins, range, density, weights, cmin, cmax, data, **kwargs)\u001b[0m\n\u001b[1;32m   2878\u001b[0m         \u001b[0mx\u001b[0m\u001b[0;34m,\u001b[0m \u001b[0my\u001b[0m\u001b[0;34m,\u001b[0m \u001b[0mbins\u001b[0m\u001b[0;34m=\u001b[0m\u001b[0mbins\u001b[0m\u001b[0;34m,\u001b[0m \u001b[0mrange\u001b[0m\u001b[0;34m=\u001b[0m\u001b[0mrange\u001b[0m\u001b[0;34m,\u001b[0m \u001b[0mdensity\u001b[0m\u001b[0;34m=\u001b[0m\u001b[0mdensity\u001b[0m\u001b[0;34m,\u001b[0m\u001b[0;34m\u001b[0m\u001b[0;34m\u001b[0m\u001b[0m\n\u001b[1;32m   2879\u001b[0m         \u001b[0mweights\u001b[0m\u001b[0;34m=\u001b[0m\u001b[0mweights\u001b[0m\u001b[0;34m,\u001b[0m \u001b[0mcmin\u001b[0m\u001b[0;34m=\u001b[0m\u001b[0mcmin\u001b[0m\u001b[0;34m,\u001b[0m \u001b[0mcmax\u001b[0m\u001b[0;34m=\u001b[0m\u001b[0mcmax\u001b[0m\u001b[0;34m,\u001b[0m\u001b[0;34m\u001b[0m\u001b[0;34m\u001b[0m\u001b[0m\n\u001b[0;32m-> 2880\u001b[0;31m         **({\"data\": data} if data is not None else {}), **kwargs)\n\u001b[0m\u001b[1;32m   2881\u001b[0m     \u001b[0msci\u001b[0m\u001b[0;34m(\u001b[0m\u001b[0m__ret\u001b[0m\u001b[0;34m[\u001b[0m\u001b[0;34m-\u001b[0m\u001b[0;36m1\u001b[0m\u001b[0;34m]\u001b[0m\u001b[0;34m)\u001b[0m\u001b[0;34m\u001b[0m\u001b[0;34m\u001b[0m\u001b[0m\n\u001b[1;32m   2882\u001b[0m     \u001b[0;32mreturn\u001b[0m \u001b[0m__ret\u001b[0m\u001b[0;34m\u001b[0m\u001b[0;34m\u001b[0m\u001b[0m\n",
      "\u001b[0;32m~/anaconda3/envs/jupy1/lib/python3.7/site-packages/matplotlib/__init__.py\u001b[0m in \u001b[0;36minner\u001b[0;34m(ax, data, *args, **kwargs)\u001b[0m\n\u001b[1;32m   1359\u001b[0m     \u001b[0;32mdef\u001b[0m \u001b[0minner\u001b[0m\u001b[0;34m(\u001b[0m\u001b[0max\u001b[0m\u001b[0;34m,\u001b[0m \u001b[0;34m*\u001b[0m\u001b[0margs\u001b[0m\u001b[0;34m,\u001b[0m \u001b[0mdata\u001b[0m\u001b[0;34m=\u001b[0m\u001b[0;32mNone\u001b[0m\u001b[0;34m,\u001b[0m \u001b[0;34m**\u001b[0m\u001b[0mkwargs\u001b[0m\u001b[0;34m)\u001b[0m\u001b[0;34m:\u001b[0m\u001b[0;34m\u001b[0m\u001b[0;34m\u001b[0m\u001b[0m\n\u001b[1;32m   1360\u001b[0m         \u001b[0;32mif\u001b[0m \u001b[0mdata\u001b[0m \u001b[0;32mis\u001b[0m \u001b[0;32mNone\u001b[0m\u001b[0;34m:\u001b[0m\u001b[0;34m\u001b[0m\u001b[0;34m\u001b[0m\u001b[0m\n\u001b[0;32m-> 1361\u001b[0;31m             \u001b[0;32mreturn\u001b[0m \u001b[0mfunc\u001b[0m\u001b[0;34m(\u001b[0m\u001b[0max\u001b[0m\u001b[0;34m,\u001b[0m \u001b[0;34m*\u001b[0m\u001b[0mmap\u001b[0m\u001b[0;34m(\u001b[0m\u001b[0msanitize_sequence\u001b[0m\u001b[0;34m,\u001b[0m \u001b[0margs\u001b[0m\u001b[0;34m)\u001b[0m\u001b[0;34m,\u001b[0m \u001b[0;34m**\u001b[0m\u001b[0mkwargs\u001b[0m\u001b[0;34m)\u001b[0m\u001b[0;34m\u001b[0m\u001b[0;34m\u001b[0m\u001b[0m\n\u001b[0m\u001b[1;32m   1362\u001b[0m \u001b[0;34m\u001b[0m\u001b[0m\n\u001b[1;32m   1363\u001b[0m         \u001b[0mbound\u001b[0m \u001b[0;34m=\u001b[0m \u001b[0mnew_sig\u001b[0m\u001b[0;34m.\u001b[0m\u001b[0mbind\u001b[0m\u001b[0;34m(\u001b[0m\u001b[0max\u001b[0m\u001b[0;34m,\u001b[0m \u001b[0;34m*\u001b[0m\u001b[0margs\u001b[0m\u001b[0;34m,\u001b[0m \u001b[0;34m**\u001b[0m\u001b[0mkwargs\u001b[0m\u001b[0;34m)\u001b[0m\u001b[0;34m\u001b[0m\u001b[0;34m\u001b[0m\u001b[0m\n",
      "\u001b[0;32m~/anaconda3/envs/jupy1/lib/python3.7/site-packages/matplotlib/axes/_axes.py\u001b[0m in \u001b[0;36mhist2d\u001b[0;34m(self, x, y, bins, range, density, weights, cmin, cmax, **kwargs)\u001b[0m\n\u001b[1;32m   7092\u001b[0m \u001b[0;34m\u001b[0m\u001b[0m\n\u001b[1;32m   7093\u001b[0m         h, xedges, yedges = np.histogram2d(x, y, bins=bins, range=range,\n\u001b[0;32m-> 7094\u001b[0;31m                                            density=density, weights=weights)\n\u001b[0m\u001b[1;32m   7095\u001b[0m \u001b[0;34m\u001b[0m\u001b[0m\n\u001b[1;32m   7096\u001b[0m         \u001b[0;32mif\u001b[0m \u001b[0mcmin\u001b[0m \u001b[0;32mis\u001b[0m \u001b[0;32mnot\u001b[0m \u001b[0;32mNone\u001b[0m\u001b[0;34m:\u001b[0m\u001b[0;34m\u001b[0m\u001b[0;34m\u001b[0m\u001b[0m\n",
      "\u001b[0;32m<__array_function__ internals>\u001b[0m in \u001b[0;36mhistogram2d\u001b[0;34m(*args, **kwargs)\u001b[0m\n",
      "\u001b[0;32m~/anaconda3/envs/jupy1/lib/python3.7/site-packages/numpy/lib/twodim_base.py\u001b[0m in \u001b[0;36mhistogram2d\u001b[0;34m(x, y, bins, range, normed, weights, density)\u001b[0m\n\u001b[1;32m    749\u001b[0m         \u001b[0mxedges\u001b[0m \u001b[0;34m=\u001b[0m \u001b[0myedges\u001b[0m \u001b[0;34m=\u001b[0m \u001b[0masarray\u001b[0m\u001b[0;34m(\u001b[0m\u001b[0mbins\u001b[0m\u001b[0;34m)\u001b[0m\u001b[0;34m\u001b[0m\u001b[0;34m\u001b[0m\u001b[0m\n\u001b[1;32m    750\u001b[0m         \u001b[0mbins\u001b[0m \u001b[0;34m=\u001b[0m \u001b[0;34m[\u001b[0m\u001b[0mxedges\u001b[0m\u001b[0;34m,\u001b[0m \u001b[0myedges\u001b[0m\u001b[0;34m]\u001b[0m\u001b[0;34m\u001b[0m\u001b[0;34m\u001b[0m\u001b[0m\n\u001b[0;32m--> 751\u001b[0;31m     \u001b[0mhist\u001b[0m\u001b[0;34m,\u001b[0m \u001b[0medges\u001b[0m \u001b[0;34m=\u001b[0m \u001b[0mhistogramdd\u001b[0m\u001b[0;34m(\u001b[0m\u001b[0;34m[\u001b[0m\u001b[0mx\u001b[0m\u001b[0;34m,\u001b[0m \u001b[0my\u001b[0m\u001b[0;34m]\u001b[0m\u001b[0;34m,\u001b[0m \u001b[0mbins\u001b[0m\u001b[0;34m,\u001b[0m \u001b[0mrange\u001b[0m\u001b[0;34m,\u001b[0m \u001b[0mnormed\u001b[0m\u001b[0;34m,\u001b[0m \u001b[0mweights\u001b[0m\u001b[0;34m,\u001b[0m \u001b[0mdensity\u001b[0m\u001b[0;34m)\u001b[0m\u001b[0;34m\u001b[0m\u001b[0;34m\u001b[0m\u001b[0m\n\u001b[0m\u001b[1;32m    752\u001b[0m     \u001b[0;32mreturn\u001b[0m \u001b[0mhist\u001b[0m\u001b[0;34m,\u001b[0m \u001b[0medges\u001b[0m\u001b[0;34m[\u001b[0m\u001b[0;36m0\u001b[0m\u001b[0;34m]\u001b[0m\u001b[0;34m,\u001b[0m \u001b[0medges\u001b[0m\u001b[0;34m[\u001b[0m\u001b[0;36m1\u001b[0m\u001b[0;34m]\u001b[0m\u001b[0;34m\u001b[0m\u001b[0;34m\u001b[0m\u001b[0m\n\u001b[1;32m    753\u001b[0m \u001b[0;34m\u001b[0m\u001b[0m\n",
      "\u001b[0;32m<__array_function__ internals>\u001b[0m in \u001b[0;36mhistogramdd\u001b[0;34m(*args, **kwargs)\u001b[0m\n",
      "\u001b[0;32m~/anaconda3/envs/jupy1/lib/python3.7/site-packages/numpy/lib/histograms.py\u001b[0m in \u001b[0;36mhistogramdd\u001b[0;34m(sample, bins, range, normed, weights, density)\u001b[0m\n\u001b[1;32m   1048\u001b[0m                 raise ValueError(\n\u001b[1;32m   1049\u001b[0m                     '`bins[{}]` must be positive, when an integer'.format(i))\n\u001b[0;32m-> 1050\u001b[0;31m             \u001b[0msmin\u001b[0m\u001b[0;34m,\u001b[0m \u001b[0msmax\u001b[0m \u001b[0;34m=\u001b[0m \u001b[0m_get_outer_edges\u001b[0m\u001b[0;34m(\u001b[0m\u001b[0msample\u001b[0m\u001b[0;34m[\u001b[0m\u001b[0;34m:\u001b[0m\u001b[0;34m,\u001b[0m\u001b[0mi\u001b[0m\u001b[0;34m]\u001b[0m\u001b[0;34m,\u001b[0m \u001b[0mrange\u001b[0m\u001b[0;34m[\u001b[0m\u001b[0mi\u001b[0m\u001b[0;34m]\u001b[0m\u001b[0;34m)\u001b[0m\u001b[0;34m\u001b[0m\u001b[0;34m\u001b[0m\u001b[0m\n\u001b[0m\u001b[1;32m   1051\u001b[0m             \u001b[0;32mtry\u001b[0m\u001b[0;34m:\u001b[0m\u001b[0;34m\u001b[0m\u001b[0;34m\u001b[0m\u001b[0m\n\u001b[1;32m   1052\u001b[0m                 \u001b[0mn\u001b[0m \u001b[0;34m=\u001b[0m \u001b[0moperator\u001b[0m\u001b[0;34m.\u001b[0m\u001b[0mindex\u001b[0m\u001b[0;34m(\u001b[0m\u001b[0mbins\u001b[0m\u001b[0;34m[\u001b[0m\u001b[0mi\u001b[0m\u001b[0;34m]\u001b[0m\u001b[0;34m)\u001b[0m\u001b[0;34m\u001b[0m\u001b[0;34m\u001b[0m\u001b[0m\n",
      "\u001b[0;32m~/anaconda3/envs/jupy1/lib/python3.7/site-packages/numpy/lib/histograms.py\u001b[0m in \u001b[0;36m_get_outer_edges\u001b[0;34m(a, range)\u001b[0m\n\u001b[1;32m    319\u001b[0m         \u001b[0mfirst_edge\u001b[0m\u001b[0;34m,\u001b[0m \u001b[0mlast_edge\u001b[0m \u001b[0;34m=\u001b[0m \u001b[0;36m0\u001b[0m\u001b[0;34m,\u001b[0m \u001b[0;36m1\u001b[0m\u001b[0;34m\u001b[0m\u001b[0;34m\u001b[0m\u001b[0m\n\u001b[1;32m    320\u001b[0m     \u001b[0;32melse\u001b[0m\u001b[0;34m:\u001b[0m\u001b[0;34m\u001b[0m\u001b[0;34m\u001b[0m\u001b[0m\n\u001b[0;32m--> 321\u001b[0;31m         \u001b[0mfirst_edge\u001b[0m\u001b[0;34m,\u001b[0m \u001b[0mlast_edge\u001b[0m \u001b[0;34m=\u001b[0m \u001b[0ma\u001b[0m\u001b[0;34m.\u001b[0m\u001b[0mmin\u001b[0m\u001b[0;34m(\u001b[0m\u001b[0;34m)\u001b[0m\u001b[0;34m,\u001b[0m \u001b[0ma\u001b[0m\u001b[0;34m.\u001b[0m\u001b[0mmax\u001b[0m\u001b[0;34m(\u001b[0m\u001b[0;34m)\u001b[0m\u001b[0;34m\u001b[0m\u001b[0;34m\u001b[0m\u001b[0m\n\u001b[0m\u001b[1;32m    322\u001b[0m         \u001b[0;32mif\u001b[0m \u001b[0;32mnot\u001b[0m \u001b[0;34m(\u001b[0m\u001b[0mnp\u001b[0m\u001b[0;34m.\u001b[0m\u001b[0misfinite\u001b[0m\u001b[0;34m(\u001b[0m\u001b[0mfirst_edge\u001b[0m\u001b[0;34m)\u001b[0m \u001b[0;32mand\u001b[0m \u001b[0mnp\u001b[0m\u001b[0;34m.\u001b[0m\u001b[0misfinite\u001b[0m\u001b[0;34m(\u001b[0m\u001b[0mlast_edge\u001b[0m\u001b[0;34m)\u001b[0m\u001b[0;34m)\u001b[0m\u001b[0;34m:\u001b[0m\u001b[0;34m\u001b[0m\u001b[0;34m\u001b[0m\u001b[0m\n\u001b[1;32m    323\u001b[0m             raise ValueError(\n",
      "\u001b[0;32m~/anaconda3/envs/jupy1/lib/python3.7/site-packages/numpy/core/_methods.py\u001b[0m in \u001b[0;36m_amin\u001b[0;34m(a, axis, out, keepdims, initial, where)\u001b[0m\n\u001b[1;32m     42\u001b[0m def _amin(a, axis=None, out=None, keepdims=False,\n\u001b[1;32m     43\u001b[0m           initial=_NoValue, where=True):\n\u001b[0;32m---> 44\u001b[0;31m     \u001b[0;32mreturn\u001b[0m \u001b[0mumr_minimum\u001b[0m\u001b[0;34m(\u001b[0m\u001b[0ma\u001b[0m\u001b[0;34m,\u001b[0m \u001b[0maxis\u001b[0m\u001b[0;34m,\u001b[0m \u001b[0;32mNone\u001b[0m\u001b[0;34m,\u001b[0m \u001b[0mout\u001b[0m\u001b[0;34m,\u001b[0m \u001b[0mkeepdims\u001b[0m\u001b[0;34m,\u001b[0m \u001b[0minitial\u001b[0m\u001b[0;34m,\u001b[0m \u001b[0mwhere\u001b[0m\u001b[0;34m)\u001b[0m\u001b[0;34m\u001b[0m\u001b[0;34m\u001b[0m\u001b[0m\n\u001b[0m\u001b[1;32m     45\u001b[0m \u001b[0;34m\u001b[0m\u001b[0m\n\u001b[1;32m     46\u001b[0m def _sum(a, axis=None, dtype=None, out=None, keepdims=False,\n",
      "\u001b[0;31mTypeError\u001b[0m: '<=' not supported between instances of 'float' and 'str'"
     ]
    },
    {
     "data": {
      "image/png": "[encoded data removed]",
      "text/plain": [
       "<Figure size 432x288 with 1 Axes>"
      ]
     },
     "metadata": {},
     "output_type": "display_data"
    }
   ],
   "source": [
    "plt.hist2d(df.iloc[:,1],df.iloc[:,2])\n",
    "#,df[\"PERBG6. Which is your current career level?\"])"
   ]
  },
  {
   "cell_type": "code",
   "execution_count": 42,
   "id": "d519086e-458b-4271-ba87-53b0d726477e",
   "metadata": {},
   "outputs": [],
   "source": [
    "plt.show()"
   ]
  },
  {
   "cell_type": "markdown",
   "id": "14aa0ace",
   "metadata": {},
   "source": [
    "Let's look how many use `Python`"
   ]
  },
  {
   "cell_type": "markdown",
   "id": "d3572c65",
   "metadata": {},
   "source": [
    "This information is saved in the survey at column"
   ]
  },
  {
   "cell_type": "code",
   "execution_count": 39,
   "id": "c6b5a87e",
   "metadata": {},
   "outputs": [],
   "source": [
    "dfsoft=df.iloc[:,91:93]"
   ]
  },
  {
   "cell_type": "code",
   "execution_count": 40,
   "id": "43e2afd0-fbd0-404a-9003-88747208a743",
   "metadata": {},
   "outputs": [
    {
     "data": {
      "text/html": [
       "<div>\n",
       "<style scoped>\n",
       "    .dataframe tbody tr th:only-of-type {\n",
       "        vertical-align: middle;\n",
       "    }\n",
       "\n",
       "    .dataframe tbody tr th {\n",
       "        vertical-align: top;\n",
       "    }\n",
       "\n",
       "    .dataframe thead th {\n",
       "        text-align: right;\n",
       "    }\n",
       "</style>\n",
       "<table border=\"1\" class=\"dataframe\">\n",
       "  <thead>\n",
       "    <tr style=\"text-align: right;\">\n",
       "      <th></th>\n",
       "      <th>RDMPR10[1]. Please name the three most important software applications that you use for your research. [Software 1]</th>\n",
       "      <th>RDMPR10[2]. Please name the three most important software applications that you use for your research. [Software 2]</th>\n",
       "    </tr>\n",
       "  </thead>\n",
       "  <tbody>\n",
       "    <tr>\n",
       "      <th>0</th>\n",
       "      <td>NaN</td>\n",
       "      <td>NaN</td>\n",
       "    </tr>\n",
       "    <tr>\n",
       "      <th>1</th>\n",
       "      <td>NaN</td>\n",
       "      <td>NaN</td>\n",
       "    </tr>\n",
       "    <tr>\n",
       "      <th>2</th>\n",
       "      <td>Eventdisplay (software for gamma-ray observato...</td>\n",
       "      <td>ROOT analysis software</td>\n",
       "    </tr>\n",
       "    <tr>\n",
       "      <th>3</th>\n",
       "      <td>openQCD</td>\n",
       "      <td>proprietary C-codes</td>\n",
       "    </tr>\n",
       "    <tr>\n",
       "      <th>4</th>\n",
       "      <td>origin</td>\n",
       "      <td>labview</td>\n",
       "    </tr>\n",
       "    <tr>\n",
       "      <th>...</th>\n",
       "      <td>...</td>\n",
       "      <td>...</td>\n",
       "    </tr>\n",
       "    <tr>\n",
       "      <th>212</th>\n",
       "      <td>NaN</td>\n",
       "      <td>NaN</td>\n",
       "    </tr>\n",
       "    <tr>\n",
       "      <th>213</th>\n",
       "      <td>Geant4</td>\n",
       "      <td>ROOT</td>\n",
       "    </tr>\n",
       "    <tr>\n",
       "      <th>214</th>\n",
       "      <td>Python</td>\n",
       "      <td>Matlab</td>\n",
       "    </tr>\n",
       "    <tr>\n",
       "      <th>215</th>\n",
       "      <td>NaN</td>\n",
       "      <td>NaN</td>\n",
       "    </tr>\n",
       "    <tr>\n",
       "      <th>216</th>\n",
       "      <td>NaN</td>\n",
       "      <td>NaN</td>\n",
       "    </tr>\n",
       "  </tbody>\n",
       "</table>\n",
       "<p>217 rows × 2 columns</p>\n",
       "</div>"
      ],
      "text/plain": [
       "    RDMPR10[1]. Please name the three most important software applications that you use for your research. [Software 1]  \\\n",
       "0                                                  NaN                                                                    \n",
       "1                                                  NaN                                                                    \n",
       "2    Eventdisplay (software for gamma-ray observato...                                                                    \n",
       "3                                              openQCD                                                                    \n",
       "4                                               origin                                                                    \n",
       "..                                                 ...                                                                    \n",
       "212                                                NaN                                                                    \n",
       "213                                             Geant4                                                                    \n",
       "214                                             Python                                                                    \n",
       "215                                                NaN                                                                    \n",
       "216                                                NaN                                                                    \n",
       "\n",
       "    RDMPR10[2]. Please name the three most important software applications that you use for your research. [Software 2]  \n",
       "0                                                  NaN                                                                   \n",
       "1                                                  NaN                                                                   \n",
       "2                               ROOT analysis software                                                                   \n",
       "3                                  proprietary C-codes                                                                   \n",
       "4                                              labview                                                                   \n",
       "..                                                 ...                                                                   \n",
       "212                                                NaN                                                                   \n",
       "213                                               ROOT                                                                   \n",
       "214                                             Matlab                                                                   \n",
       "215                                                NaN                                                                   \n",
       "216                                                NaN                                                                   \n",
       "\n",
       "[217 rows x 2 columns]"
      ]
     },
     "execution_count": 40,
     "metadata": {},
     "output_type": "execute_result"
    }
   ],
   "source": [
    "dfsoft"
   ]
  },
  {
   "cell_type": "code",
   "execution_count": 41,
   "id": "0af0f902-7979-46be-9ade-be4feb612c83",
   "metadata": {
    "tags": []
   },
   "outputs": [],
   "source": [
    "dfsoft2=df.iloc[:,92].str.contains('python',case=True)"
   ]
  },
  {
   "cell_type": "code",
   "execution_count": 42,
   "id": "f06cff87-80a3-455c-b0e5-796b72b8cc93",
   "metadata": {},
   "outputs": [
    {
     "data": {
      "text/plain": [
       "0        NaN\n",
       "1        NaN\n",
       "2      False\n",
       "3      False\n",
       "4      False\n",
       "       ...  \n",
       "212      NaN\n",
       "213    False\n",
       "214    False\n",
       "215      NaN\n",
       "216      NaN\n",
       "Name: RDMPR10[2]. Please name the three most important software applications that you use for your research. [Software 2], Length: 217, dtype: object"
      ]
     },
     "execution_count": 42,
     "metadata": {},
     "output_type": "execute_result"
    }
   ],
   "source": [
    "dfsoft2"
   ]
  },
  {
   "cell_type": "code",
   "execution_count": 43,
   "id": "ed048518-f575-44e2-8d67-b3720dddc66c",
   "metadata": {},
   "outputs": [
    {
     "data": {
      "text/plain": [
       "28.0"
      ]
     },
     "execution_count": 43,
     "metadata": {},
     "output_type": "execute_result"
    }
   ],
   "source": [
    "df.iloc[:,91].str.count(\"py|Py\").sum()"
   ]
  },
  {
   "cell_type": "code",
   "execution_count": 44,
   "id": "57915737-a8e9-4033-9b1b-ade71302ddd2",
   "metadata": {},
   "outputs": [
    {
     "data": {
      "text/plain": [
       "18.0"
      ]
     },
     "execution_count": 44,
     "metadata": {},
     "output_type": "execute_result"
    }
   ],
   "source": [
    "df.iloc[:,92].str.count(\"py|Py\").sum()"
   ]
  },
  {
   "cell_type": "code",
   "execution_count": 45,
   "id": "71773dce-e428-4cd1-a425-e811a7869363",
   "metadata": {},
   "outputs": [
    {
     "data": {
      "text/plain": [
       "16.0"
      ]
     },
     "execution_count": 45,
     "metadata": {},
     "output_type": "execute_result"
    }
   ],
   "source": [
    "df.iloc[:,93].str.count(\"py|Py\").sum()"
   ]
  },
  {
   "cell_type": "markdown",
   "id": "b3ce1212-1766-48f5-8ca2-3e20caf7ef45",
   "metadata": {},
   "source": [
    "## In which center the FAIR principles are mostly applied\n",
    "## Where some extensive training on FAIR data curation is needed ?"
   ]
  },
  {
   "cell_type": "markdown",
   "id": "05d7eeee-996b-4378-a7e1-3748ac7d53ea",
   "metadata": {},
   "source": [
    "Let's select this information from the HMC survey"
   ]
  },
  {
   "cell_type": "code",
   "execution_count": 58,
   "id": "d1e0a8ff-64c6-4469-a2d5-3db29ee44685",
   "metadata": {
    "scrolled": true,
    "tags": []
   },
   "outputs": [
    {
     "data": {
      "image/png": "[encoded data removed]",
      "text/plain": [
       "<Figure size 432x288 with 2 Axes>"
      ]
     },
     "metadata": {},
     "output_type": "display_data"
    }
   ],
   "source": [
    "ax=sns.histplot(x='PERBG8. How familiar are you with the FAIR data guidelines?',y='PERBG1. Which Helmholtz center do you typically work in? ',data=df,cbar=True)\n"
   ]
  },
  {
   "cell_type": "code",
   "execution_count": null,
   "id": "48518f91-c184-40a3-a4fc-f72b80419f3b",
   "metadata": {},
   "outputs": [],
   "source": []
  },
  {
   "cell_type": "code",
   "execution_count": 54,
   "id": "7142b97c-21bb-4e5f-9ab9-c8d69ced2dc0",
   "metadata": {},
   "outputs": [
    {
     "data": {
      "text/plain": [
       "0                           NaN\n",
       "1                           NaN\n",
       "2                           NaN\n",
       "3                           NaN\n",
       "4                           NaN\n",
       "                 ...           \n",
       "212                         NaN\n",
       "213    Helmholtz Institut Mainz\n",
       "214                         NaN\n",
       "215                         NaN\n",
       "216                         NaN\n",
       "Name: PERBG1[other]. Which Helmholtz center do you typically work in?  [Other], Length: 217, dtype: object"
      ]
     },
     "execution_count": 54,
     "metadata": {},
     "output_type": "execute_result"
    }
   ],
   "source": [
    "df.iloc[:,6]"
   ]
  },
  {
   "cell_type": "code",
   "execution_count": 54,
   "id": "fa90d86b-9af4-474c-9461-67e30386c782",
   "metadata": {},
   "outputs": [
    {
     "data": {
      "text/plain": [
       "0                           NaN\n",
       "1                           NaN\n",
       "2                           NaN\n",
       "3                           NaN\n",
       "4                           NaN\n",
       "                 ...           \n",
       "212                         NaN\n",
       "213    Helmholtz Institut Mainz\n",
       "214                         NaN\n",
       "215                         NaN\n",
       "216                         NaN\n",
       "Name: PERBG1[other]. Which Helmholtz center do you typically work in?  [Other], Length: 217, dtype: object"
      ]
     },
     "execution_count": 54,
     "metadata": {},
     "output_type": "execute_result"
    }
   ],
   "source": [
    "df.iloc[:,6]"
   ]
  },
  {
   "cell_type": "code",
   "execution_count": 65,
   "id": "ff72d398-a87c-401a-8577-a6806fa409fe",
   "metadata": {},
   "outputs": [
    {
     "name": "stdout",
     "output_type": "stream",
     "text": [
      "Index(['RDMPR10[1]. Please name the three most important software applications that you use for your research. [Software 1]', 'RDMPR10[2]. Please name the three most important software applications that you use for your research. [Software 2]'], dtype='object')\n"
     ]
    }
   ],
   "source": [
    "colnames=df.columns\n",
    "print(colnames[91:93])"
   ]
  },
  {
   "cell_type": "code",
   "execution_count": null,
   "id": "ada6b697-da7a-4545-b315-8ea7f1928b03",
   "metadata": {},
   "outputs": [],
   "source": [
    "import seaborn"
   ]
  },
  {
   "cell_type": "code",
   "execution_count": 54,
   "id": "6839eb41-063a-4d15-ab89-bd2b868220d2",
   "metadata": {},
   "outputs": [
    {
     "data": {
      "text/plain": [
       "0                           NaN\n",
       "1                           NaN\n",
       "2                           NaN\n",
       "3                           NaN\n",
       "4                           NaN\n",
       "                 ...           \n",
       "212                         NaN\n",
       "213    Helmholtz Institut Mainz\n",
       "214                         NaN\n",
       "215                         NaN\n",
       "216                         NaN\n",
       "Name: PERBG1[other]. Which Helmholtz center do you typically work in?  [Other], Length: 217, dtype: object"
      ]
     },
     "execution_count": 54,
     "metadata": {},
     "output_type": "execute_result"
    }
   ],
   "source": [
    "df.iloc[:,6]"
   ]
  },
  {
   "cell_type": "code",
   "execution_count": null,
   "id": "41f52123-4d78-46e7-9996-b3ff3b9e3194",
   "metadata": {},
   "outputs": [],
   "source": []
  },
  {
   "cell_type": "code",
   "execution_count": 56,
   "id": "9df43408-9014-462e-bd85-cc36aacbda8f",
   "metadata": {},
   "outputs": [
    {
     "name": "stdout",
     "output_type": "stream",
     "text": [
      "Index(['submitdate. Date submitted', 'lastpage. Last page',\n",
      "       'startlanguage. Start language', 'seed. Seed',\n",
      "       'PERBG1. Which Helmholtz center do you typically work in? '],\n",
      "      dtype='object')\n"
     ]
    }
   ],
   "source": [
    "colnames=df.columns\n",
    "print(colnames[1:6])"
   ]
  },
  {
   "cell_type": "code",
   "execution_count": null,
   "id": "6ea95cb4-ac81-41fe-8348-5d6f6c723535",
   "metadata": {},
   "outputs": [],
   "source": []
  }
 ],
 "metadata": {
  "hide_input": false,
  "kernelspec": {
   "display_name": "Python 3",
   "language": "python",
   "name": "python3"
  },
  "language_info": {
   "codemirror_mode": {
    "name": "ipython",
    "version": 3
   },
   "file_extension": ".py",
   "mimetype": "text/x-python",
   "name": "python",
   "nbconvert_exporter": "python",
   "pygments_lexer": "ipython3",
   "version": "3.7.10"
  }
 },
 "nbformat": 4,
 "nbformat_minor": 5
}
